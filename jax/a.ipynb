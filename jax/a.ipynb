{
 "cells": [
  {
   "cell_type": "code",
   "execution_count": 18,
   "id": "initial_id",
   "metadata": {
    "collapsed": true,
    "ExecuteTime": {
     "end_time": "2023-10-31T15:44:30.725248Z",
     "start_time": "2023-10-31T15:44:30.725026Z"
    }
   },
   "outputs": [],
   "source": [
    "import jax\n",
    "import jax.numpy as jnp\n",
    "from jax.random import split\n",
    "import numpy as np\n",
    "\n",
    "import matplotlib.pyplot as plt\n",
    "from tqdm.auto import tqdm\n",
    "\n",
    "from mdps.gridworld import GridEnv\n"
   ]
  },
  {
   "cell_type": "code",
   "execution_count": 19,
   "outputs": [],
   "source": [
    "rng = jax.random.PRNGKey(0)"
   ],
   "metadata": {
    "collapsed": false,
    "ExecuteTime": {
     "end_time": "2023-10-31T15:44:30.986085Z",
     "start_time": "2023-10-31T15:44:30.970895Z"
    }
   },
   "id": "4c971312c40cee27"
  },
  {
   "cell_type": "code",
   "execution_count": 20,
   "outputs": [
    {
     "data": {
      "text/plain": "262144"
     },
     "execution_count": 20,
     "metadata": {},
     "output_type": "execute_result"
    }
   ],
   "source": [
    "env = GridEnv(8)\n",
    "n_envs = 4096*64\n",
    "n_envs"
   ],
   "metadata": {
    "collapsed": false,
    "ExecuteTime": {
     "end_time": "2023-10-31T15:44:32.005701Z",
     "start_time": "2023-10-31T15:44:32.001419Z"
    }
   },
   "id": "72c12843b1b2040e"
  },
  {
   "cell_type": "code",
   "execution_count": 21,
   "outputs": [],
   "source": [
    "rng, _rng = split(rng)\n",
    "env_params = jax.vmap(env.sample_params)(split(_rng, n_envs))"
   ],
   "metadata": {
    "collapsed": false,
    "ExecuteTime": {
     "end_time": "2023-10-31T15:44:32.538534Z",
     "start_time": "2023-10-31T15:44:32.519033Z"
    }
   },
   "id": "602fe7550ab712d0"
  },
  {
   "cell_type": "code",
   "execution_count": 22,
   "outputs": [
    {
     "data": {
      "text/plain": "  0%|          | 0/1000 [00:00<?, ?it/s]",
      "application/vnd.jupyter.widget-view+json": {
       "version_major": 2,
       "version_minor": 0,
       "model_id": "1277ab5a1d9a42b39df49f51f01dac8f"
      }
     },
     "metadata": {},
     "output_type": "display_data"
    }
   ],
   "source": [
    "obs, env_state = jax.vmap(env.reset)(split(_rng, n_envs), env_params)\n",
    "\n",
    "for i in tqdm(range(1000)):\n",
    "    rng, _rng = split(rng)\n",
    "    action = jax.random.randint(_rng, (n_envs,), 0, 4)\n",
    "    rng, _rng = split(rng)\n",
    "    obs, env_state, reward, done, info = jax.vmap(env.step)(split(_rng, n_envs), env_state, action, env_params)"
   ],
   "metadata": {
    "collapsed": false,
    "ExecuteTime": {
     "end_time": "2023-10-31T15:44:36.151355Z",
     "start_time": "2023-10-31T15:44:33.123010Z"
    }
   },
   "id": "9d98dd347f9cf82d"
  },
  {
   "cell_type": "code",
   "execution_count": 23,
   "outputs": [
    {
     "data": {
      "text/plain": "Array(0.119317, dtype=float32)"
     },
     "execution_count": 23,
     "metadata": {},
     "output_type": "execute_result"
    }
   ],
   "source": [
    "reward.mean()"
   ],
   "metadata": {
    "collapsed": false,
    "ExecuteTime": {
     "end_time": "2023-10-31T15:44:36.843761Z",
     "start_time": "2023-10-31T15:44:36.837741Z"
    }
   },
   "id": "a13bceb47fd52cf9"
  },
  {
   "cell_type": "code",
   "execution_count": 24,
   "outputs": [
    {
     "name": "stdout",
     "output_type": "stream",
     "text": [
      "4.135762 0.119316995\n"
     ]
    }
   ],
   "source": [
    "a, b = env_state, env_params['pos_rew']\n",
    "d = jnp.linalg.norm(a-b, axis=-1)\n",
    "r = 1/(d**2+1)\n",
    "print(d.mean(), r.mean())"
   ],
   "metadata": {
    "collapsed": false,
    "ExecuteTime": {
     "end_time": "2023-10-31T15:44:38.189222Z",
     "start_time": "2023-10-31T15:44:38.182881Z"
    }
   },
   "id": "b389fdeb01d8e1a6"
  },
  {
   "cell_type": "code",
   "execution_count": 24,
   "outputs": [],
   "source": [],
   "metadata": {
    "collapsed": false,
    "ExecuteTime": {
     "end_time": "2023-10-31T15:44:39.347177Z",
     "start_time": "2023-10-31T15:44:39.346876Z"
    }
   },
   "id": "721b6bc81643cba2"
  },
  {
   "cell_type": "code",
   "execution_count": 24,
   "outputs": [],
   "source": [],
   "metadata": {
    "collapsed": false,
    "ExecuteTime": {
     "end_time": "2023-10-31T15:44:39.655335Z",
     "start_time": "2023-10-31T15:44:39.647621Z"
    }
   },
   "id": "b6ffb2c9425f2e29"
  },
  {
   "cell_type": "code",
   "execution_count": 25,
   "outputs": [
    {
     "name": "stdout",
     "output_type": "stream",
     "text": [
      "4.139175 0.1199022\n"
     ]
    }
   ],
   "source": [
    "rng, _rng = split(rng)\n",
    "a, b = jax.random.randint(_rng, (2, 100000, 2), 0, 8)\n",
    "d = jnp.linalg.norm(a-b, axis=-1)\n",
    "r = 1/(d**2+1)\n",
    "print(d.mean(), r.mean())"
   ],
   "metadata": {
    "collapsed": false,
    "ExecuteTime": {
     "end_time": "2023-10-31T15:44:39.930774Z",
     "start_time": "2023-10-31T15:44:39.930299Z"
    }
   },
   "id": "132770bbf598749b"
  },
  {
   "cell_type": "code",
   "execution_count": 26,
   "outputs": [
    {
     "data": {
      "text/plain": "Array(4.139175, dtype=float32)"
     },
     "execution_count": 26,
     "metadata": {},
     "output_type": "execute_result"
    }
   ],
   "source": [
    "jnp.sqrt(1/r-1).mean()"
   ],
   "metadata": {
    "collapsed": false,
    "ExecuteTime": {
     "end_time": "2023-10-31T15:44:40.475817Z",
     "start_time": "2023-10-31T15:44:40.471713Z"
    }
   },
   "id": "caa4310ba3947431"
  },
  {
   "cell_type": "code",
   "execution_count": null,
   "outputs": [],
   "source": [],
   "metadata": {
    "collapsed": false
   },
   "id": "ca268eb0b3bb6654"
  }
 ],
 "metadata": {
  "kernelspec": {
   "display_name": "Python 3",
   "language": "python",
   "name": "python3"
  },
  "language_info": {
   "codemirror_mode": {
    "name": "ipython",
    "version": 2
   },
   "file_extension": ".py",
   "mimetype": "text/x-python",
   "name": "python",
   "nbconvert_exporter": "python",
   "pygments_lexer": "ipython2",
   "version": "2.7.6"
  }
 },
 "nbformat": 4,
 "nbformat_minor": 5
}
