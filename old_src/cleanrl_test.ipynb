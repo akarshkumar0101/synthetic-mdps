{
 "cells": [
  {
   "cell_type": "code",
   "outputs": [
    {
     "name": "stdout",
     "output_type": "stream",
     "text": [
      "isola-2080ti-3.csail.mit.edu\r\n",
      "/data/vision/phillipi/akumar01/synthetic-mdps/src\r\n",
      "/data/vision/phillipi/akumar01/.virtualenvs/synthetic-mdps/bin/python\n"
     ]
    }
   ],
   "source": [
    "%load_ext autoreload  \n",
    "%autoreload 2  \n",
    "!hostname  \n",
    "!pwd  \n",
    "import sys  \n",
    "print(sys.executable)"
   ],
   "metadata": {
    "collapsed": false,
    "ExecuteTime": {
     "end_time": "2024-02-26T18:26:25.447222Z",
     "start_time": "2024-02-26T18:26:25.140751Z"
    }
   },
   "id": "f22319538197d7e1",
   "execution_count": 1
  },
  {
   "cell_type": "code",
   "outputs": [],
   "source": [
    "from tqdm.auto import tqdm\n",
    "import matplotlib.pyplot as plt\n",
    "import numpy as np\n",
    "\n",
    "import torch\n",
    "from torch import nn\n",
    "\n",
    "import gymnasium as gym\n",
    "\n",
    "\n",
    "import argparse\n",
    "import os\n",
    "import random\n",
    "import time\n",
    "\n",
    "import gymnasium as gym\n",
    "import numpy as np\n",
    "import torch\n",
    "import torch.nn as nn\n",
    "import torch.optim as optim\n",
    "from torch.distributions.normal import Normal\n",
    "\n",
    "from functools import partial\n",
    "import pickle\n"
   ],
   "metadata": {
    "collapsed": false,
    "ExecuteTime": {
     "end_time": "2024-02-20T03:04:19.273926Z",
     "start_time": "2024-02-20T03:04:14.509514Z"
    }
   },
   "id": "763cb8997740d301",
   "execution_count": 2
  },
  {
   "cell_type": "code",
   "outputs": [],
   "source": [
    "def make_env(env_id, idx, capture_video, run_name, gamma):\n",
    "    def thunk():\n",
    "        if capture_video and idx == 0:\n",
    "            env = gym.make(env_id, render_mode=\"rgb_array\")\n",
    "            env = gym.wrappers.RecordVideo(env, f\"videos/{run_name}\")\n",
    "        else:\n",
    "            env = gym.make(env_id)\n",
    "        env = gym.wrappers.FlattenObservation(env)  # deal with dm_control's Dict observation space\n",
    "        env = gym.wrappers.RecordEpisodeStatistics(env)\n",
    "        env = gym.wrappers.ClipAction(env)\n",
    "        env = gym.wrappers.NormalizeObservation(env)\n",
    "        env = gym.wrappers.TransformObservation(env, lambda obs: np.clip(obs, -10, 10))\n",
    "        env = gym.wrappers.NormalizeReward(env, gamma=gamma)\n",
    "        env = gym.wrappers.TransformReward(env, lambda reward: np.clip(reward, -10, 10))\n",
    "        return env\n",
    "\n",
    "    return thunk\n",
    "\n",
    "\n",
    "def layer_init(layer, std=np.sqrt(2), bias_const=0.0):\n",
    "    torch.nn.init.orthogonal_(layer.weight, std)\n",
    "    torch.nn.init.constant_(layer.bias, bias_const)\n",
    "    return layer\n",
    "\n",
    "\n",
    "class Agent(nn.Module):\n",
    "    def __init__(self, envs):\n",
    "        super().__init__()\n",
    "        self.critic = nn.Sequential(\n",
    "            layer_init(nn.Linear(np.array(envs.single_observation_space.shape).prod(), 64)),\n",
    "            nn.Tanh(),\n",
    "            layer_init(nn.Linear(64, 64)),\n",
    "            nn.Tanh(),\n",
    "            layer_init(nn.Linear(64, 1), std=1.0),\n",
    "        )\n",
    "        self.actor_mean = nn.Sequential(\n",
    "            layer_init(nn.Linear(np.array(envs.single_observation_space.shape).prod(), 64)),\n",
    "            nn.Tanh(),\n",
    "            layer_init(nn.Linear(64, 64)),\n",
    "            nn.Tanh(),\n",
    "            layer_init(nn.Linear(64, np.prod(envs.single_action_space.shape)), std=0.01),\n",
    "        )\n",
    "        self.actor_logstd = nn.Parameter(torch.zeros(1, np.prod(envs.single_action_space.shape)))\n",
    "\n",
    "    def get_value(self, x):\n",
    "        return self.critic(x)\n",
    "\n",
    "    def get_action_and_value(self, x, action=None):\n",
    "        action_mean = self.actor_mean(x)\n",
    "        action_logstd = self.actor_logstd.expand_as(action_mean)\n",
    "        action_std = torch.exp(action_logstd)\n",
    "        probs = Normal(action_mean, action_std)\n",
    "        if action is None:\n",
    "            action = probs.sample()\n",
    "        return action, probs.log_prob(action).sum(1), probs.entropy().sum(1), self.critic(x)"
   ],
   "metadata": {
    "collapsed": false,
    "ExecuteTime": {
     "end_time": "2024-02-20T03:04:19.274547Z",
     "start_time": "2024-02-20T03:04:19.272555Z"
    }
   },
   "id": "b17befc0dbe96846",
   "execution_count": 3
  },
  {
   "cell_type": "code",
   "outputs": [],
   "source": [
    "device = 'cuda:0'\n",
    "# env setup\n",
    "envs = gym.vector.AsyncVectorEnv(\n",
    "    [make_env(\"HalfCheetah-v4\", i, False, None, 0.99) for i in range(16)]\n",
    ")"
   ],
   "metadata": {
    "collapsed": false,
    "ExecuteTime": {
     "end_time": "2024-02-20T03:13:43.089953Z",
     "start_time": "2024-02-20T03:13:42.264244Z"
    }
   },
   "id": "d4c795fa1db64690",
   "execution_count": 23
  },
  {
   "cell_type": "code",
   "outputs": [],
   "source": [
    "agent = Agent(envs).to(device).to(torch.float)\n",
    "agent.load_state_dict(torch.load(\"../ppo_continuous_action.cleanrl_model\"))\n",
    "agent = agent.eval()"
   ],
   "metadata": {
    "collapsed": false,
    "ExecuteTime": {
     "end_time": "2024-02-20T03:13:43.724390Z",
     "start_time": "2024-02-20T03:13:43.657064Z"
    }
   },
   "id": "5ba37425a2b60e7c",
   "execution_count": 24
  },
  {
   "cell_type": "code",
   "outputs": [
    {
     "data": {
      "text/plain": "  0%|          | 0/6001 [00:00<?, ?it/s]",
      "application/vnd.jupyter.widget-view+json": {
       "version_major": 2,
       "version_minor": 0,
       "model_id": "f3c6902c2aac4966935c25b6ad9e2c46"
      }
     },
     "metadata": {},
     "output_type": "display_data"
    }
   ],
   "source": [
    "obs, info = envs.reset()\n",
    "rets = []\n",
    "for i in tqdm(range(6001)):\n",
    "    obs = torch.tensor(obs).to(device).to(torch.float)\n",
    "    with torch.no_grad():\n",
    "        act, logprob, _, value = agent.get_action_and_value(obs)\n",
    "    # act = torch.randn_like(act)\n",
    "    obs, rew, term, trunc, infos = envs.step(act.cpu().numpy())\n",
    "    \n",
    "    if \"final_info\" not in infos:\n",
    "        continue\n",
    "    for info in infos[\"final_info\"]:\n",
    "        # Skip the envs that are not done\n",
    "        if info is None:\n",
    "            continue\n",
    "        # print(f\"global_step={i}, episodic_return={info['episode']['r']}\")\n",
    "        rets.append(info['episode']['r'])"
   ],
   "metadata": {
    "collapsed": false,
    "ExecuteTime": {
     "end_time": "2024-02-20T03:14:13.648684Z",
     "start_time": "2024-02-20T03:13:44.465164Z"
    }
   },
   "id": "228b9d48da8e0a9c",
   "execution_count": 25
  },
  {
   "cell_type": "code",
   "outputs": [],
   "source": [
    "rets_agent = np.concatenate(rets)"
   ],
   "metadata": {
    "collapsed": false,
    "ExecuteTime": {
     "end_time": "2024-02-20T03:10:23.679674Z",
     "start_time": "2024-02-20T03:10:23.641586Z"
    }
   },
   "id": "e0604d5a0b9bb61f",
   "execution_count": 19
  },
  {
   "cell_type": "code",
   "outputs": [
    {
     "data": {
      "text/plain": "1536"
     },
     "execution_count": 20,
     "metadata": {},
     "output_type": "execute_result"
    }
   ],
   "source": [
    "len(rets_agent)"
   ],
   "metadata": {
    "collapsed": false,
    "ExecuteTime": {
     "end_time": "2024-02-20T03:10:24.806818Z",
     "start_time": "2024-02-20T03:10:24.764957Z"
    }
   },
   "id": "3248a19bfdb269ad",
   "execution_count": 20
  },
  {
   "cell_type": "code",
   "outputs": [
    {
     "data": {
      "text/plain": "1030.9104"
     },
     "execution_count": 21,
     "metadata": {},
     "output_type": "execute_result"
    }
   ],
   "source": [
    "rets_agent.mean()"
   ],
   "metadata": {
    "collapsed": false,
    "ExecuteTime": {
     "end_time": "2024-02-20T03:10:26.369634Z",
     "start_time": "2024-02-20T03:10:26.322497Z"
    }
   },
   "id": "b968a52966cdbab",
   "execution_count": 21
  },
  {
   "cell_type": "code",
   "outputs": [
    {
     "data": {
      "text/plain": "[<matplotlib.lines.Line2D at 0x7fd7226bd180>]"
     },
     "execution_count": 22,
     "metadata": {},
     "output_type": "execute_result"
    },
    {
     "data": {
      "text/plain": "<Figure size 640x480 with 1 Axes>",
      "image/png": "[encoded data removed]"
     },
     "metadata": {},
     "output_type": "display_data"
    }
   ],
   "source": [
    "plt.plot(rets_agent)\n",
    "plt.plot(np.convolve(rets_agent, np.ones(100)/100, mode='valid'))\n"
   ],
   "metadata": {
    "collapsed": false,
    "ExecuteTime": {
     "end_time": "2024-02-20T03:10:28.621752Z",
     "start_time": "2024-02-20T03:10:28.371689Z"
    }
   },
   "id": "4e83c79644f1b2e4",
   "execution_count": 22
  },
  {
   "cell_type": "code",
   "outputs": [],
   "source": [],
   "metadata": {
    "collapsed": false
   },
   "id": "36a84c13033d037e"
  },
  {
   "cell_type": "code",
   "outputs": [
    {
     "data": {
      "text/plain": "1238.6538"
     },
     "execution_count": 58,
     "metadata": {},
     "output_type": "execute_result"
    }
   ],
   "source": [
    "rets_agent.mean()"
   ],
   "metadata": {
    "collapsed": false,
    "ExecuteTime": {
     "end_time": "2024-02-20T03:03:18.800291Z",
     "start_time": "2024-02-20T03:03:18.759530Z"
    }
   },
   "id": "7b5a568819dbffad",
   "execution_count": 58
  },
  {
   "cell_type": "code",
   "outputs": [
    {
     "data": {
      "text/plain": "-364.20978"
     },
     "execution_count": 59,
     "metadata": {},
     "output_type": "execute_result"
    }
   ],
   "source": [
    "rets_rand.mean()"
   ],
   "metadata": {
    "collapsed": false,
    "ExecuteTime": {
     "end_time": "2024-02-20T03:03:19.529110Z",
     "start_time": "2024-02-20T03:03:19.485912Z"
    }
   },
   "id": "7a491634cf33729f",
   "execution_count": 59
  },
  {
   "cell_type": "code",
   "outputs": [
    {
     "data": {
      "text/plain": "Downloading (…)rocgen.cleanrl_model:   0%|          | 0.00/2.51M [00:00<?, ?B/s]",
      "application/vnd.jupyter.widget-view+json": {
       "version_major": 2,
       "version_minor": 0,
       "model_id": "b37346dbe55a4118bab14a176f38b190"
      }
     },
     "metadata": {},
     "output_type": "display_data"
    },
    {
     "ename": "ValueError",
     "evalue": "unregistered extension code 161",
     "output_type": "error",
     "traceback": [
      "\u001B[0;31m---------------------------------------------------------------------------\u001B[0m",
      "\u001B[0;31mValueError\u001B[0m                                Traceback (most recent call last)",
      "Cell \u001B[0;32mIn[6], line 6\u001B[0m\n\u001B[1;32m      4\u001B[0m REPO_ID \u001B[38;5;241m=\u001B[39m \u001B[38;5;124m\"\u001B[39m\u001B[38;5;124mcleanrl/MinerHard-v0-cleanba_ppo_envpool_procgen-seed1\u001B[39m\u001B[38;5;124m\"\u001B[39m\n\u001B[1;32m      5\u001B[0m FILENAME \u001B[38;5;241m=\u001B[39m \u001B[38;5;124m\"\u001B[39m\u001B[38;5;124mcleanba_ppo_envpool_procgen.cleanrl_model\u001B[39m\u001B[38;5;124m\"\u001B[39m\n\u001B[0;32m----> 6\u001B[0m model \u001B[38;5;241m=\u001B[39m \u001B[43mjoblib\u001B[49m\u001B[38;5;241;43m.\u001B[39;49m\u001B[43mload\u001B[49m\u001B[43m(\u001B[49m\n\u001B[1;32m      7\u001B[0m \u001B[43m    \u001B[49m\u001B[43mhf_hub_download\u001B[49m\u001B[43m(\u001B[49m\u001B[43mrepo_id\u001B[49m\u001B[38;5;241;43m=\u001B[39;49m\u001B[43mREPO_ID\u001B[49m\u001B[43m,\u001B[49m\u001B[43m \u001B[49m\u001B[43mfilename\u001B[49m\u001B[38;5;241;43m=\u001B[39;49m\u001B[43mFILENAME\u001B[49m\u001B[43m)\u001B[49m\n\u001B[1;32m      8\u001B[0m \u001B[43m)\u001B[49m\n",
      "File \u001B[0;32m~/miniconda3/lib/python3.10/site-packages/joblib/numpy_pickle.py:658\u001B[0m, in \u001B[0;36mload\u001B[0;34m(filename, mmap_mode)\u001B[0m\n\u001B[1;32m    652\u001B[0m             \u001B[38;5;28;01mif\u001B[39;00m \u001B[38;5;28misinstance\u001B[39m(fobj, \u001B[38;5;28mstr\u001B[39m):\n\u001B[1;32m    653\u001B[0m                 \u001B[38;5;66;03m# if the returned file object is a string, this means we\u001B[39;00m\n\u001B[1;32m    654\u001B[0m                 \u001B[38;5;66;03m# try to load a pickle file generated with an version of\u001B[39;00m\n\u001B[1;32m    655\u001B[0m                 \u001B[38;5;66;03m# Joblib so we load it with joblib compatibility function.\u001B[39;00m\n\u001B[1;32m    656\u001B[0m                 \u001B[38;5;28;01mreturn\u001B[39;00m load_compatibility(fobj)\n\u001B[0;32m--> 658\u001B[0m             obj \u001B[38;5;241m=\u001B[39m \u001B[43m_unpickle\u001B[49m\u001B[43m(\u001B[49m\u001B[43mfobj\u001B[49m\u001B[43m,\u001B[49m\u001B[43m \u001B[49m\u001B[43mfilename\u001B[49m\u001B[43m,\u001B[49m\u001B[43m \u001B[49m\u001B[43mmmap_mode\u001B[49m\u001B[43m)\u001B[49m\n\u001B[1;32m    659\u001B[0m \u001B[38;5;28;01mreturn\u001B[39;00m obj\n",
      "File \u001B[0;32m~/miniconda3/lib/python3.10/site-packages/joblib/numpy_pickle.py:577\u001B[0m, in \u001B[0;36m_unpickle\u001B[0;34m(fobj, filename, mmap_mode)\u001B[0m\n\u001B[1;32m    575\u001B[0m obj \u001B[38;5;241m=\u001B[39m \u001B[38;5;28;01mNone\u001B[39;00m\n\u001B[1;32m    576\u001B[0m \u001B[38;5;28;01mtry\u001B[39;00m:\n\u001B[0;32m--> 577\u001B[0m     obj \u001B[38;5;241m=\u001B[39m \u001B[43munpickler\u001B[49m\u001B[38;5;241;43m.\u001B[39;49m\u001B[43mload\u001B[49m\u001B[43m(\u001B[49m\u001B[43m)\u001B[49m\n\u001B[1;32m    578\u001B[0m     \u001B[38;5;28;01mif\u001B[39;00m unpickler\u001B[38;5;241m.\u001B[39mcompat_mode:\n\u001B[1;32m    579\u001B[0m         warnings\u001B[38;5;241m.\u001B[39mwarn(\u001B[38;5;124m\"\u001B[39m\u001B[38;5;124mThe file \u001B[39m\u001B[38;5;124m'\u001B[39m\u001B[38;5;132;01m%s\u001B[39;00m\u001B[38;5;124m'\u001B[39m\u001B[38;5;124m has been generated with a \u001B[39m\u001B[38;5;124m\"\u001B[39m\n\u001B[1;32m    580\u001B[0m                       \u001B[38;5;124m\"\u001B[39m\u001B[38;5;124mjoblib version less than 0.10. \u001B[39m\u001B[38;5;124m\"\u001B[39m\n\u001B[1;32m    581\u001B[0m                       \u001B[38;5;124m\"\u001B[39m\u001B[38;5;124mPlease regenerate this pickle file.\u001B[39m\u001B[38;5;124m\"\u001B[39m\n\u001B[1;32m    582\u001B[0m                       \u001B[38;5;241m%\u001B[39m filename,\n\u001B[1;32m    583\u001B[0m                       \u001B[38;5;167;01mDeprecationWarning\u001B[39;00m, stacklevel\u001B[38;5;241m=\u001B[39m\u001B[38;5;241m3\u001B[39m)\n",
      "File \u001B[0;32m~/miniconda3/lib/python3.10/pickle.py:1213\u001B[0m, in \u001B[0;36m_Unpickler.load\u001B[0;34m(self)\u001B[0m\n\u001B[1;32m   1211\u001B[0m             \u001B[38;5;28;01mraise\u001B[39;00m \u001B[38;5;167;01mEOFError\u001B[39;00m\n\u001B[1;32m   1212\u001B[0m         \u001B[38;5;28;01massert\u001B[39;00m \u001B[38;5;28misinstance\u001B[39m(key, bytes_types)\n\u001B[0;32m-> 1213\u001B[0m         \u001B[43mdispatch\u001B[49m\u001B[43m[\u001B[49m\u001B[43mkey\u001B[49m\u001B[43m[\u001B[49m\u001B[38;5;241;43m0\u001B[39;49m\u001B[43m]\u001B[49m\u001B[43m]\u001B[49m\u001B[43m(\u001B[49m\u001B[38;5;28;43mself\u001B[39;49m\u001B[43m)\u001B[49m\n\u001B[1;32m   1214\u001B[0m \u001B[38;5;28;01mexcept\u001B[39;00m _Stop \u001B[38;5;28;01mas\u001B[39;00m stopinst:\n\u001B[1;32m   1215\u001B[0m     \u001B[38;5;28;01mreturn\u001B[39;00m stopinst\u001B[38;5;241m.\u001B[39mvalue\n",
      "File \u001B[0;32m~/miniconda3/lib/python3.10/pickle.py:1543\u001B[0m, in \u001B[0;36m_Unpickler.load_ext1\u001B[0;34m(self)\u001B[0m\n\u001B[1;32m   1541\u001B[0m \u001B[38;5;28;01mdef\u001B[39;00m \u001B[38;5;21mload_ext1\u001B[39m(\u001B[38;5;28mself\u001B[39m):\n\u001B[1;32m   1542\u001B[0m     code \u001B[38;5;241m=\u001B[39m \u001B[38;5;28mself\u001B[39m\u001B[38;5;241m.\u001B[39mread(\u001B[38;5;241m1\u001B[39m)[\u001B[38;5;241m0\u001B[39m]\n\u001B[0;32m-> 1543\u001B[0m     \u001B[38;5;28;43mself\u001B[39;49m\u001B[38;5;241;43m.\u001B[39;49m\u001B[43mget_extension\u001B[49m\u001B[43m(\u001B[49m\u001B[43mcode\u001B[49m\u001B[43m)\u001B[49m\n",
      "File \u001B[0;32m~/miniconda3/lib/python3.10/pickle.py:1567\u001B[0m, in \u001B[0;36m_Unpickler.get_extension\u001B[0;34m(self, code)\u001B[0m\n\u001B[1;32m   1564\u001B[0m     \u001B[38;5;28;01mif\u001B[39;00m code \u001B[38;5;241m<\u001B[39m\u001B[38;5;241m=\u001B[39m \u001B[38;5;241m0\u001B[39m: \u001B[38;5;66;03m# note that 0 is forbidden\u001B[39;00m\n\u001B[1;32m   1565\u001B[0m         \u001B[38;5;66;03m# Corrupt or hostile pickle.\u001B[39;00m\n\u001B[1;32m   1566\u001B[0m         \u001B[38;5;28;01mraise\u001B[39;00m UnpicklingError(\u001B[38;5;124m\"\u001B[39m\u001B[38;5;124mEXT specifies code <= 0\u001B[39m\u001B[38;5;124m\"\u001B[39m)\n\u001B[0;32m-> 1567\u001B[0m     \u001B[38;5;28;01mraise\u001B[39;00m \u001B[38;5;167;01mValueError\u001B[39;00m(\u001B[38;5;124m\"\u001B[39m\u001B[38;5;124munregistered extension code \u001B[39m\u001B[38;5;132;01m%d\u001B[39;00m\u001B[38;5;124m\"\u001B[39m \u001B[38;5;241m%\u001B[39m code)\n\u001B[1;32m   1568\u001B[0m obj \u001B[38;5;241m=\u001B[39m \u001B[38;5;28mself\u001B[39m\u001B[38;5;241m.\u001B[39mfind_class(\u001B[38;5;241m*\u001B[39mkey)\n\u001B[1;32m   1569\u001B[0m _extension_cache[code] \u001B[38;5;241m=\u001B[39m obj\n",
      "\u001B[0;31mValueError\u001B[0m: unregistered extension code 161"
     ]
    }
   ],
   "source": [
    "from huggingface_hub import hf_hub_download\n",
    "import joblib\n",
    "\n",
    "REPO_ID = \"cleanrl/MinerHard-v0-cleanba_ppo_envpool_procgen-seed1\"\n",
    "FILENAME = \"cleanba_ppo_envpool_procgen.cleanrl_model\"\n",
    "model = joblib.load(\n",
    "    hf_hub_download(repo_id=REPO_ID, filename=FILENAME)\n",
    ")"
   ],
   "metadata": {
    "collapsed": false,
    "ExecuteTime": {
     "end_time": "2024-02-25T07:04:26.013210Z",
     "start_time": "2024-02-25T07:04:25.439544Z"
    }
   },
   "id": "9dbc6a83d3f0b241",
   "execution_count": 6
  },
  {
   "cell_type": "code",
   "outputs": [],
   "source": [
    "import matplotlib.pyplot as plt\n",
    "from tqdm.auto import tqdm\n",
    "from einops import rearrange"
   ],
   "metadata": {
    "collapsed": false,
    "ExecuteTime": {
     "end_time": "2024-02-26T18:52:05.427842Z",
     "start_time": "2024-02-26T18:52:05.376561Z"
    }
   },
   "id": "8b1359c63a6498c",
   "execution_count": 46
  },
  {
   "cell_type": "code",
   "outputs": [
    {
     "name": "stderr",
     "output_type": "stream",
     "text": [
      "/tmp/ipykernel_2205275/3754036050.py:7: DeprecationWarning: The distutils package is deprecated and slated for removal in Python 3.12. Use setuptools or check PEP 632 for potential alternatives\n",
      "  from distutils.util import strtobool\n"
     ]
    }
   ],
   "source": [
    "import argparse\n",
    "import os\n",
    "import random\n",
    "import time\n",
    "import uuid\n",
    "from collections import deque\n",
    "from distutils.util import strtobool\n",
    "from functools import partial\n",
    "from typing import Sequence\n",
    "\n",
    "import queue\n",
    "import threading\n",
    "\n",
    "import envpool\n",
    "import flax\n",
    "import flax.linen as nn\n",
    "import gym\n",
    "import jax\n",
    "import jax.numpy as jnp\n",
    "import numpy as np\n",
    "import optax\n",
    "from flax.linen.initializers import constant, orthogonal\n",
    "from flax.training.train_state import TrainState"
   ],
   "metadata": {
    "collapsed": false,
    "ExecuteTime": {
     "end_time": "2024-02-26T18:26:42.932207Z",
     "start_time": "2024-02-26T18:26:39.437862Z"
    }
   },
   "id": "9cb0f4d40b0c76d1",
   "execution_count": 2
  },
  {
   "cell_type": "code",
   "outputs": [
    {
     "name": "stdout",
     "output_type": "stream",
     "text": [
      "/data/vision/phillipi/akumar01/synthetic-mdps/src\r\n"
     ]
    }
   ],
   "source": [
    "!pwd"
   ],
   "metadata": {
    "collapsed": false,
    "ExecuteTime": {
     "end_time": "2024-02-26T18:26:47.261999Z",
     "start_time": "2024-02-26T18:26:47.069865Z"
    }
   },
   "id": "90b3a00206ed47a",
   "execution_count": 4
  },
  {
   "cell_type": "code",
   "outputs": [],
   "source": [
    "def make_env(env_id, seed, num_envs, async_batch_size=1):\n",
    "    def thunk():\n",
    "        envs = envpool.make(\n",
    "            env_id,\n",
    "            env_type=\"gym\",\n",
    "            num_envs=num_envs,\n",
    "            batch_size=async_batch_size,\n",
    "            seed=seed,\n",
    "        )\n",
    "        envs.num_envs = num_envs\n",
    "        envs.single_action_space = envs.action_space\n",
    "        envs.single_observation_space = envs.observation_space\n",
    "        envs.is_vector_env = True\n",
    "        return envs\n",
    "\n",
    "    return thunk\n",
    "\n",
    "\n",
    "class ResidualBlock(nn.Module):\n",
    "    channels: int\n",
    "\n",
    "    @nn.compact\n",
    "    def __call__(self, x):\n",
    "        inputs = x\n",
    "        x = nn.relu(x)\n",
    "        x = nn.Conv(\n",
    "            self.channels,\n",
    "            kernel_size=(3, 3),\n",
    "        )(x)\n",
    "        x = nn.relu(x)\n",
    "        x = nn.Conv(\n",
    "            self.channels,\n",
    "            kernel_size=(3, 3),\n",
    "        )(x)\n",
    "        return x + inputs\n",
    "\n",
    "\n",
    "class ConvSequence(nn.Module):\n",
    "    channels: int\n",
    "\n",
    "    @nn.compact\n",
    "    def __call__(self, x):\n",
    "        x = nn.Conv(\n",
    "            self.channels,\n",
    "            kernel_size=(3, 3),\n",
    "        )(x)\n",
    "        x = nn.max_pool(x, window_shape=(3, 3), strides=(2, 2), padding=\"SAME\")\n",
    "        x = ResidualBlock(self.channels)(x)\n",
    "        x = ResidualBlock(self.channels)(x)\n",
    "        return x\n",
    "\n",
    "\n",
    "class Network(nn.Module):\n",
    "    channelss: Sequence[int] = (16, 32, 32)\n",
    "\n",
    "    @nn.compact\n",
    "    def __call__(self, x):\n",
    "        # x = jnp.transpose(x, (0, 2, 3, 1))\n",
    "        x = x / (255.0)\n",
    "        for channels in self.channelss:\n",
    "            x = ConvSequence(channels)(x)\n",
    "        x = nn.relu(x)\n",
    "        x = x.reshape((x.shape[0], -1))\n",
    "        x = nn.Dense(256, kernel_init=orthogonal(np.sqrt(2)), bias_init=constant(0.0))(x)\n",
    "        x = nn.relu(x)\n",
    "        return x\n",
    "\n",
    "\n",
    "class Critic(nn.Module):\n",
    "    @nn.compact\n",
    "    def __call__(self, x):\n",
    "        return nn.Dense(1, kernel_init=orthogonal(1), bias_init=constant(0.0))(x)\n",
    "\n",
    "\n",
    "class Actor(nn.Module):\n",
    "    action_dim: int\n",
    "\n",
    "    @nn.compact\n",
    "    def __call__(self, x):\n",
    "        return nn.Dense(self.action_dim, kernel_init=orthogonal(0.01), bias_init=constant(0.0))(x)"
   ],
   "metadata": {
    "collapsed": false,
    "ExecuteTime": {
     "end_time": "2024-02-26T18:26:47.675637Z",
     "start_time": "2024-02-26T18:26:47.622657Z"
    }
   },
   "id": "9d3a33a44f9c497d",
   "execution_count": 5
  },
  {
   "cell_type": "code",
   "outputs": [],
   "source": [
    "model_path = \"../data/cleanba_ppo_envpool_procgen.cleanrl_model\""
   ],
   "metadata": {
    "collapsed": false,
    "ExecuteTime": {
     "end_time": "2024-02-26T18:26:48.669937Z",
     "start_time": "2024-02-26T18:26:48.629851Z"
    }
   },
   "id": "1d795251082ed793",
   "execution_count": 6
  },
  {
   "cell_type": "code",
   "outputs": [],
   "source": [
    "# with open(model_path, \"rb\") as f:\n",
    "#     a = flax.serialization.from_bytes(list, f.read())\n",
    "with open(model_path, \"rb\") as f:\n",
    "    a = flax.serialization.from_bytes( None, f.read())['1']\n",
    "    network_params, actor_params, critic_params = a['0'], a['1'], a['2']"
   ],
   "metadata": {
    "collapsed": false,
    "ExecuteTime": {
     "end_time": "2024-02-26T18:26:49.106867Z",
     "start_time": "2024-02-26T18:26:49.057119Z"
    }
   },
   "id": "4dd26df53de2e662",
   "execution_count": 7
  },
  {
   "cell_type": "code",
   "outputs": [],
   "source": [
    "import gym\n",
    "import procgen\n",
    "env = gym.make(\"procgen-miner\", distribution_mode=\"hard\", num_levels=0, start_level=0)\n",
    "\n",
    "from procgen import ProcgenEnv\n",
    "env = ProcgenEnv(256, env_name=\"miner\", distribution_mode=\"hard\", num_levels=0, start_level=0)"
   ],
   "metadata": {
    "collapsed": false,
    "ExecuteTime": {
     "end_time": "2024-02-26T18:46:33.725945Z",
     "start_time": "2024-02-26T18:46:33.665784Z"
    }
   },
   "id": "6ef96300d39f1d19",
   "execution_count": 41
  },
  {
   "cell_type": "code",
   "outputs": [],
   "source": [
    "network, actor, critic = Network(), Actor(15), Critic()"
   ],
   "metadata": {
    "collapsed": false,
    "ExecuteTime": {
     "end_time": "2024-02-26T18:46:34.195947Z",
     "start_time": "2024-02-26T18:46:34.152970Z"
    }
   },
   "id": "5d9ca85ad0ba1be2",
   "execution_count": 42
  },
  {
   "cell_type": "code",
   "outputs": [
    {
     "data": {
      "text/plain": "  0%|          | 0/2048 [00:00<?, ?it/s]",
      "application/vnd.jupyter.widget-view+json": {
       "version_major": 2,
       "version_minor": 0,
       "model_id": "2c59f8f28fd04ac1b01b53b6af4024ef"
      }
     },
     "metadata": {},
     "output_type": "display_data"
    }
   ],
   "source": [
    "rng = jax.random.PRNGKey(0)\n",
    "obs = env.reset()['rgb']\n",
    "done = np.zeros(256, dtype=bool)\n",
    "data = dict(obs=[], logits=[], act=[], rew=[], done=[])\n",
    "ret = []\n",
    "for t in tqdm(range(128*16)):\n",
    "    hidden = network.apply(network_params, obs)\n",
    "    logits = actor.apply(actor_params, hidden)\n",
    "    # logits = jnp.zeros_like(logits)\n",
    "    rng, _rng = jax.random.split(rng)\n",
    "    action = jax.random.categorical(_rng, logits, axis=-1)\n",
    "    next_obs, rew, next_done, info = env.step(np.array(action))\n",
    "    data['obs'].append(obs)\n",
    "    data['logits'].append(logits)\n",
    "    data['act'].append(action)\n",
    "    data['rew'].append(rew)\n",
    "    data['done'].append(done)\n",
    "    obs = next_obs['rgb']\n",
    "    done = next_done\n",
    "    ret.append(rew)"
   ],
   "metadata": {
    "collapsed": false,
    "ExecuteTime": {
     "end_time": "2024-02-26T18:51:26.834334Z",
     "start_time": "2024-02-26T18:46:38.474083Z"
    }
   },
   "id": "dde491a0fee58cbb",
   "execution_count": 43
  },
  {
   "cell_type": "code",
   "outputs": [
    {
     "ename": "AttributeError",
     "evalue": "module 'torch' has no attribute 'Tensor'",
     "output_type": "error",
     "traceback": [
      "\u001B[0;31m---------------------------------------------------------------------------\u001B[0m",
      "\u001B[0;31mAttributeError\u001B[0m                            Traceback (most recent call last)",
      "Cell \u001B[0;32mIn[50], line 1\u001B[0m\n\u001B[0;32m----> 1\u001B[0m \u001B[43mrearrange\u001B[49m\u001B[43m(\u001B[49m\u001B[43mnp\u001B[49m\u001B[38;5;241;43m.\u001B[39;49m\u001B[43marray\u001B[49m\u001B[43m(\u001B[49m\u001B[43mdata\u001B[49m\u001B[43m[\u001B[49m\u001B[38;5;124;43m'\u001B[39;49m\u001B[38;5;124;43mobs\u001B[39;49m\u001B[38;5;124;43m'\u001B[39;49m\u001B[43m]\u001B[49m\u001B[43m)\u001B[49m\u001B[43m,\u001B[49m\u001B[43m \u001B[49m\u001B[38;5;124;43m\"\u001B[39;49m\u001B[38;5;124;43m(t1 t2) n h w c -> (t1 n) t2 h w c\u001B[39;49m\u001B[38;5;124;43m\"\u001B[39;49m\u001B[43m,\u001B[49m\u001B[43m \u001B[49m\u001B[43mt2\u001B[49m\u001B[38;5;241;43m=\u001B[39;49m\u001B[38;5;241;43m128\u001B[39;49m\u001B[43m)\u001B[49m\u001B[38;5;241m.\u001B[39mshape\n",
      "File \u001B[0;32m~/.virtualenvs/synthetic-mdps/lib/python3.10/site-packages/einops/einops.py:591\u001B[0m, in \u001B[0;36mrearrange\u001B[0;34m(tensor, pattern, **axes_lengths)\u001B[0m\n\u001B[1;32m    536\u001B[0m \u001B[38;5;28;01mdef\u001B[39;00m \u001B[38;5;21mrearrange\u001B[39m(tensor: Union[Tensor, List[Tensor]], pattern: \u001B[38;5;28mstr\u001B[39m, \u001B[38;5;241m*\u001B[39m\u001B[38;5;241m*\u001B[39maxes_lengths) \u001B[38;5;241m-\u001B[39m\u001B[38;5;241m>\u001B[39m Tensor:\n\u001B[1;32m    537\u001B[0m \u001B[38;5;250m    \u001B[39m\u001B[38;5;124;03m\"\"\"\u001B[39;00m\n\u001B[1;32m    538\u001B[0m \u001B[38;5;124;03m    einops.rearrange is a reader-friendly smart element reordering for multidimensional tensors.\u001B[39;00m\n\u001B[1;32m    539\u001B[0m \u001B[38;5;124;03m    This operation includes functionality of transpose (axes permutation), reshape (view), squeeze, unsqueeze,\u001B[39;00m\n\u001B[0;32m   (...)\u001B[0m\n\u001B[1;32m    589\u001B[0m \n\u001B[1;32m    590\u001B[0m \u001B[38;5;124;03m    \"\"\"\u001B[39;00m\n\u001B[0;32m--> 591\u001B[0m     \u001B[38;5;28;01mreturn\u001B[39;00m \u001B[43mreduce\u001B[49m\u001B[43m(\u001B[49m\u001B[43mtensor\u001B[49m\u001B[43m,\u001B[49m\u001B[43m \u001B[49m\u001B[43mpattern\u001B[49m\u001B[43m,\u001B[49m\u001B[43m \u001B[49m\u001B[43mreduction\u001B[49m\u001B[38;5;241;43m=\u001B[39;49m\u001B[38;5;124;43m\"\u001B[39;49m\u001B[38;5;124;43mrearrange\u001B[39;49m\u001B[38;5;124;43m\"\u001B[39;49m\u001B[43m,\u001B[49m\u001B[43m \u001B[49m\u001B[38;5;241;43m*\u001B[39;49m\u001B[38;5;241;43m*\u001B[39;49m\u001B[43maxes_lengths\u001B[49m\u001B[43m)\u001B[49m\n",
      "File \u001B[0;32m~/.virtualenvs/synthetic-mdps/lib/python3.10/site-packages/einops/einops.py:518\u001B[0m, in \u001B[0;36mreduce\u001B[0;34m(tensor, pattern, reduction, **axes_lengths)\u001B[0m\n\u001B[1;32m    516\u001B[0m     tensor \u001B[38;5;241m=\u001B[39m backend\u001B[38;5;241m.\u001B[39mstack_on_zeroth_dimension(tensor)\n\u001B[1;32m    517\u001B[0m \u001B[38;5;28;01melse\u001B[39;00m:\n\u001B[0;32m--> 518\u001B[0m     backend \u001B[38;5;241m=\u001B[39m \u001B[43mget_backend\u001B[49m\u001B[43m(\u001B[49m\u001B[43mtensor\u001B[49m\u001B[43m)\u001B[49m\n\u001B[1;32m    520\u001B[0m hashable_axes_lengths \u001B[38;5;241m=\u001B[39m \u001B[38;5;28mtuple\u001B[39m(axes_lengths\u001B[38;5;241m.\u001B[39mitems())\n\u001B[1;32m    521\u001B[0m shape \u001B[38;5;241m=\u001B[39m backend\u001B[38;5;241m.\u001B[39mshape(tensor)\n",
      "File \u001B[0;32m~/.virtualenvs/synthetic-mdps/lib/python3.10/site-packages/einops/_backends.py:53\u001B[0m, in \u001B[0;36mget_backend\u001B[0;34m(tensor)\u001B[0m\n\u001B[1;32m     51\u001B[0m \u001B[38;5;28;01mif\u001B[39;00m _debug_importing:\n\u001B[1;32m     52\u001B[0m     \u001B[38;5;28mprint\u001B[39m(\u001B[38;5;124m\"\u001B[39m\u001B[38;5;124mImported backend for \u001B[39m\u001B[38;5;124m\"\u001B[39m, BackendSubclass\u001B[38;5;241m.\u001B[39mframework_name)\n\u001B[0;32m---> 53\u001B[0m backend \u001B[38;5;241m=\u001B[39m \u001B[43mBackendSubclass\u001B[49m\u001B[43m(\u001B[49m\u001B[43m)\u001B[49m\n\u001B[1;32m     54\u001B[0m _loaded_backends[backend\u001B[38;5;241m.\u001B[39mframework_name] \u001B[38;5;241m=\u001B[39m backend\n\u001B[1;32m     55\u001B[0m \u001B[38;5;28;01mif\u001B[39;00m backend\u001B[38;5;241m.\u001B[39mis_appropriate_type(tensor):\n",
      "File \u001B[0;32m~/.virtualenvs/synthetic-mdps/lib/python3.10/site-packages/einops/_backends.py:221\u001B[0m, in \u001B[0;36mTorchBackend.__init__\u001B[0;34m(self)\u001B[0m\n\u001B[1;32m    219\u001B[0m \u001B[38;5;28mself\u001B[39m\u001B[38;5;241m.\u001B[39mtorch \u001B[38;5;241m=\u001B[39m torch\n\u001B[1;32m    220\u001B[0m \u001B[38;5;66;03m# importing would register operations in torch._dynamo for torch.compile\u001B[39;00m\n\u001B[0;32m--> 221\u001B[0m \u001B[38;5;28;01mfrom\u001B[39;00m \u001B[38;5;21;01m.\u001B[39;00m \u001B[38;5;28;01mimport\u001B[39;00m _torch_specific\n",
      "File \u001B[0;32m~/.virtualenvs/synthetic-mdps/lib/python3.10/site-packages/einops/_torch_specific.py:19\u001B[0m\n\u001B[1;32m     15\u001B[0m \u001B[38;5;28;01mimport\u001B[39;00m \u001B[38;5;21;01mtorch\u001B[39;00m\n\u001B[1;32m     16\u001B[0m \u001B[38;5;28;01mfrom\u001B[39;00m \u001B[38;5;21;01meinops\u001B[39;00m\u001B[38;5;21;01m.\u001B[39;00m\u001B[38;5;21;01meinops\u001B[39;00m \u001B[38;5;28;01mimport\u001B[39;00m TransformRecipe, _reconstruct_from_shape_uncached\n\u001B[0;32m---> 19\u001B[0m \u001B[38;5;28;01mclass\u001B[39;00m \u001B[38;5;21;01mTorchJitBackend\u001B[39;00m:\n\u001B[1;32m     20\u001B[0m \u001B[38;5;250m    \u001B[39m\u001B[38;5;124;03m\"\"\"\u001B[39;00m\n\u001B[1;32m     21\u001B[0m \u001B[38;5;124;03m    Completely static backend that mimics part of normal backend functionality\u001B[39;00m\n\u001B[1;32m     22\u001B[0m \u001B[38;5;124;03m    but restricted to be within torchscript.\u001B[39;00m\n\u001B[1;32m     23\u001B[0m \u001B[38;5;124;03m    \"\"\"\u001B[39;00m\n\u001B[1;32m     25\u001B[0m     \u001B[38;5;129m@staticmethod\u001B[39m\n\u001B[1;32m     26\u001B[0m     \u001B[38;5;28;01mdef\u001B[39;00m \u001B[38;5;21mreduce\u001B[39m(x: torch\u001B[38;5;241m.\u001B[39mTensor, operation: \u001B[38;5;28mstr\u001B[39m, reduced_axes: List[\u001B[38;5;28mint\u001B[39m]):\n",
      "File \u001B[0;32m~/.virtualenvs/synthetic-mdps/lib/python3.10/site-packages/einops/_torch_specific.py:26\u001B[0m, in \u001B[0;36mTorchJitBackend\u001B[0;34m()\u001B[0m\n\u001B[1;32m     19\u001B[0m \u001B[38;5;28;01mclass\u001B[39;00m \u001B[38;5;21;01mTorchJitBackend\u001B[39;00m:\n\u001B[1;32m     20\u001B[0m \u001B[38;5;250m    \u001B[39m\u001B[38;5;124;03m\"\"\"\u001B[39;00m\n\u001B[1;32m     21\u001B[0m \u001B[38;5;124;03m    Completely static backend that mimics part of normal backend functionality\u001B[39;00m\n\u001B[1;32m     22\u001B[0m \u001B[38;5;124;03m    but restricted to be within torchscript.\u001B[39;00m\n\u001B[1;32m     23\u001B[0m \u001B[38;5;124;03m    \"\"\"\u001B[39;00m\n\u001B[1;32m     25\u001B[0m     \u001B[38;5;129m@staticmethod\u001B[39m\n\u001B[0;32m---> 26\u001B[0m     \u001B[38;5;28;01mdef\u001B[39;00m \u001B[38;5;21mreduce\u001B[39m(x: \u001B[43mtorch\u001B[49m\u001B[38;5;241;43m.\u001B[39;49m\u001B[43mTensor\u001B[49m, operation: \u001B[38;5;28mstr\u001B[39m, reduced_axes: List[\u001B[38;5;28mint\u001B[39m]):\n\u001B[1;32m     27\u001B[0m         \u001B[38;5;28;01mif\u001B[39;00m operation \u001B[38;5;241m==\u001B[39m \u001B[38;5;124m\"\u001B[39m\u001B[38;5;124mmin\u001B[39m\u001B[38;5;124m\"\u001B[39m:\n\u001B[1;32m     28\u001B[0m             \u001B[38;5;28;01mreturn\u001B[39;00m x\u001B[38;5;241m.\u001B[39mamin(dim\u001B[38;5;241m=\u001B[39mreduced_axes)\n",
      "\u001B[0;31mAttributeError\u001B[0m: module 'torch' has no attribute 'Tensor'"
     ]
    }
   ],
   "source": [
    "rearrange(np.array(data['obs']), \"(t1 t2) n h w c -> (t1 n) t2 h w c\", t2=128).shape"
   ],
   "metadata": {
    "collapsed": false,
    "ExecuteTime": {
     "end_time": "2024-02-26T18:53:33.595732Z",
     "start_time": "2024-02-26T18:53:30.381364Z"
    }
   },
   "id": "ff1d78fd7da10da1",
   "execution_count": 50
  },
  {
   "cell_type": "code",
   "outputs": [],
   "source": [],
   "metadata": {
    "collapsed": false
   },
   "id": "e206dbd4423e874d"
  },
  {
   "cell_type": "code",
   "outputs": [],
   "source": [],
   "metadata": {
    "collapsed": false
   },
   "id": "9b194f172a20637d"
  },
  {
   "cell_type": "code",
   "outputs": [],
   "source": [],
   "metadata": {
    "collapsed": false
   },
   "id": "4c5a043d7bd295c1"
  },
  {
   "cell_type": "code",
   "outputs": [],
   "source": [],
   "metadata": {
    "collapsed": false
   },
   "id": "1086f54f90655781"
  },
  {
   "cell_type": "code",
   "outputs": [],
   "source": [
    "ret = np.array(ret)"
   ],
   "metadata": {
    "collapsed": false,
    "ExecuteTime": {
     "end_time": "2024-02-26T18:41:01.870502Z",
     "start_time": "2024-02-26T18:41:01.351717Z"
    }
   },
   "id": "710d503f050ed916",
   "execution_count": 37
  },
  {
   "cell_type": "code",
   "outputs": [
    {
     "data": {
      "text/plain": "3.5351562"
     },
     "execution_count": 33,
     "metadata": {},
     "output_type": "execute_result"
    }
   ],
   "source": [
    "ret.sum(axis=0).mean()"
   ],
   "metadata": {
    "collapsed": false,
    "ExecuteTime": {
     "end_time": "2024-02-26T18:38:36.492490Z",
     "start_time": "2024-02-26T18:38:36.278067Z"
    }
   },
   "id": "6537d326324ecc3b",
   "execution_count": 33
  },
  {
   "cell_type": "code",
   "outputs": [
    {
     "data": {
      "text/plain": "16.632812"
     },
     "execution_count": 39,
     "metadata": {},
     "output_type": "execute_result"
    }
   ],
   "source": [
    "ret.sum(axis=0).mean()"
   ],
   "metadata": {
    "collapsed": false,
    "ExecuteTime": {
     "end_time": "2024-02-26T18:41:57.891117Z",
     "start_time": "2024-02-26T18:41:57.843851Z"
    }
   },
   "id": "e983a8f98b4d4f38",
   "execution_count": 39
  },
  {
   "cell_type": "code",
   "outputs": [],
   "source": [],
   "metadata": {
    "collapsed": false
   },
   "id": "70ec4afa2519b3ff"
  },
  {
   "cell_type": "code",
   "outputs": [],
   "source": [],
   "metadata": {
    "collapsed": false
   },
   "id": "88e8b5a6a2435bf6"
  },
  {
   "cell_type": "code",
   "outputs": [],
   "source": [],
   "metadata": {
    "collapsed": false
   },
   "id": "8ac4d6c8edcbb6ed"
  },
  {
   "cell_type": "code",
   "outputs": [],
   "source": [],
   "metadata": {
    "collapsed": false
   },
   "id": "db24cc2404e7414b"
  },
  {
   "cell_type": "code",
   "outputs": [],
   "source": [],
   "metadata": {
    "collapsed": false
   },
   "id": "6ba9b475af8ea18d"
  },
  {
   "cell_type": "code",
   "outputs": [],
   "source": [],
   "metadata": {
    "collapsed": false
   },
   "id": "bfcae7a6a409f08d"
  }
 ],
 "metadata": {
  "kernelspec": {
   "display_name": "Python 3",
   "language": "python",
   "name": "python3"
  },
  "language_info": {
   "codemirror_mode": {
    "name": "ipython",
    "version": 2
   },
   "file_extension": ".py",
   "mimetype": "text/x-python",
   "name": "python",
   "nbconvert_exporter": "python",
   "pygments_lexer": "ipython2",
   "version": "2.7.6"
  }
 },
 "nbformat": 4,
 "nbformat_minor": 5
}
