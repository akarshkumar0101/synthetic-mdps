{
 "cells": [
  {
   "cell_type": "code",
   "execution_count": 1,
   "id": "initial_id",
   "metadata": {
    "collapsed": true,
    "ExecuteTime": {
     "end_time": "2024-03-25T16:04:29.559676Z",
     "start_time": "2024-03-25T16:04:29.267426Z"
    }
   },
   "outputs": [
    {
     "name": "stdout",
     "output_type": "stream",
     "text": [
      "oliva-titanrtx-2.csail.mit.edu\r\n",
      "/data/vision/phillipi/akumar01/synthetic-mdps/src\r\n",
      "/data/vision/phillipi/akumar01/.virtualenvs/smdps-mujoco/bin/python\n"
     ]
    }
   ],
   "source": [
    "%load_ext autoreload  \n",
    "%autoreload 2  \n",
    "!hostname  \n",
    "!pwd  \n",
    "import os\n",
    "import sys\n",
    "\n",
    "print(sys.executable)\n",
    "os.environ['CUDA_VISIBLE_DEVICES'] = \"7\""
   ]
  },
  {
   "cell_type": "code",
   "outputs": [],
   "source": [
    "import os, sys, glob, pickle\n",
    "from functools import partial  \n",
    "\n",
    "from tqdm.auto import tqdm\n",
    "import matplotlib.pyplot as plt\n",
    "import numpy as np\n",
    "\n",
    "# from einops import rearrange, reduce, repeat"
   ],
   "metadata": {
    "collapsed": false,
    "ExecuteTime": {
     "end_time": "2024-03-25T16:04:30.557139Z",
     "start_time": "2024-03-25T16:04:29.561573Z"
    }
   },
   "id": "3f602fd18d79e292",
   "execution_count": 2
  },
  {
   "cell_type": "code",
   "outputs": [],
   "source": [
    "import torch\n",
    "import torch.nn as nn"
   ],
   "metadata": {
    "collapsed": false,
    "ExecuteTime": {
     "end_time": "2024-03-25T16:04:31.421483Z",
     "start_time": "2024-03-25T16:04:30.558960Z"
    }
   },
   "id": "7e0126fdc65609ae",
   "execution_count": 3
  },
  {
   "cell_type": "code",
   "outputs": [],
   "source": [
    "from torch.distributions.normal import Normal\n",
    "def layer_init(layer, std=np.sqrt(2), bias_const=0.0):\n",
    "    torch.nn.init.orthogonal_(layer.weight, std)\n",
    "    torch.nn.init.constant_(layer.bias, bias_const)\n",
    "    return layer\n",
    "\n",
    "class Agent(nn.Module):\n",
    "    def __init__(self, envs, rpo_alpha):\n",
    "        super().__init__()\n",
    "        self.rpo_alpha = rpo_alpha\n",
    "        self.critic = nn.Sequential(\n",
    "            layer_init(nn.Linear(np.array(envs.single_observation_space.shape).prod(), 64)),\n",
    "            nn.Tanh(),\n",
    "            layer_init(nn.Linear(64, 64)),\n",
    "            nn.Tanh(),\n",
    "            layer_init(nn.Linear(64, 1), std=1.0),\n",
    "        )\n",
    "        self.actor_mean = nn.Sequential(\n",
    "            layer_init(nn.Linear(np.array(envs.single_observation_space.shape).prod(), 64)),\n",
    "            nn.Tanh(),\n",
    "            layer_init(nn.Linear(64, 64)),\n",
    "            nn.Tanh(),\n",
    "            layer_init(nn.Linear(64, np.prod(envs.single_action_space.shape)), std=0.01),\n",
    "        )\n",
    "        self.actor_logstd = nn.Parameter(torch.zeros(1, np.prod(envs.single_action_space.shape)))\n",
    "\n",
    "    def get_value(self, x):\n",
    "        return self.critic(x)\n",
    "\n",
    "    def get_action_and_value(self, x, action=None):\n",
    "        action_mean = self.actor_mean(x)\n",
    "        action_logstd = self.actor_logstd.expand_as(action_mean)\n",
    "        action_std = torch.exp(action_logstd)\n",
    "        probs = Normal(action_mean, action_std)\n",
    "        if action is None:\n",
    "            action = probs.sample()\n",
    "        else:  # new to RPO\n",
    "            # sample again to add stochasticity to the policy\n",
    "            z = torch.FloatTensor(action_mean.shape).uniform_(-self.rpo_alpha, self.rpo_alpha).to(device)\n",
    "            action_mean = action_mean + z\n",
    "            probs = Normal(action_mean, action_std)\n",
    "\n",
    "        return action, probs.log_prob(action).sum(1), probs.entropy().sum(1), self.critic(x), action_mean\n"
   ],
   "metadata": {
    "collapsed": false,
    "ExecuteTime": {
     "end_time": "2024-03-25T16:05:13.406423Z",
     "start_time": "2024-03-25T16:05:13.272285Z"
    }
   },
   "id": "71147a9e949ba26",
   "execution_count": 7
  },
  {
   "cell_type": "code",
   "outputs": [],
   "source": [
    "with open(\"/data/vision/phillipi/akumar01/synthetic-mdps-data/datasets/mujoco/HalfCheetah/dataset.pkl\", \"rb\") as f:\n",
    "    dataset = pickle.load(f)\n",
    "d_obs, d_act = dataset['obs'].shape[-1], dataset['act_mean'].shape[-1]"
   ],
   "metadata": {
    "collapsed": false,
    "ExecuteTime": {
     "end_time": "2024-03-25T16:26:00.671800Z",
     "start_time": "2024-03-25T16:25:53.517981Z"
    }
   },
   "id": "9088abb459404592",
   "execution_count": 48
  },
  {
   "cell_type": "code",
   "outputs": [],
   "source": [
    "def sample_batch(dataset, batch_size):\n",
    "    i_b = torch.randint(0, dataset['obs'].shape[0], (batch_size,))\n",
    "    i_t = torch.randint(0, dataset['obs'].shape[1], (batch_size,))\n",
    "    return {k: v[i_b, i_t] for k, v in dataset.items()}"
   ],
   "metadata": {
    "collapsed": false,
    "ExecuteTime": {
     "end_time": "2024-03-25T16:27:20.713042Z",
     "start_time": "2024-03-25T16:27:20.126530Z"
    }
   },
   "id": "cd6af0a1b83e37d1",
   "execution_count": 49
  },
  {
   "cell_type": "code",
   "outputs": [
    {
     "data": {
      "text/plain": "  0%|          | 0/2000 [00:00<?, ?it/s]",
      "application/vnd.jupyter.widget-view+json": {
       "version_major": 2,
       "version_minor": 0,
       "model_id": "e7fc87e9fdb045f1849b133de4c883c5"
      }
     },
     "metadata": {},
     "output_type": "display_data"
    }
   ],
   "source": [
    "rng = jax.random.PRNGKey(0)\n",
    "agent = Agent(d_obs, d_act)\n",
    "batch = sample_batch(rng, dataset, 1)\n",
    "\n",
    "rng, _rng = split(rng)\n",
    "agent_params = agent.init(_rng, jax.tree_map(lambda x: x[0], batch['obs']))\n",
    "\n",
    "agent_forward = jax.jit(jax.vmap(agent.apply, in_axes=(None, 0)))\n",
    "\n",
    "def iter_step(state, batch):\n",
    "    def loss_fn(params):\n",
    "        act_pred = agent_forward(params, batch['obs'])\n",
    "        return jnp.mean(jnp.square(act_pred - batch['act_mean']))\n",
    "    \n",
    "    grad_fn = jax.value_and_grad(loss_fn)\n",
    "    loss, grad = grad_fn(state.params)\n",
    "    return state.apply_gradients(grads=grad), loss\n",
    "\n",
    "tx = optax.chain(optax.clip_by_global_norm(1.),\n",
    "                 optax.adamw(3e-4, weight_decay=0., eps=1e-8))\n",
    "train_state = TrainState.create(apply_fn=agent.apply, params=agent_params, tx=tx)\n",
    "\n",
    "pbar = tqdm(range(2000))\n",
    "for i in pbar:\n",
    "    batch = sample_batch(rng, dataset, 32)\n",
    "    train_state, loss = iter_step(train_state, batch)\n",
    "    pbar.set_postfix({'loss': loss})"
   ],
   "metadata": {
    "collapsed": false,
    "ExecuteTime": {
     "end_time": "2024-03-25T15:49:09.230411Z",
     "start_time": "2024-03-25T15:48:35.407712Z"
    }
   },
   "id": "9f77e08f2deeac41",
   "execution_count": 112
  },
  {
   "cell_type": "code",
   "outputs": [],
   "source": [
    "import gymnasium as gym\n",
    "def make_env(env_id):\n",
    "    def thunk():\n",
    "        env = gym.make(env_id)\n",
    "        env = gym.wrappers.FlattenObservation(env)  # deal with dm_control's Dict observation space\n",
    "        env = gym.wrappers.RecordEpisodeStatistics(env)\n",
    "        env = gym.wrappers.ClipAction(env)\n",
    "        return env\n",
    "    return thunk\n"
   ],
   "metadata": {
    "collapsed": false,
    "ExecuteTime": {
     "end_time": "2024-03-25T16:16:16.024210Z",
     "start_time": "2024-03-25T16:16:15.972107Z"
    }
   },
   "id": "afc3fd5011823dc8",
   "execution_count": 39
  },
  {
   "cell_type": "code",
   "outputs": [],
   "source": [
    "envs = gym.vector.SyncVectorEnv( [make_env(\"HalfCheetah-v4\") for i in range(64)] )"
   ],
   "metadata": {
    "collapsed": false,
    "ExecuteTime": {
     "end_time": "2024-03-25T16:16:16.702626Z",
     "start_time": "2024-03-25T16:16:16.144632Z"
    }
   },
   "id": "de72c2dca14276fd",
   "execution_count": 40
  },
  {
   "cell_type": "code",
   "outputs": [],
   "source": [
    "device = 'cuda:0'\n",
    "agent = Agent(envs, 0.).to(device)\n",
    "load_dir = '/data/vision/phillipi/akumar01/synthetic-mdps-data/datasets/mujoco/HalfCheetah'\n",
    "agent.load_state_dict(torch.load(f\"{load_dir}/model.pth\"))\n",
    "with open(f\"{load_dir}/env_obs_rms.pkl\", \"rb\") as f:\n",
    "    env_obs_rms = pickle.load(f)\n",
    "obs_mean, obs_var = torch.Tensor(env_obs_rms[\"mean\"]).to(device), torch.Tensor(env_obs_rms[\"var\"]).to(device)\n"
   ],
   "metadata": {
    "collapsed": false,
    "ExecuteTime": {
     "end_time": "2024-03-25T16:16:16.737858Z",
     "start_time": "2024-03-25T16:16:16.704954Z"
    }
   },
   "id": "6ef1430f95b25bce",
   "execution_count": 41
  },
  {
   "cell_type": "code",
   "outputs": [
    {
     "data": {
      "text/plain": "  0%|          | 0/1005 [00:00<?, ?it/s]",
      "application/vnd.jupyter.widget-view+json": {
       "version_major": 2,
       "version_minor": 0,
       "model_id": "c30b203721504a8cb2c0d2e5a29fc4ff"
      }
     },
     "metadata": {},
     "output_type": "display_data"
    }
   ],
   "source": [
    "stats = []\n",
    "obs, info = envs.reset()\n",
    "for i in tqdm(range(1005)):\n",
    "    # obs_agent = torch.tensor(obs, dtype=torch.float32).to(device)\n",
    "    obs_agent = (torch.tensor(obs, dtype=torch.float32).to(device) - obs_mean) / torch.sqrt(obs_var + 1e-8)\n",
    "    act, _, _, _, act_mean = agent.get_action_and_value(obs_agent)\n",
    "    act = act_mean.detach().cpu().numpy()\n",
    "    obs, rew, term, trunc, infos = envs.step(act)\n",
    "    if \"final_info\" in infos:\n",
    "        for info in infos[\"final_info\"]:\n",
    "            if info and \"episode\" in info:\n",
    "                stats.append((info[\"episode\"][\"r\"], info[\"episode\"][\"l\"]))"
   ],
   "metadata": {
    "collapsed": false,
    "ExecuteTime": {
     "end_time": "2024-03-25T16:16:24.357385Z",
     "start_time": "2024-03-25T16:16:16.751123Z"
    }
   },
   "id": "adc9345ac37b1b7d",
   "execution_count": 42
  },
  {
   "cell_type": "code",
   "outputs": [
    {
     "data": {
      "text/plain": "5397.595832824707"
     },
     "execution_count": 43,
     "metadata": {},
     "output_type": "execute_result"
    }
   ],
   "source": [
    "np.array(stats)[:, 0].mean()"
   ],
   "metadata": {
    "collapsed": false,
    "ExecuteTime": {
     "end_time": "2024-03-25T16:16:24.378282Z",
     "start_time": "2024-03-25T16:16:24.358794Z"
    }
   },
   "id": "b53cff1f7ce84aff",
   "execution_count": 43
  },
  {
   "cell_type": "code",
   "outputs": [],
   "source": [],
   "metadata": {
    "collapsed": false
   },
   "id": "e2527220c58c8715"
  },
  {
   "cell_type": "code",
   "outputs": [
    {
     "data": {
      "text/plain": "  0%|          | 0/50000 [00:00<?, ?it/s]",
      "application/vnd.jupyter.widget-view+json": {
       "version_major": 2,
       "version_minor": 0,
       "model_id": "f6c66d0e60f14b238c57d423f83ae4fe"
      }
     },
     "metadata": {},
     "output_type": "display_data"
    }
   ],
   "source": [
    "agent2 = Agent(envs, 0.).to(device)\n",
    "opt = torch.optim.Adam(agent2.parameters(), lr=3e-4)\n",
    "\n",
    "pbar = tqdm(range(50000))\n",
    "for i in pbar:\n",
    "    batch = sample_batch(dataset, 32)\n",
    "    x, y = torch.tensor(batch['obs'], dtype=torch.float32).to(device), torch.tensor(batch['act_mean'], dtype=torch.float32).to(device)\n",
    "    _, _, _, _, act_mean = agent2.get_action_and_value(x)\n",
    "    loss = ((act_mean - y) ** 2).mean()\n",
    "    opt.zero_grad()\n",
    "    loss.backward()\n",
    "    opt.step()\n",
    "    \n",
    "    pbar.set_postfix(loss=loss.item())\n",
    "    \n"
   ],
   "metadata": {
    "collapsed": false,
    "ExecuteTime": {
     "end_time": "2024-03-25T16:35:30.548334Z",
     "start_time": "2024-03-25T16:31:49.746423Z"
    }
   },
   "id": "2e3aadc3987c8dff",
   "execution_count": 59
  },
  {
   "cell_type": "code",
   "outputs": [
    {
     "data": {
      "text/plain": "  0%|          | 0/1005 [00:00<?, ?it/s]",
      "application/vnd.jupyter.widget-view+json": {
       "version_major": 2,
       "version_minor": 0,
       "model_id": "33111dc1e7b54b59bd2f31ef09dcdcd4"
      }
     },
     "metadata": {},
     "output_type": "display_data"
    }
   ],
   "source": [
    "stats = []\n",
    "obs, info = envs.reset()\n",
    "for i in tqdm(range(1005)):\n",
    "    obs_agent = torch.tensor(obs, dtype=torch.float32).to(device)\n",
    "    # obs_agent = (torch.tensor(obs, dtype=torch.float32).to(device) - obs_mean) / torch.sqrt(obs_var + 1e-8)\n",
    "    act, _, _, _, act_mean = agent2.get_action_and_value(obs_agent)\n",
    "    act = act_mean.detach().cpu().numpy()\n",
    "    obs, rew, term, trunc, infos = envs.step(act)\n",
    "    if \"final_info\" in infos:\n",
    "        for info in infos[\"final_info\"]:\n",
    "            if info and \"episode\" in info:\n",
    "                stats.append((info[\"episode\"][\"r\"], info[\"episode\"][\"l\"]))"
   ],
   "metadata": {
    "collapsed": false,
    "ExecuteTime": {
     "end_time": "2024-03-25T16:35:44.616233Z",
     "start_time": "2024-03-25T16:35:34.490262Z"
    }
   },
   "id": "227c432129662ab6",
   "execution_count": 60
  },
  {
   "cell_type": "code",
   "outputs": [
    {
     "data": {
      "text/plain": "5271.7492961883545"
     },
     "execution_count": 61,
     "metadata": {},
     "output_type": "execute_result"
    }
   ],
   "source": [
    "np.array(stats)[:, 0].mean()"
   ],
   "metadata": {
    "collapsed": false,
    "ExecuteTime": {
     "end_time": "2024-03-25T16:35:44.638213Z",
     "start_time": "2024-03-25T16:35:44.617963Z"
    }
   },
   "id": "fc9286ce68e86db2",
   "execution_count": 61
  },
  {
   "cell_type": "code",
   "outputs": [],
   "source": [],
   "metadata": {
    "collapsed": false
   },
   "id": "8ff3b20edc224c16"
  },
  {
   "cell_type": "code",
   "outputs": [],
   "source": [],
   "metadata": {
    "collapsed": false
   },
   "id": "fc7f522cce4b7c4d"
  },
  {
   "cell_type": "code",
   "outputs": [],
   "source": [],
   "metadata": {
    "collapsed": false
   },
   "id": "3fdd5f460960c067"
  },
  {
   "cell_type": "code",
   "outputs": [],
   "source": [],
   "metadata": {
    "collapsed": false
   },
   "id": "8865731345012714"
  },
  {
   "cell_type": "code",
   "outputs": [],
   "source": [],
   "metadata": {
    "collapsed": false
   },
   "id": "e5198ce60479b176"
  }
 ],
 "metadata": {
  "kernelspec": {
   "display_name": "Python 3",
   "language": "python",
   "name": "python3"
  },
  "language_info": {
   "codemirror_mode": {
    "name": "ipython",
    "version": 2
   },
   "file_extension": ".py",
   "mimetype": "text/x-python",
   "name": "python",
   "nbconvert_exporter": "python",
   "pygments_lexer": "ipython2",
   "version": "2.7.6"
  }
 },
 "nbformat": 4,
 "nbformat_minor": 5
}
