{
 "cells": [
  {
   "cell_type": "code",
   "execution_count": 1,
   "outputs": [],
   "source": [
    "import jax\n",
    "import jax.numpy as jnp\n",
    "from jax.random import split\n",
    "import flax\n",
    "import flax.linen as nn\n",
    "\n",
    "from einops import rearrange\n",
    "\n",
    "import matplotlib.pyplot as plt"
   ],
   "metadata": {
    "collapsed": false,
    "ExecuteTime": {
     "end_time": "2023-10-28T19:49:10.520633Z",
     "start_time": "2023-10-28T19:49:09.187829Z"
    }
   },
   "id": "7cb43ba88259f310"
  },
  {
   "cell_type": "code",
   "execution_count": 184,
   "outputs": [],
   "source": [
    "class Net(nn.Module):\n",
    "    act = nn.relu\n",
    "\n",
    "    @nn.compact\n",
    "    def __call__(self, x):\n",
    "        # print(x.shape)\n",
    "        x = nn.Conv(32, (3, 3))(x)\n",
    "        # print(x.shape)\n",
    "        x = nn.avg_pool(x, (2, 2), strides=(2, 2))\n",
    "        # print(x.shape)\n",
    "        x = nn.relu(x)\n",
    "        \n",
    "        x = nn.Conv(32, (3, 3))(x)\n",
    "        x = nn.avg_pool(x, (2, 2), strides=(2, 2))\n",
    "        x = nn.relu(x)\n",
    "        \n",
    "        x = nn.Conv(32, (3, 3))(x)\n",
    "        x = nn.avg_pool(x, (2, 2), strides=(2, 2))\n",
    "        x = nn.relu(x)\n",
    "        \n",
    "        x = nn.Conv(32, (3, 3))(x)\n",
    "        x = nn.avg_pool(x, (2, 2), strides=(2, 2))\n",
    "        x = nn.relu(x)\n",
    "        \n",
    "        x = rearrange(x, '... h w c -> ... (h w c)')\n",
    "        \n",
    "        x = nn.Dense(10)(x)\n",
    "        x = nn.relu(x)\n",
    "        x = nn.Dense(1, kernel_init=jax.nn.initializers.ones, bias_init=jax.nn.initializers.zeros)(x)\n",
    "        x = x[..., 0]\n",
    "        return x\n",
    "    \n",
    "net = Net()"
   ],
   "metadata": {
    "collapsed": false,
    "ExecuteTime": {
     "end_time": "2023-10-28T20:13:30.340704Z",
     "start_time": "2023-10-28T20:13:30.336906Z"
    }
   },
   "id": "8ff059b6d5c092da"
  },
  {
   "cell_type": "code",
   "execution_count": 196,
   "outputs": [],
   "source": [
    "rng = jax.random.PRNGKey(0)\n",
    "gridlen = 32"
   ],
   "metadata": {
    "collapsed": false,
    "ExecuteTime": {
     "end_time": "2023-10-28T20:14:51.237238Z",
     "start_time": "2023-10-28T20:14:51.190429Z"
    }
   },
   "id": "91ac0fee14fcbc96"
  },
  {
   "cell_type": "code",
   "execution_count": 197,
   "outputs": [],
   "source": [
    "init_x = jnp.ones((gridlen, gridlen, 1))\n",
    "rng, _rng = split(rng)\n",
    "params = net.init(rng, init_x)"
   ],
   "metadata": {
    "collapsed": false,
    "ExecuteTime": {
     "end_time": "2023-10-28T20:14:51.687378Z",
     "start_time": "2023-10-28T20:14:51.650108Z"
    }
   },
   "id": "adb6f1c79a02abdb"
  },
  {
   "cell_type": "code",
   "execution_count": 198,
   "outputs": [
    {
     "name": "stdout",
     "output_type": "stream",
     "text": [
      "{'params': {'Conv_0': {'bias': (32,), 'kernel': (3, 3, 1, 32)}, 'Conv_1': {'bias': (32,), 'kernel': (3, 3, 32, 32)}, 'Conv_2': {'bias': (32,), 'kernel': (3, 3, 32, 32)}, 'Conv_3': {'bias': (32,), 'kernel': (3, 3, 32, 32)}, 'Dense_0': {'bias': (10,), 'kernel': (128, 10)}, 'Dense_1': {'bias': (1,), 'kernel': (10, 1)}}}\n"
     ]
    }
   ],
   "source": [
    "print(jax.tree_map(lambda x: x.shape, params))"
   ],
   "metadata": {
    "collapsed": false,
    "ExecuteTime": {
     "end_time": "2023-10-28T20:14:52.128691Z",
     "start_time": "2023-10-28T20:14:52.124123Z"
    }
   },
   "id": "54d99cba1558dcc4"
  },
  {
   "cell_type": "code",
   "execution_count": 199,
   "outputs": [],
   "source": [
    "def get_obs(y, x):\n",
    "    obs = jnp.zeros((gridlen, gridlen, 1), dtype=jnp.float32)\n",
    "    obs = obs.at[y, x].set(1.)\n",
    "    return obs"
   ],
   "metadata": {
    "collapsed": false,
    "ExecuteTime": {
     "end_time": "2023-10-28T20:14:52.596930Z",
     "start_time": "2023-10-28T20:14:52.594157Z"
    }
   },
   "id": "f3296b75f700c7f0"
  },
  {
   "cell_type": "code",
   "execution_count": 200,
   "outputs": [],
   "source": [
    "y, x = jnp.arange(gridlen), jnp.arange(gridlen)\n",
    "y, x = jnp.meshgrid(y, x, indexing='ij')\n",
    "\n",
    "obs = jax.vmap(jax.vmap(get_obs))(y, x)\n",
    "rew_map = jax.vmap(jax.vmap(net.apply, in_axes=(None, 0)), in_axes=(None, 0))(params, obs)"
   ],
   "metadata": {
    "collapsed": false,
    "ExecuteTime": {
     "end_time": "2023-10-28T20:14:53.119296Z",
     "start_time": "2023-10-28T20:14:53.018139Z"
    }
   },
   "id": "cff644181a1e274d"
  },
  {
   "cell_type": "code",
   "execution_count": 201,
   "outputs": [
    {
     "data": {
      "text/plain": "<matplotlib.colorbar.Colorbar at 0x7effc9ef9840>"
     },
     "execution_count": 201,
     "metadata": {},
     "output_type": "execute_result"
    },
    {
     "data": {
      "text/plain": "<Figure size 640x480 with 2 Axes>",
      "image/png": "[encoded data removed]"
     },
     "metadata": {},
     "output_type": "display_data"
    }
   ],
   "source": [
    "plt.imshow(rew_map)\n",
    "plt.colorbar()"
   ],
   "metadata": {
    "collapsed": false,
    "ExecuteTime": {
     "end_time": "2023-10-28T20:14:53.850670Z",
     "start_time": "2023-10-28T20:14:53.578611Z"
    }
   },
   "id": "61dbf8b7c2113857"
  },
  {
   "cell_type": "code",
   "execution_count": 202,
   "outputs": [
    {
     "data": {
      "text/plain": "(Array(0.00308404, dtype=float32), Array(0.00149857, dtype=float32))"
     },
     "execution_count": 202,
     "metadata": {},
     "output_type": "execute_result"
    }
   ],
   "source": [
    "rew_map.mean(), rew_map.std()"
   ],
   "metadata": {
    "collapsed": false,
    "ExecuteTime": {
     "end_time": "2023-10-28T20:14:54.416274Z",
     "start_time": "2023-10-28T20:14:54.401382Z"
    }
   },
   "id": "a329469fcfa198c6"
  },
  {
   "cell_type": "code",
   "execution_count": 203,
   "outputs": [],
   "source": [
    "params['params']['Dense_1']['kernel'] /= rew_map.std()\n",
    "rew_map = jax.vmap(jax.vmap(net.apply, in_axes=(None, 0)), in_axes=(None, 0))(params, obs)\n",
    "params['params']['Dense_1']['bias'] -= rew_map.mean()"
   ],
   "metadata": {
    "collapsed": false,
    "ExecuteTime": {
     "end_time": "2023-10-28T20:14:54.935316Z",
     "start_time": "2023-10-28T20:14:54.846403Z"
    }
   },
   "id": "15c3755454073028"
  },
  {
   "cell_type": "code",
   "execution_count": 204,
   "outputs": [],
   "source": [
    "y, x = jnp.arange(gridlen), jnp.arange(gridlen)\n",
    "y, x = jnp.meshgrid(y, x, indexing='ij')\n",
    "\n",
    "obs = jax.vmap(jax.vmap(get_obs))(y, x)\n",
    "rew_map = jax.vmap(jax.vmap(net.apply, in_axes=(None, 0)), in_axes=(None, 0))(params, obs)"
   ],
   "metadata": {
    "collapsed": false,
    "ExecuteTime": {
     "end_time": "2023-10-28T20:14:55.495825Z",
     "start_time": "2023-10-28T20:14:55.382330Z"
    }
   },
   "id": "53ca87bd4df61d0"
  },
  {
   "cell_type": "code",
   "execution_count": 205,
   "outputs": [
    {
     "data": {
      "text/plain": "<matplotlib.colorbar.Colorbar at 0x7effc9e2f7f0>"
     },
     "execution_count": 205,
     "metadata": {},
     "output_type": "execute_result"
    },
    {
     "data": {
      "text/plain": "<Figure size 640x480 with 2 Axes>",
      "image/png": "[encoded data removed]"
     },
     "metadata": {},
     "output_type": "display_data"
    }
   ],
   "source": [
    "plt.imshow(rew_map)\n",
    "plt.colorbar()"
   ],
   "metadata": {
    "collapsed": false,
    "ExecuteTime": {
     "end_time": "2023-10-28T20:14:56.119347Z",
     "start_time": "2023-10-28T20:14:55.838083Z"
    }
   },
   "id": "72d49fbfe279c3c8"
  },
  {
   "cell_type": "code",
   "execution_count": 206,
   "outputs": [
    {
     "data": {
      "text/plain": "(Array(2.225861e-07, dtype=float32), Array(1., dtype=float32))"
     },
     "execution_count": 206,
     "metadata": {},
     "output_type": "execute_result"
    }
   ],
   "source": [
    "rew_map.mean(), rew_map.std()"
   ],
   "metadata": {
    "collapsed": false,
    "ExecuteTime": {
     "end_time": "2023-10-28T20:14:56.653706Z",
     "start_time": "2023-10-28T20:14:56.645961Z"
    }
   },
   "id": "cf0e926b52ed11a5"
  },
  {
   "cell_type": "code",
   "execution_count": null,
   "outputs": [],
   "source": [],
   "metadata": {
    "collapsed": false
   },
   "id": "b235d564186a9c3b"
  },
  {
   "cell_type": "code",
   "execution_count": 207,
   "outputs": [
    {
     "data": {
      "text/plain": "(32, 32)"
     },
     "execution_count": 207,
     "metadata": {},
     "output_type": "execute_result"
    }
   ],
   "source": [
    "rew_map.shape"
   ],
   "metadata": {
    "collapsed": false,
    "ExecuteTime": {
     "end_time": "2023-10-28T20:15:19.557543Z",
     "start_time": "2023-10-28T20:15:19.517118Z"
    }
   },
   "id": "3337c0609222a5e"
  },
  {
   "cell_type": "code",
   "execution_count": 214,
   "outputs": [
    {
     "data": {
      "text/plain": "<Figure size 640x480 with 9 Axes>",
      "image/png": "[encoded data removed]"
     },
     "metadata": {},
     "output_type": "display_data"
    }
   ],
   "source": [
    "for i, thresh in enumerate(jnp.linspace(-2, 2, 9)):\n",
    "    plt.subplot(3, 3, i+1)\n",
    "    plt.imshow(rew_map>thresh, vmin=0, vmax=1)\n",
    "    "
   ],
   "metadata": {
    "collapsed": false,
    "ExecuteTime": {
     "end_time": "2023-10-28T20:17:44.155723Z",
     "start_time": "2023-10-28T20:17:43.289136Z"
    }
   },
   "id": "17812f66e743f71a"
  },
  {
   "cell_type": "code",
   "execution_count": null,
   "outputs": [],
   "source": [],
   "metadata": {
    "collapsed": false
   },
   "id": "1240cb4290524f23"
  },
  {
   "cell_type": "code",
   "execution_count": 222,
   "outputs": [],
   "source": [
    "rew_map = jax.random.uniform(rng, (16, 16))"
   ],
   "metadata": {
    "collapsed": false,
    "ExecuteTime": {
     "end_time": "2023-10-28T20:26:08.946192Z",
     "start_time": "2023-10-28T20:26:08.857589Z"
    }
   },
   "id": "58f1ed8ba0cdcb95"
  },
  {
   "cell_type": "code",
   "execution_count": 226,
   "outputs": [
    {
     "data": {
      "text/plain": "<matplotlib.image.AxesImage at 0x7effc9885120>"
     },
     "execution_count": 226,
     "metadata": {},
     "output_type": "execute_result"
    },
    {
     "data": {
      "text/plain": "<Figure size 640x480 with 1 Axes>",
      "image/png": "[encoded data removed]"
     },
     "metadata": {},
     "output_type": "display_data"
    }
   ],
   "source": [
    "plt.imshow(rew_map>0.5, vmin=0, vmax=1)"
   ],
   "metadata": {
    "collapsed": false,
    "ExecuteTime": {
     "end_time": "2023-10-28T20:26:20.301918Z",
     "start_time": "2023-10-28T20:26:20.064061Z"
    }
   },
   "id": "41f6e77f339e30b3"
  },
  {
   "cell_type": "code",
   "execution_count": null,
   "outputs": [],
   "source": [],
   "metadata": {
    "collapsed": false
   },
   "id": "30eb50d41fc5ec35"
  },
  {
   "cell_type": "code",
   "execution_count": null,
   "outputs": [],
   "source": [],
   "metadata": {
    "collapsed": false
   },
   "id": "c6ed138bb4103aeb"
  }
 ],
 "metadata": {
  "kernelspec": {
   "display_name": "Python 3",
   "language": "python",
   "name": "python3"
  },
  "language_info": {
   "codemirror_mode": {
    "name": "ipython",
    "version": 2
   },
   "file_extension": ".py",
   "mimetype": "text/x-python",
   "name": "python",
   "nbconvert_exporter": "python",
   "pygments_lexer": "ipython2",
   "version": "2.7.6"
  }
 },
 "nbformat": 4,
 "nbformat_minor": 5
}
