{
 "cells": [
  {
   "cell_type": "code",
   "execution_count": 2,
   "id": "initial_id",
   "metadata": {
    "collapsed": true,
    "ExecuteTime": {
     "end_time": "2024-03-26T18:48:58.511338Z",
     "start_time": "2024-03-26T18:48:57.753927Z"
    }
   },
   "outputs": [
    {
     "name": "stdout",
     "output_type": "stream",
     "text": [
      "The autoreload extension is already loaded. To reload it, use:\n",
      "  %reload_ext autoreload\n",
      "oliva-titanrtx-1.csail.mit.edu\r\n",
      "/data/vision/phillipi/akumar01/synthetic-mdps/src\r\n",
      "/data/vision/phillipi/akumar01/.virtualenvs/synthetic-mdps/bin/python\n"
     ]
    }
   ],
   "source": [
    "import util\n",
    "%load_ext autoreload  \n",
    "%autoreload 2  \n",
    "!hostname  \n",
    "!pwd  \n",
    "import os\n",
    "import sys\n",
    "\n",
    "print(sys.executable)\n",
    "os.environ['CUDA_VISIBLE_DEVICES'] = \"7\""
   ]
  },
  {
   "cell_type": "code",
   "outputs": [],
   "source": [
    "import os, sys, glob, pickle\n",
    "from functools import partial  \n",
    "\n",
    "from tqdm.auto import tqdm\n",
    "import matplotlib.pyplot as plt\n",
    "import numpy as np\n",
    "\n",
    "from einops import rearrange, reduce, repeat"
   ],
   "metadata": {
    "collapsed": false,
    "ExecuteTime": {
     "end_time": "2024-03-26T18:50:03.599321Z",
     "start_time": "2024-03-26T18:49:57.113470Z"
    }
   },
   "id": "3f602fd18d79e292",
   "execution_count": 3
  },
  {
   "cell_type": "code",
   "outputs": [],
   "source": [
    "import jax\n",
    "import jax.numpy as jnp\n",
    "from jax.random import split\n",
    "\n",
    "import flax\n",
    "import flax.linen as nn\n",
    "from flax.training.train_state import TrainState\n",
    "\n",
    "\n",
    "import optax"
   ],
   "metadata": {
    "collapsed": false,
    "is_executing": true,
    "ExecuteTime": {
     "start_time": "2024-03-26T18:50:03.602064Z"
    }
   },
   "id": "7e0126fdc65609ae",
   "execution_count": null
  },
  {
   "cell_type": "code",
   "outputs": [],
   "source": [
    "def smooth_curve(x, window, kernel='uniform'):\n",
    "    assert len(x) > window and window % 2 == 1\n",
    "    before, after = x[:window//2].mean(), x[-window//2:].mean()\n",
    "    x = np.pad(x, (window//2, window//2), mode='constant', constant_values=(before, after))\n",
    "    if kernel == 'uniform':\n",
    "        kernel = np.ones(window)/window\n",
    "    else:\n",
    "        raise NotImplementedError\n",
    "    return np.convolve(x, kernel, mode='valid')"
   ],
   "metadata": {
    "collapsed": false,
    "is_executing": true
   },
   "id": "bc2260583e75a8c8",
   "execution_count": null
  },
  {
   "cell_type": "code",
   "outputs": [],
   "source": [],
   "metadata": {
    "collapsed": false,
    "ExecuteTime": {
     "end_time": "2024-03-26T16:17:41.906928Z",
     "start_time": "2024-03-26T16:17:41.903905Z"
    }
   },
   "id": "a1f98a94ba1b763f",
   "execution_count": 4
  },
  {
   "cell_type": "code",
   "outputs": [],
   "source": [
    "class Agent(nn.Module):\n",
    "    d_obs: int\n",
    "    d_act: int\n",
    "\n",
    "    @nn.compact\n",
    "    def __call__(self, x):\n",
    "        act = nn.Sequential([\n",
    "            nn.Dense(64),\n",
    "            nn.tanh,\n",
    "            nn.Dense(64),\n",
    "            nn.tanh,\n",
    "            nn.Dense(self.d_act, kernel_init=nn.initializers.normal(stddev=0.01)),\n",
    "        ])(x)\n",
    "        return act\n"
   ],
   "metadata": {
    "collapsed": false,
    "is_executing": true
   },
   "id": "475f589695ba52a2",
   "execution_count": null
  },
  {
   "cell_type": "code",
   "outputs": [],
   "source": [
    "with open(\"/data/vision/phillipi/akumar01/synthetic-mdps-data/datasets/mujoco/InvertedPendulum/dataset.pkl\", \"rb\") as f:\n",
    "    dataset = pickle.load(f)\n",
    "d_obs, d_act = dataset['obs'].shape[-1], dataset['act_mean'].shape[-1]"
   ],
   "metadata": {
    "collapsed": false,
    "ExecuteTime": {
     "end_time": "2024-03-26T18:11:11.906753Z",
     "start_time": "2024-03-26T18:11:11.633025Z"
    }
   },
   "id": "9088abb459404592",
   "execution_count": 149
  },
  {
   "cell_type": "code",
   "outputs": [],
   "source": [],
   "metadata": {
    "collapsed": false,
    "ExecuteTime": {
     "end_time": "2024-03-26T18:11:11.911696Z",
     "start_time": "2024-03-26T18:11:11.908949Z"
    }
   },
   "id": "7080f01fdca822b8",
   "execution_count": 149
  },
  {
   "cell_type": "code",
   "outputs": [],
   "source": [
    "def sample_batch(rng, dataset, batch_size):\n",
    "    rng, _rng1, _rng2 = split(rng, 3)\n",
    "    i_b = jax.random.randint(_rng1, (batch_size,), 0, dataset['obs'].shape[0])\n",
    "    i_t = jax.random.randint(_rng2, (batch_size,), 0, dataset['obs'].shape[1])\n",
    "    return jax.tree_map(lambda x: x[i_b, i_t], dataset)"
   ],
   "metadata": {
    "collapsed": false,
    "ExecuteTime": {
     "end_time": "2024-03-26T18:11:12.157607Z",
     "start_time": "2024-03-26T18:11:12.103144Z"
    }
   },
   "id": "cd6af0a1b83e37d1",
   "execution_count": 150
  },
  {
   "cell_type": "code",
   "outputs": [],
   "source": [
    "import gymnasium as gym\n",
    "\n",
    "def make_env(env_id, idx, capture_video, vid_name, gamma=0.99):\n",
    "    def thunk():\n",
    "        if capture_video and idx == 0:\n",
    "            env = gym.make(env_id, render_mode=\"rgb_array\")\n",
    "            env = gym.wrappers.RecordVideo(env, f\"/data/vision/phillipi/akumar01/synthetic-mdps-data/videos/{vid_name}\")\n",
    "        else:\n",
    "            env = gym.make(env_id)\n",
    "        env = gym.wrappers.FlattenObservation(env)  # deal with dm_control's Dict observation space\n",
    "        env = gym.wrappers.RecordEpisodeStatistics(env)\n",
    "        env = gym.wrappers.ClipAction(env)\n",
    "        return env\n",
    "    return thunk\n"
   ],
   "metadata": {
    "collapsed": false,
    "ExecuteTime": {
     "end_time": "2024-03-26T18:11:12.488872Z",
     "start_time": "2024-03-26T18:11:12.442522Z"
    }
   },
   "id": "933fd1ff07acb5f3",
   "execution_count": 151
  },
  {
   "cell_type": "code",
   "outputs": [],
   "source": [],
   "metadata": {
    "collapsed": false
   },
   "id": "986c6a83a9052985"
  },
  {
   "cell_type": "code",
   "outputs": [
    {
     "data": {
      "text/plain": "  0%|          | 0/15000 [00:00<?, ?it/s]",
      "application/vnd.jupyter.widget-view+json": {
       "version_major": 2,
       "version_minor": 0,
       "model_id": "bf1199d7e1e74134821e7fc9a3481417"
      }
     },
     "metadata": {},
     "output_type": "display_data"
    }
   ],
   "source": [
    "rng = jax.random.PRNGKey(0)\n",
    "agent = Agent(d_obs, d_act)\n",
    "batch = sample_batch(rng, dataset, 1)\n",
    "\n",
    "rng, _rng = split(rng)\n",
    "agent_params = agent.init(_rng, jax.tree_map(lambda x: x[0], batch['obs']))\n",
    "\n",
    "agent_forward = jax.jit(jax.vmap(agent.apply, in_axes=(None, 0)))\n",
    "\n",
    "def iter_step(state, batch):\n",
    "    def loss_fn(params):\n",
    "        act_pred = agent_forward(params, batch['obs'])\n",
    "        return jnp.mean(jnp.square(act_pred - batch['act_mean']))\n",
    "    \n",
    "    grad_fn = jax.value_and_grad(loss_fn)\n",
    "    loss, grad = grad_fn(state.params)\n",
    "    return state.apply_gradients(grads=grad), loss\n",
    "iter_step = jax.jit(iter_step)\n",
    "\n",
    "tx = optax.chain(#optax.clip_by_global_norm(1.),\n",
    "                 optax.adamw(3e-4, weight_decay=0., eps=1e-8))\n",
    "train_state = TrainState.create(apply_fn=agent.apply, params=agent_params, tx=tx)\n",
    "\n",
    "pbar = tqdm(range(15000))\n",
    "for i in pbar:\n",
    "    rng, _rng = split(rng)\n",
    "    batch = sample_batch(_rng, dataset, 32)\n",
    "    train_state, loss = iter_step(train_state, batch)\n",
    "    pbar.set_postfix({'loss': loss})"
   ],
   "metadata": {
    "collapsed": false,
    "ExecuteTime": {
     "end_time": "2024-03-25T16:53:44.953081Z",
     "start_time": "2024-03-25T16:53:16.133159Z"
    }
   },
   "id": "9f77e08f2deeac41",
   "execution_count": 47
  },
  {
   "cell_type": "code",
   "outputs": [],
   "source": [],
   "metadata": {
    "collapsed": false,
    "ExecuteTime": {
     "end_time": "2024-03-26T16:16:43.259365Z",
     "start_time": "2024-03-26T16:16:43.213370Z"
    }
   },
   "id": "afc3fd5011823dc8",
   "execution_count": 16
  },
  {
   "cell_type": "code",
   "outputs": [],
   "source": [
    "envs = gym.vector.SyncVectorEnv( [make_env(\"InvertedPendulum-v4\") for i in range(64)] )"
   ],
   "metadata": {
    "collapsed": false,
    "ExecuteTime": {
     "end_time": "2024-03-26T02:44:36.253096Z",
     "start_time": "2024-03-26T02:44:35.671283Z"
    }
   },
   "id": "de72c2dca14276fd",
   "execution_count": 33
  },
  {
   "cell_type": "code",
   "outputs": [
    {
     "data": {
      "text/plain": "  0%|          | 0/1005 [00:00<?, ?it/s]",
      "application/vnd.jupyter.widget-view+json": {
       "version_major": 2,
       "version_minor": 0,
       "model_id": "461c3fab81124fc984adff5e10e3389f"
      }
     },
     "metadata": {},
     "output_type": "display_data"
    }
   ],
   "source": [
    "stats = []\n",
    "obs, info = envs.reset()\n",
    "for i in tqdm(range(1005)):\n",
    "    act = agent_forward(train_state.params, obs)\n",
    "    obs, rew, term, trunc, infos = envs.step(act)\n",
    "    if \"final_info\" in infos:\n",
    "        for info in infos[\"final_info\"]:\n",
    "            if info and \"episode\" in info:\n",
    "                stats.append((info[\"episode\"][\"r\"], info[\"episode\"][\"l\"]))"
   ],
   "metadata": {
    "collapsed": false,
    "ExecuteTime": {
     "end_time": "2024-03-25T16:54:12.949042Z",
     "start_time": "2024-03-25T16:53:45.279467Z"
    }
   },
   "id": "adc9345ac37b1b7d",
   "execution_count": 50
  },
  {
   "cell_type": "code",
   "outputs": [
    {
     "data": {
      "text/plain": "4542.3582191467285"
     },
     "execution_count": 51,
     "metadata": {},
     "output_type": "execute_result"
    }
   ],
   "source": [
    "np.array(stats)[:, 0].mean()"
   ],
   "metadata": {
    "collapsed": false,
    "ExecuteTime": {
     "end_time": "2024-03-25T16:54:12.977438Z",
     "start_time": "2024-03-25T16:54:12.950936Z"
    }
   },
   "id": "b53cff1f7ce84aff",
   "execution_count": 51
  },
  {
   "cell_type": "code",
   "outputs": [],
   "source": [],
   "metadata": {
    "collapsed": false
   },
   "id": "f09c4d4b09ddc73e"
  },
  {
   "cell_type": "code",
   "outputs": [],
   "source": [],
   "metadata": {
    "collapsed": false
   },
   "id": "1d6268825bb075d1"
  },
  {
   "cell_type": "code",
   "outputs": [],
   "source": [
    "def rollout_fn(train_state, vid_name):\n",
    "    capture_video = vid_name is not None\n",
    "    envs = gym.vector.SyncVectorEnv( [make_env(\"InvertedPendulum-v4\", i, capture_video=capture_video, vid_name=vid_name) for i in range(64)] )\n",
    "    stats = []\n",
    "    obs, info = envs.reset()\n",
    "    for i in tqdm(range(1005)):\n",
    "        act = agent_forward(train_state.params, obs)\n",
    "        obs, rew, term, trunc, infos = envs.step(act)\n",
    "        if \"final_info\" in infos:\n",
    "            for info in infos[\"final_info\"]:\n",
    "                if info and \"episode\" in info:\n",
    "                    stats.append((info[\"episode\"][\"r\"], info[\"episode\"][\"l\"]))\n",
    "    return np.array(stats)[:, 0].mean()\n"
   ],
   "metadata": {
    "collapsed": false,
    "ExecuteTime": {
     "end_time": "2024-03-26T18:11:14.913361Z",
     "start_time": "2024-03-26T18:11:14.830370Z"
    }
   },
   "id": "437b1f53b612a012",
   "execution_count": 152
  },
  {
   "cell_type": "code",
   "outputs": [
    {
     "data": {
      "text/plain": "  0%|          | 0/10001 [00:00<?, ?it/s]",
      "application/vnd.jupyter.widget-view+json": {
       "version_major": 2,
       "version_minor": 0,
       "model_id": "b3e830ba921f43488add21b33b2b88a2"
      }
     },
     "metadata": {},
     "output_type": "display_data"
    },
    {
     "data": {
      "text/plain": "  0%|          | 0/1005 [00:00<?, ?it/s]",
      "application/vnd.jupyter.widget-view+json": {
       "version_major": 2,
       "version_minor": 0,
       "model_id": "e2c9e991cab94f2eb7bb1fd5b3c5bbee"
      }
     },
     "metadata": {},
     "output_type": "display_data"
    },
    {
     "data": {
      "text/plain": "  0%|          | 0/1005 [00:00<?, ?it/s]",
      "application/vnd.jupyter.widget-view+json": {
       "version_major": 2,
       "version_minor": 0,
       "model_id": "fd9d790ffe224edbaef39173fcc12160"
      }
     },
     "metadata": {},
     "output_type": "display_data"
    },
    {
     "data": {
      "text/plain": "  0%|          | 0/1005 [00:00<?, ?it/s]",
      "application/vnd.jupyter.widget-view+json": {
       "version_major": 2,
       "version_minor": 0,
       "model_id": "12ad98211cd248c9971f60d052749e85"
      }
     },
     "metadata": {},
     "output_type": "display_data"
    },
    {
     "data": {
      "text/plain": "  0%|          | 0/1005 [00:00<?, ?it/s]",
      "application/vnd.jupyter.widget-view+json": {
       "version_major": 2,
       "version_minor": 0,
       "model_id": "9c2e049d46a04bc0a70cf34fdefa7aaf"
      }
     },
     "metadata": {},
     "output_type": "display_data"
    },
    {
     "data": {
      "text/plain": "  0%|          | 0/1005 [00:00<?, ?it/s]",
      "application/vnd.jupyter.widget-view+json": {
       "version_major": 2,
       "version_minor": 0,
       "model_id": "0fef80844efe480ea875f741afd3efef"
      }
     },
     "metadata": {},
     "output_type": "display_data"
    },
    {
     "data": {
      "text/plain": "  0%|          | 0/1005 [00:00<?, ?it/s]",
      "application/vnd.jupyter.widget-view+json": {
       "version_major": 2,
       "version_minor": 0,
       "model_id": "acfbc0529a3f4a309d4c255ff91e699a"
      }
     },
     "metadata": {},
     "output_type": "display_data"
    },
    {
     "data": {
      "text/plain": "  0%|          | 0/1005 [00:00<?, ?it/s]",
      "application/vnd.jupyter.widget-view+json": {
       "version_major": 2,
       "version_minor": 0,
       "model_id": "d6bb98d222f94b1bb9ba82f9e40487f1"
      }
     },
     "metadata": {},
     "output_type": "display_data"
    },
    {
     "data": {
      "text/plain": "  0%|          | 0/1005 [00:00<?, ?it/s]",
      "application/vnd.jupyter.widget-view+json": {
       "version_major": 2,
       "version_minor": 0,
       "model_id": "044f390a2ff841e489420877874511cc"
      }
     },
     "metadata": {},
     "output_type": "display_data"
    },
    {
     "data": {
      "text/plain": "  0%|          | 0/1005 [00:00<?, ?it/s]",
      "application/vnd.jupyter.widget-view+json": {
       "version_major": 2,
       "version_minor": 0,
       "model_id": "dd1e3254438441a2a47dbfcee0d1ed5a"
      }
     },
     "metadata": {},
     "output_type": "display_data"
    },
    {
     "data": {
      "text/plain": "  0%|          | 0/1005 [00:00<?, ?it/s]",
      "application/vnd.jupyter.widget-view+json": {
       "version_major": 2,
       "version_minor": 0,
       "model_id": "c4ade40f478e4a62812fb140062da39e"
      }
     },
     "metadata": {},
     "output_type": "display_data"
    },
    {
     "data": {
      "text/plain": "  0%|          | 0/1005 [00:00<?, ?it/s]",
      "application/vnd.jupyter.widget-view+json": {
       "version_major": 2,
       "version_minor": 0,
       "model_id": "095ecb06eade42df8fccec0c62cd5361"
      }
     },
     "metadata": {},
     "output_type": "display_data"
    }
   ],
   "source": [
    "rng = jax.random.PRNGKey(0)\n",
    "agent = Agent(d_obs, d_act)\n",
    "batch = sample_batch(rng, dataset, 1)\n",
    "\n",
    "rng, _rng = split(rng)\n",
    "agent_params = agent.init(_rng, jax.tree_map(lambda x: x[0], batch['obs']))\n",
    "\n",
    "agent_forward = jax.jit(jax.vmap(agent.apply, in_axes=(None, 0)))\n",
    "\n",
    "def iter_step(state, batch):\n",
    "    def loss_fn(params):\n",
    "        act_pred = agent_forward(params, batch['obs'])\n",
    "        return jnp.mean(jnp.square(act_pred - batch['act_mean']))\n",
    "    \n",
    "    grad_fn = jax.value_and_grad(loss_fn)\n",
    "    loss, grad = grad_fn(state.params)\n",
    "    return state.apply_gradients(grads=grad), loss\n",
    "iter_step = jax.jit(iter_step)\n",
    "\n",
    "tx = optax.chain(#optax.clip_by_global_norm(1.),\n",
    "                 optax.adamw(3e-4, weight_decay=0., eps=1e-8))\n",
    "train_state = TrainState.create(apply_fn=agent.apply, params=agent_params, tx=tx)\n",
    "\n",
    "pbar = tqdm(range(10000+1))\n",
    "losses, rets, iters = [], [], []\n",
    "for i in pbar:\n",
    "    if i%1000==0:\n",
    "        # ret = rollout_fn(train_state, vid_name=f\"halfcheetah_{i}\")\n",
    "        ret = rollout_fn(train_state, vid_name=None)\n",
    "        rets.append(ret)\n",
    "        iters.append(i)\n",
    "        \n",
    "    rng, _rng = split(rng)\n",
    "    batch = sample_batch(_rng, dataset, 32)\n",
    "    train_state, loss = iter_step(train_state, batch)\n",
    "    pbar.set_postfix({'loss': loss})\n",
    "    losses.append(loss)\n"
   ],
   "metadata": {
    "collapsed": false,
    "ExecuteTime": {
     "end_time": "2024-03-26T18:30:23.692733Z",
     "start_time": "2024-03-26T18:13:14.518918Z"
    }
   },
   "id": "fc7f522cce4b7c4d",
   "execution_count": 154
  },
  {
   "cell_type": "code",
   "outputs": [],
   "source": [
    "losses, rets, iters = np.array(losses), np.array(rets), np.array(iters)"
   ],
   "metadata": {
    "collapsed": false,
    "ExecuteTime": {
     "end_time": "2024-03-26T18:32:52.489925Z",
     "start_time": "2024-03-26T18:32:51.819666Z"
    }
   },
   "id": "8eea0316f344a506",
   "execution_count": 155
  },
  {
   "cell_type": "code",
   "outputs": [
    {
     "ename": "ValueError",
     "evalue": "x and y must have same first dimension, but have shapes (10,) and (11,)",
     "output_type": "error",
     "traceback": [
      "\u001B[0;31m---------------------------------------------------------------------------\u001B[0m",
      "\u001B[0;31mValueError\u001B[0m                                Traceback (most recent call last)",
      "Cell \u001B[0;32mIn[156], line 20\u001B[0m\n\u001B[1;32m     17\u001B[0m \u001B[38;5;66;03m# plt.xlim(0, 15000)\u001B[39;00m\n\u001B[1;32m     19\u001B[0m plt\u001B[38;5;241m.\u001B[39msubplot(\u001B[38;5;241m1\u001B[39m, \u001B[38;5;241m2\u001B[39m, \u001B[38;5;241m2\u001B[39m)\n\u001B[0;32m---> 20\u001B[0m \u001B[43mplt\u001B[49m\u001B[38;5;241;43m.\u001B[39;49m\u001B[43mplot\u001B[49m\u001B[43m(\u001B[49m\u001B[43mlosses\u001B[49m\u001B[43m[\u001B[49m\u001B[43m:\u001B[49m\u001B[38;5;241;43m-\u001B[39;49m\u001B[38;5;241;43m1\u001B[39;49m\u001B[43m]\u001B[49m\u001B[38;5;241;43m.\u001B[39;49m\u001B[43mreshape\u001B[49m\u001B[43m(\u001B[49m\u001B[38;5;241;43m-\u001B[39;49m\u001B[38;5;241;43m1\u001B[39;49m\u001B[43m,\u001B[49m\u001B[43m \u001B[49m\u001B[38;5;241;43m1000\u001B[39;49m\u001B[43m)\u001B[49m\u001B[38;5;241;43m.\u001B[39;49m\u001B[43mmean\u001B[49m\u001B[43m(\u001B[49m\u001B[43maxis\u001B[49m\u001B[38;5;241;43m=\u001B[39;49m\u001B[38;5;241;43m-\u001B[39;49m\u001B[38;5;241;43m1\u001B[39;49m\u001B[43m)\u001B[49m\u001B[43m,\u001B[49m\u001B[43m \u001B[49m\u001B[43mrets\u001B[49m\u001B[43m)\u001B[49m\n\u001B[1;32m     21\u001B[0m plt\u001B[38;5;241m.\u001B[39mscatter(losses[:\u001B[38;5;241m-\u001B[39m\u001B[38;5;241m1\u001B[39m]\u001B[38;5;241m.\u001B[39mreshape(\u001B[38;5;241m-\u001B[39m\u001B[38;5;241m1\u001B[39m, \u001B[38;5;241m1000\u001B[39m)\u001B[38;5;241m.\u001B[39mmean(axis\u001B[38;5;241m=\u001B[39m\u001B[38;5;241m-\u001B[39m\u001B[38;5;241m1\u001B[39m), rets)\n\u001B[1;32m     22\u001B[0m plt\u001B[38;5;241m.\u001B[39maxvline(\u001B[38;5;241m.2\u001B[39m)\n",
      "File \u001B[0;32m~/.virtualenvs/synthetic-mdps/lib/python3.10/site-packages/matplotlib/pyplot.py:3575\u001B[0m, in \u001B[0;36mplot\u001B[0;34m(scalex, scaley, data, *args, **kwargs)\u001B[0m\n\u001B[1;32m   3567\u001B[0m \u001B[38;5;129m@_copy_docstring_and_deprecators\u001B[39m(Axes\u001B[38;5;241m.\u001B[39mplot)\n\u001B[1;32m   3568\u001B[0m \u001B[38;5;28;01mdef\u001B[39;00m \u001B[38;5;21mplot\u001B[39m(\n\u001B[1;32m   3569\u001B[0m     \u001B[38;5;241m*\u001B[39margs: \u001B[38;5;28mfloat\u001B[39m \u001B[38;5;241m|\u001B[39m ArrayLike \u001B[38;5;241m|\u001B[39m \u001B[38;5;28mstr\u001B[39m,\n\u001B[0;32m   (...)\u001B[0m\n\u001B[1;32m   3573\u001B[0m     \u001B[38;5;241m*\u001B[39m\u001B[38;5;241m*\u001B[39mkwargs,\n\u001B[1;32m   3574\u001B[0m ) \u001B[38;5;241m-\u001B[39m\u001B[38;5;241m>\u001B[39m \u001B[38;5;28mlist\u001B[39m[Line2D]:\n\u001B[0;32m-> 3575\u001B[0m     \u001B[38;5;28;01mreturn\u001B[39;00m \u001B[43mgca\u001B[49m\u001B[43m(\u001B[49m\u001B[43m)\u001B[49m\u001B[38;5;241;43m.\u001B[39;49m\u001B[43mplot\u001B[49m\u001B[43m(\u001B[49m\n\u001B[1;32m   3576\u001B[0m \u001B[43m        \u001B[49m\u001B[38;5;241;43m*\u001B[39;49m\u001B[43margs\u001B[49m\u001B[43m,\u001B[49m\n\u001B[1;32m   3577\u001B[0m \u001B[43m        \u001B[49m\u001B[43mscalex\u001B[49m\u001B[38;5;241;43m=\u001B[39;49m\u001B[43mscalex\u001B[49m\u001B[43m,\u001B[49m\n\u001B[1;32m   3578\u001B[0m \u001B[43m        \u001B[49m\u001B[43mscaley\u001B[49m\u001B[38;5;241;43m=\u001B[39;49m\u001B[43mscaley\u001B[49m\u001B[43m,\u001B[49m\n\u001B[1;32m   3579\u001B[0m \u001B[43m        \u001B[49m\u001B[38;5;241;43m*\u001B[39;49m\u001B[38;5;241;43m*\u001B[39;49m\u001B[43m(\u001B[49m\u001B[43m{\u001B[49m\u001B[38;5;124;43m\"\u001B[39;49m\u001B[38;5;124;43mdata\u001B[39;49m\u001B[38;5;124;43m\"\u001B[39;49m\u001B[43m:\u001B[49m\u001B[43m \u001B[49m\u001B[43mdata\u001B[49m\u001B[43m}\u001B[49m\u001B[43m \u001B[49m\u001B[38;5;28;43;01mif\u001B[39;49;00m\u001B[43m \u001B[49m\u001B[43mdata\u001B[49m\u001B[43m \u001B[49m\u001B[38;5;129;43;01mis\u001B[39;49;00m\u001B[43m \u001B[49m\u001B[38;5;129;43;01mnot\u001B[39;49;00m\u001B[43m \u001B[49m\u001B[38;5;28;43;01mNone\u001B[39;49;00m\u001B[43m \u001B[49m\u001B[38;5;28;43;01melse\u001B[39;49;00m\u001B[43m \u001B[49m\u001B[43m{\u001B[49m\u001B[43m}\u001B[49m\u001B[43m)\u001B[49m\u001B[43m,\u001B[49m\n\u001B[1;32m   3580\u001B[0m \u001B[43m        \u001B[49m\u001B[38;5;241;43m*\u001B[39;49m\u001B[38;5;241;43m*\u001B[39;49m\u001B[43mkwargs\u001B[49m\u001B[43m,\u001B[49m\n\u001B[1;32m   3581\u001B[0m \u001B[43m    \u001B[49m\u001B[43m)\u001B[49m\n",
      "File \u001B[0;32m~/.virtualenvs/synthetic-mdps/lib/python3.10/site-packages/matplotlib/axes/_axes.py:1721\u001B[0m, in \u001B[0;36mAxes.plot\u001B[0;34m(self, scalex, scaley, data, *args, **kwargs)\u001B[0m\n\u001B[1;32m   1478\u001B[0m \u001B[38;5;250m\u001B[39m\u001B[38;5;124;03m\"\"\"\u001B[39;00m\n\u001B[1;32m   1479\u001B[0m \u001B[38;5;124;03mPlot y versus x as lines and/or markers.\u001B[39;00m\n\u001B[1;32m   1480\u001B[0m \n\u001B[0;32m   (...)\u001B[0m\n\u001B[1;32m   1718\u001B[0m \u001B[38;5;124;03m(``'green'``) or hex strings (``'#008000'``).\u001B[39;00m\n\u001B[1;32m   1719\u001B[0m \u001B[38;5;124;03m\"\"\"\u001B[39;00m\n\u001B[1;32m   1720\u001B[0m kwargs \u001B[38;5;241m=\u001B[39m cbook\u001B[38;5;241m.\u001B[39mnormalize_kwargs(kwargs, mlines\u001B[38;5;241m.\u001B[39mLine2D)\n\u001B[0;32m-> 1721\u001B[0m lines \u001B[38;5;241m=\u001B[39m [\u001B[38;5;241m*\u001B[39m\u001B[38;5;28mself\u001B[39m\u001B[38;5;241m.\u001B[39m_get_lines(\u001B[38;5;28mself\u001B[39m, \u001B[38;5;241m*\u001B[39margs, data\u001B[38;5;241m=\u001B[39mdata, \u001B[38;5;241m*\u001B[39m\u001B[38;5;241m*\u001B[39mkwargs)]\n\u001B[1;32m   1722\u001B[0m \u001B[38;5;28;01mfor\u001B[39;00m line \u001B[38;5;129;01min\u001B[39;00m lines:\n\u001B[1;32m   1723\u001B[0m     \u001B[38;5;28mself\u001B[39m\u001B[38;5;241m.\u001B[39madd_line(line)\n",
      "File \u001B[0;32m~/.virtualenvs/synthetic-mdps/lib/python3.10/site-packages/matplotlib/axes/_base.py:303\u001B[0m, in \u001B[0;36m_process_plot_var_args.__call__\u001B[0;34m(self, axes, data, *args, **kwargs)\u001B[0m\n\u001B[1;32m    301\u001B[0m     this \u001B[38;5;241m+\u001B[39m\u001B[38;5;241m=\u001B[39m args[\u001B[38;5;241m0\u001B[39m],\n\u001B[1;32m    302\u001B[0m     args \u001B[38;5;241m=\u001B[39m args[\u001B[38;5;241m1\u001B[39m:]\n\u001B[0;32m--> 303\u001B[0m \u001B[38;5;28;01myield from\u001B[39;00m \u001B[38;5;28;43mself\u001B[39;49m\u001B[38;5;241;43m.\u001B[39;49m\u001B[43m_plot_args\u001B[49m\u001B[43m(\u001B[49m\n\u001B[1;32m    304\u001B[0m \u001B[43m    \u001B[49m\u001B[43maxes\u001B[49m\u001B[43m,\u001B[49m\u001B[43m \u001B[49m\u001B[43mthis\u001B[49m\u001B[43m,\u001B[49m\u001B[43m \u001B[49m\u001B[43mkwargs\u001B[49m\u001B[43m,\u001B[49m\u001B[43m \u001B[49m\u001B[43mambiguous_fmt_datakey\u001B[49m\u001B[38;5;241;43m=\u001B[39;49m\u001B[43mambiguous_fmt_datakey\u001B[49m\u001B[43m)\u001B[49m\n",
      "File \u001B[0;32m~/.virtualenvs/synthetic-mdps/lib/python3.10/site-packages/matplotlib/axes/_base.py:499\u001B[0m, in \u001B[0;36m_process_plot_var_args._plot_args\u001B[0;34m(self, axes, tup, kwargs, return_kwargs, ambiguous_fmt_datakey)\u001B[0m\n\u001B[1;32m    496\u001B[0m     axes\u001B[38;5;241m.\u001B[39myaxis\u001B[38;5;241m.\u001B[39mupdate_units(y)\n\u001B[1;32m    498\u001B[0m \u001B[38;5;28;01mif\u001B[39;00m x\u001B[38;5;241m.\u001B[39mshape[\u001B[38;5;241m0\u001B[39m] \u001B[38;5;241m!=\u001B[39m y\u001B[38;5;241m.\u001B[39mshape[\u001B[38;5;241m0\u001B[39m]:\n\u001B[0;32m--> 499\u001B[0m     \u001B[38;5;28;01mraise\u001B[39;00m \u001B[38;5;167;01mValueError\u001B[39;00m(\u001B[38;5;124mf\u001B[39m\u001B[38;5;124m\"\u001B[39m\u001B[38;5;124mx and y must have same first dimension, but \u001B[39m\u001B[38;5;124m\"\u001B[39m\n\u001B[1;32m    500\u001B[0m                      \u001B[38;5;124mf\u001B[39m\u001B[38;5;124m\"\u001B[39m\u001B[38;5;124mhave shapes \u001B[39m\u001B[38;5;132;01m{\u001B[39;00mx\u001B[38;5;241m.\u001B[39mshape\u001B[38;5;132;01m}\u001B[39;00m\u001B[38;5;124m and \u001B[39m\u001B[38;5;132;01m{\u001B[39;00my\u001B[38;5;241m.\u001B[39mshape\u001B[38;5;132;01m}\u001B[39;00m\u001B[38;5;124m\"\u001B[39m)\n\u001B[1;32m    501\u001B[0m \u001B[38;5;28;01mif\u001B[39;00m x\u001B[38;5;241m.\u001B[39mndim \u001B[38;5;241m>\u001B[39m \u001B[38;5;241m2\u001B[39m \u001B[38;5;129;01mor\u001B[39;00m y\u001B[38;5;241m.\u001B[39mndim \u001B[38;5;241m>\u001B[39m \u001B[38;5;241m2\u001B[39m:\n\u001B[1;32m    502\u001B[0m     \u001B[38;5;28;01mraise\u001B[39;00m \u001B[38;5;167;01mValueError\u001B[39;00m(\u001B[38;5;124mf\u001B[39m\u001B[38;5;124m\"\u001B[39m\u001B[38;5;124mx and y can be no greater than 2D, but have \u001B[39m\u001B[38;5;124m\"\u001B[39m\n\u001B[1;32m    503\u001B[0m                      \u001B[38;5;124mf\u001B[39m\u001B[38;5;124m\"\u001B[39m\u001B[38;5;124mshapes \u001B[39m\u001B[38;5;132;01m{\u001B[39;00mx\u001B[38;5;241m.\u001B[39mshape\u001B[38;5;132;01m}\u001B[39;00m\u001B[38;5;124m and \u001B[39m\u001B[38;5;132;01m{\u001B[39;00my\u001B[38;5;241m.\u001B[39mshape\u001B[38;5;132;01m}\u001B[39;00m\u001B[38;5;124m\"\u001B[39m)\n",
      "\u001B[0;31mValueError\u001B[0m: x and y must have same first dimension, but have shapes (10,) and (11,)"
     ]
    },
    {
     "data": {
      "text/plain": "<Figure size 1200x400 with 3 Axes>",
      "image/png": "[encoded data removed]"
     },
     "metadata": {},
     "output_type": "display_data"
    }
   ],
   "source": [
    "plt.figure(figsize=(12, 4))\n",
    "\n",
    "plt.subplot(1, 2, 1)\n",
    "# plot losses on one y axis and returns on another\n",
    "ax1 = plt.gca()\n",
    "ax1.plot(losses, 'b-')\n",
    "ax1.set_xlabel('iteration')\n",
    "ax1.set_ylabel('loss', color='b')\n",
    "ax1.tick_params('y', colors='b')\n",
    "\n",
    "ax2 = ax1.twinx()\n",
    "ax2.plot(iters, rets, 'r-')\n",
    "ax2.set_ylabel('return', color='r')\n",
    "ax2.tick_params('y', colors='r')\n",
    "plt.axhline(0)\n",
    "\n",
    "# plt.xlim(0, 15000)\n",
    "\n",
    "plt.subplot(1, 2, 2)\n",
    "plt.plot(losses[:-1].reshape(-1, 1000).mean(axis=-1), rets)\n",
    "plt.scatter(losses[:-1].reshape(-1, 1000).mean(axis=-1), rets)\n",
    "plt.axvline(.2)\n",
    "plt.xscale('log')\n",
    "plt.ylabel('return')\n",
    "plt.xlabel('loss')\n",
    "\n",
    "plt.suptitle(\"InvertedPendulum-v4\")\n",
    "plt.tight_layout()\n",
    "plt.show()\n",
    "\n"
   ],
   "metadata": {
    "collapsed": false,
    "ExecuteTime": {
     "end_time": "2024-03-26T18:32:55.250792Z",
     "start_time": "2024-03-26T18:32:54.534054Z"
    }
   },
   "id": "3fdd5f460960c067",
   "execution_count": 156
  },
  {
   "cell_type": "code",
   "outputs": [],
   "source": [],
   "metadata": {
    "collapsed": false
   },
   "id": "1e448637f1886e5"
  },
  {
   "cell_type": "code",
   "outputs": [],
   "source": [],
   "metadata": {
    "collapsed": false,
    "ExecuteTime": {
     "end_time": "2024-03-26T03:42:33.422989Z",
     "start_time": "2024-03-26T03:42:33.391897Z"
    }
   },
   "id": "653cd3b5a9c5cc97",
   "execution_count": 103
  },
  {
   "cell_type": "code",
   "outputs": [
    {
     "data": {
      "text/plain": "<Figure size 640x480 with 1 Axes>",
      "image/png": "[encoded data removed]"
     },
     "metadata": {},
     "output_type": "display_data"
    }
   ],
   "source": [
    "plt.plot(losses)\n",
    "plt.plot(smooth_curve(losses, 1001))\n",
    "plt.ylim(1e-2, 2e-2)\n",
    "plt.yscale('log')"
   ],
   "metadata": {
    "collapsed": false,
    "ExecuteTime": {
     "end_time": "2024-03-26T03:43:27.563574Z",
     "start_time": "2024-03-26T03:43:26.545901Z"
    }
   },
   "id": "7c0fc85b5ca82d4f",
   "execution_count": 108
  },
  {
   "cell_type": "code",
   "outputs": [],
   "source": [],
   "metadata": {
    "collapsed": false,
    "ExecuteTime": {
     "end_time": "2024-03-26T03:33:44.513963Z",
     "start_time": "2024-03-26T03:33:44.083171Z"
    }
   },
   "id": "b1d8468d21721d1e",
   "execution_count": 57
  },
  {
   "cell_type": "code",
   "outputs": [],
   "source": [],
   "metadata": {
    "collapsed": false
   },
   "id": "c2fcd6f0515c467c"
  },
  {
   "cell_type": "code",
   "outputs": [],
   "source": [],
   "metadata": {
    "collapsed": false
   },
   "id": "838f26e17565e536"
  },
  {
   "cell_type": "code",
   "outputs": [],
   "source": [],
   "metadata": {
    "collapsed": false
   },
   "id": "c68f65fc52cf287c"
  },
  {
   "cell_type": "code",
   "outputs": [],
   "source": [
    "from icl_bc_ed import BCTransformer, construct_dataset, sample_batch_from_dataset\n",
    "from util import load_pkl, tree_cat, tree_stack"
   ],
   "metadata": {
    "collapsed": false,
    "ExecuteTime": {
     "end_time": "2024-03-26T17:26:20.242664Z",
     "start_time": "2024-03-26T17:26:20.191478Z"
    }
   },
   "id": "6c4dba78b6a5d8a8",
   "execution_count": 85
  },
  {
   "cell_type": "code",
   "outputs": [
    {
     "name": "stdout",
     "output_type": "stream",
     "text": [
      "Found 1 datasets\n",
      "Loading dataset from /data/vision/phillipi/akumar01/synthetic-mdps-data/datasets/mujoco/HalfCheetah/dataset.pkl\n",
      "Dataset shape: {'act': ((64, 131072, 6), dtype('float32')), 'done': ((64, 131072), dtype('float32')), 'obs': ((64, 131072, 17), dtype('float32')), 'rew': ((64, 131072), dtype('float32')), 'time': ((64, 131072), dtype('int32'))}\n"
     ]
    }
   ],
   "source": [
    "dataset, _, _ = construct_dataset([\"/data/vision/phillipi/akumar01/synthetic-mdps-data/datasets/mujoco/HalfCheetah/dataset.pkl\"], [], 128, 21, (1., 1.))"
   ],
   "metadata": {
    "collapsed": false,
    "ExecuteTime": {
     "end_time": "2024-03-26T17:17:55.191929Z",
     "start_time": "2024-03-26T17:17:35.656420Z"
    }
   },
   "id": "e5198ce60479b176",
   "execution_count": 42
  },
  {
   "cell_type": "code",
   "outputs": [],
   "source": [
    "agent = BCTransformer(d_obs=128, d_act=21, n_layers=4, n_heads=8, d_embd=256, ctx_len=512)\n",
    "agent_params = load_pkl(\"/data/vision/phillipi/akumar01/synthetic-mdps-data/train_bc_aug/mujoco/all-HalfCheetah/\", \"ckpt_0050000\")['params']\n",
    "agent_forward = jax.jit(jax.vmap(agent.apply, in_axes=(None, 0, 0, 0)))"
   ],
   "metadata": {
    "collapsed": false,
    "ExecuteTime": {
     "end_time": "2024-03-26T17:19:14.462021Z",
     "start_time": "2024-03-26T17:19:13.497035Z"
    }
   },
   "id": "67bb9077b4f1087e",
   "execution_count": 47
  },
  {
   "cell_type": "code",
   "outputs": [
    {
     "data": {
      "text/plain": "  0%|          | 0/100 [00:00<?, ?it/s]",
      "application/vnd.jupyter.widget-view+json": {
       "version_major": 2,
       "version_minor": 0,
       "model_id": "8799f93d762f4e4b81a57a3766533c70"
      }
     },
     "metadata": {},
     "output_type": "display_data"
    }
   ],
   "source": [
    "rng = jax.random.PRNGKey(0)\n",
    "mse_act = []\n",
    "for i in tqdm(range(100)):\n",
    "    rng, _rng = split(rng)\n",
    "    batch1 = sample_batch_from_dataset(_rng, dataset, 64, 512, 512)\n",
    "    rng, _rng = split(rng)\n",
    "    batch2 = sample_batch_from_dataset(_rng, dataset, 64, 512, 512)\n",
    "    \n",
    "    batch = batch1\n",
    "    batch['obs'] = jnp.concatenate([batch1['obs'][:, :500], batch2['obs'][:, -12:]], axis=1)\n",
    "    batch['act'] = jnp.concatenate([batch1['act'][:, :500], batch2['act'][:, -12:]], axis=1)\n",
    "    \n",
    "    outi = agent_forward(agent_params, batch['obs'], batch['act'], batch['time'])\n",
    "    mse_acti = ((outi['act_now'] - outi['act_now_pred'])**2).mean(axis=-1).mean(axis=0)\n",
    "    mse_act.append(mse_acti)\n",
    "mse_act = tree_stack(mse_act)"
   ],
   "metadata": {
    "collapsed": false,
    "ExecuteTime": {
     "end_time": "2024-03-26T17:31:39.799660Z",
     "start_time": "2024-03-26T17:31:20.513850Z"
    }
   },
   "id": "7de9f8901fcb85f2",
   "execution_count": 104
  },
  {
   "cell_type": "code",
   "outputs": [],
   "source": [
    "mse_act = mse_act.mean(axis=0)"
   ],
   "metadata": {
    "collapsed": false,
    "ExecuteTime": {
     "end_time": "2024-03-26T17:31:42.193304Z",
     "start_time": "2024-03-26T17:31:42.152211Z"
    }
   },
   "id": "5a1e28c9c4fdcabc",
   "execution_count": 105
  },
  {
   "cell_type": "code",
   "outputs": [
    {
     "data": {
      "text/plain": "(0.0, 1.0)"
     },
     "execution_count": 110,
     "metadata": {},
     "output_type": "execute_result"
    },
    {
     "data": {
      "text/plain": "<Figure size 640x480 with 1 Axes>",
      "image/png": "[encoded data removed]"
     },
     "metadata": {},
     "output_type": "display_data"
    }
   ],
   "source": [
    "plt.plot(smooth_curve(np.array(mse_act), 7))\n",
    "plt.ylim(0, 1)\n",
    "# plt.yscale('log')"
   ],
   "metadata": {
    "collapsed": false,
    "ExecuteTime": {
     "end_time": "2024-03-26T17:42:34.190088Z",
     "start_time": "2024-03-26T17:42:33.878475Z"
    }
   },
   "id": "3c9297e6770578ed",
   "execution_count": 110
  },
  {
   "cell_type": "code",
   "outputs": [
    {
     "data": {
      "text/plain": "(64, 512, 128)"
     },
     "execution_count": 96,
     "metadata": {},
     "output_type": "execute_result"
    }
   ],
   "source": [
    "batch['obs'].shape"
   ],
   "metadata": {
    "collapsed": false,
    "ExecuteTime": {
     "end_time": "2024-03-26T17:28:34.255497Z",
     "start_time": "2024-03-26T17:28:33.483541Z"
    }
   },
   "id": "6f3883bfb8d56bf2",
   "execution_count": 96
  },
  {
   "cell_type": "code",
   "outputs": [],
   "source": [],
   "metadata": {
    "collapsed": false
   },
   "id": "88925a4f90ee16e"
  },
  {
   "cell_type": "code",
   "outputs": [],
   "source": [
    "metrics = load_pkl(\"/data/vision/phillipi/akumar01/synthetic-mdps-data/train_bc_aug/mujoco/all-HalfCheetah/\", \"metrics_train\")"
   ],
   "metadata": {
    "collapsed": false,
    "ExecuteTime": {
     "end_time": "2024-03-26T17:43:15.723234Z",
     "start_time": "2024-03-26T17:43:15.388130Z"
    }
   },
   "id": "98b47126fffd76f3",
   "execution_count": 111
  },
  {
   "cell_type": "code",
   "outputs": [],
   "source": [
    "a = metrics['mse_act'][:, 256:].mean(axis=-1)"
   ],
   "metadata": {
    "collapsed": false,
    "ExecuteTime": {
     "end_time": "2024-03-26T17:44:00.765032Z",
     "start_time": "2024-03-26T17:44:00.730192Z"
    }
   },
   "id": "99acb660734b07c0",
   "execution_count": 118
  },
  {
   "cell_type": "code",
   "outputs": [
    {
     "data": {
      "text/plain": "(0.2, 0.3)"
     },
     "execution_count": 124,
     "metadata": {},
     "output_type": "execute_result"
    },
    {
     "data": {
      "text/plain": "<Figure size 640x480 with 1 Axes>",
      "image/png": "[encoded data removed]"
     },
     "metadata": {},
     "output_type": "display_data"
    }
   ],
   "source": [
    "plt.plot(smooth_curve(a, 501))\n",
    "plt.yscale('log')\n",
    "plt.ylim(2e-1, 3e-1)"
   ],
   "metadata": {
    "collapsed": false,
    "ExecuteTime": {
     "end_time": "2024-03-26T17:44:41.699606Z",
     "start_time": "2024-03-26T17:44:41.194568Z"
    }
   },
   "id": "ddcec4317c65b110",
   "execution_count": 124
  },
  {
   "cell_type": "code",
   "outputs": [],
   "source": [],
   "metadata": {
    "collapsed": false
   },
   "id": "f457db563524cfdd"
  }
 ],
 "metadata": {
  "kernelspec": {
   "display_name": "Python 3",
   "language": "python",
   "name": "python3"
  },
  "language_info": {
   "codemirror_mode": {
    "name": "ipython",
    "version": 2
   },
   "file_extension": ".py",
   "mimetype": "text/x-python",
   "name": "python",
   "nbconvert_exporter": "python",
   "pygments_lexer": "ipython2",
   "version": "2.7.6"
  }
 },
 "nbformat": 4,
 "nbformat_minor": 5
}
