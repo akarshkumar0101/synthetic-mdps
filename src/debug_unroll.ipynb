{
 "cells": [
  {
   "cell_type": "code",
   "execution_count": 1,
   "id": "initial_id",
   "metadata": {
    "collapsed": true,
    "ExecuteTime": {
     "end_time": "2024-03-26T15:48:48.183844Z",
     "start_time": "2024-03-26T15:48:47.858750Z"
    }
   },
   "outputs": [
    {
     "name": "stdout",
     "output_type": "stream",
     "text": [
      "oliva-titanrtx-2.csail.mit.edu\r\n",
      "/data/vision/phillipi/akumar01/synthetic-mdps/src\r\n",
      "/data/vision/phillipi/akumar01/.virtualenvs/synthetic-mdps/bin/python\n"
     ]
    }
   ],
   "source": [
    "%load_ext autoreload  \n",
    "%autoreload 2  \n",
    "!hostname  \n",
    "!pwd  \n",
    "import os\n",
    "import sys\n",
    "\n",
    "print(sys.executable)\n",
    "os.environ['CUDA_VISIBLE_DEVICES'] = \"7\""
   ]
  },
  {
   "cell_type": "code",
   "outputs": [],
   "source": [
    "import os, sys, glob, pickle\n",
    "from functools import partial  \n",
    "\n",
    "from tqdm.auto import tqdm\n",
    "import matplotlib.pyplot as plt\n",
    "import numpy as np\n",
    "\n",
    "from einops import rearrange, reduce, repeat"
   ],
   "metadata": {
    "collapsed": false,
    "ExecuteTime": {
     "end_time": "2024-03-26T15:48:51.200860Z",
     "start_time": "2024-03-26T15:48:49.294974Z"
    }
   },
   "id": "3f602fd18d79e292",
   "execution_count": 2
  },
  {
   "cell_type": "code",
   "outputs": [],
   "source": [
    "import jax\n",
    "import jax.numpy as jnp\n",
    "from jax.random import split\n",
    "\n",
    "import flax\n",
    "import flax.linen as nn\n",
    "from flax.training.train_state import TrainState\n",
    "\n",
    "\n",
    "import optax"
   ],
   "metadata": {
    "collapsed": false,
    "ExecuteTime": {
     "end_time": "2024-03-26T15:48:55.802939Z",
     "start_time": "2024-03-26T15:48:53.589120Z"
    }
   },
   "id": "7e0126fdc65609ae",
   "execution_count": 3
  },
  {
   "cell_type": "code",
   "outputs": [],
   "source": [
    "def smooth_curve(x, window, kernel='uniform'):\n",
    "    assert len(x) > window and window % 2 == 1\n",
    "    before, after = x[:window//2].mean(), x[-window//2:].mean()\n",
    "    x = np.pad(x, (window//2, window//2), mode='constant', constant_values=(before, after))\n",
    "    if kernel == 'uniform':\n",
    "        kernel = np.ones(window)/window\n",
    "    else:\n",
    "        raise NotImplementedError\n",
    "    return np.convolve(x, kernel, mode='valid')"
   ],
   "metadata": {
    "collapsed": false,
    "ExecuteTime": {
     "end_time": "2024-03-26T15:48:56.606909Z",
     "start_time": "2024-03-26T15:48:56.584337Z"
    }
   },
   "id": "bc2260583e75a8c8",
   "execution_count": 4
  },
  {
   "cell_type": "code",
   "outputs": [],
   "source": [],
   "metadata": {
    "collapsed": false,
    "ExecuteTime": {
     "end_time": "2024-03-26T15:48:57.029069Z",
     "start_time": "2024-03-26T15:48:57.021587Z"
    }
   },
   "id": "a1f98a94ba1b763f",
   "execution_count": 4
  },
  {
   "cell_type": "code",
   "outputs": [],
   "source": [
    "class Agent(nn.Module):\n",
    "    d_obs: int\n",
    "    d_act: int\n",
    "\n",
    "    @nn.compact\n",
    "    def __call__(self, x):\n",
    "        act = nn.Sequential([\n",
    "            nn.Dense(64),\n",
    "            nn.tanh,\n",
    "            nn.Dense(64),\n",
    "            nn.tanh,\n",
    "            nn.Dense(self.d_act, kernel_init=nn.initializers.normal(stddev=0.01)),\n",
    "        ])(x)\n",
    "        return act\n"
   ],
   "metadata": {
    "collapsed": false,
    "ExecuteTime": {
     "end_time": "2024-03-26T15:48:57.391997Z",
     "start_time": "2024-03-26T15:48:57.353218Z"
    }
   },
   "id": "475f589695ba52a2",
   "execution_count": 5
  },
  {
   "cell_type": "code",
   "outputs": [],
   "source": [
    "with open(\"/data/vision/phillipi/akumar01/synthetic-mdps-data/datasets/mujoco/HalfCheetah/dataset.pkl\", \"rb\") as f:\n",
    "    dataset = pickle.load(f)\n",
    "d_obs, d_act = dataset['obs'].shape[-1], dataset['act_mean'].shape[-1]"
   ],
   "metadata": {
    "collapsed": false,
    "ExecuteTime": {
     "end_time": "2024-03-26T15:48:59.641258Z",
     "start_time": "2024-03-26T15:48:58.023202Z"
    }
   },
   "id": "9088abb459404592",
   "execution_count": 6
  },
  {
   "cell_type": "code",
   "outputs": [],
   "source": [
    "def sample_batch(rng, dataset, batch_size):\n",
    "    rng, _rng1, _rng2 = split(rng, 3)\n",
    "    i_b = jax.random.randint(_rng1, (batch_size,), 0, dataset['obs'].shape[0])\n",
    "    i_t = jax.random.randint(_rng2, (batch_size,), 0, dataset['obs'].shape[1])\n",
    "    return jax.tree_map(lambda x: x[i_b, i_t], dataset)"
   ],
   "metadata": {
    "collapsed": false,
    "ExecuteTime": {
     "end_time": "2024-03-26T15:49:01.925386Z",
     "start_time": "2024-03-26T15:49:01.890198Z"
    }
   },
   "id": "cd6af0a1b83e37d1",
   "execution_count": 7
  },
  {
   "cell_type": "code",
   "outputs": [
    {
     "data": {
      "text/plain": "  0%|          | 0/15000 [00:00<?, ?it/s]",
      "application/vnd.jupyter.widget-view+json": {
       "version_major": 2,
       "version_minor": 0,
       "model_id": "bf1199d7e1e74134821e7fc9a3481417"
      }
     },
     "metadata": {},
     "output_type": "display_data"
    }
   ],
   "source": [
    "rng = jax.random.PRNGKey(0)\n",
    "agent = Agent(d_obs, d_act)\n",
    "batch = sample_batch(rng, dataset, 1)\n",
    "\n",
    "rng, _rng = split(rng)\n",
    "agent_params = agent.init(_rng, jax.tree_map(lambda x: x[0], batch['obs']))\n",
    "\n",
    "agent_forward = jax.jit(jax.vmap(agent.apply, in_axes=(None, 0)))\n",
    "\n",
    "def iter_step(state, batch):\n",
    "    def loss_fn(params):\n",
    "        act_pred = agent_forward(params, batch['obs'])\n",
    "        return jnp.mean(jnp.square(act_pred - batch['act_mean']))\n",
    "    \n",
    "    grad_fn = jax.value_and_grad(loss_fn)\n",
    "    loss, grad = grad_fn(state.params)\n",
    "    return state.apply_gradients(grads=grad), loss\n",
    "iter_step = jax.jit(iter_step)\n",
    "\n",
    "tx = optax.chain(#optax.clip_by_global_norm(1.),\n",
    "                 optax.adamw(3e-4, weight_decay=0., eps=1e-8))\n",
    "train_state = TrainState.create(apply_fn=agent.apply, params=agent_params, tx=tx)\n",
    "\n",
    "pbar = tqdm(range(15000))\n",
    "for i in pbar:\n",
    "    rng, _rng = split(rng)\n",
    "    batch = sample_batch(_rng, dataset, 32)\n",
    "    train_state, loss = iter_step(train_state, batch)\n",
    "    pbar.set_postfix({'loss': loss})"
   ],
   "metadata": {
    "collapsed": false,
    "ExecuteTime": {
     "end_time": "2024-03-25T16:53:44.953081Z",
     "start_time": "2024-03-25T16:53:16.133159Z"
    }
   },
   "id": "9f77e08f2deeac41",
   "execution_count": 47
  },
  {
   "cell_type": "code",
   "outputs": [],
   "source": [
    "import gymnasium as gym\n",
    "def make_env(env_id):\n",
    "    def thunk():\n",
    "        env = gym.make(env_id, ctrl_cost_weight=0)\n",
    "        env = gym.wrappers.FlattenObservation(env)  # deal with dm_control's Dict observation space\n",
    "        env = gym.wrappers.RecordEpisodeStatistics(env)\n",
    "        env = gym.wrappers.ClipAction(env)\n",
    "        return env\n",
    "    return thunk\n"
   ],
   "metadata": {
    "collapsed": false,
    "ExecuteTime": {
     "end_time": "2024-03-26T15:49:08.775730Z",
     "start_time": "2024-03-26T15:49:08.587982Z"
    }
   },
   "id": "afc3fd5011823dc8",
   "execution_count": 8
  },
  {
   "cell_type": "code",
   "outputs": [],
   "source": [
    "envs = gym.vector.SyncVectorEnv( [make_env(\"HalfCheetah-v4\") for i in range(64)] )"
   ],
   "metadata": {
    "collapsed": false,
    "ExecuteTime": {
     "end_time": "2024-03-26T02:44:36.253096Z",
     "start_time": "2024-03-26T02:44:35.671283Z"
    }
   },
   "id": "de72c2dca14276fd",
   "execution_count": 33
  },
  {
   "cell_type": "code",
   "outputs": [
    {
     "data": {
      "text/plain": "  0%|          | 0/1005 [00:00<?, ?it/s]",
      "application/vnd.jupyter.widget-view+json": {
       "version_major": 2,
       "version_minor": 0,
       "model_id": "461c3fab81124fc984adff5e10e3389f"
      }
     },
     "metadata": {},
     "output_type": "display_data"
    }
   ],
   "source": [
    "stats = []\n",
    "obs, info = envs.reset()\n",
    "for i in tqdm(range(1005)):\n",
    "    act = agent_forward(train_state.params, obs)\n",
    "    obs, rew, term, trunc, infos = envs.step(act)\n",
    "    if \"final_info\" in infos:\n",
    "        for info in infos[\"final_info\"]:\n",
    "            if info and \"episode\" in info:\n",
    "                stats.append((info[\"episode\"][\"r\"], info[\"episode\"][\"l\"]))"
   ],
   "metadata": {
    "collapsed": false,
    "ExecuteTime": {
     "end_time": "2024-03-25T16:54:12.949042Z",
     "start_time": "2024-03-25T16:53:45.279467Z"
    }
   },
   "id": "adc9345ac37b1b7d",
   "execution_count": 50
  },
  {
   "cell_type": "code",
   "outputs": [
    {
     "data": {
      "text/plain": "4542.3582191467285"
     },
     "execution_count": 51,
     "metadata": {},
     "output_type": "execute_result"
    }
   ],
   "source": [
    "np.array(stats)[:, 0].mean()"
   ],
   "metadata": {
    "collapsed": false,
    "ExecuteTime": {
     "end_time": "2024-03-25T16:54:12.977438Z",
     "start_time": "2024-03-25T16:54:12.950936Z"
    }
   },
   "id": "b53cff1f7ce84aff",
   "execution_count": 51
  },
  {
   "cell_type": "code",
   "outputs": [],
   "source": [],
   "metadata": {
    "collapsed": false
   },
   "id": "f09c4d4b09ddc73e"
  },
  {
   "cell_type": "code",
   "outputs": [],
   "source": [],
   "metadata": {
    "collapsed": false
   },
   "id": "1d6268825bb075d1"
  },
  {
   "cell_type": "code",
   "outputs": [],
   "source": [
    "def rollout_fn(train_state):\n",
    "    envs = gym.vector.SyncVectorEnv( [make_env(\"HalfCheetah-v4\") for i in range(64)] )\n",
    "    stats = []\n",
    "    obs, info = envs.reset()\n",
    "    for i in tqdm(range(1005)):\n",
    "        act = agent_forward(train_state.params, obs)\n",
    "        obs, rew, term, trunc, infos = envs.step(act)\n",
    "        if \"final_info\" in infos:\n",
    "            for info in infos[\"final_info\"]:\n",
    "                if info and \"episode\" in info:\n",
    "                    stats.append((info[\"episode\"][\"r\"], info[\"episode\"][\"l\"]))\n",
    "    return np.array(stats)[:, 0].mean()\n"
   ],
   "metadata": {
    "collapsed": false,
    "ExecuteTime": {
     "end_time": "2024-03-26T15:49:36.584693Z",
     "start_time": "2024-03-26T15:49:36.547331Z"
    }
   },
   "id": "437b1f53b612a012",
   "execution_count": 10
  },
  {
   "cell_type": "code",
   "outputs": [
    {
     "name": "stderr",
     "output_type": "stream",
     "text": [
      "2024-03-26 11:49:40.401263: W external/xla/xla/service/gpu/nvptx_compiler.cc:742] The NVIDIA driver's CUDA version is 12.2 which is older than the ptxas CUDA version (12.3.107). Because the driver is older than the ptxas version, XLA is disabling parallel compilation, which may slow down compilation. You should update your NVIDIA driver or use the NVIDIA-provided CUDA forward compatibility packages.\n"
     ]
    },
    {
     "data": {
      "text/plain": "  0%|          | 0/6000 [00:00<?, ?it/s]",
      "application/vnd.jupyter.widget-view+json": {
       "version_major": 2,
       "version_minor": 0,
       "model_id": "af313a90a00f4fe8bec9c4dd8869747f"
      }
     },
     "metadata": {},
     "output_type": "display_data"
    },
    {
     "data": {
      "text/plain": "  0%|          | 0/1005 [00:00<?, ?it/s]",
      "application/vnd.jupyter.widget-view+json": {
       "version_major": 2,
       "version_minor": 0,
       "model_id": "d6f2f8ce7fd24e5b9d84bf0dadbdab0d"
      }
     },
     "metadata": {},
     "output_type": "display_data"
    }
   ],
   "source": [
    "rng = jax.random.PRNGKey(0)\n",
    "agent = Agent(d_obs, d_act)\n",
    "batch = sample_batch(rng, dataset, 1)\n",
    "\n",
    "rng, _rng = split(rng)\n",
    "agent_params = agent.init(_rng, jax.tree_map(lambda x: x[0], batch['obs']))\n",
    "\n",
    "agent_forward = jax.jit(jax.vmap(agent.apply, in_axes=(None, 0)))\n",
    "\n",
    "def iter_step(state, batch):\n",
    "    def loss_fn(params):\n",
    "        act_pred = agent_forward(params, batch['obs'])\n",
    "        return jnp.mean(jnp.square(act_pred - batch['act_mean']))\n",
    "    \n",
    "    grad_fn = jax.value_and_grad(loss_fn)\n",
    "    loss, grad = grad_fn(state.params)\n",
    "    return state.apply_gradients(grads=grad), loss\n",
    "iter_step = jax.jit(iter_step)\n",
    "\n",
    "tx = optax.chain(#optax.clip_by_global_norm(1.),\n",
    "                 optax.adamw(3e-4, weight_decay=0., eps=1e-8))\n",
    "train_state = TrainState.create(apply_fn=agent.apply, params=agent_params, tx=tx)\n",
    "\n",
    "pbar = tqdm(range(6000))\n",
    "losses, rets, iters = [], [], []\n",
    "for i in pbar:\n",
    "    if i%1000==0:\n",
    "        ret = rollout_fn(train_state)\n",
    "        rets.append(ret)\n",
    "        iters.append(i)\n",
    "        \n",
    "    rng, _rng = split(rng)\n",
    "    batch = sample_batch(_rng, dataset, 32)\n",
    "    train_state, loss = iter_step(train_state, batch)\n",
    "    pbar.set_postfix({'loss': loss})\n",
    "    losses.append(loss)\n"
   ],
   "metadata": {
    "collapsed": false,
    "is_executing": true,
    "ExecuteTime": {
     "start_time": "2024-03-26T15:49:39.483075Z"
    }
   },
   "id": "fc7f522cce4b7c4d",
   "execution_count": null
  },
  {
   "cell_type": "code",
   "outputs": [],
   "source": [
    "losses, rets, iters = np.array(losses), np.array(rets), np.array(iters)"
   ],
   "metadata": {
    "collapsed": false,
    "ExecuteTime": {
     "end_time": "2024-03-26T03:10:01.626811Z",
     "start_time": "2024-03-26T03:09:56.198651Z"
    }
   },
   "id": "8eea0316f344a506",
   "execution_count": 36
  },
  {
   "cell_type": "code",
   "outputs": [
    {
     "data": {
      "text/plain": "<Figure size 1200x400 with 3 Axes>",
      "image/png": "[encoded data removed]"
     },
     "metadata": {},
     "output_type": "display_data"
    }
   ],
   "source": [
    "plt.figure(figsize=(12, 4))\n",
    "\n",
    "plt.subplot(1, 2, 1)\n",
    "# plot losses on one y axis and returns on another\n",
    "ax1 = plt.gca()\n",
    "ax1.plot(losses, 'b-')\n",
    "ax1.set_xlabel('iteration')\n",
    "ax1.set_ylabel('loss', color='b')\n",
    "ax1.tick_params('y', colors='b')\n",
    "\n",
    "ax2 = ax1.twinx()\n",
    "ax2.plot(iters, rets, 'r-')\n",
    "ax2.set_ylabel('return', color='r')\n",
    "ax2.tick_params('y', colors='r')\n",
    "plt.axhline(0)\n",
    "\n",
    "plt.xlim(0, 15000)\n",
    "\n",
    "plt.subplot(1, 2, 2)\n",
    "plt.plot(losses.reshape(-1, 1000).mean(axis=-1), rets)\n",
    "plt.scatter(losses.reshape(-1, 1000).mean(axis=-1), rets)\n",
    "plt.axvline(.2)\n",
    "plt.xscale('log')\n",
    "plt.ylabel('return')\n",
    "plt.xlabel('loss')\n",
    "\n",
    "plt.suptitle(\"HalfCheetah-v4\")\n",
    "plt.tight_layout()\n",
    "plt.show()\n",
    "\n"
   ],
   "metadata": {
    "collapsed": false,
    "ExecuteTime": {
     "end_time": "2024-03-26T04:03:08.164195Z",
     "start_time": "2024-03-26T04:03:07.619749Z"
    }
   },
   "id": "3fdd5f460960c067",
   "execution_count": 111
  },
  {
   "cell_type": "code",
   "outputs": [],
   "source": [],
   "metadata": {
    "collapsed": false,
    "ExecuteTime": {
     "end_time": "2024-03-26T03:42:33.422989Z",
     "start_time": "2024-03-26T03:42:33.391897Z"
    }
   },
   "id": "653cd3b5a9c5cc97",
   "execution_count": 103
  },
  {
   "cell_type": "code",
   "outputs": [
    {
     "data": {
      "text/plain": "<Figure size 640x480 with 1 Axes>",
      "image/png": "[encoded data removed]"
     },
     "metadata": {},
     "output_type": "display_data"
    }
   ],
   "source": [
    "plt.plot(losses)\n",
    "plt.plot(smooth_curve(losses, 1001))\n",
    "plt.ylim(1e-2, 2e-2)\n",
    "plt.yscale('log')"
   ],
   "metadata": {
    "collapsed": false,
    "ExecuteTime": {
     "end_time": "2024-03-26T03:43:27.563574Z",
     "start_time": "2024-03-26T03:43:26.545901Z"
    }
   },
   "id": "7c0fc85b5ca82d4f",
   "execution_count": 108
  },
  {
   "cell_type": "code",
   "outputs": [],
   "source": [],
   "metadata": {
    "collapsed": false,
    "ExecuteTime": {
     "end_time": "2024-03-26T03:33:44.513963Z",
     "start_time": "2024-03-26T03:33:44.083171Z"
    }
   },
   "id": "b1d8468d21721d1e",
   "execution_count": 57
  },
  {
   "cell_type": "code",
   "outputs": [],
   "source": [],
   "metadata": {
    "collapsed": false
   },
   "id": "c2fcd6f0515c467c"
  },
  {
   "cell_type": "code",
   "outputs": [],
   "source": [],
   "metadata": {
    "collapsed": false
   },
   "id": "e5198ce60479b176"
  }
 ],
 "metadata": {
  "kernelspec": {
   "display_name": "Python 3",
   "language": "python",
   "name": "python3"
  },
  "language_info": {
   "codemirror_mode": {
    "name": "ipython",
    "version": 2
   },
   "file_extension": ".py",
   "mimetype": "text/x-python",
   "name": "python",
   "nbconvert_exporter": "python",
   "pygments_lexer": "ipython2",
   "version": "2.7.6"
  }
 },
 "nbformat": 4,
 "nbformat_minor": 5
}
