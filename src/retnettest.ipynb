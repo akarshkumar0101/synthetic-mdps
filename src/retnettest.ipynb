{
 "cells": [
  {
   "cell_type": "code",
   "outputs": [],
   "source": [
    "%load_ext autoreload\n",
    "%autoreload 2"
   ],
   "metadata": {
    "collapsed": false,
    "ExecuteTime": {
     "end_time": "2023-12-31T19:57:43.661409Z",
     "start_time": "2023-12-31T19:57:43.650990Z"
    }
   },
   "id": "d0d7bea641b5b4f4",
   "execution_count": 1
  },
  {
   "cell_type": "code",
   "outputs": [],
   "source": [
    "import torch\n",
    "import matplotlib.pyplot as plt\n",
    "import jax\n",
    "import jax.numpy as jnp\n",
    "from jax.random import split\n",
    "from einops import rearrange, repeat\n"
   ],
   "metadata": {
    "collapsed": false,
    "ExecuteTime": {
     "end_time": "2023-12-31T19:57:44.793990Z",
     "start_time": "2023-12-31T19:57:43.776193Z"
    }
   },
   "id": "a7d5536f3ae9efcb",
   "execution_count": 2
  },
  {
   "cell_type": "code",
   "outputs": [
    {
     "name": "stdout",
     "output_type": "stream",
     "text": [
      "True\n",
      "True\n"
     ]
    }
   ],
   "source": [
    "def ret_parallel_forward(q, k, v, state=None):\n",
    "    # q, k, v: B, H, T, D\n",
    "    B, H, T, D = q.shape\n",
    "    mask = torch.tril(torch.ones(T, T, dtype=bool)) # causal masking\n",
    "    attn = mask*(q@k.mT)\n",
    "    out = attn@v \n",
    "    state_n = k.mT @ v\n",
    "    if state is not None:\n",
    "        out = out + q @ state\n",
    "        state_n = state_n + state\n",
    "    return out, state_n\n",
    "def ret_recurrent_forward(q, k, v, state=None):\n",
    "    # q, k, v: B, H, 1, D\n",
    "    # state: B, H, D, D\n",
    "    B, H, _, D = q.shape\n",
    "    if state is None:\n",
    "        state = torch.zeros(B, H, D, D)\n",
    "    state = state + k.mT * v # B, H, D, D\n",
    "    out = q@state\n",
    "    return out, state\n",
    "\n",
    "torch.manual_seed(0)\n",
    "b, h, t, d = 16, 12, 100, 32\n",
    "q, k, v = torch.randn(b, h, t, d), torch.randn(b, h, t, d), torch.randn(b, h, t, d)\n",
    "\n",
    "# ------ PARALLEL FORWARD ------ \n",
    "out1, _ = ret_parallel_forward(q, k, v)\n",
    "\n",
    "# ------ RECURRENT FORWARD ------ \n",
    "out2 = torch.zeros_like(out1)\n",
    "state = None\n",
    "for t in range(q.shape[2]):\n",
    "    out2[:, :, [t]], state = ret_recurrent_forward(q[:, :, [t]], k[:, :, [t]], v[:, :, [t]], state=state)\n",
    "print(torch.allclose(out1, out2, atol=1e-4))\n",
    "\n",
    "# ------ BLOCK FORWARD ------ \n",
    "a, state = ret_parallel_forward(q[:, :, :50], k[:, :, :50], v[:, :, :50], state=None)\n",
    "b, state = ret_parallel_forward(q[:, :, 50:], k[:, :, 50:], v[:, :, 50:], state=state)\n",
    "out3 = torch.cat([a, b], dim=2)\n",
    "\n",
    "print(torch.allclose(out2, out3, atol=1e-4))\n"
   ],
   "metadata": {
    "collapsed": false,
    "ExecuteTime": {
     "end_time": "2023-12-30T22:17:43.750869Z",
     "start_time": "2023-12-30T22:17:43.669620Z"
    }
   },
   "id": "e4fd41f0a4afc08",
   "execution_count": 28
  },
  {
   "cell_type": "code",
   "outputs": [
    {
     "name": "stdout",
     "output_type": "stream",
     "text": [
      "True\n",
      "True\n"
     ]
    }
   ],
   "source": [
    "def ret_parallel_forward(q, k, v, state=None):\n",
    "    # q, k, v: B, H, T, D\n",
    "    B, H, T, D = q.shape\n",
    "    if state is None:\n",
    "        state = torch.zeros(B, H, D, D)\n",
    "    mask = torch.tril(torch.ones(T, T, dtype=bool))  # causal masking\n",
    "    attn = mask*(q@k.mT)\n",
    "    out = attn@v + q @ state\n",
    "    state = k.mT @ v + state\n",
    "    return out, state\n",
    "\n",
    "torch.manual_seed(0)\n",
    "b, h, t, d = 16, 12, 100, 32\n",
    "q, k, v = torch.randn(b, h, t, d), torch.randn(b, h, t, d), torch.randn(b, h, t, d)\n",
    "\n",
    "# ------ PARALLEL FORWARD ------ \n",
    "out1, _ = ret_parallel_forward(q, k, v)\n",
    "\n",
    "# ------ RECURRENT FORWARD ------ \n",
    "out2 = torch.zeros_like(out1)\n",
    "state = None\n",
    "for t in range(q.shape[2]):\n",
    "    out2[:, :, [t]], state = ret_parallel_forward(q[:, :, [t]], k[:, :, [t]], v[:, :, [t]], state=state)\n",
    "print(torch.allclose(out1, out2, atol=1e-4))\n",
    "\n",
    "# ------ BLOCK FORWARD ------ \n",
    "a, state = ret_parallel_forward(q[:, :, :30], k[:, :, :30], v[:, :, :30], state=None)\n",
    "b, state = ret_parallel_forward(q[:, :, 30:60], k[:, :, 30:60], v[:, :, 30:60], state=state)\n",
    "c, state = ret_parallel_forward(q[:, :, 60:], k[:, :, 60:], v[:, :, 60:], state=state)\n",
    "out3 = torch.cat([a, b, c], dim=2)\n",
    "\n",
    "print(torch.allclose(out2, out3, atol=1e-4))"
   ],
   "metadata": {
    "collapsed": false,
    "ExecuteTime": {
     "end_time": "2023-12-30T22:26:36.514518Z",
     "start_time": "2023-12-30T22:26:36.399615Z"
    }
   },
   "id": "edf704e04f24151f",
   "execution_count": 31
  },
  {
   "cell_type": "code",
   "outputs": [
    {
     "data": {
      "text/plain": "[<matplotlib.lines.Line2D at 0x2afbbb1f0>]"
     },
     "execution_count": 66,
     "metadata": {},
     "output_type": "execute_result"
    },
    {
     "data": {
      "text/plain": "<Figure size 640x480 with 1 Axes>",
      "image/png": "[encoded data removed]"
     },
     "metadata": {},
     "output_type": "display_data"
    }
   ],
   "source": [
    "\n",
    "rng = jax.random.PRNGKey(0)\n",
    "done = jax.random.uniform(rng, (30, )) < 0.10\n",
    "plt.plot(done)\n",
    "plt.plot(done.cumsum()==0)\n",
    "plt.plot(done.cumsum()==done.sum())\n",
    "# print(done)\n"
   ],
   "metadata": {
    "collapsed": false,
    "ExecuteTime": {
     "end_time": "2023-12-31T19:32:51.629863Z",
     "start_time": "2023-12-31T19:32:51.557219Z"
    }
   },
   "id": "f985b1784e971ba3",
   "execution_count": 66
  },
  {
   "cell_type": "code",
   "outputs": [],
   "source": [],
   "metadata": {
    "collapsed": false
   },
   "id": "e1bc4c69011e3554"
  },
  {
   "cell_type": "code",
   "outputs": [],
   "source": [],
   "metadata": {
    "collapsed": false
   },
   "id": "70697f3118e2ec5"
  },
  {
   "cell_type": "code",
   "outputs": [
    {
     "data": {
      "text/plain": "<matplotlib.image.AxesImage at 0x2aee15630>"
     },
     "execution_count": 51,
     "metadata": {},
     "output_type": "execute_result"
    },
    {
     "data": {
      "text/plain": "<Figure size 640x480 with 1 Axes>",
      "image/png": "[encoded data removed]"
     },
     "metadata": {},
     "output_type": "display_data"
    }
   ],
   "source": [
    "def make_attn_mask(done):\n",
    "    T, = done.shape\n",
    "    mask_causal = jnp.tril(jnp.ones((T, T), dtype=bool))\n",
    "    y, x = jnp.arange(T)[:, None], jnp.arange(T)[None, :]\n",
    "    def single_causal_done_mask(mask, i):\n",
    "        mask_done = ~((y>=i) * (x<i))\n",
    "        mask_done = jax.lax.select(done[i], mask_done, mask_causal)\n",
    "        return mask * mask_done, None\n",
    "    mask, _ = jax.lax.scan(single_causal_done_mask, mask_causal, jnp.arange(T))\n",
    "    return mask\n",
    "\n",
    "a = make_attn_mask(done)\n",
    "plt.imshow(a)"
   ],
   "metadata": {
    "collapsed": false,
    "ExecuteTime": {
     "end_time": "2023-12-31T19:23:41.323715Z",
     "start_time": "2023-12-31T19:23:41.207915Z"
    }
   },
   "id": "919bb8b9ba4717c9",
   "execution_count": 51
  },
  {
   "cell_type": "code",
   "outputs": [],
   "source": [],
   "metadata": {
    "collapsed": false,
    "ExecuteTime": {
     "end_time": "2023-12-31T09:41:01.452385Z",
     "start_time": "2023-12-31T09:41:01.447083Z"
    }
   },
   "id": "7164cfedd66ba8e",
   "execution_count": 25
  },
  {
   "cell_type": "code",
   "outputs": [],
   "source": [
    "from agents.linear_transformer import make_attn_mask"
   ],
   "metadata": {
    "collapsed": false,
    "ExecuteTime": {
     "end_time": "2023-12-31T20:01:01.441486Z",
     "start_time": "2023-12-31T20:01:01.426602Z"
    }
   },
   "id": "582f93f7a193d73a",
   "execution_count": 26
  },
  {
   "cell_type": "code",
   "outputs": [],
   "source": [
    "def linear_attention_resets(state, qkvdone):  # state: D, D; qkv: T, D; done: T\n",
    "    (q, k, v), done = qkvdone\n",
    "    done_any, done_before_first, done_after_last = done.any(), done.cumsum() == 0, done.cumsum() == done.sum()\n",
    "    q_bef = q * done_before_first[:, None]\n",
    "    k_aft = k * done_after_last[:, None]\n",
    "    v_aft = v * done_after_last[:, None]\n",
    "    mask = make_attn_mask(done)  # T, T\n",
    "    attn = mask * (q @ k.T)\n",
    "    out = attn @ v + q_bef @ state\n",
    "    state = jax.lax.select(done_any, k_aft.T @ v_aft, state + k_aft.T @ v_aft)\n",
    "    return state, out\n"
   ],
   "metadata": {
    "collapsed": false,
    "ExecuteTime": {
     "end_time": "2023-12-31T20:21:14.514267Z",
     "start_time": "2023-12-31T20:21:14.493252Z"
    }
   },
   "id": "bdb9c6220e1c6e7f",
   "execution_count": 90
  },
  {
   "cell_type": "code",
   "outputs": [
    {
     "data": {
      "text/plain": "(True, True)"
     },
     "execution_count": 91,
     "metadata": {},
     "output_type": "execute_result"
    }
   ],
   "source": [
    "rng = jax.random.PRNGKey(0)\n",
    "B, T, D = 16, 30, 32\n",
    "\n",
    "done = jax.random.uniform(rng, (T, )) < 0.10\n",
    "rng, _rng = split(rng)\n",
    "state = jax.random.normal(_rng, (D, D))\n",
    "rng, _rng = split(rng)\n",
    "q, k, v = jax.random.normal(_rng, (3, T, D))\n",
    "\n",
    "state1, out1 = linear_attention_resets(state, ((q, k, v), done))\n",
    "# print(jax.tree_map(lambda x: x.shape, (state1, out1)))\n",
    "\n",
    "q, k, v, done = jax.tree_map(lambda x: rearrange(x, 'T ... -> T 1 ...'), (q, k, v, done))\n",
    "state2, out2 = jax.lax.scan(linear_attention_resets, state, ((q, k, v), done))\n",
    "out2 = rearrange(out2, 'T 1 D -> T D')\n",
    "# print(jax.tree_map(lambda x: x.shape, (state2, out2)))\n",
    "\n",
    "jax.tree_map(lambda x, y: jnp.allclose(x, y, atol=1e-4).item(), (state1, out1), (state2, out2))\n"
   ],
   "metadata": {
    "collapsed": false,
    "ExecuteTime": {
     "end_time": "2023-12-31T20:21:14.723338Z",
     "start_time": "2023-12-31T20:21:14.635803Z"
    }
   },
   "id": "6a46dab60504160c",
   "execution_count": 91
  },
  {
   "cell_type": "code",
   "outputs": [
    {
     "data": {
      "text/plain": "<matplotlib.image.AxesImage at 0x2b028fe50>"
     },
     "execution_count": 73,
     "metadata": {},
     "output_type": "execute_result"
    },
    {
     "data": {
      "text/plain": "<Figure size 640x480 with 2 Axes>",
      "image/png": "[encoded data removed]"
     },
     "metadata": {},
     "output_type": "display_data"
    }
   ],
   "source": [
    "plt.subplot(121)\n",
    "plt.imshow(state1)\n",
    "plt.subplot(122)\n",
    "plt.imshow(state2)\n"
   ],
   "metadata": {
    "collapsed": false,
    "ExecuteTime": {
     "end_time": "2023-12-31T20:19:08.604091Z",
     "start_time": "2023-12-31T20:19:08.516412Z"
    }
   },
   "id": "1ea5b90a6f8071f6",
   "execution_count": 73
  },
  {
   "cell_type": "code",
   "outputs": [
    {
     "data": {
      "text/plain": "[<matplotlib.lines.Line2D at 0x2b2bd5030>]"
     },
     "execution_count": 130,
     "metadata": {},
     "output_type": "execute_result"
    },
    {
     "data": {
      "text/plain": "<Figure size 640x480 with 1 Axes>",
      "image/png": "[encoded data removed]"
     },
     "metadata": {},
     "output_type": "display_data"
    }
   ],
   "source": [
    "done = done.at[0].set(True)\n",
    "plt.plot(done*30)\n",
    "a = jnp.arange(5, 35)\n",
    "plt.plot(a-jax.lax.associative_scan(jnp.maximum, a*done))\n",
    "\n",
    "\n"
   ],
   "metadata": {
    "collapsed": false,
    "ExecuteTime": {
     "end_time": "2023-12-31T21:03:01.216862Z",
     "start_time": "2023-12-31T21:03:01.153017Z"
    }
   },
   "id": "9f7d9d6779f75956",
   "execution_count": 130
  },
  {
   "cell_type": "code",
   "outputs": [],
   "source": [],
   "metadata": {
    "collapsed": false
   },
   "id": "74c5c7e8c3328cdc"
  },
  {
   "cell_type": "code",
   "outputs": [],
   "source": [],
   "metadata": {
    "collapsed": false
   },
   "id": "66c65e30b55bd02f"
  },
  {
   "cell_type": "code",
   "outputs": [],
   "source": [],
   "metadata": {
    "collapsed": false
   },
   "id": "3a1169b766d41ff8"
  }
 ],
 "metadata": {
  "kernelspec": {
   "display_name": "Python 3",
   "language": "python",
   "name": "python3"
  },
  "language_info": {
   "codemirror_mode": {
    "name": "ipython",
    "version": 2
   },
   "file_extension": ".py",
   "mimetype": "text/x-python",
   "name": "python",
   "nbconvert_exporter": "python",
   "pygments_lexer": "ipython2",
   "version": "2.7.6"
  }
 },
 "nbformat": 4,
 "nbformat_minor": 5
}
