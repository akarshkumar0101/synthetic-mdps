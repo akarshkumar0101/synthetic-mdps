{
 "cells": [
  {
   "cell_type": "code",
   "outputs": [],
   "source": [
    "import torch"
   ],
   "metadata": {
    "collapsed": false,
    "ExecuteTime": {
     "end_time": "2023-12-31T09:24:02.960530Z",
     "start_time": "2023-12-31T09:24:02.204204Z"
    }
   },
   "id": "a7d5536f3ae9efcb",
   "execution_count": 1
  },
  {
   "cell_type": "code",
   "outputs": [
    {
     "name": "stdout",
     "output_type": "stream",
     "text": [
      "True\n",
      "True\n"
     ]
    }
   ],
   "source": [
    "def ret_parallel_forward(q, k, v, state=None):\n",
    "    # q, k, v: B, H, T, D\n",
    "    B, H, T, D = q.shape\n",
    "    mask = torch.tril(torch.ones(T, T, dtype=bool)) # causal masking\n",
    "    attn = mask*(q@k.mT)\n",
    "    out = attn@v \n",
    "    state_n = k.mT @ v\n",
    "    if state is not None:\n",
    "        out = out + q @ state\n",
    "        state_n = state_n + state\n",
    "    return out, state_n\n",
    "def ret_recurrent_forward(q, k, v, state=None):\n",
    "    # q, k, v: B, H, 1, D\n",
    "    # state: B, H, D, D\n",
    "    B, H, _, D = q.shape\n",
    "    if state is None:\n",
    "        state = torch.zeros(B, H, D, D)\n",
    "    state = state + k.mT * v # B, H, D, D\n",
    "    out = q@state\n",
    "    return out, state\n",
    "\n",
    "torch.manual_seed(0)\n",
    "b, h, t, d = 16, 12, 100, 32\n",
    "q, k, v = torch.randn(b, h, t, d), torch.randn(b, h, t, d), torch.randn(b, h, t, d)\n",
    "\n",
    "# ------ PARALLEL FORWARD ------ \n",
    "out1, _ = ret_parallel_forward(q, k, v)\n",
    "\n",
    "# ------ RECURRENT FORWARD ------ \n",
    "out2 = torch.zeros_like(out1)\n",
    "state = None\n",
    "for t in range(q.shape[2]):\n",
    "    out2[:, :, [t]], state = ret_recurrent_forward(q[:, :, [t]], k[:, :, [t]], v[:, :, [t]], state=state)\n",
    "print(torch.allclose(out1, out2, atol=1e-4))\n",
    "\n",
    "# ------ BLOCK FORWARD ------ \n",
    "a, state = ret_parallel_forward(q[:, :, :50], k[:, :, :50], v[:, :, :50], state=None)\n",
    "b, state = ret_parallel_forward(q[:, :, 50:], k[:, :, 50:], v[:, :, 50:], state=state)\n",
    "out3 = torch.cat([a, b], dim=2)\n",
    "\n",
    "print(torch.allclose(out2, out3, atol=1e-4))\n"
   ],
   "metadata": {
    "collapsed": false,
    "ExecuteTime": {
     "end_time": "2023-12-30T22:17:43.750869Z",
     "start_time": "2023-12-30T22:17:43.669620Z"
    }
   },
   "id": "e4fd41f0a4afc08",
   "execution_count": 28
  },
  {
   "cell_type": "code",
   "outputs": [
    {
     "name": "stdout",
     "output_type": "stream",
     "text": [
      "True\n",
      "True\n"
     ]
    }
   ],
   "source": [
    "def ret_parallel_forward(q, k, v, state=None):\n",
    "    # q, k, v: B, H, T, D\n",
    "    B, H, T, D = q.shape\n",
    "    if state is None:\n",
    "        state = torch.zeros(B, H, D, D)\n",
    "    mask = torch.tril(torch.ones(T, T, dtype=bool))  # causal masking\n",
    "    attn = mask*(q@k.mT)\n",
    "    out = attn@v + q @ state\n",
    "    state = k.mT @ v + state\n",
    "    return out, state\n",
    "\n",
    "torch.manual_seed(0)\n",
    "b, h, t, d = 16, 12, 100, 32\n",
    "q, k, v = torch.randn(b, h, t, d), torch.randn(b, h, t, d), torch.randn(b, h, t, d)\n",
    "\n",
    "# ------ PARALLEL FORWARD ------ \n",
    "out1, _ = ret_parallel_forward(q, k, v)\n",
    "\n",
    "# ------ RECURRENT FORWARD ------ \n",
    "out2 = torch.zeros_like(out1)\n",
    "state = None\n",
    "for t in range(q.shape[2]):\n",
    "    out2[:, :, [t]], state = ret_parallel_forward(q[:, :, [t]], k[:, :, [t]], v[:, :, [t]], state=state)\n",
    "print(torch.allclose(out1, out2, atol=1e-4))\n",
    "\n",
    "# ------ BLOCK FORWARD ------ \n",
    "a, state = ret_parallel_forward(q[:, :, :30], k[:, :, :30], v[:, :, :30], state=None)\n",
    "b, state = ret_parallel_forward(q[:, :, 30:60], k[:, :, 30:60], v[:, :, 30:60], state=state)\n",
    "c, state = ret_parallel_forward(q[:, :, 60:], k[:, :, 60:], v[:, :, 60:], state=state)\n",
    "out3 = torch.cat([a, b, c], dim=2)\n",
    "\n",
    "print(torch.allclose(out2, out3, atol=1e-4))"
   ],
   "metadata": {
    "collapsed": false,
    "ExecuteTime": {
     "end_time": "2023-12-30T22:26:36.514518Z",
     "start_time": "2023-12-30T22:26:36.399615Z"
    }
   },
   "id": "edf704e04f24151f",
   "execution_count": 31
  },
  {
   "cell_type": "code",
   "outputs": [
    {
     "data": {
      "text/plain": "[<matplotlib.lines.Line2D at 0x2915dab60>]"
     },
     "execution_count": 2,
     "metadata": {},
     "output_type": "execute_result"
    },
    {
     "data": {
      "text/plain": "<Figure size 640x480 with 1 Axes>",
      "image/png": "[encoded data removed]"
     },
     "metadata": {},
     "output_type": "display_data"
    }
   ],
   "source": [
    "import matplotlib.pyplot as plt\n",
    "import jax\n",
    "import jax.numpy as jnp\n",
    "\n",
    "rng = jax.random.PRNGKey(3)\n",
    "done = jax.random.uniform(rng, (100, )) < 0.05\n",
    "plt.plot(done)\n",
    "# print(done)"
   ],
   "metadata": {
    "collapsed": false,
    "ExecuteTime": {
     "end_time": "2023-12-31T09:24:06.863838Z",
     "start_time": "2023-12-31T09:24:06.122054Z"
    }
   },
   "id": "f985b1784e971ba3",
   "execution_count": 2
  },
  {
   "cell_type": "code",
   "outputs": [
    {
     "data": {
      "text/plain": "<matplotlib.image.AxesImage at 0x2ad76ab00>"
     },
     "execution_count": 30,
     "metadata": {},
     "output_type": "execute_result"
    },
    {
     "data": {
      "text/plain": "<Figure size 640x480 with 1 Axes>",
      "image/png": "[encoded data removed]"
     },
     "metadata": {},
     "output_type": "display_data"
    }
   ],
   "source": [
    "def make_attn_mask1(done):\n",
    "    T, = done.shape\n",
    "    mask_causal = jnp.tril(jnp.ones((T, T), dtype=bool))\n",
    "    y, x = jnp.arange(T)[:, None], jnp.arange(T)[None, :]\n",
    "    def f(mask, i):\n",
    "        mask_now = ~((y>=i) * (x<i))\n",
    "        mask_now = jax.lax.select(done[i], mask_now, mask_causal)\n",
    "        return mask * mask_now, None\n",
    "    mask, _ = jax.lax.scan(f, mask_causal, jnp.arange(T))\n",
    "    return mask\n",
    "\n",
    "def make_attn_mask2(done):\n",
    "    T, = done.shape\n",
    "    mask_causal = jnp.tril(jnp.ones((T, T), dtype=bool))\n",
    "    def make_attn_mask_single(i, done_i):\n",
    "        return mask_causal.at[i:, :i].set(1-done_i)\n",
    "    mask = mask_causal\n",
    "    for i in range(T):\n",
    "        mask = mask * make_attn_mask_single(i, done[i])\n",
    "    return mask\n",
    "    \n",
    "    \n",
    "a = make_attn_mask1(done)\n",
    "plt.imshow(a)"
   ],
   "metadata": {
    "collapsed": false,
    "ExecuteTime": {
     "end_time": "2023-12-31T09:49:37.581252Z",
     "start_time": "2023-12-31T09:49:37.504442Z"
    }
   },
   "id": "919bb8b9ba4717c9",
   "execution_count": 30
  },
  {
   "cell_type": "code",
   "outputs": [],
   "source": [],
   "metadata": {
    "collapsed": false,
    "ExecuteTime": {
     "end_time": "2023-12-31T09:41:01.452385Z",
     "start_time": "2023-12-31T09:41:01.447083Z"
    }
   },
   "id": "7164cfedd66ba8e",
   "execution_count": 25
  },
  {
   "cell_type": "code",
   "outputs": [],
   "source": [],
   "metadata": {
    "collapsed": false
   },
   "id": "582f93f7a193d73a"
  },
  {
   "cell_type": "code",
   "outputs": [],
   "source": [],
   "metadata": {
    "collapsed": false
   },
   "id": "1e3cd48e70f0a5e2"
  }
 ],
 "metadata": {
  "kernelspec": {
   "display_name": "Python 3",
   "language": "python",
   "name": "python3"
  },
  "language_info": {
   "codemirror_mode": {
    "name": "ipython",
    "version": 2
   },
   "file_extension": ".py",
   "mimetype": "text/x-python",
   "name": "python",
   "nbconvert_exporter": "python",
   "pygments_lexer": "ipython2",
   "version": "2.7.6"
  }
 },
 "nbformat": 4,
 "nbformat_minor": 5
}
