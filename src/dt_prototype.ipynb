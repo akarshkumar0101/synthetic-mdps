{
 "cells": [
  {
   "cell_type": "code",
   "execution_count": 1,
   "id": "c4033aea-1362-4d24-96d9-1d52e366219d",
   "metadata": {},
   "outputs": [
    {
     "name": "stdout",
     "output_type": "stream",
     "text": [
      "isola-h100-1.csail.mit.edu\n",
      "/vision-nfs/isola/env/akumar01/synthetic-mdps/src\n",
      "/vision-nfs/isola/env/akumar01/.virtualenvs/dmc/bin/python\n"
     ]
    }
   ],
   "source": [
    "%load_ext autoreload  \n",
    "%autoreload 2  \n",
    "!hostname  \n",
    "!pwd  \n",
    "import os, sys\n",
    "print(sys.executable)\n",
    "os.environ['CUDA_VISIBLE_DEVICES'] = \"6\"\n",
    "os.environ['JAX_DEBUG_NANS'] = 'True'"
   ]
  },
  {
   "cell_type": "code",
   "execution_count": 2,
   "id": "750751c9-f71b-434c-beb9-d3904d24a900",
   "metadata": {},
   "outputs": [],
   "source": [
    "import os, sys, glob, pickle\n",
    "from functools import partial\n",
    "\n",
    "import numpy as np\n",
    "import pandas as pd\n",
    "import matplotlib.pyplot as plt\n",
    "\n",
    "from tqdm.auto import tqdm\n",
    "from einops import rearrange, reduce, repeat\n",
    "import pickle"
   ]
  },
  {
   "cell_type": "code",
   "execution_count": 26,
   "id": "77e6720e-b2f8-4448-b4e9-9b6ca0d30ace",
   "metadata": {},
   "outputs": [],
   "source": [
    "import jax\n",
    "import jax.numpy as jnp\n",
    "from jax.random import split\n",
    "\n",
    "import flax\n",
    "import flax.linen as nn\n",
    "from flax.training.train_state import TrainState\n",
    "\n",
    "import optax"
   ]
  },
  {
   "cell_type": "code",
   "execution_count": 27,
   "id": "34750c71-711f-4f73-a7e8-484e0f0a948a",
   "metadata": {},
   "outputs": [],
   "source": [
    "from util import load_pkl"
   ]
  },
  {
   "cell_type": "code",
   "execution_count": 28,
   "id": "fffcc896-acaa-4b71-a0d6-ed101260307b",
   "metadata": {},
   "outputs": [],
   "source": [
    "from agents.regular_transformer import TrajectoryTransformer"
   ]
  },
  {
   "cell_type": "code",
   "execution_count": null,
   "id": "719527a2-e68f-4560-8acc-f2c38f5e329d",
   "metadata": {},
   "outputs": [],
   "source": []
  },
  {
   "cell_type": "code",
   "execution_count": 140,
   "id": "0aefaddb-e084-4bc3-bb3e-4f22edd42613",
   "metadata": {},
   "outputs": [],
   "source": []
  },
  {
   "cell_type": "code",
   "execution_count": null,
   "id": "fcec17f4-ebd6-428b-b297-faeb0da42234",
   "metadata": {},
   "outputs": [],
   "source": []
  },
  {
   "cell_type": "code",
   "execution_count": 193,
   "id": "b8adbfbe-3340-45e7-aaf2-4c30f4a8d53e",
   "metadata": {},
   "outputs": [],
   "source": [
    "ds = load_pkl(\"/vision-nfs/isola/env/akumar01/tdmpc_data/\", \"tdmpc_data_clean\")\n",
    "ds['act'][np.isnan(ds['act'])] = 0.\n",
    "ds['act'][np.isinf(ds['act'])] = 0.\n",
    "ds['act'] = ds['act'].clip(-3, 3)\n",
    "ds['rtg'] = (ds['rew'][..., ::-1].cumsum(axis=-1)[..., ::-1])\n",
    "ds['done'] = np.zeros(ds['rew'].shape, dtype=bool)\n",
    "ds['done'][:, :, 0] = True"
   ]
  },
  {
   "cell_type": "code",
   "execution_count": 199,
   "id": "7f10dcd3-797a-4593-8705-f210e5fb2872",
   "metadata": {},
   "outputs": [],
   "source": [
    "ds = jax.tree.map(lambda x: jnp.array(x), ds)\n",
    "ds = jax.tree.map(lambda x: x[0], ds)\n",
    "ds = jax.tree.map(lambda x: x[-100:], ds)"
   ]
  },
  {
   "cell_type": "code",
   "execution_count": null,
   "id": "2f075102-a420-4792-81e0-99c07885f449",
   "metadata": {},
   "outputs": [],
   "source": []
  },
  {
   "cell_type": "code",
   "execution_count": null,
   "id": "d0d81abf-8ed9-4bc7-963a-c7987f638d68",
   "metadata": {},
   "outputs": [],
   "source": []
  },
  {
   "cell_type": "code",
   "execution_count": null,
   "id": "2c750706-ee71-4b79-8056-c3fb60964cea",
   "metadata": {},
   "outputs": [],
   "source": []
  },
  {
   "cell_type": "code",
   "execution_count": 183,
   "id": "eba8e8de-b0c2-4e47-8eba-bf6ff2bd76e6",
   "metadata": {},
   "outputs": [],
   "source": [
    "ctx_len = 1\n",
    "agent = TrajectoryTransformer(d_obs=24, d_act=6, n_layers=3, n_heads=4, d_embd=128, ctx_len=ctx_len)\n",
    "@jax.jit\n",
    "def batch_agent_forward(agent_params, batch):\n",
    "    # return jax.vmap(agent.apply, in_axes=(None, 0, 0, 0, 0, 0))(agent_params, batch['done'], batch['rtg']/1000, batch['obs'], batch['act'], batch['rew'])\n",
    "    return jax.vmap(agent.apply, in_axes=(None, 0, 0, 0, 0, 0))(agent_params, None, None, batch['obs'], None, None)"
   ]
  },
  {
   "cell_type": "code",
   "execution_count": null,
   "id": "29566d83-94dc-42bf-af91-a1c9bed887dd",
   "metadata": {},
   "outputs": [],
   "source": []
  },
  {
   "cell_type": "code",
   "execution_count": 143,
   "id": "9e3f7768-07a4-4d76-b7c4-e45a87bed89f",
   "metadata": {},
   "outputs": [
    {
     "data": {
      "text/plain": [
       "(Array([5, 5, 5, 5, 5, 5, 5, 5, 5, 5, 5, 5, 5, 5, 5, 5, 5, 5, 5, 5, 5, 5,\n",
       "        5, 5, 5, 5, 5, 5, 5, 5, 5, 5, 5, 5, 5, 5, 5, 5, 5, 5, 5, 5, 5, 5,\n",
       "        5, 5, 5, 5, 5, 5, 5, 5, 5, 5, 5, 5, 5, 5, 5, 5, 5, 5, 5, 5, 5, 5,\n",
       "        5, 5, 5, 5, 5, 5, 5, 5, 5, 5, 5, 5, 5, 5, 5, 5, 5, 5, 5, 5, 5, 5,\n",
       "        5, 5, 5, 5, 5, 5, 5, 5, 5, 5, 5, 5], dtype=int32),\n",
       " Array([1, 1, 1, 1, 1, 1, 1, 1, 1, 1, 1, 1, 1, 1, 1, 1, 1, 1, 1, 1, 1, 1,\n",
       "        1, 1, 1, 1, 1, 1, 1, 1, 1, 1, 1, 1, 1, 1, 1, 1, 1, 1, 1, 1, 1, 1,\n",
       "        1, 1, 1, 1, 1, 1, 1, 1, 1, 1, 1, 1, 1, 1, 1, 1, 1, 1, 1, 1, 1, 1,\n",
       "        1, 1, 1, 1, 1, 1, 1, 1, 1, 1, 1, 1, 1, 1, 1, 1, 1, 1, 1, 1, 1, 1,\n",
       "        1, 1, 1, 1, 1, 1, 1, 1, 1, 1, 1, 1], dtype=int32))"
      ]
     },
     "execution_count": 143,
     "metadata": {},
     "output_type": "execute_result"
    }
   ],
   "source": [
    "(ds['obs']!=0).sum(axis=-1).max(axis=-1), (ds['act']!=0).sum(axis=-1).max(axis=-1)"
   ]
  },
  {
   "cell_type": "code",
   "execution_count": null,
   "id": "5da6d82d-3ffb-48b2-ac1f-5f56a3091cb9",
   "metadata": {},
   "outputs": [],
   "source": []
  },
  {
   "cell_type": "code",
   "execution_count": null,
   "id": "e84be7ae-80c6-4e7f-9632-cf2f8d32be5d",
   "metadata": {},
   "outputs": [],
   "source": []
  },
  {
   "cell_type": "code",
   "execution_count": 144,
   "id": "de575cee-2158-4cf4-ae2d-c99cd3f26e5f",
   "metadata": {},
   "outputs": [],
   "source": [
    "# ds['obs'] = (ds['obs']-ds['obs'].mean(axis=(0, 1)))/(ds['obs'].std(axis=(0, 1)))\n",
    "# ds['act'] = (ds['act']-ds['act'].mean(axis=(0, 1)))/(ds['act'].std(axis=(0, 1)))"
   ]
  },
  {
   "cell_type": "code",
   "execution_count": 167,
   "id": "b5daccf6-2baf-49a9-bc0a-cced574d2c8e",
   "metadata": {},
   "outputs": [
    {
     "data": {
      "text/plain": [
       "{'act': (100, 500, 6),\n",
       " 'done': (100, 500),\n",
       " 'obs': (100, 500, 24),\n",
       " 'rew': (100, 500),\n",
       " 'rtg': (100, 500),\n",
       " 'task': (100, 500)}"
      ]
     },
     "execution_count": 167,
     "metadata": {},
     "output_type": "execute_result"
    }
   ],
   "source": [
    "jax.tree.map(lambda x: x.shape, ds)"
   ]
  },
  {
   "cell_type": "code",
   "execution_count": null,
   "id": "098de874-be2b-42c9-b02c-3006d1d01d0d",
   "metadata": {},
   "outputs": [],
   "source": []
  },
  {
   "cell_type": "code",
   "execution_count": null,
   "id": "73648d5e-0d9a-48e1-9e60-d2fb552d645e",
   "metadata": {},
   "outputs": [],
   "source": []
  },
  {
   "cell_type": "code",
   "execution_count": 184,
   "id": "9501400e-9854-4edd-8a0f-13f0f2f05adf",
   "metadata": {},
   "outputs": [],
   "source": [
    "def sample_batch(_rng, dataset, batch_size, n_segs, seg_len):\n",
    "    _rng1, _rng2 = split(_rng)\n",
    "    N, T, _ = dataset['obs'].shape\n",
    "    i_e = jax.random.randint(_rng1, (batch_size, 1, 1), minval=0, maxval=N)\n",
    "    i_t = jax.random.randint(_rng2, (batch_size, n_segs, 1), minval=0, maxval=T - seg_len)\n",
    "    i_t = i_t + jnp.arange(seg_len)\n",
    "    batch = jax.tree.map(lambda x: x[i_e, i_t, ...], dataset)\n",
    "    batch = jax.tree.map(lambda x: rearrange(x, 'b s t ... -> b (s t) ...'), batch)\n",
    "    return batch\n",
    "    \n",
    "def sample_train_batch(_rng):\n",
    "    _rng1, _rng2 = split(_rng)\n",
    "    batch = sample_batch(_rng1, ds, 128, 1, ctx_len)\n",
    "    # batch = data_utils.augment_batch(_rng2, batch, args.n_augs, dist=args.aug_dist)\n",
    "    return batch\n",
    "\n",
    "def loss_fn(agent_params, batch):\n",
    "    result = batch_agent_forward(agent_params, batch)\n",
    "    act_pred = result['act_pred']\n",
    "    mse_act = ((result['act_pred'] - batch['act'])**2).mean(axis=-1) # mean over dim\n",
    "    mse_act = mse_act.mean(axis=0)  # mean over batch\n",
    "    mse_obs = jnp.zeros_like(mse_act) # TODO: do obs prediction\n",
    "    loss = mse_act.mean() # mean over ctx\n",
    "    metrics = dict(loss=loss, mse_act=mse_act, mse_obs=mse_obs)\n",
    "    return loss, metrics\n",
    "\n",
    "@jax.jit\n",
    "def iter_train(train_state, _rng):\n",
    "    batch = sample_train_batch(_rng)\n",
    "    (_, metrics), grads = jax.value_and_grad(loss_fn, has_aux=True)(train_state.params, batch)\n",
    "    train_state = train_state.apply_gradients(grads=grads)\n",
    "    return train_state, metrics\n",
    "\n"
   ]
  },
  {
   "cell_type": "code",
   "execution_count": 185,
   "id": "af3a7a12-7454-4415-af5b-4542464dc35d",
   "metadata": {},
   "outputs": [],
   "source": [
    "rng = jax.random.PRNGKey(0)\n",
    "rng, _rng = split(rng)"
   ]
  },
  {
   "cell_type": "code",
   "execution_count": 186,
   "id": "36c0dac4-2e93-450d-b0f0-f186044a3679",
   "metadata": {},
   "outputs": [],
   "source": [
    "\n",
    "agent_params = agent.init(_rng, jnp.zeros((ctx_len, ), dtype=bool), jnp.zeros((ctx_len, )), jnp.zeros((ctx_len, 24)), jnp.zeros((ctx_len, 6)), jnp.zeros((ctx_len, )))\n",
    "tx = optax.chain(optax.clip_by_global_norm(1.), optax.adamw(3e-4, weight_decay=0., eps=1e-8))\n",
    "train_state = TrainState.create(apply_fn=agent.apply, params=agent_params, tx=tx)\n"
   ]
  },
  {
   "cell_type": "code",
   "execution_count": 187,
   "id": "bc0eb3ec-7707-4efc-8642-9c4e6b18ab62",
   "metadata": {},
   "outputs": [
    {
     "ename": "ScopeParamShapeError",
     "evalue": "Initializer expected to generate shape (24, 128) but got shape (5, 128) instead for parameter \"kernel\" in \"/embed_obs\". (https://flax.readthedocs.io/en/latest/api_reference/flax.errors.html#flax.errors.ScopeParamShapeError)",
     "output_type": "error",
     "traceback": [
      "\u001b[0;31m---------------------------------------------------------------------------\u001b[0m",
      "\u001b[0;31mScopeParamShapeError\u001b[0m                      Traceback (most recent call last)",
      "Cell \u001b[0;32mIn[187], line 1\u001b[0m\n\u001b[0;32m----> 1\u001b[0m train_state, metrics \u001b[38;5;241m=\u001b[39m \u001b[43mjax\u001b[49m\u001b[38;5;241;43m.\u001b[39;49m\u001b[43mlax\u001b[49m\u001b[38;5;241;43m.\u001b[39;49m\u001b[43mscan\u001b[49m\u001b[43m(\u001b[49m\u001b[43miter_train\u001b[49m\u001b[43m,\u001b[49m\u001b[43m \u001b[49m\u001b[43mtrain_state\u001b[49m\u001b[43m,\u001b[49m\u001b[43m \u001b[49m\u001b[43msplit\u001b[49m\u001b[43m(\u001b[49m\u001b[43m_rng\u001b[49m\u001b[43m,\u001b[49m\u001b[43m \u001b[49m\u001b[38;5;241;43m10000\u001b[39;49m\u001b[43m)\u001b[49m\u001b[43m)\u001b[49m\n",
      "    \u001b[0;31m[... skipping hidden 20 frame]\u001b[0m\n",
      "Cell \u001b[0;32mIn[184], line 30\u001b[0m, in \u001b[0;36miter_train\u001b[0;34m(train_state, _rng)\u001b[0m\n\u001b[1;32m     27\u001b[0m \u001b[38;5;129m@jax\u001b[39m\u001b[38;5;241m.\u001b[39mjit\n\u001b[1;32m     28\u001b[0m \u001b[38;5;28;01mdef\u001b[39;00m \u001b[38;5;21miter_train\u001b[39m(train_state, _rng):\n\u001b[1;32m     29\u001b[0m     batch \u001b[38;5;241m=\u001b[39m sample_train_batch(_rng)\n\u001b[0;32m---> 30\u001b[0m     (_, metrics), grads \u001b[38;5;241m=\u001b[39m \u001b[43mjax\u001b[49m\u001b[38;5;241;43m.\u001b[39;49m\u001b[43mvalue_and_grad\u001b[49m\u001b[43m(\u001b[49m\u001b[43mloss_fn\u001b[49m\u001b[43m,\u001b[49m\u001b[43m \u001b[49m\u001b[43mhas_aux\u001b[49m\u001b[38;5;241;43m=\u001b[39;49m\u001b[38;5;28;43;01mTrue\u001b[39;49;00m\u001b[43m)\u001b[49m\u001b[43m(\u001b[49m\u001b[43mtrain_state\u001b[49m\u001b[38;5;241;43m.\u001b[39;49m\u001b[43mparams\u001b[49m\u001b[43m,\u001b[49m\u001b[43m \u001b[49m\u001b[43mbatch\u001b[49m\u001b[43m)\u001b[49m\n\u001b[1;32m     31\u001b[0m     train_state \u001b[38;5;241m=\u001b[39m train_state\u001b[38;5;241m.\u001b[39mapply_gradients(grads\u001b[38;5;241m=\u001b[39mgrads)\n\u001b[1;32m     32\u001b[0m     \u001b[38;5;28;01mreturn\u001b[39;00m train_state, metrics\n",
      "    \u001b[0;31m[... skipping hidden 8 frame]\u001b[0m\n",
      "Cell \u001b[0;32mIn[184], line 18\u001b[0m, in \u001b[0;36mloss_fn\u001b[0;34m(agent_params, batch)\u001b[0m\n\u001b[1;32m     17\u001b[0m \u001b[38;5;28;01mdef\u001b[39;00m \u001b[38;5;21mloss_fn\u001b[39m(agent_params, batch):\n\u001b[0;32m---> 18\u001b[0m     result \u001b[38;5;241m=\u001b[39m \u001b[43mbatch_agent_forward\u001b[49m\u001b[43m(\u001b[49m\u001b[43magent_params\u001b[49m\u001b[43m,\u001b[49m\u001b[43m \u001b[49m\u001b[43mbatch\u001b[49m\u001b[43m)\u001b[49m\n\u001b[1;32m     19\u001b[0m     act_pred \u001b[38;5;241m=\u001b[39m result[\u001b[38;5;124m'\u001b[39m\u001b[38;5;124mact_pred\u001b[39m\u001b[38;5;124m'\u001b[39m]\n\u001b[1;32m     20\u001b[0m     mse_act \u001b[38;5;241m=\u001b[39m ((result[\u001b[38;5;124m'\u001b[39m\u001b[38;5;124mact_pred\u001b[39m\u001b[38;5;124m'\u001b[39m] \u001b[38;5;241m-\u001b[39m batch[\u001b[38;5;124m'\u001b[39m\u001b[38;5;124mact\u001b[39m\u001b[38;5;124m'\u001b[39m])\u001b[38;5;241m*\u001b[39m\u001b[38;5;241m*\u001b[39m\u001b[38;5;241m2\u001b[39m)\u001b[38;5;241m.\u001b[39mmean(axis\u001b[38;5;241m=\u001b[39m\u001b[38;5;241m-\u001b[39m\u001b[38;5;241m1\u001b[39m) \u001b[38;5;66;03m# mean over dim\u001b[39;00m\n",
      "    \u001b[0;31m[... skipping hidden 11 frame]\u001b[0m\n",
      "Cell \u001b[0;32mIn[183], line 8\u001b[0m, in \u001b[0;36mbatch_agent_forward\u001b[0;34m(agent_params, batch)\u001b[0m\n\u001b[1;32m      6\u001b[0m batch[\u001b[38;5;124m'\u001b[39m\u001b[38;5;124mact\u001b[39m\u001b[38;5;124m'\u001b[39m] \u001b[38;5;241m=\u001b[39m batch[\u001b[38;5;124m'\u001b[39m\u001b[38;5;124mact\u001b[39m\u001b[38;5;124m'\u001b[39m][\u001b[38;5;241m.\u001b[39m\u001b[38;5;241m.\u001b[39m\u001b[38;5;241m.\u001b[39m, :\u001b[38;5;241m1\u001b[39m]\n\u001b[1;32m      7\u001b[0m \u001b[38;5;66;03m# return jax.vmap(agent.apply, in_axes=(None, 0, 0, 0, 0, 0))(agent_params, batch['done'], batch['rtg']/1000, batch['obs'], batch['act'], batch['rew'])\u001b[39;00m\n\u001b[0;32m----> 8\u001b[0m \u001b[38;5;28;01mreturn\u001b[39;00m \u001b[43mjax\u001b[49m\u001b[38;5;241;43m.\u001b[39;49m\u001b[43mvmap\u001b[49m\u001b[43m(\u001b[49m\u001b[43magent\u001b[49m\u001b[38;5;241;43m.\u001b[39;49m\u001b[43mapply\u001b[49m\u001b[43m,\u001b[49m\u001b[43m \u001b[49m\u001b[43min_axes\u001b[49m\u001b[38;5;241;43m=\u001b[39;49m\u001b[43m(\u001b[49m\u001b[38;5;28;43;01mNone\u001b[39;49;00m\u001b[43m,\u001b[49m\u001b[43m \u001b[49m\u001b[38;5;241;43m0\u001b[39;49m\u001b[43m,\u001b[49m\u001b[43m \u001b[49m\u001b[38;5;241;43m0\u001b[39;49m\u001b[43m,\u001b[49m\u001b[43m \u001b[49m\u001b[38;5;241;43m0\u001b[39;49m\u001b[43m,\u001b[49m\u001b[43m \u001b[49m\u001b[38;5;241;43m0\u001b[39;49m\u001b[43m,\u001b[49m\u001b[43m \u001b[49m\u001b[38;5;241;43m0\u001b[39;49m\u001b[43m)\u001b[49m\u001b[43m)\u001b[49m\u001b[43m(\u001b[49m\u001b[43magent_params\u001b[49m\u001b[43m,\u001b[49m\u001b[43m \u001b[49m\u001b[38;5;28;43;01mNone\u001b[39;49;00m\u001b[43m,\u001b[49m\u001b[43m \u001b[49m\u001b[38;5;28;43;01mNone\u001b[39;49;00m\u001b[43m,\u001b[49m\u001b[43m \u001b[49m\u001b[43mbatch\u001b[49m\u001b[43m[\u001b[49m\u001b[38;5;124;43m'\u001b[39;49m\u001b[38;5;124;43mobs\u001b[39;49m\u001b[38;5;124;43m'\u001b[39;49m\u001b[43m]\u001b[49m\u001b[43m,\u001b[49m\u001b[43m \u001b[49m\u001b[38;5;28;43;01mNone\u001b[39;49;00m\u001b[43m,\u001b[49m\u001b[43m \u001b[49m\u001b[38;5;28;43;01mNone\u001b[39;49;00m\u001b[43m)\u001b[49m\n",
      "    \u001b[0;31m[... skipping hidden 9 frame]\u001b[0m\n",
      "File \u001b[0;32m~/synthetic-mdps/src/agents/regular_transformer.py:168\u001b[0m, in \u001b[0;36mTrajectoryTransformer.__call__\u001b[0;34m(self, done, rtg, obs, act, rew)\u001b[0m\n\u001b[1;32m    165\u001b[0m T, _ \u001b[38;5;241m=\u001b[39m obs\u001b[38;5;241m.\u001b[39mshape\n\u001b[1;32m    167\u001b[0m x \u001b[38;5;241m=\u001b[39m \u001b[38;5;28mself\u001b[39m\u001b[38;5;241m.\u001b[39membed_pos(jnp\u001b[38;5;241m.\u001b[39marange(T))  \u001b[38;5;66;03m# (T, D)\u001b[39;00m\n\u001b[0;32m--> 168\u001b[0m x \u001b[38;5;241m=\u001b[39m x \u001b[38;5;241m+\u001b[39m \u001b[38;5;28;43mself\u001b[39;49m\u001b[38;5;241;43m.\u001b[39;49m\u001b[43membed_obs\u001b[49m\u001b[43m(\u001b[49m\u001b[43mobs\u001b[49m\u001b[43m)\u001b[49m\n\u001b[1;32m    170\u001b[0m \u001b[38;5;28;01mif\u001b[39;00m done \u001b[38;5;129;01mis\u001b[39;00m \u001b[38;5;129;01mnot\u001b[39;00m \u001b[38;5;28;01mNone\u001b[39;00m:\n\u001b[1;32m    171\u001b[0m     x_done \u001b[38;5;241m=\u001b[39m \u001b[38;5;28mself\u001b[39m\u001b[38;5;241m.\u001b[39membed_done(done\u001b[38;5;241m.\u001b[39mastype(jnp\u001b[38;5;241m.\u001b[39mfloat32)[\u001b[38;5;241m.\u001b[39m\u001b[38;5;241m.\u001b[39m\u001b[38;5;241m.\u001b[39m, \u001b[38;5;28;01mNone\u001b[39;00m])\n",
      "    \u001b[0;31m[... skipping hidden 2 frame]\u001b[0m\n",
      "File \u001b[0;32m~/.virtualenvs/dmc/lib/python3.10/site-packages/flax/linen/linear.py:257\u001b[0m, in \u001b[0;36mDense.__call__\u001b[0;34m(self, inputs)\u001b[0m\n\u001b[1;32m    247\u001b[0m \u001b[38;5;129m@compact\u001b[39m\n\u001b[1;32m    248\u001b[0m \u001b[38;5;28;01mdef\u001b[39;00m \u001b[38;5;21m__call__\u001b[39m(\u001b[38;5;28mself\u001b[39m, inputs: Array) \u001b[38;5;241m-\u001b[39m\u001b[38;5;241m>\u001b[39m Array:\n\u001b[1;32m    249\u001b[0m \u001b[38;5;250m  \u001b[39m\u001b[38;5;124;03m\"\"\"Applies a linear transformation to the inputs along the last dimension.\u001b[39;00m\n\u001b[1;32m    250\u001b[0m \n\u001b[1;32m    251\u001b[0m \u001b[38;5;124;03m  Args:\u001b[39;00m\n\u001b[0;32m   (...)\u001b[0m\n\u001b[1;32m    255\u001b[0m \u001b[38;5;124;03m    The transformed input.\u001b[39;00m\n\u001b[1;32m    256\u001b[0m \u001b[38;5;124;03m  \"\"\"\u001b[39;00m\n\u001b[0;32m--> 257\u001b[0m   kernel \u001b[38;5;241m=\u001b[39m \u001b[38;5;28;43mself\u001b[39;49m\u001b[38;5;241;43m.\u001b[39;49m\u001b[43mparam\u001b[49m\u001b[43m(\u001b[49m\n\u001b[1;32m    258\u001b[0m \u001b[43m    \u001b[49m\u001b[38;5;124;43m'\u001b[39;49m\u001b[38;5;124;43mkernel\u001b[39;49m\u001b[38;5;124;43m'\u001b[39;49m\u001b[43m,\u001b[49m\n\u001b[1;32m    259\u001b[0m \u001b[43m    \u001b[49m\u001b[38;5;28;43mself\u001b[39;49m\u001b[38;5;241;43m.\u001b[39;49m\u001b[43mkernel_init\u001b[49m\u001b[43m,\u001b[49m\n\u001b[1;32m    260\u001b[0m \u001b[43m    \u001b[49m\u001b[43m(\u001b[49m\u001b[43mjnp\u001b[49m\u001b[38;5;241;43m.\u001b[39;49m\u001b[43mshape\u001b[49m\u001b[43m(\u001b[49m\u001b[43minputs\u001b[49m\u001b[43m)\u001b[49m\u001b[43m[\u001b[49m\u001b[38;5;241;43m-\u001b[39;49m\u001b[38;5;241;43m1\u001b[39;49m\u001b[43m]\u001b[49m\u001b[43m,\u001b[49m\u001b[43m \u001b[49m\u001b[38;5;28;43mself\u001b[39;49m\u001b[38;5;241;43m.\u001b[39;49m\u001b[43mfeatures\u001b[49m\u001b[43m)\u001b[49m\u001b[43m,\u001b[49m\n\u001b[1;32m    261\u001b[0m \u001b[43m    \u001b[49m\u001b[38;5;28;43mself\u001b[39;49m\u001b[38;5;241;43m.\u001b[39;49m\u001b[43mparam_dtype\u001b[49m\u001b[43m,\u001b[49m\n\u001b[1;32m    262\u001b[0m \u001b[43m  \u001b[49m\u001b[43m)\u001b[49m\n\u001b[1;32m    263\u001b[0m   \u001b[38;5;28;01mif\u001b[39;00m \u001b[38;5;28mself\u001b[39m\u001b[38;5;241m.\u001b[39muse_bias:\n\u001b[1;32m    264\u001b[0m     bias \u001b[38;5;241m=\u001b[39m \u001b[38;5;28mself\u001b[39m\u001b[38;5;241m.\u001b[39mparam(\n\u001b[1;32m    265\u001b[0m       \u001b[38;5;124m'\u001b[39m\u001b[38;5;124mbias\u001b[39m\u001b[38;5;124m'\u001b[39m, \u001b[38;5;28mself\u001b[39m\u001b[38;5;241m.\u001b[39mbias_init, (\u001b[38;5;28mself\u001b[39m\u001b[38;5;241m.\u001b[39mfeatures,), \u001b[38;5;28mself\u001b[39m\u001b[38;5;241m.\u001b[39mparam_dtype\n\u001b[1;32m    266\u001b[0m     )\n",
      "    \u001b[0;31m[... skipping hidden 1 frame]\u001b[0m\n",
      "File \u001b[0;32m~/.virtualenvs/dmc/lib/python3.10/site-packages/flax/core/scope.py:982\u001b[0m, in \u001b[0;36mScope.param\u001b[0;34m(self, name, init_fn, unbox, *init_args, **init_kwargs)\u001b[0m\n\u001b[1;32m    977\u001b[0m   \u001b[38;5;28;01mfor\u001b[39;00m val, abs_val \u001b[38;5;129;01min\u001b[39;00m \u001b[38;5;28mzip\u001b[39m(value_flat, abs_value_flat):\n\u001b[1;32m    978\u001b[0m     \u001b[38;5;66;03m# NOTE: We could check dtype consistency here as well but it's\u001b[39;00m\n\u001b[1;32m    979\u001b[0m     \u001b[38;5;66;03m# usefuleness is less obvious. We might intentionally change the dtype\u001b[39;00m\n\u001b[1;32m    980\u001b[0m     \u001b[38;5;66;03m# for inference to a half float type for example.\u001b[39;00m\n\u001b[1;32m    981\u001b[0m     \u001b[38;5;28;01mif\u001b[39;00m jnp\u001b[38;5;241m.\u001b[39mshape(val) \u001b[38;5;241m!=\u001b[39m jnp\u001b[38;5;241m.\u001b[39mshape(abs_val):\n\u001b[0;32m--> 982\u001b[0m       \u001b[38;5;28;01mraise\u001b[39;00m errors\u001b[38;5;241m.\u001b[39mScopeParamShapeError(\n\u001b[1;32m    983\u001b[0m         name, \u001b[38;5;28mself\u001b[39m\u001b[38;5;241m.\u001b[39mpath_text, jnp\u001b[38;5;241m.\u001b[39mshape(abs_val), jnp\u001b[38;5;241m.\u001b[39mshape(val)\n\u001b[1;32m    984\u001b[0m       )\n\u001b[1;32m    985\u001b[0m \u001b[38;5;28;01melse\u001b[39;00m:\n\u001b[1;32m    986\u001b[0m   \u001b[38;5;28;01mif\u001b[39;00m \u001b[38;5;129;01mnot\u001b[39;00m \u001b[38;5;28mself\u001b[39m\u001b[38;5;241m.\u001b[39mis_mutable_collection(\u001b[38;5;124m'\u001b[39m\u001b[38;5;124mparams\u001b[39m\u001b[38;5;124m'\u001b[39m):\n",
      "\u001b[0;31mScopeParamShapeError\u001b[0m: Initializer expected to generate shape (24, 128) but got shape (5, 128) instead for parameter \"kernel\" in \"/embed_obs\". (https://flax.readthedocs.io/en/latest/api_reference/flax.errors.html#flax.errors.ScopeParamShapeError)"
     ]
    }
   ],
   "source": [
    "train_state, metrics = jax.lax.scan(iter_train, train_state, split(_rng, 10000))"
   ]
  },
  {
   "cell_type": "code",
   "execution_count": null,
   "id": "03d4668f-34b2-408f-96eb-3b2a41296522",
   "metadata": {},
   "outputs": [],
   "source": [
    "((ds['act'][:, :, 0])**2).mean()"
   ]
  },
  {
   "cell_type": "code",
   "execution_count": null,
   "id": "fac4c219-16da-473e-8b7a-73145595651a",
   "metadata": {},
   "outputs": [],
   "source": []
  },
  {
   "cell_type": "code",
   "execution_count": null,
   "id": "94249fd8-8acc-4d9f-b1f2-d48e36bab279",
   "metadata": {},
   "outputs": [],
   "source": []
  },
  {
   "cell_type": "code",
   "execution_count": null,
   "id": "c0d8c575-799f-441b-82d0-204b5fc4d0d7",
   "metadata": {},
   "outputs": [],
   "source": []
  },
  {
   "cell_type": "code",
   "execution_count": 150,
   "id": "ed8070de-9da6-4f7a-b0c9-d12bded57280",
   "metadata": {},
   "outputs": [
    {
     "data": {
      "image/png": "[encoded data removed]",
      "text/plain": [
       "<Figure size 640x480 with 1 Axes>"
      ]
     },
     "metadata": {},
     "output_type": "display_data"
    }
   ],
   "source": [
    "plt.plot(metrics['loss'])\n",
    "plt.yscale('log')"
   ]
  },
  {
   "cell_type": "code",
   "execution_count": null,
   "id": "9f0869b0-4469-4c95-8115-e21d295252f3",
   "metadata": {},
   "outputs": [],
   "source": []
  },
  {
   "cell_type": "code",
   "execution_count": null,
   "id": "724ce88e-ec77-4c19-a54a-8c870f8ca427",
   "metadata": {},
   "outputs": [],
   "source": []
  },
  {
   "cell_type": "code",
   "execution_count": null,
   "id": "8e3f2b4d-b7d4-461d-9aad-d8b1303a41dc",
   "metadata": {},
   "outputs": [],
   "source": []
  },
  {
   "cell_type": "code",
   "execution_count": null,
   "id": "e5acf6e9-9b34-4f93-a3ab-73be3897f662",
   "metadata": {},
   "outputs": [],
   "source": []
  },
  {
   "cell_type": "code",
   "execution_count": 282,
   "id": "e8253cac-f4f8-46fb-aa02-8a851cdd324c",
   "metadata": {},
   "outputs": [],
   "source": [
    "import gymnasium as gym\n",
    "from envs.dmcontrol import make_env as make_dm_env\n",
    "\n",
    "class DMCEnv(gym.Env):\n",
    "    def __init__(self, task, seed=0):\n",
    "        self.dm_env = make_dm_env(task, seed=seed)\n",
    "        o, a = self.dm_env.observation_space, self.dm_env.action_space\n",
    "        self.observation_space = gym.spaces.Box(o.low, o.high, o.shape, np.float32)\n",
    "        self.action_space = gym.spaces.Box(a.low, a.high, a.shape, np.float32)\n",
    "    def reset(self):\n",
    "        obs = self.dm_env.reset()\n",
    "        return obs, {}\n",
    "    def step(self, act):\n",
    "        obs, rew, done, info = self.dm_env.step(act)\n",
    "        return obs, rew, done, done, info\n",
    "\n",
    "class JaxArray(gym.Wrapper):\n",
    "    def __init__(self, env):\n",
    "        super().__init__(env)\n",
    "\n",
    "    def reset(self):\n",
    "        obs, info = self.env.reset()\n",
    "        obs = jnp.array(obs)\n",
    "        return obs, info\n",
    "    def step(self, action):\n",
    "        obs, rew, term, trunc, info = self.env.step(action)\n",
    "        obs, rew, term, trunc = jnp.array(obs), jnp.array(rew), jnp.array(term), jnp.array(trunc)\n",
    "        return obs, rew, term, trunc, info\n",
    "\n",
    "# class UniversalObs(gym.ObservationWrapper):\n",
    "#     def __init__(self, env, d_obs):\n",
    "#         super().__init__(env)\n",
    "#         self.d_obs = d_obs\n",
    "#         self.observation_space = gym.spaces.Box(shape=(bs, d_obs,), low=-np.inf, high=np.inf)\n",
    "#     def observation(self, obs):\n",
    "#         bs, d_obs_old = obs.shape\n",
    "#         pad = np.zeros((bs, self.d_obs-d_obs_old), dtype=obs.dtype)\n",
    "#         obs = np.concatenate([obs, pad], axis=-1)\n",
    "#         return obs\n",
    "        \n",
    "# class UniversalAct(gym.ActionWrapper):\n",
    "#     def __init__(self, env, d_act):\n",
    "#         super().__init__(env)\n",
    "#         self.d_obs_old = env.action_space.shape[-1]\n",
    "#         self.action_space = gym.spaces.Box(shape=(d_act,), low=-1, high=1)\n",
    "        \n",
    "#     def action(self, act):\n",
    "#         return act[:, :self.d_obs_old]\n",
    "\n",
    "# env = DMCEnv(\"cheetah-run\", 3)"
   ]
  },
  {
   "cell_type": "code",
   "execution_count": 61,
   "id": "dfaf94f8-1842-4ce4-810a-e0e0a6f08835",
   "metadata": {},
   "outputs": [
    {
     "name": "stdout",
     "output_type": "stream",
     "text": [
      "(64, 17)\n",
      "(64, 6)\n"
     ]
    },
    {
     "data": {
      "application/vnd.jupyter.widget-view+json": {
       "model_id": "d3ace82400cd474fa7d29479ce558b11",
       "version_major": 2,
       "version_minor": 0
      },
      "text/plain": [
       "Rollout:   0%|          | 0/500 [00:00<?, ?it/s]"
      ]
     },
     "metadata": {},
     "output_type": "display_data"
    }
   ],
   "source": [
    "def rollout(task, ):\n",
    "    env = gym.vector.SyncVectorEnv([partial(DMCEnv, task, seed) for seed in range(64)])\n",
    "    # env = UniversalObs(env, 24)\n",
    "    # env = UniversalAct(env, 6)\n",
    "    \n",
    "    env = gym.wrappers.RecordEpisodeStatistics(env)\n",
    "    print(env.observation_space.shape)\n",
    "    print(env.action_space.shape)\n",
    "    \n",
    "    buffer = dict(obs=[], act=[], rew=[], done=[])\n",
    "    stats = []\n",
    "    \n",
    "    obs, infos = env.reset()\n",
    "    for _ in tqdm(range(500), desc=\"Rollout\"):\n",
    "        \n",
    "        act = env.action_space.sample()\n",
    "        obs, rew, term, trunc, infos = env.step(act)\n",
    "\n",
    "        if \"episode\" in infos:\n",
    "            for r, l in zip(infos['episode']['r'], infos['episode']['l']):\n",
    "                stats.append((r, l))\n",
    "    stats = np.array(stats)\n",
    "    return stats\n",
    "\n",
    "stats = rollout('cheetah-run')"
   ]
  },
  {
   "cell_type": "code",
   "execution_count": 21,
   "id": "d1290f0f-7e26-4c5a-8ced-83d61ff67ccf",
   "metadata": {},
   "outputs": [
    {
     "data": {
      "text/plain": [
       "(0.12857014237670228, 0.0651522142017685)"
      ]
     },
     "execution_count": 21,
     "metadata": {},
     "output_type": "execute_result"
    }
   ],
   "source": [
    "stats[:, 0].mean(), stats[: ,0].std()"
   ]
  },
  {
   "cell_type": "code",
   "execution_count": 22,
   "id": "8ae39488-efa7-4b20-987e-066154821cb1",
   "metadata": {},
   "outputs": [
    {
     "data": {
      "image/png": "[encoded data removed]",
      "text/plain": [
       "<Figure size 640x480 with 1 Axes>"
      ]
     },
     "metadata": {},
     "output_type": "display_data"
    }
   ],
   "source": [
    "plt.hist(stats[:, 0], bins=30);"
   ]
  },
  {
   "cell_type": "code",
   "execution_count": null,
   "id": "52afb1fc-5177-4f53-997a-eb165f0f1913",
   "metadata": {},
   "outputs": [],
   "source": []
  },
  {
   "cell_type": "code",
   "execution_count": 152,
   "id": "7ca9dac2-da82-4160-a8a1-c144db6d34f9",
   "metadata": {},
   "outputs": [],
   "source": [
    "def rollout(task, n_envs, agent, agent_params, prompt=None):\n",
    "    env = gym.vector.SyncVectorEnv([partial(DMCEnv, task, seed) for seed in range(n_envs)])\n",
    "    env = gym.wrappers.RecordEpisodeStatistics(env)\n",
    "    env = JaxArray(env)\n",
    "    \n",
    "    print(env.observation_space.shape)\n",
    "    print(env.action_space.shape)\n",
    "    d_obs, d_act = env.observation_space.shape[-1], env.action_space.shape[-1]\n",
    "\n",
    "    def transform_obs(obs):\n",
    "        bs, d = obs.shape\n",
    "        pad = jnp.zeros((bs, agent.d_obs-d_obs), dtype=obs.dtype)\n",
    "        obs = jnp.concatenate([obs, pad], axis=-1)\n",
    "        return obs\n",
    "        \n",
    "    def inv_transform_act(act):\n",
    "        d_act = env.action_space.shape[-1]\n",
    "        return act[:, :d_act]\n",
    "\n",
    "    ctx_len = agent.ctx_len\n",
    "    def get_action(buffer):\n",
    "        buffer = {k: jnp.stack(v[-ctx_len:], axis=1) for k, v in buffer.items()}\n",
    "        _, buf_len, _ = buffer['obs'].shape\n",
    "        prompt_len = 0\n",
    "        pad_len = ctx_len - buf_len\n",
    "        pad_buffer = {k: repeat(v[:, 0, ...], \"N ... -> N pad_len ...\", pad_len=pad_len) for k, v in buffer.items()}\n",
    "        # inputs = {k: jnp.concatenate([prompt[k], buffer[k], pad_buffer[k]], axis=1) for k in buffer}\n",
    "        inputs = {k: jnp.concatenate([buffer[k], pad_buffer[k]], axis=1) for k in buffer}\n",
    "        outputs = batch_agent_forward(agent_params, inputs)\n",
    "        return outputs['act_pred'][:, prompt_len+buf_len-1, :]\n",
    "        \n",
    "    stats = []\n",
    "    buffer = dict(done=[], rtg=[], obs=[], act=[], rew=[])\n",
    "    \n",
    "    rtg = jnp.ones((n_envs, ))*1000\n",
    "    (obs, infos), done = env.reset(), jnp.ones((n_envs, ), dtype=bool)\n",
    "    act = jnp.zeros((n_envs, d_act))\n",
    "    rew = jnp.zeros((n_envs, ))\n",
    "    \n",
    "    for _ in tqdm(range(500), desc=\"Rollout\"):\n",
    "        buffer['done'].append(done)\n",
    "        buffer['rtg'].append(rtg)\n",
    "        buffer['obs'].append(transform_obs(obs))\n",
    "        buffer['act'].append(act) # dummy\n",
    "        buffer['rew'].append(rew) # dummy\n",
    "\n",
    "        if agent_params is None:\n",
    "            act = env.action_space.sample()\n",
    "        else:\n",
    "            act = np.array(inv_transform_act(get_action(buffer)))\n",
    "        \n",
    "        obs, rew, term, trunc, infos = env.step(act)\n",
    "        done = term | trunc\n",
    "\n",
    "        buffer['act'][-1] = act\n",
    "        buffer['rew'][-1] = rew\n",
    "        rtg = rtg - rew\n",
    "\n",
    "        if \"episode\" in infos:\n",
    "            for r, l in zip(infos['episode']['r'], infos['episode']['l']):\n",
    "                stats.append((r, l))\n",
    "    stats = np.array(stats)\n",
    "    \n",
    "    buffer = {k: jnp.stack(v, axis=1) for k, v in buffer.items()}\n",
    "    return stats, buffer"
   ]
  },
  {
   "cell_type": "code",
   "execution_count": 161,
   "id": "2c67ffd3-9972-4b82-9dfe-f4cd40dc7cba",
   "metadata": {},
   "outputs": [
    {
     "name": "stdout",
     "output_type": "stream",
     "text": [
      "(32, 5)\n",
      "(32, 1)\n"
     ]
    },
    {
     "data": {
      "application/vnd.jupyter.widget-view+json": {
       "model_id": "bd74078abfd24c98b168d37494b36813",
       "version_major": 2,
       "version_minor": 0
      },
      "text/plain": [
       "Rollout:   0%|          | 0/500 [00:00<?, ?it/s]"
      ]
     },
     "metadata": {},
     "output_type": "display_data"
    },
    {
     "name": "stdout",
     "output_type": "stream",
     "text": [
      "(32, 5)\n",
      "(32, 1)\n"
     ]
    },
    {
     "data": {
      "application/vnd.jupyter.widget-view+json": {
       "model_id": "e31e74d581b842708cb3f759a4611618",
       "version_major": 2,
       "version_minor": 0
      },
      "text/plain": [
       "Rollout:   0%|          | 0/500 [00:00<?, ?it/s]"
      ]
     },
     "metadata": {},
     "output_type": "display_data"
    }
   ],
   "source": [
    "stats1, buffer1 = rollout('cartpole-balance-sparse', 32, agent, None, None)\n",
    "stats2, buffer2 = rollout('cartpole-balance-sparse', 32, agent, train_state.params, None)"
   ]
  },
  {
   "cell_type": "code",
   "execution_count": 162,
   "id": "05db4901-0f22-4136-aeab-6066f3fb8d02",
   "metadata": {},
   "outputs": [
    {
     "name": "stdout",
     "output_type": "stream",
     "text": [
      "44.375\n",
      "27.78125\n"
     ]
    }
   ],
   "source": [
    "print(stats1[:, 0].mean())\n",
    "print(stats2[:, 0].mean())"
   ]
  },
  {
   "cell_type": "code",
   "execution_count": null,
   "id": "4129e98d-5826-45c7-922f-cf1395efb97a",
   "metadata": {},
   "outputs": [],
   "source": []
  },
  {
   "cell_type": "code",
   "execution_count": null,
   "id": "0d5340a0-18c2-46a9-a92e-e1830c7c85ca",
   "metadata": {},
   "outputs": [],
   "source": []
  },
  {
   "cell_type": "code",
   "execution_count": null,
   "id": "7ba47387-e68a-487a-9908-370f43f01a6b",
   "metadata": {},
   "outputs": [],
   "source": []
  },
  {
   "cell_type": "code",
   "execution_count": null,
   "id": "87273fc4-868c-4bcd-8364-bc9884a2e6c8",
   "metadata": {},
   "outputs": [],
   "source": []
  },
  {
   "cell_type": "code",
   "execution_count": null,
   "id": "5dc38804-9f85-412e-ba10-560dcead08f2",
   "metadata": {},
   "outputs": [],
   "source": []
  },
  {
   "cell_type": "code",
   "execution_count": null,
   "id": "1ef3931d-b2f8-4328-b151-7bafef249480",
   "metadata": {},
   "outputs": [],
   "source": []
  },
  {
   "cell_type": "code",
   "execution_count": null,
   "id": "d0d4dce3-e2ee-47d0-a733-40a0e8507812",
   "metadata": {},
   "outputs": [],
   "source": []
  },
  {
   "cell_type": "code",
   "execution_count": null,
   "id": "07a4b7b5-92c4-4146-96ce-755010f41b8e",
   "metadata": {},
   "outputs": [],
   "source": []
  },
  {
   "cell_type": "code",
   "execution_count": 372,
   "id": "3b7692eb-9150-4042-8d93-16f075bdf661",
   "metadata": {},
   "outputs": [
    {
     "data": {
      "text/plain": [
       "(32, 500, 24)"
      ]
     },
     "execution_count": 372,
     "metadata": {},
     "output_type": "execute_result"
    }
   ],
   "source": [
    "buffer2['obs'].shape"
   ]
  },
  {
   "cell_type": "code",
   "execution_count": 373,
   "id": "723ecb90-ec7d-4c62-b9e5-9c93140abe32",
   "metadata": {},
   "outputs": [
    {
     "data": {
      "text/plain": [
       "(10, 500, 24)"
      ]
     },
     "execution_count": 373,
     "metadata": {},
     "output_type": "execute_result"
    }
   ],
   "source": [
    "ds['obs'].shape"
   ]
  },
  {
   "cell_type": "code",
   "execution_count": 377,
   "id": "d9e11563-feef-48ee-8b01-20d289bcdbe7",
   "metadata": {},
   "outputs": [
    {
     "data": {
      "text/plain": [
       "[<matplotlib.lines.Line2D at 0x7fbd9741d390>]"
      ]
     },
     "execution_count": 377,
     "metadata": {},
     "output_type": "execute_result"
    },
    {
     "data": {
      "image/png": "[encoded data removed]",
      "text/plain": [
       "<Figure size 640x480 with 1 Axes>"
      ]
     },
     "metadata": {},
     "output_type": "display_data"
    }
   ],
   "source": [
    "plt.plot(ds['obs'][-1, 1, :])\n",
    "plt.plot(buffer1['obs'][-1, 1, :])\n",
    "plt.plot(buffer2['obs'][-1, 1, :])"
   ]
  },
  {
   "cell_type": "code",
   "execution_count": null,
   "id": "9c8ba64f-1d39-4249-a61d-04cbd57c079f",
   "metadata": {},
   "outputs": [],
   "source": []
  },
  {
   "cell_type": "code",
   "execution_count": null,
   "id": "6ac2e634-adb4-436a-91bc-89d688e1dc71",
   "metadata": {},
   "outputs": [],
   "source": []
  },
  {
   "cell_type": "code",
   "execution_count": null,
   "id": "39580514-4fae-41b6-9760-29479743e57d",
   "metadata": {},
   "outputs": [],
   "source": []
  },
  {
   "cell_type": "code",
   "execution_count": null,
   "id": "6c743d93-1c5b-4ec6-aee1-09b7ff2f0aca",
   "metadata": {},
   "outputs": [],
   "source": []
  },
  {
   "cell_type": "code",
   "execution_count": 169,
   "id": "f3eba630-61f5-484d-b938-4eb686da5be7",
   "metadata": {},
   "outputs": [
    {
     "data": {
      "text/plain": [
       "[<matplotlib.lines.Line2D at 0x7fbd83de0430>]"
      ]
     },
     "execution_count": 169,
     "metadata": {},
     "output_type": "execute_result"
    },
    {
     "data": {
      "image/png": "[encoded data removed]",
      "text/plain": [
       "<Figure size 640x480 with 1 Axes>"
      ]
     },
     "metadata": {},
     "output_type": "display_data"
    }
   ],
   "source": [
    "plt.plot(np.stack(buffer1['act'], axis=1)[0, :, 0])\n",
    "plt.plot(np.stack(buffer2['act'], axis=1)[0, :, 0])"
   ]
  },
  {
   "cell_type": "code",
   "execution_count": null,
   "id": "ec6ebcb1-8cf5-464d-b25b-f81bf086ddb7",
   "metadata": {},
   "outputs": [],
   "source": []
  },
  {
   "cell_type": "code",
   "execution_count": null,
   "id": "b9dad2eb-ded1-441a-9be1-2e820c563a4b",
   "metadata": {},
   "outputs": [],
   "source": []
  },
  {
   "cell_type": "code",
   "execution_count": null,
   "id": "03cb723e-ab85-407d-9604-e3554054218d",
   "metadata": {},
   "outputs": [],
   "source": []
  },
  {
   "cell_type": "code",
   "execution_count": 144,
   "id": "80039fe3-9ce1-4020-b489-47e61feda801",
   "metadata": {},
   "outputs": [
    {
     "data": {
      "text/plain": [
       "-0.06935599"
      ]
     },
     "execution_count": 144,
     "metadata": {},
     "output_type": "execute_result"
    }
   ],
   "source": [
    "buffer1['act'][0][0, 0]"
   ]
  },
  {
   "cell_type": "code",
   "execution_count": 145,
   "id": "c71d5d47-790a-49d2-b794-b9778e147790",
   "metadata": {},
   "outputs": [
    {
     "data": {
      "text/plain": [
       "Array(0.78859407, dtype=float32)"
      ]
     },
     "execution_count": 145,
     "metadata": {},
     "output_type": "execute_result"
    }
   ],
   "source": [
    "buffer2['act'][0][0, 0]"
   ]
  },
  {
   "cell_type": "code",
   "execution_count": null,
   "id": "429be096-897c-4b92-8b73-60ccfeae045c",
   "metadata": {},
   "outputs": [],
   "source": []
  },
  {
   "cell_type": "code",
   "execution_count": null,
   "id": "358f6c7e-517f-4075-93f7-7b0da039bfea",
   "metadata": {},
   "outputs": [],
   "source": []
  },
  {
   "cell_type": "code",
   "execution_count": null,
   "id": "62814140-1907-4eb7-8109-5e141f26e76b",
   "metadata": {},
   "outputs": [],
   "source": []
  },
  {
   "cell_type": "code",
   "execution_count": null,
   "id": "3880fff7-2fcd-44ce-b990-1fd921fb4e3e",
   "metadata": {},
   "outputs": [],
   "source": []
  },
  {
   "cell_type": "code",
   "execution_count": 132,
   "id": "482f2ecd-b7c3-42d2-a8a7-4ee6a6170b5c",
   "metadata": {},
   "outputs": [
    {
     "data": {
      "text/plain": [
       "0.12902958132326603"
      ]
     },
     "execution_count": 132,
     "metadata": {},
     "output_type": "execute_result"
    }
   ],
   "source": [
    "stats[:, 0].mean()"
   ]
  },
  {
   "cell_type": "code",
   "execution_count": 120,
   "id": "1fbd1f9d-b051-4c3b-807f-3a4f7f888693",
   "metadata": {},
   "outputs": [
    {
     "data": {
      "text/plain": [
       "0.12902958132326603"
      ]
     },
     "execution_count": 120,
     "metadata": {},
     "output_type": "execute_result"
    }
   ],
   "source": [
    "stats[:, 0].mean()"
   ]
  },
  {
   "cell_type": "code",
   "execution_count": null,
   "id": "95222a04-2f6c-40a3-9684-6299c6e525e6",
   "metadata": {},
   "outputs": [],
   "source": []
  },
  {
   "cell_type": "code",
   "execution_count": null,
   "id": "0cdb162c-ecc7-4cb3-9f6d-0fe5d01008a8",
   "metadata": {},
   "outputs": [],
   "source": []
  },
  {
   "cell_type": "code",
   "execution_count": null,
   "id": "cca2db74-d05e-42c6-8b72-71f9be436598",
   "metadata": {},
   "outputs": [],
   "source": []
  },
  {
   "cell_type": "code",
   "execution_count": null,
   "id": "954a247e-db49-481f-af26-ddb9cbd8c8ee",
   "metadata": {},
   "outputs": [],
   "source": []
  },
  {
   "cell_type": "code",
   "execution_count": null,
   "id": "622ceb2a-62ad-4ab3-a7d7-3da5ee5a3f6d",
   "metadata": {},
   "outputs": [],
   "source": []
  },
  {
   "cell_type": "code",
   "execution_count": null,
   "id": "8c02d8a3-eb9a-4dc3-999c-b9fac516e484",
   "metadata": {},
   "outputs": [],
   "source": []
  },
  {
   "cell_type": "code",
   "execution_count": null,
   "id": "311a6727-18dd-4b71-b98e-11178a03def8",
   "metadata": {},
   "outputs": [],
   "source": []
  },
  {
   "cell_type": "code",
   "execution_count": 32,
   "id": "8872f8c1-104a-4c6f-9aad-9f8e2d4e5f8a",
   "metadata": {},
   "outputs": [],
   "source": [
    "from dm_control import suite"
   ]
  },
  {
   "cell_type": "code",
   "execution_count": null,
   "id": "535e0ccf-4d24-43c6-b3bc-afecaee88910",
   "metadata": {},
   "outputs": [],
   "source": [
    "Acrobot Swingup\t6\t1\n",
    "Cartpole Balance\t5\t1\n",
    "Cartpole Balance Sparse\t5\t1\n",
    "Cartpole Swingup\t5\t1\n",
    "Cartpole Swingup Sparse\t5\t1\n",
    "Cheetah Jump\t17\t6\n",
    "Cheetah Run\t17\t6\n",
    "Cheetah Run Back\t17\t6\n",
    "Cheetah Run Backwards\t17\t6\n",
    "Cheetah Run Front\t17\t6\n",
    "Cup Catch\t8\t2\n",
    "Cup Spin\t8\t2\n",
    "Finger Spin\t9\t2\n",
    "Finger Turn Easy\t12\t2\n",
    "Finger Turn Hard\t12\t2\n",
    "Fish Swim\t24\t5\n",
    "Hopper Hop\t15\t4\n",
    "Hopper Hop Backwards\t15\t4\n",
    "Hopper Stand\t15\t4\n",
    "Pendulum Spin\t3\t1\n",
    "Pendulum Swingup\t3\t1\n",
    "Reacher Easy\t6\t2\n",
    "Reacher Hard\t6\t2\n",
    "Reacher Three Easy\t8\t3\n",
    "Reacher Three Hard\t8\t3\n",
    "Walker Run\t24\t6\n",
    "Walker Run Backwards\t24\t6\n",
    "Walker Stand\t24\t6\n",
    "Walker Walk\t24\t6\n",
    "Walker Walk Backwards\t24"
   ]
  },
  {
   "cell_type": "code",
   "execution_count": null,
   "id": "dc86caf5-42f0-43ba-b7fe-9921330aeff0",
   "metadata": {},
   "outputs": [],
   "source": []
  },
  {
   "cell_type": "code",
   "execution_count": 231,
   "id": "cd3d80c2-d839-4470-b4b9-d280a95dd9c2",
   "metadata": {},
   "outputs": [],
   "source": [
    "ds_obs, ds_act = ds['obs'][..., :6].reshape(-1, 6), ds['act'][..., :1].reshape(-1, 1)"
   ]
  },
  {
   "cell_type": "code",
   "execution_count": 237,
   "id": "10d9cbf6-1872-4771-96f2-5c8ca81747e6",
   "metadata": {},
   "outputs": [
    {
     "data": {
      "text/plain": [
       "Array(886.26685, dtype=float32)"
      ]
     },
     "execution_count": 237,
     "metadata": {},
     "output_type": "execute_result"
    }
   ],
   "source": [
    "ds['rtg'][:, 0].mean()"
   ]
  },
  {
   "cell_type": "code",
   "execution_count": 257,
   "id": "28be5223-06de-4f81-9aca-c1a730e9be1f",
   "metadata": {},
   "outputs": [
    {
     "name": "stdout",
     "output_type": "stream",
     "text": [
      "[ 3.7587233e-04 -1.2826889e-03  8.3923453e-01  9.2030108e-01\n",
      " -1.3637548e-02 -3.4041531e-02]\n",
      "[0.29199952 0.27748746 0.45871726 0.2757626  1.6521945  3.0600073 ]\n",
      "[-0.00570193]\n",
      "[0.6780561]\n"
     ]
    }
   ],
   "source": [
    "print(ds_obs.mean(axis=0))\n",
    "print(ds_obs.std(axis=0))\n",
    "print(ds_act.mean(axis=0))\n",
    "print(ds_act.std(axis=0))"
   ]
  },
  {
   "cell_type": "code",
   "execution_count": null,
   "id": "078894a3-f01d-4b85-b7a5-365a4d071238",
   "metadata": {},
   "outputs": [],
   "source": []
  },
  {
   "cell_type": "code",
   "execution_count": 269,
   "id": "32426e54-0e61-4962-9a7b-e7d36639c92f",
   "metadata": {},
   "outputs": [],
   "source": [
    "class MLP(nn.Module):\n",
    "    d_act: int\n",
    "    \n",
    "    @nn.compact\n",
    "    def __call__(self, x):\n",
    "        x = nn.Dense(features=32)(x)\n",
    "        x = nn.gelu(x)\n",
    "        x = nn.Dense(features=32)(x)\n",
    "        x = nn.gelu(x)\n",
    "        x = nn.Dense(features=32)(x)\n",
    "        x = nn.gelu(x)\n",
    "        x = nn.Dense(features=self.d_act)(x)\n",
    "        return x\n",
    "\n",
    "rng = jax.random.PRNGKey(0)\n",
    "\n",
    "mlp = MLP(1)\n",
    "rng, _rng = split(rng)\n",
    "params = mlp.init(_rng, jnp.ones(6,))\n",
    "tx = optax.adam(3e-4)\n",
    "train_state = TrainState.create(apply_fn=mlp.apply, params=params, tx=tx)"
   ]
  },
  {
   "cell_type": "code",
   "execution_count": 270,
   "id": "35bc0695-bada-4410-83b2-d8af7d6dcb72",
   "metadata": {},
   "outputs": [],
   "source": [
    "def loss_fn(params, obs, act):\n",
    "    act_pred = jax.vmap(mlp.apply, in_axes=(None, 0))(params, obs)\n",
    "    loss = ((act_pred-act)**2).mean()\n",
    "    return loss\n",
    "    \n",
    "@jax.jit\n",
    "def train_step(state, rng):\n",
    "    idx = jax.random.randint(rng, (256, ), 0, 50000)\n",
    "    obs, act = ds_obs[idx], ds_act[idx]\n",
    "    (loss, grads) = jax.value_and_grad(loss_fn)(state.params, obs, act)\n",
    "    return state.apply_gradients(grads=grads), loss\n",
    "\n",
    "\n",
    "train_state, losses = jax.lax.scan(train_step, train_state, split(_rng, 1000000))\n"
   ]
  },
  {
   "cell_type": "code",
   "execution_count": 279,
   "id": "bcb21b19-0ad7-4cfb-bf8f-e995b4a774e6",
   "metadata": {},
   "outputs": [
    {
     "data": {
      "text/plain": [
       "[<matplotlib.lines.Line2D at 0x7f8302e9d5d0>]"
      ]
     },
     "execution_count": 279,
     "metadata": {},
     "output_type": "execute_result"
    },
    {
     "data": {
      "image/png": "[encoded data removed]",
      "text/plain": [
       "<Figure size 640x480 with 1 Axes>"
      ]
     },
     "metadata": {},
     "output_type": "display_data"
    }
   ],
   "source": [
    "plt.plot(losses.reshape(-1, 1000).mean(axis=-1))\n",
    "# plt.yscale('log')"
   ]
  },
  {
   "cell_type": "code",
   "execution_count": 305,
   "id": "66e4be4d-941a-4098-bb34-25f0e6b39be4",
   "metadata": {},
   "outputs": [],
   "source": [
    "params = train_state.params\n",
    "agent_forward = partial(jax.jit(jax.vmap(mlp.apply, in_axes=(None, 0))), params)"
   ]
  },
  {
   "cell_type": "code",
   "execution_count": 313,
   "id": "35ce3184-f6fd-4cf1-84f7-77bc17946791",
   "metadata": {},
   "outputs": [],
   "source": [
    "env = gym.vector.SyncVectorEnv([partial(DMCEnv, \"acrobot-swingup\", seed) for seed in range(64)])\n",
    "env = gym.wrappers.RecordEpisodeStatistics(env)"
   ]
  },
  {
   "cell_type": "code",
   "execution_count": 334,
   "id": "6aca4df1-9b3b-425b-b270-fd290f799471",
   "metadata": {},
   "outputs": [],
   "source": []
  },
  {
   "cell_type": "code",
   "execution_count": null,
   "id": "5b3709d1-9913-4994-8e6d-fc9552fb03e2",
   "metadata": {},
   "outputs": [],
   "source": []
  },
  {
   "cell_type": "code",
   "execution_count": 314,
   "id": "ea52a447-dd65-4af3-b818-e20a9809d32e",
   "metadata": {},
   "outputs": [
    {
     "data": {
      "application/vnd.jupyter.widget-view+json": {
       "model_id": "107a57d6fdd942e4a573014baa205156",
       "version_major": 2,
       "version_minor": 0
      },
      "text/plain": [
       "  0%|          | 0/500 [00:00<?, ?it/s]"
      ]
     },
     "metadata": {},
     "output_type": "display_data"
    }
   ],
   "source": [
    "obs, info = env.reset()\n",
    "for t in tqdm(range(500)):\n",
    "    act = agent_forward(obs)\n",
    "    act = np.array(act)\n",
    "    # act = env.action_space.sample()\n",
    "    # act.shape\n",
    "    obs, rew, term, trunc, infos = env.step(act)    "
   ]
  },
  {
   "cell_type": "code",
   "execution_count": 315,
   "id": "0daea85b-4797-4d70-a10f-34011aa981c3",
   "metadata": {},
   "outputs": [
    {
     "data": {
      "text/plain": [
       "16.63522"
      ]
     },
     "execution_count": 315,
     "metadata": {},
     "output_type": "execute_result"
    }
   ],
   "source": [
    "infos['episode']['r'].mean()"
   ]
  },
  {
   "cell_type": "code",
   "execution_count": null,
   "id": "3c5b9cc5-3ab8-4782-9883-76cf206af77f",
   "metadata": {},
   "outputs": [],
   "source": []
  },
  {
   "cell_type": "code",
   "execution_count": 343,
   "id": "2bcf5ad6-5c9f-4018-b5a0-535a985524fb",
   "metadata": {},
   "outputs": [
    {
     "data": {
      "text/plain": [
       "(100, 6)"
      ]
     },
     "execution_count": 343,
     "metadata": {},
     "output_type": "execute_result"
    }
   ],
   "source": [
    "obs.shape"
   ]
  },
  {
   "cell_type": "code",
   "execution_count": 344,
   "id": "479cce05-4e88-459b-9c3e-fe3ddbac352a",
   "metadata": {},
   "outputs": [
    {
     "data": {
      "text/plain": [
       "<ErrorbarContainer object of 3 artists>"
      ]
     },
     "execution_count": 344,
     "metadata": {},
     "output_type": "execute_result"
    },
    {
     "data": {
      "image/png": "[encoded data removed]",
      "text/plain": [
       "<Figure size 640x480 with 1 Axes>"
      ]
     },
     "metadata": {},
     "output_type": "display_data"
    }
   ],
   "source": [
    "obs, info = env.reset()\n",
    "plt.errorbar(np.arange(6), obs.mean(axis=0), obs.std(axis=0))\n",
    "obs = ds_obs.reshape(100, 500, 6)[:, 0]\n",
    "plt.errorbar(np.arange(6), obs.mean(axis=0), obs.std(axis=0))\n"
   ]
  },
  {
   "cell_type": "code",
   "execution_count": null,
   "id": "31538f30-2682-4ef5-99d6-9457ac4b2ccb",
   "metadata": {},
   "outputs": [],
   "source": []
  },
  {
   "cell_type": "code",
   "execution_count": null,
   "id": "7cc3f580-eb6e-4035-b927-83375371eda2",
   "metadata": {},
   "outputs": [],
   "source": []
  },
  {
   "cell_type": "code",
   "execution_count": null,
   "id": "50e3e31d-ae41-4985-acde-b0b5bbc1fa8a",
   "metadata": {},
   "outputs": [],
   "source": []
  },
  {
   "cell_type": "code",
   "execution_count": null,
   "id": "a74fcb04-7ff4-4796-94be-7cff11b7d5b9",
   "metadata": {},
   "outputs": [],
   "source": []
  },
  {
   "cell_type": "code",
   "execution_count": null,
   "id": "3f526d56-45e5-4377-90fc-d23d6e9d8d16",
   "metadata": {},
   "outputs": [],
   "source": []
  }
 ],
 "metadata": {
  "kernelspec": {
   "display_name": "Python 3 (ipykernel)",
   "language": "python",
   "name": "python3"
  },
  "language_info": {
   "codemirror_mode": {
    "name": "ipython",
    "version": 3
   },
   "file_extension": ".py",
   "mimetype": "text/x-python",
   "name": "python",
   "nbconvert_exporter": "python",
   "pygments_lexer": "ipython3",
   "version": "3.10.12"
  }
 },
 "nbformat": 4,
 "nbformat_minor": 5
}
