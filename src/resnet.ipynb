{
 "cells": [
  {
   "cell_type": "code",
   "outputs": [],
   "source": [
    "%load_ext autoreload\n",
    "%autoreload 2"
   ],
   "metadata": {
    "collapsed": false,
    "ExecuteTime": {
     "end_time": "2024-03-15T21:50:30.750189Z",
     "start_time": "2024-03-15T21:50:30.691118Z"
    }
   },
   "id": "35849442ac6d9c0a",
   "execution_count": 1
  },
  {
   "cell_type": "code",
   "outputs": [],
   "source": [
    "import torch\n",
    "from torch import nn\n",
    "from torch.distributions.categorical import Categorical\n",
    "\n",
    "import matplotlib.pyplot as plt\n",
    "import pickle\n",
    "import numpy as np\n",
    "import os, sys\n",
    "from tqdm.auto import tqdm\n"
   ],
   "metadata": {
    "collapsed": false,
    "ExecuteTime": {
     "end_time": "2024-03-15T21:58:30.949323Z",
     "start_time": "2024-03-15T21:58:30.532723Z"
    }
   },
   "id": "e51559a417a10bc1",
   "execution_count": 27
  },
  {
   "cell_type": "code",
   "outputs": [],
   "source": [
    "with open(\"/data/vision/phillipi/akumar01/synthetic-mdps-data/datasets_old/procgen/bigfish/dataset.pkl\", \"rb\") as f:\n",
    "    dataset = pickle.load(f)"
   ],
   "metadata": {
    "collapsed": false,
    "ExecuteTime": {
     "end_time": "2024-03-15T21:52:04.419735Z",
     "start_time": "2024-03-15T21:51:54.909638Z"
    }
   },
   "id": "e535edebd84cd8a0",
   "execution_count": 4
  },
  {
   "cell_type": "code",
   "outputs": [
    {
     "data": {
      "text/plain": "(64, 4096, 64, 64, 3)"
     },
     "execution_count": 5,
     "metadata": {},
     "output_type": "execute_result"
    }
   ],
   "source": [
    "dataset['obs'].shape"
   ],
   "metadata": {
    "collapsed": false,
    "ExecuteTime": {
     "end_time": "2024-03-15T21:52:04.637487Z",
     "start_time": "2024-03-15T21:52:04.424776Z"
    }
   },
   "id": "7549975bf86e0fcf",
   "execution_count": 5
  },
  {
   "cell_type": "code",
   "outputs": [],
   "source": [
    "def layer_init_normed(layer, norm_dim, scale=1.0):\n",
    "    with torch.no_grad():\n",
    "        layer.weight.data *= scale / layer.weight.norm(dim=norm_dim, p=2, keepdim=True)\n",
    "        layer.bias *= 0\n",
    "    return layer\n",
    "\n",
    "class ResidualBlock(nn.Module):\n",
    "    def __init__(self, channels, scale):\n",
    "        super().__init__()\n",
    "        # scale = (1/3**0.5 * 1/2**0.5)**0.5 # For default IMPALA CNN this is the final scale value in the PPG code\n",
    "        scale = np.sqrt(scale)\n",
    "        conv0 = nn.Conv2d(in_channels=channels, out_channels=channels, kernel_size=3, padding=1)\n",
    "        self.conv0 = layer_init_normed(conv0, norm_dim=(1, 2, 3), scale=scale)\n",
    "        conv1 = nn.Conv2d(in_channels=channels, out_channels=channels, kernel_size=3, padding=1)\n",
    "        self.conv1 = layer_init_normed(conv1, norm_dim=(1, 2, 3), scale=scale)\n",
    "\n",
    "    def forward(self, x):\n",
    "        inputs = x\n",
    "        x = nn.functional.relu(x)\n",
    "        x = self.conv0(x)\n",
    "        x = nn.functional.relu(x)\n",
    "        x = self.conv1(x)\n",
    "        return x + inputs\n",
    "\n",
    "\n",
    "class ConvSequence(nn.Module):\n",
    "    def __init__(self, input_shape, out_channels, scale):\n",
    "        super().__init__()\n",
    "        self._input_shape = input_shape\n",
    "        self._out_channels = out_channels\n",
    "        conv = nn.Conv2d(in_channels=self._input_shape[0], out_channels=self._out_channels, kernel_size=3, padding=1)\n",
    "        self.conv = layer_init_normed(conv, norm_dim=(1, 2, 3), scale=1.0)\n",
    "        nblocks = 2  # Set to the number of residual blocks\n",
    "        scale = scale / np.sqrt(nblocks)\n",
    "        self.res_block0 = ResidualBlock(self._out_channels, scale=scale)\n",
    "        self.res_block1 = ResidualBlock(self._out_channels, scale=scale)\n",
    "\n",
    "    def forward(self, x):\n",
    "        x = self.conv(x)\n",
    "        x = nn.functional.max_pool2d(x, kernel_size=3, stride=2, padding=1)\n",
    "        x = self.res_block0(x)\n",
    "        x = self.res_block1(x)\n",
    "        assert x.shape[1:] == self.get_output_shape()\n",
    "        return x\n",
    "\n",
    "    def get_output_shape(self):\n",
    "        _c, h, w = self._input_shape\n",
    "        return (self._out_channels, (h + 1) // 2, (w + 1) // 2)\n",
    "\n",
    "\n",
    "class Agent(nn.Module):\n",
    "    def __init__(self):\n",
    "        super().__init__()\n",
    "        h, w, c = (64, 64, 3)\n",
    "        shape = (c, h, w)\n",
    "        conv_seqs = []\n",
    "        chans = [16, 32, 32]\n",
    "        scale = 1 / np.sqrt(len(chans))  # Not fully sure about the logic behind this but its used in PPG code\n",
    "        for out_channels in chans:\n",
    "            conv_seq = ConvSequence(shape, out_channels, scale=scale)\n",
    "            shape = conv_seq.get_output_shape()\n",
    "            conv_seqs.append(conv_seq)\n",
    "\n",
    "        encodertop = nn.Linear(in_features=shape[0] * shape[1] * shape[2], out_features=256)\n",
    "        encodertop = layer_init_normed(encodertop, norm_dim=1, scale=1.4)\n",
    "        conv_seqs += [\n",
    "            nn.Flatten(),\n",
    "            nn.ReLU(),\n",
    "            encodertop,\n",
    "            nn.ReLU(),\n",
    "        ]\n",
    "        self.network = nn.Sequential(*conv_seqs)\n",
    "        self.actor = layer_init_normed(nn.Linear(256, 15), norm_dim=1, scale=0.1)\n",
    "        self.critic = layer_init_normed(nn.Linear(256, 1), norm_dim=1, scale=0.1)\n",
    "        self.aux_critic = layer_init_normed(nn.Linear(256, 1), norm_dim=1, scale=0.1)\n",
    "\n",
    "    def get_action_and_value(self, x, action=None):\n",
    "        hidden = self.network(x.permute((0, 3, 1, 2)) / 255.0)  # \"bhwc\" -> \"bchw\"\n",
    "        logits = self.actor(hidden)\n",
    "        probs = Categorical(logits=logits)\n",
    "        if action is None:\n",
    "            action = probs.sample()\n",
    "        return action, probs.log_prob(action), probs.entropy(), self.critic(hidden.detach()), logits\n",
    "\n",
    "    def get_value(self, x):\n",
    "        return self.critic(self.network(x.permute((0, 3, 1, 2)) / 255.0))  # \"bhwc\" -> \"bchw\"\n",
    "\n",
    "    # PPG logic:\n",
    "    def get_pi_value_and_aux_value(self, x):\n",
    "        hidden = self.network(x.permute((0, 3, 1, 2)) / 255.0)\n",
    "        return Categorical(logits=self.actor(hidden)), self.critic(hidden.detach()), self.aux_critic(hidden)\n",
    "\n",
    "    def get_pi(self, x):\n",
    "        return Categorical(logits=self.actor(self.network(x.permute((0, 3, 1, 2)) / 255.0)))\n"
   ],
   "metadata": {
    "collapsed": false,
    "ExecuteTime": {
     "end_time": "2024-03-15T21:55:48.764489Z",
     "start_time": "2024-03-15T21:55:48.701039Z"
    }
   },
   "id": "ca6ba07afa8d2e",
   "execution_count": 19
  },
  {
   "cell_type": "code",
   "outputs": [
    {
     "data": {
      "text/plain": "  0%|          | 0/10000 [00:00<?, ?it/s]",
      "application/vnd.jupyter.widget-view+json": {
       "version_major": 2,
       "version_minor": 0,
       "model_id": "19b3f5ae4e1d47e6af6e966bee295817"
      }
     },
     "metadata": {},
     "output_type": "display_data"
    }
   ],
   "source": [
    "device = 'cuda'\n",
    "agent = Agent().to(device)\n",
    "opt = torch.optim.Adam(agent.parameters(), lr=3e-4)\n",
    "bs = 32\n",
    "\n",
    "n, t, *_ = dataset['obs'].shape\n",
    "\n",
    "losses = []\n",
    "pbar = tqdm(range(10000))\n",
    "for i in pbar:\n",
    "    i_n, i_t = np.random.randint(0, n, bs), np.random.randint(0, t, bs)\n",
    "    \n",
    "    x_batch = dataset['obs'][i_n, i_t]\n",
    "    y_batch = dataset['act'][i_n, i_t]\n",
    "    \n",
    "    x_batch = torch.from_numpy(x_batch).to(device)/255.0\n",
    "    y_batch = torch.from_numpy(y_batch).to(device).to(int)\n",
    "    \n",
    "    action, log_prob, entropy, value, logits = agent.get_action_and_value(x_batch)\n",
    "    loss = nn.functional.cross_entropy(logits, y_batch)\n",
    "    \n",
    "    opt.zero_grad()\n",
    "    loss.backward()\n",
    "    opt.step()\n",
    "    \n",
    "    losses.append(loss.item())\n",
    "    pbar.set_postfix(loss=loss.item())\n",
    "    \n",
    "    "
   ],
   "metadata": {
    "collapsed": false,
    "ExecuteTime": {
     "end_time": "2024-03-15T22:03:03.540526Z",
     "start_time": "2024-03-15T22:00:28.455442Z"
    }
   },
   "id": "ba549cf1dcb792ba",
   "execution_count": 39
  },
  {
   "cell_type": "code",
   "outputs": [
    {
     "data": {
      "text/plain": "[<matplotlib.lines.Line2D at 0x7f6f400ae440>]"
     },
     "execution_count": 40,
     "metadata": {},
     "output_type": "execute_result"
    },
    {
     "data": {
      "text/plain": "<Figure size 640x480 with 1 Axes>",
      "image/png": "[encoded data removed]"
     },
     "metadata": {},
     "output_type": "display_data"
    }
   ],
   "source": [
    "plt.plot(losses)"
   ],
   "metadata": {
    "collapsed": false
   },
   "id": "36f6f4b604997454",
   "execution_count": 40
  },
  {
   "cell_type": "code",
   "outputs": [],
   "source": [],
   "metadata": {
    "collapsed": false
   },
   "id": "cec877341be3fa81"
  },
  {
   "cell_type": "code",
   "outputs": [],
   "source": [],
   "metadata": {
    "collapsed": false
   },
   "id": "40c19da42b78f342"
  },
  {
   "cell_type": "code",
   "execution_count": null,
   "id": "initial_id",
   "metadata": {
    "collapsed": true
   },
   "outputs": [],
   "source": []
  }
 ],
 "metadata": {
  "kernelspec": {
   "display_name": "Python 3",
   "language": "python",
   "name": "python3"
  },
  "language_info": {
   "codemirror_mode": {
    "name": "ipython",
    "version": 2
   },
   "file_extension": ".py",
   "mimetype": "text/x-python",
   "name": "python",
   "nbconvert_exporter": "python",
   "pygments_lexer": "ipython2",
   "version": "2.7.6"
  }
 },
 "nbformat": 4,
 "nbformat_minor": 5
}
