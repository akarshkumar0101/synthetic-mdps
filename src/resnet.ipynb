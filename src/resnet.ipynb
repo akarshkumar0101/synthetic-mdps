{
 "cells": [
  {
   "cell_type": "code",
   "outputs": [],
   "source": [
    "%load_ext autoreload\n",
    "%autoreload 2"
   ],
   "metadata": {
    "collapsed": false,
    "ExecuteTime": {
     "end_time": "2024-03-16T20:10:30.213928Z",
     "start_time": "2024-03-16T20:10:30.175693Z"
    }
   },
   "id": "35849442ac6d9c0a",
   "execution_count": 1
  },
  {
   "cell_type": "code",
   "outputs": [],
   "source": [
    "import torch\n",
    "from torch import nn\n",
    "from torch.distributions.categorical import Categorical\n",
    "\n",
    "import matplotlib.pyplot as plt\n",
    "import pickle\n",
    "import numpy as np\n",
    "import os, sys\n",
    "from tqdm.auto import tqdm\n"
   ],
   "metadata": {
    "collapsed": false,
    "ExecuteTime": {
     "end_time": "2024-03-16T20:10:33.545748Z",
     "start_time": "2024-03-16T20:10:30.514876Z"
    }
   },
   "id": "e51559a417a10bc1",
   "execution_count": 2
  },
  {
   "cell_type": "code",
   "outputs": [],
   "source": [
    "with open(\"/data/vision/phillipi/akumar01/synthetic-mdps-data/datasets/procgen/bigfish/dataset.pkl\", \"rb\") as f:\n",
    "    dataset = pickle.load(f)"
   ],
   "metadata": {
    "collapsed": false,
    "ExecuteTime": {
     "end_time": "2024-03-16T20:10:40.687045Z",
     "start_time": "2024-03-16T20:10:33.548203Z"
    }
   },
   "id": "e535edebd84cd8a0",
   "execution_count": 3
  },
  {
   "cell_type": "code",
   "outputs": [
    {
     "name": "stdout",
     "output_type": "stream",
     "text": [
      "{'obs': (64, 4096, 64, 64, 3), 'act': (64, 4096), 'logits': (64, 4096, 15), 'rew': (64, 4096), 'done': (64, 4096)}\n"
     ]
    }
   ],
   "source": [
    "print({k: v.shape for k, v in dataset.items()})"
   ],
   "metadata": {
    "collapsed": false,
    "ExecuteTime": {
     "end_time": "2024-03-16T20:10:40.713623Z",
     "start_time": "2024-03-16T20:10:40.689395Z"
    }
   },
   "id": "2886900091ab29cf",
   "execution_count": 4
  },
  {
   "cell_type": "code",
   "outputs": [
    {
     "data": {
      "text/plain": "(64, 4096, 64, 64, 3)"
     },
     "execution_count": 5,
     "metadata": {},
     "output_type": "execute_result"
    }
   ],
   "source": [
    "dataset['obs'].shape"
   ],
   "metadata": {
    "collapsed": false,
    "ExecuteTime": {
     "end_time": "2024-03-16T20:10:40.738027Z",
     "start_time": "2024-03-16T20:10:40.716098Z"
    }
   },
   "id": "7549975bf86e0fcf",
   "execution_count": 5
  },
  {
   "cell_type": "code",
   "outputs": [],
   "source": [
    "def layer_init_normed(layer, norm_dim, scale=1.0):\n",
    "    with torch.no_grad():\n",
    "        layer.weight.data *= scale / layer.weight.norm(dim=norm_dim, p=2, keepdim=True)\n",
    "        layer.bias *= 0\n",
    "    return layer\n",
    "\n",
    "class ResidualBlock(nn.Module):\n",
    "    def __init__(self, channels, scale):\n",
    "        super().__init__()\n",
    "        # scale = (1/3**0.5 * 1/2**0.5)**0.5 # For default IMPALA CNN this is the final scale value in the PPG code\n",
    "        scale = np.sqrt(scale)\n",
    "        conv0 = nn.Conv2d(in_channels=channels, out_channels=channels, kernel_size=3, padding=1)\n",
    "        self.conv0 = layer_init_normed(conv0, norm_dim=(1, 2, 3), scale=scale)\n",
    "        conv1 = nn.Conv2d(in_channels=channels, out_channels=channels, kernel_size=3, padding=1)\n",
    "        self.conv1 = layer_init_normed(conv1, norm_dim=(1, 2, 3), scale=scale)\n",
    "\n",
    "    def forward(self, x):\n",
    "        inputs = x\n",
    "        x = nn.functional.relu(x)\n",
    "        x = self.conv0(x)\n",
    "        x = nn.functional.relu(x)\n",
    "        x = self.conv1(x)\n",
    "        return x + inputs\n",
    "\n",
    "\n",
    "class ConvSequence(nn.Module):\n",
    "    def __init__(self, input_shape, out_channels, scale):\n",
    "        super().__init__()\n",
    "        self._input_shape = input_shape\n",
    "        self._out_channels = out_channels\n",
    "        conv = nn.Conv2d(in_channels=self._input_shape[0], out_channels=self._out_channels, kernel_size=3, padding=1)\n",
    "        self.conv = layer_init_normed(conv, norm_dim=(1, 2, 3), scale=1.0)\n",
    "        nblocks = 2  # Set to the number of residual blocks\n",
    "        scale = scale / np.sqrt(nblocks)\n",
    "        self.res_block0 = ResidualBlock(self._out_channels, scale=scale)\n",
    "        self.res_block1 = ResidualBlock(self._out_channels, scale=scale)\n",
    "\n",
    "    def forward(self, x):\n",
    "        x = self.conv(x)\n",
    "        x = nn.functional.max_pool2d(x, kernel_size=3, stride=2, padding=1)\n",
    "        x = self.res_block0(x)\n",
    "        x = self.res_block1(x)\n",
    "        assert x.shape[1:] == self.get_output_shape()\n",
    "        return x\n",
    "\n",
    "    def get_output_shape(self):\n",
    "        _c, h, w = self._input_shape\n",
    "        return (self._out_channels, (h + 1) // 2, (w + 1) // 2)\n",
    "\n",
    "\n",
    "class Agent(nn.Module):\n",
    "    def __init__(self):\n",
    "        super().__init__()\n",
    "        h, w, c = (64, 64, 3)\n",
    "        shape = (c, h, w)\n",
    "        conv_seqs = []\n",
    "        chans = [16, 32, 32]\n",
    "        scale = 1 / np.sqrt(len(chans))  # Not fully sure about the logic behind this but its used in PPG code\n",
    "        for out_channels in chans:\n",
    "            conv_seq = ConvSequence(shape, out_channels, scale=scale)\n",
    "            shape = conv_seq.get_output_shape()\n",
    "            conv_seqs.append(conv_seq)\n",
    "\n",
    "        encodertop = nn.Linear(in_features=shape[0] * shape[1] * shape[2], out_features=256)\n",
    "        encodertop = layer_init_normed(encodertop, norm_dim=1, scale=1.4)\n",
    "        conv_seqs += [\n",
    "            nn.Flatten(),\n",
    "            nn.ReLU(),\n",
    "            encodertop,\n",
    "            nn.ReLU(),\n",
    "        ]\n",
    "        self.network = nn.Sequential(*conv_seqs)\n",
    "        self.actor = layer_init_normed(nn.Linear(256, 15), norm_dim=1, scale=0.1)\n",
    "        self.critic = layer_init_normed(nn.Linear(256, 1), norm_dim=1, scale=0.1)\n",
    "        self.aux_critic = layer_init_normed(nn.Linear(256, 1), norm_dim=1, scale=0.1)\n",
    "\n",
    "    def get_action_and_value(self, x, action=None):\n",
    "        hidden = self.network(x.permute((0, 3, 1, 2)) / 255.0)  # \"bhwc\" -> \"bchw\"\n",
    "        logits = self.actor(hidden)\n",
    "        probs = Categorical(logits=logits)\n",
    "        if action is None:\n",
    "            action = probs.sample()\n",
    "        return action, probs.log_prob(action), probs.entropy(), self.critic(hidden.detach()), logits\n",
    "\n",
    "    def get_value(self, x):\n",
    "        return self.critic(self.network(x.permute((0, 3, 1, 2)) / 255.0))  # \"bhwc\" -> \"bchw\"\n",
    "\n",
    "    # PPG logic:\n",
    "    def get_pi_value_and_aux_value(self, x):\n",
    "        hidden = self.network(x.permute((0, 3, 1, 2)) / 255.0)\n",
    "        return Categorical(logits=self.actor(hidden)), self.critic(hidden.detach()), self.aux_critic(hidden)\n",
    "\n",
    "    def get_pi(self, x):\n",
    "        return Categorical(logits=self.actor(self.network(x.permute((0, 3, 1, 2)) / 255.0)))\n"
   ],
   "metadata": {
    "collapsed": false,
    "ExecuteTime": {
     "end_time": "2024-03-16T20:09:56.442330Z",
     "start_time": "2024-03-16T20:09:56.413841Z"
    }
   },
   "id": "ca6ba07afa8d2e",
   "execution_count": 6
  },
  {
   "cell_type": "code",
   "outputs": [
    {
     "data": {
      "text/plain": "  0%|          | 0/50000 [00:00<?, ?it/s]",
      "application/vnd.jupyter.widget-view+json": {
       "version_major": 2,
       "version_minor": 0,
       "model_id": "f796e4b5d9a64d188a015582198e077b"
      }
     },
     "metadata": {},
     "output_type": "display_data"
    }
   ],
   "source": [
    "device = 'cuda:7'\n",
    "agent = Agent().to(device)\n",
    "opt = torch.optim.Adam(agent.parameters(), lr=3e-4)\n",
    "bs = 128\n",
    "\n",
    "n, t, *_ = dataset['obs'].shape\n",
    "\n",
    "losses = []\n",
    "pbar = tqdm(range(50000))\n",
    "for i in pbar:\n",
    "    i_n, i_t = np.random.randint(0, n, bs), np.random.randint(0, t, bs)\n",
    "    \n",
    "    x_batch = dataset['obs'][i_n, i_t]\n",
    "    y_batch = dataset['act'][i_n, i_t]\n",
    "    \n",
    "    x_batch = torch.from_numpy(x_batch).to(device)\n",
    "    y_batch = torch.from_numpy(y_batch).to(device).to(int)\n",
    "    \n",
    "    action, log_prob, entropy, value, logits = agent.get_action_and_value(x_batch)\n",
    "    loss = nn.functional.cross_entropy(logits, y_batch)\n",
    "    \n",
    "    opt.zero_grad()\n",
    "    loss.backward()\n",
    "    opt.step()\n",
    "    \n",
    "    losses.append(loss.item())\n",
    "    pbar.set_postfix(loss=loss.item())\n",
    "    "
   ],
   "metadata": {
    "collapsed": false,
    "ExecuteTime": {
     "end_time": "2024-03-16T19:38:16.539695Z",
     "start_time": "2024-03-16T19:24:17.189508Z"
    }
   },
   "id": "ba549cf1dcb792ba",
   "execution_count": 34
  },
  {
   "cell_type": "code",
   "outputs": [
    {
     "data": {
      "text/plain": "[<matplotlib.lines.Line2D at 0x7f70c83b4820>]"
     },
     "execution_count": 35,
     "metadata": {},
     "output_type": "execute_result"
    },
    {
     "data": {
      "text/plain": "<Figure size 640x480 with 1 Axes>",
      "image/png": "[encoded data removed]"
     },
     "metadata": {},
     "output_type": "display_data"
    }
   ],
   "source": [
    "plt.plot(losses)\n",
    "plt.plot(np.convolve(losses, np.ones(500)/500, mode='valid'))"
   ],
   "metadata": {
    "collapsed": false,
    "ExecuteTime": {
     "end_time": "2024-03-16T19:38:19.758163Z",
     "start_time": "2024-03-16T19:38:18.989563Z"
    }
   },
   "id": "36f6f4b604997454",
   "execution_count": 35
  },
  {
   "cell_type": "code",
   "outputs": [
    {
     "data": {
      "text/plain": "(64, 4096, 15)"
     },
     "execution_count": 16,
     "metadata": {},
     "output_type": "execute_result"
    }
   ],
   "source": [
    "dataset['logits']"
   ],
   "metadata": {
    "collapsed": false,
    "ExecuteTime": {
     "end_time": "2024-03-16T19:18:30.181634Z",
     "start_time": "2024-03-16T19:18:30.138546Z"
    }
   },
   "id": "cec877341be3fa81",
   "execution_count": 16
  },
  {
   "cell_type": "code",
   "outputs": [
    {
     "data": {
      "text/plain": "tensor(10.2119)"
     },
     "execution_count": 26,
     "metadata": {},
     "output_type": "execute_result"
    }
   ],
   "source": [
    "np.e**torch.distributions.Categorical(logits=torch.from_numpy(dataset['logits'])).entropy().mean()"
   ],
   "metadata": {
    "collapsed": false,
    "ExecuteTime": {
     "end_time": "2024-03-16T19:19:54.770765Z",
     "start_time": "2024-03-16T19:19:54.695074Z"
    }
   },
   "id": "40c19da42b78f342",
   "execution_count": 26
  },
  {
   "cell_type": "code",
   "outputs": [],
   "source": [
    "import torchvision\n",
    "from torchvision.models import resnet18, ResNet18_Weights"
   ],
   "metadata": {
    "collapsed": false,
    "ExecuteTime": {
     "end_time": "2024-03-16T20:10:47.871451Z",
     "start_time": "2024-03-16T20:10:45.753104Z"
    }
   },
   "id": "27e9eaee758ef719",
   "execution_count": 6
  },
  {
   "cell_type": "code",
   "outputs": [],
   "source": [],
   "metadata": {
    "collapsed": false,
    "ExecuteTime": {
     "end_time": "2024-03-16T20:10:47.877643Z",
     "start_time": "2024-03-16T20:10:47.874011Z"
    }
   },
   "id": "5253c2e4bf328eff",
   "execution_count": 6
  },
  {
   "cell_type": "code",
   "outputs": [],
   "source": [
    "device = 'cuda:7'\n",
    "rn_mean = torch.tensor([0.485, 0.456, 0.406])[:, None, None].to(device)\n",
    "rn_std = torch.tensor([0.229, 0.224, 0.225])[:, None, None].to(device)\n",
    "resize_transform = torchvision.transforms.Resize((224, 224))\n",
    "resnet = resnet18(weights=ResNet18_Weights.IMAGENET1K_V1).to(device)\n",
    "\n",
    "activation = {}\n",
    "\n",
    "def get_activation(name):\n",
    "    def hook(model, input, output):\n",
    "        activation[name] = output.detach()\n",
    "\n",
    "    return hook\n",
    "\n",
    "\n",
    "resnet.layer1.register_forward_hook(get_activation('layer1'))\n",
    "resnet.layer2.register_forward_hook(get_activation('layer2'))\n",
    "resnet.layer3.register_forward_hook(get_activation('layer3'))\n",
    "resnet.layer4.register_forward_hook(get_activation('layer4'))\n",
    "\n",
    "\n",
    "@torch.no_grad()\n",
    "def embed_obs(obs):\n",
    "    x = obs\n",
    "    x = x.permute((0, 3, 1, 2))  # \"bhwc\" -> \"bchw\"\n",
    "    x = resize_transform(x)  # rescale to 224x224 with torchvision\n",
    "    x = x / 255.0\n",
    "    x = (x - rn_mean) / rn_std\n",
    "    y = resnet(x)\n",
    "    features = activation[f'layer3'].mean(axis=(-1, -2))\n",
    "    return features"
   ],
   "metadata": {
    "collapsed": false,
    "ExecuteTime": {
     "end_time": "2024-03-16T20:36:12.846559Z",
     "start_time": "2024-03-16T20:36:11.751578Z"
    }
   },
   "id": "68fdd556d69d9eaa",
   "execution_count": 41
  },
  {
   "cell_type": "code",
   "outputs": [
    {
     "data": {
      "text/plain": "  0%|          | 0/4096 [00:00<?, ?it/s]",
      "application/vnd.jupyter.widget-view+json": {
       "version_major": 2,
       "version_minor": 0,
       "model_id": "12602031226b4eab92c7137fccb07e49"
      }
     },
     "metadata": {},
     "output_type": "display_data"
    }
   ],
   "source": [
    "rn_obs = []\n",
    "for t in tqdm(range(dataset['obs'].shape[1])):\n",
    "    x = dataset['obs'][:, t]\n",
    "    x = torch.from_numpy(x).to(device)\n",
    "    x = embed_obs(x)\n",
    "    rn_obs.append(x.cpu().numpy())\n",
    "rn_obs = np.stack(rn_obs, axis=1)\n",
    "rn_obs = (rn_obs-rn_obs.mean(axis=(0, 1), keepdims=True))/rn_obs.std(axis=(0, 1), keepdims=True)\n"
   ],
   "metadata": {
    "collapsed": false,
    "ExecuteTime": {
     "end_time": "2024-03-16T20:37:50.972553Z",
     "start_time": "2024-03-16T20:36:13.426697Z"
    }
   },
   "id": "1f97e717708e5d25",
   "execution_count": 42
  },
  {
   "cell_type": "code",
   "outputs": [],
   "source": [
    "agent = nn.Sequential(\n",
    "    nn.Linear(rn_obs.shape[-1], 512),\n",
    "    nn.GELU(),\n",
    "    nn.Linear(512, 256),\n",
    "    nn.GELU(),\n",
    "    nn.Linear(256, 256),\n",
    "    nn.GELU(),\n",
    "    nn.Linear(256, 256),\n",
    "    nn.GELU(),\n",
    "    nn.Linear(256, 256),\n",
    "    nn.GELU(),\n",
    "    nn.Linear(256, 15),\n",
    ")"
   ],
   "metadata": {
    "collapsed": false,
    "ExecuteTime": {
     "end_time": "2024-03-16T20:37:54.511020Z",
     "start_time": "2024-03-16T20:37:53.723836Z"
    }
   },
   "id": "ba5410bcf86145e3",
   "execution_count": 43
  },
  {
   "cell_type": "code",
   "outputs": [
    {
     "data": {
      "text/plain": "  0%|          | 0/50000 [00:00<?, ?it/s]",
      "application/vnd.jupyter.widget-view+json": {
       "version_major": 2,
       "version_minor": 0,
       "model_id": "e7e67702e0fe46b19634c5a3b33227f6"
      }
     },
     "metadata": {},
     "output_type": "display_data"
    }
   ],
   "source": [
    "device = 'cuda:7'\n",
    "agent = agent.to(device)\n",
    "opt = torch.optim.Adam(agent.parameters(), lr=3e-4)\n",
    "bs = 128\n",
    "\n",
    "n, t, *_ = dataset['obs'].shape\n",
    "\n",
    "losses = []\n",
    "pbar = tqdm(range(50000))\n",
    "for i in pbar:\n",
    "    i_n, i_t = np.random.randint(0, n, bs), np.random.randint(0, t, bs)\n",
    "    \n",
    "    # x_batch = dataset['obs'][i_n, i_t]\n",
    "    x_batch = rn_obs[i_n, i_t]\n",
    "    y_batch = dataset['act'][i_n, i_t]\n",
    "    \n",
    "    x_batch = torch.from_numpy(x_batch).to(device)\n",
    "    y_batch = torch.from_numpy(y_batch).to(device).to(int)\n",
    "\n",
    "    logits = agent.forward(x_batch)\n",
    "    loss = nn.functional.cross_entropy(logits, y_batch)\n",
    "    \n",
    "    opt.zero_grad()\n",
    "    loss.backward()\n",
    "    opt.step()\n",
    "    \n",
    "    losses.append(loss.item())\n",
    "    pbar.set_postfix(loss=loss.item())\n",
    "    "
   ],
   "metadata": {
    "collapsed": false,
    "ExecuteTime": {
     "end_time": "2024-03-16T20:42:59.790741Z",
     "start_time": "2024-03-16T20:37:56.837748Z"
    }
   },
   "id": "9437e89d5e7691d7",
   "execution_count": 44
  },
  {
   "cell_type": "code",
   "outputs": [
    {
     "data": {
      "text/plain": "[<matplotlib.lines.Line2D at 0x7f26343e2680>]"
     },
     "execution_count": 39,
     "metadata": {},
     "output_type": "execute_result"
    },
    {
     "data": {
      "text/plain": "<Figure size 640x480 with 1 Axes>",
      "image/png": "[encoded data removed]"
     },
     "metadata": {},
     "output_type": "display_data"
    }
   ],
   "source": [
    "plt.plot(losses)\n",
    "plt.plot(np.convolve(losses, np.ones(500)/500, mode='valid'))"
   ],
   "metadata": {
    "collapsed": false,
    "ExecuteTime": {
     "end_time": "2024-03-16T20:34:00.200289Z",
     "start_time": "2024-03-16T20:33:58.924846Z"
    }
   },
   "id": "8038db178928ec2c",
   "execution_count": 39
  },
  {
   "cell_type": "code",
   "outputs": [],
   "source": [],
   "metadata": {
    "collapsed": false,
    "ExecuteTime": {
     "end_time": "2024-03-16T20:34:00.213687Z",
     "start_time": "2024-03-16T20:34:00.209753Z"
    }
   },
   "id": "20e701520487da62",
   "execution_count": 39
  },
  {
   "cell_type": "code",
   "execution_count": 39,
   "id": "initial_id",
   "metadata": {
    "collapsed": true,
    "ExecuteTime": {
     "end_time": "2024-03-16T20:34:00.219645Z",
     "start_time": "2024-03-16T20:34:00.215935Z"
    }
   },
   "outputs": [],
   "source": []
  },
  {
   "cell_type": "code",
   "outputs": [],
   "source": [],
   "metadata": {
    "collapsed": false,
    "ExecuteTime": {
     "end_time": "2024-03-16T20:34:00.225644Z",
     "start_time": "2024-03-16T20:34:00.221884Z"
    }
   },
   "id": "85ec150d12ae5cda",
   "execution_count": 39
  },
  {
   "cell_type": "code",
   "outputs": [],
   "source": [],
   "metadata": {
    "collapsed": false
   },
   "id": "8a40cce8c0bcbead"
  }
 ],
 "metadata": {
  "kernelspec": {
   "display_name": "Python 3",
   "language": "python",
   "name": "python3"
  },
  "language_info": {
   "codemirror_mode": {
    "name": "ipython",
    "version": 2
   },
   "file_extension": ".py",
   "mimetype": "text/x-python",
   "name": "python",
   "nbconvert_exporter": "python",
   "pygments_lexer": "ipython2",
   "version": "2.7.6"
  }
 },
 "nbformat": 4,
 "nbformat_minor": 5
}
