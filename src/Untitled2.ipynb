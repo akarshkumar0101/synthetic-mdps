{
 "cells": [
  {
   "cell_type": "code",
   "execution_count": 1,
   "id": "c577b926-f49a-48bb-903e-07dcdf5a3d2f",
   "metadata": {},
   "outputs": [
    {
     "name": "stdout",
     "output_type": "stream",
     "text": [
      "dhcp-10-31-130-63.dyn.MIT.EDU\n",
      "/Users/akarshkumar0101/synthetic-mdps/src\n",
      "/Users/akarshkumar0101/miniconda3/bin/python\n"
     ]
    }
   ],
   "source": [
    "%load_ext autoreload\n",
    "%autoreload 2\n",
    "!hostname\n",
    "!pwd\n",
    "import os, sys\n",
    "print(sys.executable)\n",
    "os.environ['CUDA_VISIBLE_DEVICES'] = \"7\""
   ]
  },
  {
   "cell_type": "code",
   "execution_count": 3,
   "id": "7e6d4402-7706-4972-8d18-b28a70b61700",
   "metadata": {},
   "outputs": [],
   "source": [
    "import os, sys, glob, pickle\n",
    "from functools import partial\n",
    "\n",
    "import numpy as np\n",
    "import pandas as pd\n",
    "import xarray as xr\n",
    "import matplotlib.pyplot as plt\n",
    "import seaborn as sns\n",
    "\n",
    "from tqdm.auto import tqdm\n",
    "from einops import rearrange, reduce, repeat"
   ]
  },
  {
   "cell_type": "code",
   "execution_count": 4,
   "id": "0d37a19f-31c2-46ff-9cda-af7a3f8537d7",
   "metadata": {},
   "outputs": [],
   "source": [
    "import jax\n",
    "import jax.numpy as jnp\n",
    "from jax.random import split\n",
    "\n",
    "import flax\n",
    "import flax.linen as nn\n",
    "from flax.training.train_state import TrainState\n",
    "\n",
    "import optax"
   ]
  },
  {
   "cell_type": "code",
   "execution_count": null,
   "id": "9a3d811c-cef0-4c1c-bcf3-1c813255f00b",
   "metadata": {},
   "outputs": [],
   "source": []
  },
  {
   "cell_type": "code",
   "execution_count": null,
   "id": "0664cc9f-43d7-41a6-8cb0-8960221e105a",
   "metadata": {},
   "outputs": [],
   "source": []
  },
  {
   "cell_type": "code",
   "execution_count": 36,
   "id": "8940eb4f-49d9-4b8f-9ec8-66c3117aa3c5",
   "metadata": {
    "tags": []
   },
   "outputs": [],
   "source": [
    "rng = jax.random.PRNGKey(0)"
   ]
  },
  {
   "cell_type": "code",
   "execution_count": 57,
   "id": "049eefb6-224f-44ff-ac55-86d44585cbf7",
   "metadata": {},
   "outputs": [
    {
     "name": "stdout",
     "output_type": "stream",
     "text": [
      "{'act': (100, 1000), 'obs': (100, 1000), 'rew': (100, 1000)}\n"
     ]
    }
   ],
   "source": [
    "dataset = dict(\n",
    "    obs=repeat(jnp.arange(1000), \"t -> n t\", n=100),\n",
    "    act=100+repeat(jnp.arange(1000), \"t -> n t\", n=100),\n",
    "    rew=200+repeat(jnp.arange(1000), \"t -> n t\", n=100),\n",
    ")\n",
    "\n",
    "print(jax.tree_map(lambda x: x.shape, dataset))\n"
   ]
  },
  {
   "cell_type": "code",
   "execution_count": 58,
   "id": "1fe98950-461e-43ae-bd42-ee24e704398f",
   "metadata": {
    "tags": []
   },
   "outputs": [],
   "source": [
    "def preprocess_dataset(ds):\n",
    "    ds_prv = {f\"{k}_prv\": v[:, :-2] for k, v in ds.items()}\n",
    "    ds_now = {f\"{k}\": v[:, 1:-1] for k, v in ds.items()}\n",
    "    ds_nxt = {f\"{k}_nxt\": v[:, 2:] for k, v in ds.items()}\n",
    "    return {**ds_prv, **ds_now, **ds_nxt}\n",
    "\n",
    "dataset = preprocess_dataset(dataset)"
   ]
  },
  {
   "cell_type": "code",
   "execution_count": null,
   "id": "84468e74-9975-4f8a-868c-04e539c7fd03",
   "metadata": {
    "tags": []
   },
   "outputs": [],
   "source": []
  },
  {
   "cell_type": "code",
   "execution_count": null,
   "id": "be9a2a49-040a-4416-b6c7-eaf50b565501",
   "metadata": {},
   "outputs": [],
   "source": []
  },
  {
   "cell_type": "code",
   "execution_count": 89,
   "id": "1a1196f3-91c7-4bb0-85f2-788a072d26ec",
   "metadata": {
    "tags": []
   },
   "outputs": [],
   "source": [
    "def sample_batch_segments_from_dataset(_rng, dataset, batch_size, n_segs, seg_len):\n",
    "    _rng1, _rng2 = split(_rng)\n",
    "    n_e, n_t, *_ = dataset['obs'].shape\n",
    "    i_e = jax.random.randint(_rng1, (batch_size, 1, 1), minval=0, maxval=n_e)\n",
    "    i_t = jax.random.randint(_rng2, (batch_size, n_segs, 1), minval=0, maxval=n_t - seg_len)\n",
    "    i_t = i_t + jnp.arange(seg_len)\n",
    "    batch = jax.tree_map(lambda x: x[i_e, i_t, ...], dataset)\n",
    "    batch = jax.tree_map(lambda x: rearrange(x, 'b s t ... -> b (s t) ...'), batch)\n",
    "    return batch\n",
    "\n",
    "batch = sample_batch_segments_from_dataset(rng, dataset, 1, 1, 4)"
   ]
  },
  {
   "cell_type": "code",
   "execution_count": 90,
   "id": "abe6bd25-1b28-4032-947f-2c83d2360925",
   "metadata": {
    "tags": []
   },
   "outputs": [
    {
     "name": "stdout",
     "output_type": "stream",
     "text": [
      "{'act': (1, 4), 'act_nxt': (1, 4), 'act_prv': (1, 4), 'obs': (1, 4), 'obs_nxt': (1, 4), 'obs_prv': (1, 4), 'rew': (1, 4), 'rew_nxt': (1, 4), 'rew_prv': (1, 4)}\n"
     ]
    }
   ],
   "source": [
    "print(jax.tree_map(lambda x: x.shape, batch))"
   ]
  },
  {
   "cell_type": "code",
   "execution_count": 91,
   "id": "c340287e-806f-48f4-8795-3a3d3979bd91",
   "metadata": {
    "tags": []
   },
   "outputs": [
    {
     "data": {
      "text/plain": [
       "Array([[819, 820, 821, 822]], dtype=int32)"
      ]
     },
     "execution_count": 91,
     "metadata": {},
     "output_type": "execute_result"
    }
   ],
   "source": [
    "batch['obs']"
   ]
  },
  {
   "cell_type": "code",
   "execution_count": 93,
   "id": "4d57a344-fca3-4650-ac7f-19970e79a837",
   "metadata": {
    "tags": []
   },
   "outputs": [
    {
     "data": {
      "text/plain": [
       "Array([[820, 821, 822, 823]], dtype=int32)"
      ]
     },
     "execution_count": 93,
     "metadata": {},
     "output_type": "execute_result"
    }
   ],
   "source": [
    "batch['obs_nxt']"
   ]
  },
  {
   "cell_type": "code",
   "execution_count": null,
   "id": "431d1e17-90fd-4e24-951b-0a7cb8b2a7e1",
   "metadata": {
    "tags": []
   },
   "outputs": [],
   "source": []
  },
  {
   "cell_type": "code",
   "execution_count": null,
   "id": "702ccdab-1c30-4594-b8d4-c10ce839c6c3",
   "metadata": {},
   "outputs": [],
   "source": []
  },
  {
   "cell_type": "code",
   "execution_count": null,
   "id": "e417eba6-9c1b-439c-b5fa-bc099a74975e",
   "metadata": {},
   "outputs": [],
   "source": []
  },
  {
   "cell_type": "code",
   "execution_count": null,
   "id": "f9b3303b-d304-4ce7-a442-7489f469fdbf",
   "metadata": {},
   "outputs": [],
   "source": []
  },
  {
   "cell_type": "code",
   "execution_count": null,
   "id": "3be4aa2f-845d-480f-8d29-14766e9b8bec",
   "metadata": {},
   "outputs": [],
   "source": []
  },
  {
   "cell_type": "code",
   "execution_count": null,
   "id": "4e39be0f-b6b0-4221-a9d2-eee9458b3915",
   "metadata": {},
   "outputs": [],
   "source": []
  },
  {
   "cell_type": "code",
   "execution_count": null,
   "id": "9bc814db-a6ac-4e56-93b9-1adf267a1fdf",
   "metadata": {},
   "outputs": [],
   "source": []
  }
 ],
 "metadata": {
  "kernelspec": {
   "display_name": "Python 3 (ipykernel)",
   "language": "python",
   "name": "python3"
  },
  "language_info": {
   "codemirror_mode": {
    "name": "ipython",
    "version": 3
   },
   "file_extension": ".py",
   "mimetype": "text/x-python",
   "name": "python",
   "nbconvert_exporter": "python",
   "pygments_lexer": "ipython3",
   "version": "3.10.9"
  }
 },
 "nbformat": 4,
 "nbformat_minor": 5
}
