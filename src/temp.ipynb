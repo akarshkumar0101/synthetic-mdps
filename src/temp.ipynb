{
 "cells": [
  {
   "cell_type": "code",
   "outputs": [],
   "source": [
    "import jax"
   ],
   "metadata": {
    "collapsed": false,
    "ExecuteTime": {
     "end_time": "2024-01-11T02:43:51.532869Z",
     "start_time": "2024-01-11T02:43:51.514842Z"
    }
   },
   "id": "5a97bf108f4c8c86",
   "execution_count": 208
  },
  {
   "cell_type": "code",
   "outputs": [],
   "source": [],
   "metadata": {
    "collapsed": false
   },
   "id": "aedb67ee7a136c06"
  },
  {
   "cell_type": "code",
   "outputs": [],
   "source": [],
   "metadata": {
    "collapsed": false
   },
   "id": "b70532f12f9d68a5"
  },
  {
   "cell_type": "code",
   "outputs": [],
   "source": [
    "import gymnax\n",
    "from tqdm.auto import tqdm\n",
    "env, params = gymnax.make('Freeway-MinAtar')"
   ],
   "metadata": {
    "collapsed": false,
    "ExecuteTime": {
     "end_time": "2024-01-10T23:57:13.179334Z",
     "start_time": "2024-01-10T23:57:13.164489Z"
    }
   },
   "id": "ebc65ec41ba785b",
   "execution_count": 200
  },
  {
   "cell_type": "code",
   "outputs": [
    {
     "data": {
      "text/plain": "  0%|          | 0/1000 [00:00<?, ?it/s]",
      "application/vnd.jupyter.widget-view+json": {
       "version_major": 2,
       "version_minor": 0,
       "model_id": "1365283613e94a3bac0c0409d4d6f588"
      }
     },
     "metadata": {},
     "output_type": "display_data"
    },
    {
     "ename": "KeyboardInterrupt",
     "evalue": "",
     "output_type": "error",
     "traceback": [
      "\u001B[0;31m---------------------------------------------------------------------------\u001B[0m",
      "\u001B[0;31mKeyboardInterrupt\u001B[0m                         Traceback (most recent call last)",
      "Cell \u001B[0;32mIn[201], line 13\u001B[0m\n\u001B[1;32m     11\u001B[0m     act \u001B[38;5;241m=\u001B[39m jax\u001B[38;5;241m.\u001B[39mrandom\u001B[38;5;241m.\u001B[39mrandint(_rng, (\u001B[38;5;241m1024\u001B[39m, ), \u001B[38;5;241m0\u001B[39m, env\u001B[38;5;241m.\u001B[39maction_space(params)\u001B[38;5;241m.\u001B[39mn)\n\u001B[1;32m     12\u001B[0m     rng, _rng \u001B[38;5;241m=\u001B[39m split(rng)\n\u001B[0;32m---> 13\u001B[0m     obs, state, rew, done, info \u001B[38;5;241m=\u001B[39m \u001B[43mjax\u001B[49m\u001B[38;5;241;43m.\u001B[39;49m\u001B[43mvmap\u001B[49m\u001B[43m(\u001B[49m\u001B[43menv\u001B[49m\u001B[38;5;241;43m.\u001B[39;49m\u001B[43mstep\u001B[49m\u001B[43m,\u001B[49m\u001B[43m \u001B[49m\u001B[43m(\u001B[49m\u001B[38;5;241;43m0\u001B[39;49m\u001B[43m,\u001B[49m\u001B[43m \u001B[49m\u001B[38;5;241;43m0\u001B[39;49m\u001B[43m,\u001B[49m\u001B[43m \u001B[49m\u001B[38;5;241;43m0\u001B[39;49m\u001B[43m,\u001B[49m\u001B[43m \u001B[49m\u001B[38;5;28;43;01mNone\u001B[39;49;00m\u001B[43m)\u001B[49m\u001B[43m)\u001B[49m\u001B[43m(\u001B[49m\u001B[43msplit\u001B[49m\u001B[43m(\u001B[49m\u001B[43m_rng\u001B[49m\u001B[43m,\u001B[49m\u001B[43m \u001B[49m\u001B[38;5;241;43m1024\u001B[39;49m\u001B[43m)\u001B[49m\u001B[43m,\u001B[49m\u001B[43m \u001B[49m\u001B[43mstate\u001B[49m\u001B[43m,\u001B[49m\u001B[43m \u001B[49m\u001B[43mact\u001B[49m\u001B[43m,\u001B[49m\u001B[43m \u001B[49m\u001B[43mparams\u001B[49m\u001B[43m)\u001B[49m\n\u001B[1;32m     14\u001B[0m     a\u001B[38;5;241m.\u001B[39mappend(rew)\n\u001B[1;32m     16\u001B[0m a \u001B[38;5;241m=\u001B[39m jnp\u001B[38;5;241m.\u001B[39mstack(a)\u001B[38;5;241m.\u001B[39mflatten()\n",
      "    \u001B[0;31m[... skipping hidden 1 frame]\u001B[0m\n",
      "File \u001B[0;32m~/miniconda3/lib/python3.10/site-packages/jax/_src/api.py:1260\u001B[0m, in \u001B[0;36mvmap.<locals>.vmap_f\u001B[0;34m(*args, **kwargs)\u001B[0m\n\u001B[1;32m   1257\u001B[0m in_axes_flat \u001B[38;5;241m=\u001B[39m flatten_axes(\u001B[38;5;124m\"\u001B[39m\u001B[38;5;124mvmap in_axes\u001B[39m\u001B[38;5;124m\"\u001B[39m, in_tree, (in_axes, \u001B[38;5;241m0\u001B[39m), kws\u001B[38;5;241m=\u001B[39m\u001B[38;5;28;01mTrue\u001B[39;00m)\n\u001B[1;32m   1258\u001B[0m axis_size_ \u001B[38;5;241m=\u001B[39m (axis_size \u001B[38;5;28;01mif\u001B[39;00m axis_size \u001B[38;5;129;01mis\u001B[39;00m \u001B[38;5;129;01mnot\u001B[39;00m \u001B[38;5;28;01mNone\u001B[39;00m \u001B[38;5;28;01melse\u001B[39;00m\n\u001B[1;32m   1259\u001B[0m               _mapped_axis_size(fun, in_tree, args_flat, in_axes_flat, \u001B[38;5;124m\"\u001B[39m\u001B[38;5;124mvmap\u001B[39m\u001B[38;5;124m\"\u001B[39m))\n\u001B[0;32m-> 1260\u001B[0m out_flat \u001B[38;5;241m=\u001B[39m \u001B[43mbatching\u001B[49m\u001B[38;5;241;43m.\u001B[39;49m\u001B[43mbatch\u001B[49m\u001B[43m(\u001B[49m\n\u001B[1;32m   1261\u001B[0m \u001B[43m    \u001B[49m\u001B[43mflat_fun\u001B[49m\u001B[43m,\u001B[49m\u001B[43m \u001B[49m\u001B[43maxis_name\u001B[49m\u001B[43m,\u001B[49m\u001B[43m \u001B[49m\u001B[43maxis_size_\u001B[49m\u001B[43m,\u001B[49m\u001B[43m \u001B[49m\u001B[43min_axes_flat\u001B[49m\u001B[43m,\u001B[49m\n\u001B[1;32m   1262\u001B[0m \u001B[43m    \u001B[49m\u001B[38;5;28;43;01mlambda\u001B[39;49;00m\u001B[43m:\u001B[49m\u001B[43m \u001B[49m\u001B[43mflatten_axes\u001B[49m\u001B[43m(\u001B[49m\u001B[38;5;124;43m\"\u001B[39;49m\u001B[38;5;124;43mvmap out_axes\u001B[39;49m\u001B[38;5;124;43m\"\u001B[39;49m\u001B[43m,\u001B[49m\u001B[43m \u001B[49m\u001B[43mout_tree\u001B[49m\u001B[43m(\u001B[49m\u001B[43m)\u001B[49m\u001B[43m,\u001B[49m\u001B[43m \u001B[49m\u001B[43mout_axes\u001B[49m\u001B[43m)\u001B[49m\u001B[43m,\u001B[49m\n\u001B[1;32m   1263\u001B[0m \u001B[43m    \u001B[49m\u001B[43mspmd_axis_name\u001B[49m\u001B[38;5;241;43m=\u001B[39;49m\u001B[43mspmd_axis_name\u001B[49m\n\u001B[1;32m   1264\u001B[0m \u001B[43m\u001B[49m\u001B[43m)\u001B[49m\u001B[38;5;241;43m.\u001B[39;49m\u001B[43mcall_wrapped\u001B[49m\u001B[43m(\u001B[49m\u001B[38;5;241;43m*\u001B[39;49m\u001B[43margs_flat\u001B[49m\u001B[43m)\u001B[49m\n\u001B[1;32m   1265\u001B[0m \u001B[38;5;28;01mreturn\u001B[39;00m tree_unflatten(out_tree(), out_flat)\n",
      "File \u001B[0;32m~/miniconda3/lib/python3.10/site-packages/jax/_src/linear_util.py:190\u001B[0m, in \u001B[0;36mWrappedFun.call_wrapped\u001B[0;34m(self, *args, **kwargs)\u001B[0m\n\u001B[1;32m    187\u001B[0m gen \u001B[38;5;241m=\u001B[39m gen_static_args \u001B[38;5;241m=\u001B[39m out_store \u001B[38;5;241m=\u001B[39m \u001B[38;5;28;01mNone\u001B[39;00m\n\u001B[1;32m    189\u001B[0m \u001B[38;5;28;01mtry\u001B[39;00m:\n\u001B[0;32m--> 190\u001B[0m   ans \u001B[38;5;241m=\u001B[39m \u001B[38;5;28;43mself\u001B[39;49m\u001B[38;5;241;43m.\u001B[39;49m\u001B[43mf\u001B[49m\u001B[43m(\u001B[49m\u001B[38;5;241;43m*\u001B[39;49m\u001B[43margs\u001B[49m\u001B[43m,\u001B[49m\u001B[43m \u001B[49m\u001B[38;5;241;43m*\u001B[39;49m\u001B[38;5;241;43m*\u001B[39;49m\u001B[38;5;28;43mdict\u001B[39;49m\u001B[43m(\u001B[49m\u001B[38;5;28;43mself\u001B[39;49m\u001B[38;5;241;43m.\u001B[39;49m\u001B[43mparams\u001B[49m\u001B[43m,\u001B[49m\u001B[43m \u001B[49m\u001B[38;5;241;43m*\u001B[39;49m\u001B[38;5;241;43m*\u001B[39;49m\u001B[43mkwargs\u001B[49m\u001B[43m)\u001B[49m\u001B[43m)\u001B[49m\n\u001B[1;32m    191\u001B[0m \u001B[38;5;28;01mexcept\u001B[39;00m:\n\u001B[1;32m    192\u001B[0m   \u001B[38;5;66;03m# Some transformations yield from inside context managers, so we have to\u001B[39;00m\n\u001B[1;32m    193\u001B[0m   \u001B[38;5;66;03m# interrupt them before reraising the exception. Otherwise they will only\u001B[39;00m\n\u001B[1;32m    194\u001B[0m   \u001B[38;5;66;03m# get garbage-collected at some later time, running their cleanup tasks\u001B[39;00m\n\u001B[1;32m    195\u001B[0m   \u001B[38;5;66;03m# only after this exception is handled, which can corrupt the global\u001B[39;00m\n\u001B[1;32m    196\u001B[0m   \u001B[38;5;66;03m# state.\u001B[39;00m\n\u001B[1;32m    197\u001B[0m   \u001B[38;5;28;01mwhile\u001B[39;00m stack:\n",
      "    \u001B[0;31m[... skipping hidden 1 frame]\u001B[0m\n",
      "File \u001B[0;32m~/miniconda3/lib/python3.10/site-packages/jax/_src/pjit.py:255\u001B[0m, in \u001B[0;36m_cpp_pjit.<locals>.cache_miss\u001B[0;34m(*args, **kwargs)\u001B[0m\n\u001B[1;32m    253\u001B[0m \u001B[38;5;129m@api_boundary\u001B[39m\n\u001B[1;32m    254\u001B[0m \u001B[38;5;28;01mdef\u001B[39;00m \u001B[38;5;21mcache_miss\u001B[39m(\u001B[38;5;241m*\u001B[39margs, \u001B[38;5;241m*\u001B[39m\u001B[38;5;241m*\u001B[39mkwargs):\n\u001B[0;32m--> 255\u001B[0m   outs, out_flat, out_tree, args_flat, jaxpr \u001B[38;5;241m=\u001B[39m \u001B[43m_python_pjit_helper\u001B[49m\u001B[43m(\u001B[49m\n\u001B[1;32m    256\u001B[0m \u001B[43m      \u001B[49m\u001B[43mfun\u001B[49m\u001B[43m,\u001B[49m\u001B[43m \u001B[49m\u001B[43minfer_params_fn\u001B[49m\u001B[43m,\u001B[49m\u001B[43m \u001B[49m\u001B[38;5;241;43m*\u001B[39;49m\u001B[43margs\u001B[49m\u001B[43m,\u001B[49m\u001B[43m \u001B[49m\u001B[38;5;241;43m*\u001B[39;49m\u001B[38;5;241;43m*\u001B[39;49m\u001B[43mkwargs\u001B[49m\u001B[43m)\u001B[49m\n\u001B[1;32m    257\u001B[0m   executable \u001B[38;5;241m=\u001B[39m _read_most_recent_pjit_call_executable(jaxpr)\n\u001B[1;32m    258\u001B[0m   fastpath_data \u001B[38;5;241m=\u001B[39m _get_fastpath_data(executable, out_tree, args_flat, out_flat)\n",
      "File \u001B[0;32m~/miniconda3/lib/python3.10/site-packages/jax/_src/pjit.py:166\u001B[0m, in \u001B[0;36m_python_pjit_helper\u001B[0;34m(fun, infer_params_fn, *args, **kwargs)\u001B[0m\n\u001B[1;32m    164\u001B[0m   dispatch\u001B[38;5;241m.\u001B[39mcheck_arg(arg)\n\u001B[1;32m    165\u001B[0m \u001B[38;5;28;01mtry\u001B[39;00m:\n\u001B[0;32m--> 166\u001B[0m   out_flat \u001B[38;5;241m=\u001B[39m \u001B[43mpjit_p\u001B[49m\u001B[38;5;241;43m.\u001B[39;49m\u001B[43mbind\u001B[49m\u001B[43m(\u001B[49m\u001B[38;5;241;43m*\u001B[39;49m\u001B[43margs_flat\u001B[49m\u001B[43m,\u001B[49m\u001B[43m \u001B[49m\u001B[38;5;241;43m*\u001B[39;49m\u001B[38;5;241;43m*\u001B[39;49m\u001B[43mparams\u001B[49m\u001B[43m)\u001B[49m\n\u001B[1;32m    167\u001B[0m \u001B[38;5;28;01mexcept\u001B[39;00m pxla\u001B[38;5;241m.\u001B[39mDeviceAssignmentMismatchError \u001B[38;5;28;01mas\u001B[39;00m e:\n\u001B[1;32m    168\u001B[0m   fails, \u001B[38;5;241m=\u001B[39m e\u001B[38;5;241m.\u001B[39margs\n",
      "File \u001B[0;32m~/miniconda3/lib/python3.10/site-packages/jax/_src/core.py:2657\u001B[0m, in \u001B[0;36mAxisPrimitive.bind\u001B[0;34m(self, *args, **params)\u001B[0m\n\u001B[1;32m   2653\u001B[0m axis_main \u001B[38;5;241m=\u001B[39m \u001B[38;5;28mmax\u001B[39m((axis_frame(a)\u001B[38;5;241m.\u001B[39mmain_trace \u001B[38;5;28;01mfor\u001B[39;00m a \u001B[38;5;129;01min\u001B[39;00m used_axis_names(\u001B[38;5;28mself\u001B[39m, params)),\n\u001B[1;32m   2654\u001B[0m                 default\u001B[38;5;241m=\u001B[39m\u001B[38;5;28;01mNone\u001B[39;00m, key\u001B[38;5;241m=\u001B[39m\u001B[38;5;28;01mlambda\u001B[39;00m t: \u001B[38;5;28mgetattr\u001B[39m(t, \u001B[38;5;124m'\u001B[39m\u001B[38;5;124mlevel\u001B[39m\u001B[38;5;124m'\u001B[39m, \u001B[38;5;241m-\u001B[39m\u001B[38;5;241m1\u001B[39m))\n\u001B[1;32m   2655\u001B[0m top_trace \u001B[38;5;241m=\u001B[39m (top_trace \u001B[38;5;28;01mif\u001B[39;00m \u001B[38;5;129;01mnot\u001B[39;00m axis_main \u001B[38;5;129;01mor\u001B[39;00m axis_main\u001B[38;5;241m.\u001B[39mlevel \u001B[38;5;241m<\u001B[39m top_trace\u001B[38;5;241m.\u001B[39mlevel\n\u001B[1;32m   2656\u001B[0m              \u001B[38;5;28;01melse\u001B[39;00m axis_main\u001B[38;5;241m.\u001B[39mwith_cur_sublevel())\n\u001B[0;32m-> 2657\u001B[0m \u001B[38;5;28;01mreturn\u001B[39;00m \u001B[38;5;28;43mself\u001B[39;49m\u001B[38;5;241;43m.\u001B[39;49m\u001B[43mbind_with_trace\u001B[49m\u001B[43m(\u001B[49m\u001B[43mtop_trace\u001B[49m\u001B[43m,\u001B[49m\u001B[43m \u001B[49m\u001B[43margs\u001B[49m\u001B[43m,\u001B[49m\u001B[43m \u001B[49m\u001B[43mparams\u001B[49m\u001B[43m)\u001B[49m\n",
      "File \u001B[0;32m~/miniconda3/lib/python3.10/site-packages/jax/_src/core.py:389\u001B[0m, in \u001B[0;36mPrimitive.bind_with_trace\u001B[0;34m(self, trace, args, params)\u001B[0m\n\u001B[1;32m    388\u001B[0m \u001B[38;5;28;01mdef\u001B[39;00m \u001B[38;5;21mbind_with_trace\u001B[39m(\u001B[38;5;28mself\u001B[39m, trace, args, params):\n\u001B[0;32m--> 389\u001B[0m   out \u001B[38;5;241m=\u001B[39m \u001B[43mtrace\u001B[49m\u001B[38;5;241;43m.\u001B[39;49m\u001B[43mprocess_primitive\u001B[49m\u001B[43m(\u001B[49m\u001B[38;5;28;43mself\u001B[39;49m\u001B[43m,\u001B[49m\u001B[43m \u001B[49m\u001B[38;5;28;43mmap\u001B[39;49m\u001B[43m(\u001B[49m\u001B[43mtrace\u001B[49m\u001B[38;5;241;43m.\u001B[39;49m\u001B[43mfull_raise\u001B[49m\u001B[43m,\u001B[49m\u001B[43m \u001B[49m\u001B[43margs\u001B[49m\u001B[43m)\u001B[49m\u001B[43m,\u001B[49m\u001B[43m \u001B[49m\u001B[43mparams\u001B[49m\u001B[43m)\u001B[49m\n\u001B[1;32m    390\u001B[0m   \u001B[38;5;28;01mreturn\u001B[39;00m \u001B[38;5;28mmap\u001B[39m(full_lower, out) \u001B[38;5;28;01mif\u001B[39;00m \u001B[38;5;28mself\u001B[39m\u001B[38;5;241m.\u001B[39mmultiple_results \u001B[38;5;28;01melse\u001B[39;00m full_lower(out)\n",
      "File \u001B[0;32m~/miniconda3/lib/python3.10/site-packages/jax/_src/interpreters/batching.py:433\u001B[0m, in \u001B[0;36mBatchTrace.process_primitive\u001B[0;34m(self, primitive, tracers, params)\u001B[0m\n\u001B[1;32m    431\u001B[0m   frame \u001B[38;5;241m=\u001B[39m \u001B[38;5;28mself\u001B[39m\u001B[38;5;241m.\u001B[39mget_frame(vals_in, dims_in)\n\u001B[1;32m    432\u001B[0m   batched_primitive \u001B[38;5;241m=\u001B[39m \u001B[38;5;28mself\u001B[39m\u001B[38;5;241m.\u001B[39mget_primitive_batcher(primitive, frame)\n\u001B[0;32m--> 433\u001B[0m   val_out, dim_out \u001B[38;5;241m=\u001B[39m \u001B[43mbatched_primitive\u001B[49m\u001B[43m(\u001B[49m\u001B[43mvals_in\u001B[49m\u001B[43m,\u001B[49m\u001B[43m \u001B[49m\u001B[43mdims_in\u001B[49m\u001B[43m,\u001B[49m\u001B[43m \u001B[49m\u001B[38;5;241;43m*\u001B[39;49m\u001B[38;5;241;43m*\u001B[39;49m\u001B[43mparams\u001B[49m\u001B[43m)\u001B[49m\n\u001B[1;32m    434\u001B[0m src \u001B[38;5;241m=\u001B[39m source_info_util\u001B[38;5;241m.\u001B[39mcurrent()\n\u001B[1;32m    435\u001B[0m \u001B[38;5;28;01mif\u001B[39;00m primitive\u001B[38;5;241m.\u001B[39mmultiple_results:\n",
      "File \u001B[0;32m~/miniconda3/lib/python3.10/site-packages/jax/_src/pjit.py:1427\u001B[0m, in \u001B[0;36m_pjit_batcher\u001B[0;34m(insert_axis, spmd_axis_name, axis_size, axis_name, main_type, vals_in, dims_in, jaxpr, in_shardings, out_shardings, resource_env, donated_invars, name, keep_unused, inline)\u001B[0m\n\u001B[1;32m   1419\u001B[0m in_shardings \u001B[38;5;241m=\u001B[39m \u001B[38;5;28mtuple\u001B[39m(\n\u001B[1;32m   1420\u001B[0m     _pjit_batcher_for_sharding(i, axis_in, new_parts, mesh, aval\u001B[38;5;241m.\u001B[39mndim)\n\u001B[1;32m   1421\u001B[0m     \u001B[38;5;28;01mif\u001B[39;00m axis_in \u001B[38;5;129;01mis\u001B[39;00m \u001B[38;5;129;01mnot\u001B[39;00m \u001B[38;5;28;01mNone\u001B[39;00m \u001B[38;5;28;01melse\u001B[39;00m i\n\u001B[1;32m   1422\u001B[0m     \u001B[38;5;28;01mfor\u001B[39;00m axis_in, i, aval \u001B[38;5;129;01min\u001B[39;00m \u001B[38;5;28mzip\u001B[39m(dims_in, in_shardings, new_jaxpr\u001B[38;5;241m.\u001B[39min_avals))\n\u001B[1;32m   1423\u001B[0m out_shardings \u001B[38;5;241m=\u001B[39m \u001B[38;5;28mtuple\u001B[39m(\n\u001B[1;32m   1424\u001B[0m     _pjit_batcher_for_sharding(o, axis_out, new_parts, mesh, aval\u001B[38;5;241m.\u001B[39mndim)\n\u001B[1;32m   1425\u001B[0m     \u001B[38;5;28;01mif\u001B[39;00m axis_out \u001B[38;5;129;01mis\u001B[39;00m \u001B[38;5;129;01mnot\u001B[39;00m \u001B[38;5;28;01mNone\u001B[39;00m \u001B[38;5;28;01melse\u001B[39;00m o\n\u001B[1;32m   1426\u001B[0m     \u001B[38;5;28;01mfor\u001B[39;00m axis_out, o, aval \u001B[38;5;129;01min\u001B[39;00m \u001B[38;5;28mzip\u001B[39m(axes_out, out_shardings, new_jaxpr\u001B[38;5;241m.\u001B[39mout_avals))\n\u001B[0;32m-> 1427\u001B[0m vals_out \u001B[38;5;241m=\u001B[39m \u001B[43mpjit_p\u001B[49m\u001B[38;5;241;43m.\u001B[39;49m\u001B[43mbind\u001B[49m\u001B[43m(\u001B[49m\n\u001B[1;32m   1428\u001B[0m \u001B[43m  \u001B[49m\u001B[38;5;241;43m*\u001B[39;49m\u001B[43mvals_in\u001B[49m\u001B[43m,\u001B[49m\n\u001B[1;32m   1429\u001B[0m \u001B[43m  \u001B[49m\u001B[43mjaxpr\u001B[49m\u001B[38;5;241;43m=\u001B[39;49m\u001B[43mnew_jaxpr\u001B[49m\u001B[43m,\u001B[49m\n\u001B[1;32m   1430\u001B[0m \u001B[43m  \u001B[49m\u001B[43min_shardings\u001B[49m\u001B[38;5;241;43m=\u001B[39;49m\u001B[43min_shardings\u001B[49m\u001B[43m,\u001B[49m\n\u001B[1;32m   1431\u001B[0m \u001B[43m  \u001B[49m\u001B[43mout_shardings\u001B[49m\u001B[38;5;241;43m=\u001B[39;49m\u001B[43mout_shardings\u001B[49m\u001B[43m,\u001B[49m\n\u001B[1;32m   1432\u001B[0m \u001B[43m  \u001B[49m\u001B[43mresource_env\u001B[49m\u001B[38;5;241;43m=\u001B[39;49m\u001B[43mresource_env\u001B[49m\u001B[43m,\u001B[49m\n\u001B[1;32m   1433\u001B[0m \u001B[43m  \u001B[49m\u001B[43mdonated_invars\u001B[49m\u001B[38;5;241;43m=\u001B[39;49m\u001B[43mdonated_invars\u001B[49m\u001B[43m,\u001B[49m\n\u001B[1;32m   1434\u001B[0m \u001B[43m  \u001B[49m\u001B[43mname\u001B[49m\u001B[38;5;241;43m=\u001B[39;49m\u001B[43mname\u001B[49m\u001B[43m,\u001B[49m\n\u001B[1;32m   1435\u001B[0m \u001B[43m  \u001B[49m\u001B[43mkeep_unused\u001B[49m\u001B[38;5;241;43m=\u001B[39;49m\u001B[43mkeep_unused\u001B[49m\u001B[43m,\u001B[49m\n\u001B[1;32m   1436\u001B[0m \u001B[43m  \u001B[49m\u001B[43minline\u001B[49m\u001B[38;5;241;43m=\u001B[39;49m\u001B[43minline\u001B[49m\u001B[43m)\u001B[49m\n\u001B[1;32m   1437\u001B[0m resolved_axes_out \u001B[38;5;241m=\u001B[39m batching\u001B[38;5;241m.\u001B[39mresolve_ragged_axes_against_inputs_outputs(\n\u001B[1;32m   1438\u001B[0m     vals_in, vals_out, axes_out)\n\u001B[1;32m   1439\u001B[0m \u001B[38;5;28;01mreturn\u001B[39;00m vals_out, resolved_axes_out\n",
      "File \u001B[0;32m~/miniconda3/lib/python3.10/site-packages/jax/_src/core.py:2657\u001B[0m, in \u001B[0;36mAxisPrimitive.bind\u001B[0;34m(self, *args, **params)\u001B[0m\n\u001B[1;32m   2653\u001B[0m axis_main \u001B[38;5;241m=\u001B[39m \u001B[38;5;28mmax\u001B[39m((axis_frame(a)\u001B[38;5;241m.\u001B[39mmain_trace \u001B[38;5;28;01mfor\u001B[39;00m a \u001B[38;5;129;01min\u001B[39;00m used_axis_names(\u001B[38;5;28mself\u001B[39m, params)),\n\u001B[1;32m   2654\u001B[0m                 default\u001B[38;5;241m=\u001B[39m\u001B[38;5;28;01mNone\u001B[39;00m, key\u001B[38;5;241m=\u001B[39m\u001B[38;5;28;01mlambda\u001B[39;00m t: \u001B[38;5;28mgetattr\u001B[39m(t, \u001B[38;5;124m'\u001B[39m\u001B[38;5;124mlevel\u001B[39m\u001B[38;5;124m'\u001B[39m, \u001B[38;5;241m-\u001B[39m\u001B[38;5;241m1\u001B[39m))\n\u001B[1;32m   2655\u001B[0m top_trace \u001B[38;5;241m=\u001B[39m (top_trace \u001B[38;5;28;01mif\u001B[39;00m \u001B[38;5;129;01mnot\u001B[39;00m axis_main \u001B[38;5;129;01mor\u001B[39;00m axis_main\u001B[38;5;241m.\u001B[39mlevel \u001B[38;5;241m<\u001B[39m top_trace\u001B[38;5;241m.\u001B[39mlevel\n\u001B[1;32m   2656\u001B[0m              \u001B[38;5;28;01melse\u001B[39;00m axis_main\u001B[38;5;241m.\u001B[39mwith_cur_sublevel())\n\u001B[0;32m-> 2657\u001B[0m \u001B[38;5;28;01mreturn\u001B[39;00m \u001B[38;5;28;43mself\u001B[39;49m\u001B[38;5;241;43m.\u001B[39;49m\u001B[43mbind_with_trace\u001B[49m\u001B[43m(\u001B[49m\u001B[43mtop_trace\u001B[49m\u001B[43m,\u001B[49m\u001B[43m \u001B[49m\u001B[43margs\u001B[49m\u001B[43m,\u001B[49m\u001B[43m \u001B[49m\u001B[43mparams\u001B[49m\u001B[43m)\u001B[49m\n",
      "File \u001B[0;32m~/miniconda3/lib/python3.10/site-packages/jax/_src/core.py:389\u001B[0m, in \u001B[0;36mPrimitive.bind_with_trace\u001B[0;34m(self, trace, args, params)\u001B[0m\n\u001B[1;32m    388\u001B[0m \u001B[38;5;28;01mdef\u001B[39;00m \u001B[38;5;21mbind_with_trace\u001B[39m(\u001B[38;5;28mself\u001B[39m, trace, args, params):\n\u001B[0;32m--> 389\u001B[0m   out \u001B[38;5;241m=\u001B[39m \u001B[43mtrace\u001B[49m\u001B[38;5;241;43m.\u001B[39;49m\u001B[43mprocess_primitive\u001B[49m\u001B[43m(\u001B[49m\u001B[38;5;28;43mself\u001B[39;49m\u001B[43m,\u001B[49m\u001B[43m \u001B[49m\u001B[38;5;28;43mmap\u001B[39;49m\u001B[43m(\u001B[49m\u001B[43mtrace\u001B[49m\u001B[38;5;241;43m.\u001B[39;49m\u001B[43mfull_raise\u001B[49m\u001B[43m,\u001B[49m\u001B[43m \u001B[49m\u001B[43margs\u001B[49m\u001B[43m)\u001B[49m\u001B[43m,\u001B[49m\u001B[43m \u001B[49m\u001B[43mparams\u001B[49m\u001B[43m)\u001B[49m\n\u001B[1;32m    390\u001B[0m   \u001B[38;5;28;01mreturn\u001B[39;00m \u001B[38;5;28mmap\u001B[39m(full_lower, out) \u001B[38;5;28;01mif\u001B[39;00m \u001B[38;5;28mself\u001B[39m\u001B[38;5;241m.\u001B[39mmultiple_results \u001B[38;5;28;01melse\u001B[39;00m full_lower(out)\n",
      "File \u001B[0;32m~/miniconda3/lib/python3.10/site-packages/jax/_src/core.py:869\u001B[0m, in \u001B[0;36mEvalTrace.process_primitive\u001B[0;34m(self, primitive, tracers, params)\u001B[0m\n\u001B[1;32m    868\u001B[0m \u001B[38;5;28;01mdef\u001B[39;00m \u001B[38;5;21mprocess_primitive\u001B[39m(\u001B[38;5;28mself\u001B[39m, primitive, tracers, params):\n\u001B[0;32m--> 869\u001B[0m   \u001B[38;5;28;01mreturn\u001B[39;00m \u001B[43mprimitive\u001B[49m\u001B[38;5;241;43m.\u001B[39;49m\u001B[43mimpl\u001B[49m\u001B[43m(\u001B[49m\u001B[38;5;241;43m*\u001B[39;49m\u001B[43mtracers\u001B[49m\u001B[43m,\u001B[49m\u001B[43m \u001B[49m\u001B[38;5;241;43m*\u001B[39;49m\u001B[38;5;241;43m*\u001B[39;49m\u001B[43mparams\u001B[49m\u001B[43m)\u001B[49m\n",
      "File \u001B[0;32m~/miniconda3/lib/python3.10/site-packages/jax/_src/pjit.py:1211\u001B[0m, in \u001B[0;36m_pjit_call_impl\u001B[0;34m(jaxpr, in_shardings, out_shardings, resource_env, donated_invars, name, keep_unused, inline, *args)\u001B[0m\n\u001B[1;32m   1208\u001B[0m donated_argnums \u001B[38;5;241m=\u001B[39m [i \u001B[38;5;28;01mfor\u001B[39;00m i, d \u001B[38;5;129;01min\u001B[39;00m \u001B[38;5;28menumerate\u001B[39m(donated_invars) \u001B[38;5;28;01mif\u001B[39;00m d]\n\u001B[1;32m   1209\u001B[0m has_explicit_sharding \u001B[38;5;241m=\u001B[39m _pjit_explicit_sharding(\n\u001B[1;32m   1210\u001B[0m     in_shardings, out_shardings, \u001B[38;5;28;01mNone\u001B[39;00m, \u001B[38;5;28;01mNone\u001B[39;00m)\n\u001B[0;32m-> 1211\u001B[0m \u001B[38;5;28;01mreturn\u001B[39;00m \u001B[43mxc\u001B[49m\u001B[38;5;241;43m.\u001B[39;49m\u001B[43m_xla\u001B[49m\u001B[38;5;241;43m.\u001B[39;49m\u001B[43mpjit\u001B[49m\u001B[43m(\u001B[49m\u001B[43mname\u001B[49m\u001B[43m,\u001B[49m\u001B[43m \u001B[49m\u001B[43mf\u001B[49m\u001B[43m,\u001B[49m\u001B[43m \u001B[49m\u001B[43mcall_impl_cache_miss\u001B[49m\u001B[43m,\u001B[49m\u001B[43m \u001B[49m\u001B[43m[\u001B[49m\u001B[43m]\u001B[49m\u001B[43m,\u001B[49m\u001B[43m \u001B[49m\u001B[43m[\u001B[49m\u001B[43m]\u001B[49m\u001B[43m,\u001B[49m\u001B[43m \u001B[49m\u001B[43mdonated_argnums\u001B[49m\u001B[43m,\u001B[49m\n\u001B[1;32m   1212\u001B[0m \u001B[43m                    \u001B[49m\u001B[43mtree_util\u001B[49m\u001B[38;5;241;43m.\u001B[39;49m\u001B[43mdispatch_registry\u001B[49m\u001B[43m,\u001B[49m\n\u001B[1;32m   1213\u001B[0m \u001B[43m                    \u001B[49m\u001B[43m_get_cpp_global_cache\u001B[49m\u001B[43m(\u001B[49m\u001B[43mhas_explicit_sharding\u001B[49m\u001B[43m)\u001B[49m\u001B[43m)\u001B[49m\u001B[43m(\u001B[49m\u001B[38;5;241;43m*\u001B[39;49m\u001B[43margs\u001B[49m\u001B[43m)\u001B[49m\n",
      "File \u001B[0;32m~/miniconda3/lib/python3.10/site-packages/jax/_src/pjit.py:1195\u001B[0m, in \u001B[0;36m_pjit_call_impl.<locals>.call_impl_cache_miss\u001B[0;34m(*args_, **kwargs_)\u001B[0m\n\u001B[1;32m   1194\u001B[0m \u001B[38;5;28;01mdef\u001B[39;00m \u001B[38;5;21mcall_impl_cache_miss\u001B[39m(\u001B[38;5;241m*\u001B[39margs_, \u001B[38;5;241m*\u001B[39m\u001B[38;5;241m*\u001B[39mkwargs_):\n\u001B[0;32m-> 1195\u001B[0m   out_flat, compiled \u001B[38;5;241m=\u001B[39m \u001B[43m_pjit_call_impl_python\u001B[49m\u001B[43m(\u001B[49m\n\u001B[1;32m   1196\u001B[0m \u001B[43m      \u001B[49m\u001B[38;5;241;43m*\u001B[39;49m\u001B[43margs\u001B[49m\u001B[43m,\u001B[49m\u001B[43m \u001B[49m\u001B[43mjaxpr\u001B[49m\u001B[38;5;241;43m=\u001B[39;49m\u001B[43mjaxpr\u001B[49m\u001B[43m,\u001B[49m\u001B[43m \u001B[49m\u001B[43min_shardings\u001B[49m\u001B[38;5;241;43m=\u001B[39;49m\u001B[43min_shardings\u001B[49m\u001B[43m,\u001B[49m\n\u001B[1;32m   1197\u001B[0m \u001B[43m      \u001B[49m\u001B[43mout_shardings\u001B[49m\u001B[38;5;241;43m=\u001B[39;49m\u001B[43mout_shardings\u001B[49m\u001B[43m,\u001B[49m\u001B[43m \u001B[49m\u001B[43mresource_env\u001B[49m\u001B[38;5;241;43m=\u001B[39;49m\u001B[43mresource_env\u001B[49m\u001B[43m,\u001B[49m\n\u001B[1;32m   1198\u001B[0m \u001B[43m      \u001B[49m\u001B[43mdonated_invars\u001B[49m\u001B[38;5;241;43m=\u001B[39;49m\u001B[43mdonated_invars\u001B[49m\u001B[43m,\u001B[49m\u001B[43m \u001B[49m\u001B[43mname\u001B[49m\u001B[38;5;241;43m=\u001B[39;49m\u001B[43mname\u001B[49m\u001B[43m,\u001B[49m\u001B[43m \u001B[49m\u001B[43mkeep_unused\u001B[49m\u001B[38;5;241;43m=\u001B[39;49m\u001B[43mkeep_unused\u001B[49m\u001B[43m,\u001B[49m\n\u001B[1;32m   1199\u001B[0m \u001B[43m      \u001B[49m\u001B[43minline\u001B[49m\u001B[38;5;241;43m=\u001B[39;49m\u001B[43minline\u001B[49m\u001B[43m)\u001B[49m\n\u001B[1;32m   1200\u001B[0m   fastpath_data \u001B[38;5;241m=\u001B[39m _get_fastpath_data(\n\u001B[1;32m   1201\u001B[0m       compiled, tree_structure(out_flat), args, out_flat)\n\u001B[1;32m   1202\u001B[0m   \u001B[38;5;28;01mreturn\u001B[39;00m out_flat, fastpath_data\n",
      "File \u001B[0;32m~/miniconda3/lib/python3.10/site-packages/jax/_src/pjit.py:1131\u001B[0m, in \u001B[0;36m_pjit_call_impl_python\u001B[0;34m(jaxpr, in_shardings, out_shardings, resource_env, donated_invars, name, keep_unused, inline, *args)\u001B[0m\n\u001B[1;32m   1122\u001B[0m \u001B[38;5;28;01mglobal\u001B[39;00m _most_recent_pjit_call_executable\n\u001B[1;32m   1124\u001B[0m in_shardings \u001B[38;5;241m=\u001B[39m _resolve_in_shardings(\n\u001B[1;32m   1125\u001B[0m     args, in_shardings, out_shardings,\n\u001B[1;32m   1126\u001B[0m     resource_env\u001B[38;5;241m.\u001B[39mphysical_mesh \u001B[38;5;28;01mif\u001B[39;00m resource_env \u001B[38;5;129;01mis\u001B[39;00m \u001B[38;5;129;01mnot\u001B[39;00m \u001B[38;5;28;01mNone\u001B[39;00m \u001B[38;5;28;01melse\u001B[39;00m \u001B[38;5;28;01mNone\u001B[39;00m)\n\u001B[1;32m   1128\u001B[0m compiled \u001B[38;5;241m=\u001B[39m \u001B[43m_pjit_lower\u001B[49m\u001B[43m(\u001B[49m\n\u001B[1;32m   1129\u001B[0m \u001B[43m    \u001B[49m\u001B[43mjaxpr\u001B[49m\u001B[43m,\u001B[49m\u001B[43m \u001B[49m\u001B[43min_shardings\u001B[49m\u001B[43m,\u001B[49m\u001B[43m \u001B[49m\u001B[43mout_shardings\u001B[49m\u001B[43m,\u001B[49m\u001B[43m \u001B[49m\u001B[43mresource_env\u001B[49m\u001B[43m,\u001B[49m\n\u001B[1;32m   1130\u001B[0m \u001B[43m    \u001B[49m\u001B[43mdonated_invars\u001B[49m\u001B[43m,\u001B[49m\u001B[43m \u001B[49m\u001B[43mname\u001B[49m\u001B[43m,\u001B[49m\u001B[43m \u001B[49m\u001B[43mkeep_unused\u001B[49m\u001B[43m,\u001B[49m\u001B[43m \u001B[49m\u001B[43minline\u001B[49m\u001B[43m,\u001B[49m\n\u001B[0;32m-> 1131\u001B[0m \u001B[43m    \u001B[49m\u001B[43mlowering_parameters\u001B[49m\u001B[38;5;241;43m=\u001B[39;49m\u001B[43mmlir\u001B[49m\u001B[38;5;241;43m.\u001B[39;49m\u001B[43mLoweringParameters\u001B[49m\u001B[43m(\u001B[49m\u001B[43m)\u001B[49m\u001B[43m)\u001B[49m\u001B[38;5;241;43m.\u001B[39;49m\u001B[43mcompile\u001B[49m\u001B[43m(\u001B[49m\u001B[43m)\u001B[49m\n\u001B[1;32m   1132\u001B[0m _most_recent_pjit_call_executable\u001B[38;5;241m.\u001B[39mweak_key_dict[jaxpr] \u001B[38;5;241m=\u001B[39m compiled\n\u001B[1;32m   1133\u001B[0m \u001B[38;5;66;03m# This check is expensive so only do it if enable_checks is on.\u001B[39;00m\n",
      "File \u001B[0;32m~/miniconda3/lib/python3.10/site-packages/jax/_src/interpreters/pxla.py:2276\u001B[0m, in \u001B[0;36mMeshComputation.compile\u001B[0;34m(self, compiler_options)\u001B[0m\n\u001B[1;32m   2274\u001B[0m \u001B[38;5;28;01mdef\u001B[39;00m \u001B[38;5;21mcompile\u001B[39m(\u001B[38;5;28mself\u001B[39m, compiler_options\u001B[38;5;241m=\u001B[39m\u001B[38;5;28;01mNone\u001B[39;00m) \u001B[38;5;241m-\u001B[39m\u001B[38;5;241m>\u001B[39m MeshExecutable:\n\u001B[1;32m   2275\u001B[0m   \u001B[38;5;28;01mif\u001B[39;00m \u001B[38;5;28mself\u001B[39m\u001B[38;5;241m.\u001B[39m_executable \u001B[38;5;129;01mis\u001B[39;00m \u001B[38;5;28;01mNone\u001B[39;00m \u001B[38;5;129;01mor\u001B[39;00m compiler_options \u001B[38;5;129;01mis\u001B[39;00m \u001B[38;5;129;01mnot\u001B[39;00m \u001B[38;5;28;01mNone\u001B[39;00m:\n\u001B[0;32m-> 2276\u001B[0m     executable \u001B[38;5;241m=\u001B[39m \u001B[43mUnloadedMeshExecutable\u001B[49m\u001B[38;5;241;43m.\u001B[39;49m\u001B[43mfrom_hlo\u001B[49m\u001B[43m(\u001B[49m\n\u001B[1;32m   2277\u001B[0m \u001B[43m        \u001B[49m\u001B[38;5;28;43mself\u001B[39;49m\u001B[38;5;241;43m.\u001B[39;49m\u001B[43m_name\u001B[49m\u001B[43m,\u001B[49m\u001B[43m \u001B[49m\u001B[38;5;28;43mself\u001B[39;49m\u001B[38;5;241;43m.\u001B[39;49m\u001B[43m_hlo\u001B[49m\u001B[43m,\u001B[49m\u001B[43m \u001B[49m\u001B[38;5;241;43m*\u001B[39;49m\u001B[38;5;241;43m*\u001B[39;49m\u001B[38;5;28;43mself\u001B[39;49m\u001B[38;5;241;43m.\u001B[39;49m\u001B[43mcompile_args\u001B[49m\u001B[43m,\u001B[49m\n\u001B[1;32m   2278\u001B[0m \u001B[43m        \u001B[49m\u001B[43mcompiler_options\u001B[49m\u001B[38;5;241;43m=\u001B[39;49m\u001B[43mcompiler_options\u001B[49m\u001B[43m)\u001B[49m\n\u001B[1;32m   2279\u001B[0m     \u001B[38;5;28;01mif\u001B[39;00m compiler_options \u001B[38;5;129;01mis\u001B[39;00m \u001B[38;5;28;01mNone\u001B[39;00m:\n\u001B[1;32m   2280\u001B[0m       \u001B[38;5;28mself\u001B[39m\u001B[38;5;241m.\u001B[39m_executable \u001B[38;5;241m=\u001B[39m executable\n",
      "File \u001B[0;32m~/miniconda3/lib/python3.10/site-packages/jax/_src/interpreters/pxla.py:2624\u001B[0m, in \u001B[0;36mUnloadedMeshExecutable.from_hlo\u001B[0;34m(***failed resolving arguments***)\u001B[0m\n\u001B[1;32m   2621\u001B[0m       mesh \u001B[38;5;241m=\u001B[39m i\u001B[38;5;241m.\u001B[39mmesh  \u001B[38;5;66;03m# type: ignore\u001B[39;00m\n\u001B[1;32m   2622\u001B[0m       \u001B[38;5;28;01mbreak\u001B[39;00m\n\u001B[0;32m-> 2624\u001B[0m xla_executable, compile_options \u001B[38;5;241m=\u001B[39m \u001B[43m_cached_compilation\u001B[49m\u001B[43m(\u001B[49m\n\u001B[1;32m   2625\u001B[0m \u001B[43m    \u001B[49m\u001B[43mhlo\u001B[49m\u001B[43m,\u001B[49m\u001B[43m \u001B[49m\u001B[43mname\u001B[49m\u001B[43m,\u001B[49m\u001B[43m \u001B[49m\u001B[43mmesh\u001B[49m\u001B[43m,\u001B[49m\u001B[43m \u001B[49m\u001B[43mspmd_lowering\u001B[49m\u001B[43m,\u001B[49m\n\u001B[1;32m   2626\u001B[0m \u001B[43m    \u001B[49m\u001B[43mtuple_args\u001B[49m\u001B[43m,\u001B[49m\u001B[43m \u001B[49m\u001B[43mauto_spmd_lowering\u001B[49m\u001B[43m,\u001B[49m\u001B[43m \u001B[49m\u001B[43mallow_prop_to_outputs\u001B[49m\u001B[43m,\u001B[49m\n\u001B[1;32m   2627\u001B[0m \u001B[43m    \u001B[49m\u001B[38;5;28;43mtuple\u001B[39;49m\u001B[43m(\u001B[49m\u001B[43mhost_callbacks\u001B[49m\u001B[43m)\u001B[49m\u001B[43m,\u001B[49m\u001B[43m \u001B[49m\u001B[43mbackend\u001B[49m\u001B[43m,\u001B[49m\u001B[43m \u001B[49m\u001B[43mda\u001B[49m\u001B[43m,\u001B[49m\u001B[43m \u001B[49m\u001B[43mpmap_nreps\u001B[49m\u001B[43m,\u001B[49m\n\u001B[1;32m   2628\u001B[0m \u001B[43m    \u001B[49m\u001B[43mcompiler_options_keys\u001B[49m\u001B[43m,\u001B[49m\u001B[43m \u001B[49m\u001B[43mcompiler_options_values\u001B[49m\u001B[43m)\u001B[49m\n\u001B[1;32m   2630\u001B[0m \u001B[38;5;28;01mif\u001B[39;00m \u001B[38;5;28mhasattr\u001B[39m(backend, \u001B[38;5;124m\"\u001B[39m\u001B[38;5;124mcompile_replicated\u001B[39m\u001B[38;5;124m\"\u001B[39m):\n\u001B[1;32m   2631\u001B[0m   semantics_in_shardings \u001B[38;5;241m=\u001B[39m SemanticallyEqualShardings(in_shardings)  \u001B[38;5;66;03m# type: ignore\u001B[39;00m\n",
      "File \u001B[0;32m~/miniconda3/lib/python3.10/site-packages/jax/_src/interpreters/pxla.py:2531\u001B[0m, in \u001B[0;36m_cached_compilation\u001B[0;34m(computation, name, mesh, spmd_lowering, tuple_args, auto_spmd_lowering, _allow_propagation_to_outputs, host_callbacks, backend, da, pmap_nreps, compiler_options_keys, compiler_options_values)\u001B[0m\n\u001B[1;32m   2526\u001B[0m   \u001B[38;5;28;01mreturn\u001B[39;00m \u001B[38;5;28;01mNone\u001B[39;00m, compile_options\n\u001B[1;32m   2528\u001B[0m \u001B[38;5;28;01mwith\u001B[39;00m dispatch\u001B[38;5;241m.\u001B[39mlog_elapsed_time(\n\u001B[1;32m   2529\u001B[0m     \u001B[38;5;124m\"\u001B[39m\u001B[38;5;124mFinished XLA compilation of \u001B[39m\u001B[38;5;132;01m{fun_name}\u001B[39;00m\u001B[38;5;124m in \u001B[39m\u001B[38;5;132;01m{elapsed_time}\u001B[39;00m\u001B[38;5;124m sec\u001B[39m\u001B[38;5;124m\"\u001B[39m,\n\u001B[1;32m   2530\u001B[0m     fun_name\u001B[38;5;241m=\u001B[39mname, event\u001B[38;5;241m=\u001B[39mdispatch\u001B[38;5;241m.\u001B[39mBACKEND_COMPILE_EVENT):\n\u001B[0;32m-> 2531\u001B[0m   xla_executable \u001B[38;5;241m=\u001B[39m \u001B[43mcompiler\u001B[49m\u001B[38;5;241;43m.\u001B[39;49m\u001B[43mcompile_or_get_cached\u001B[49m\u001B[43m(\u001B[49m\n\u001B[1;32m   2532\u001B[0m \u001B[43m      \u001B[49m\u001B[43mbackend\u001B[49m\u001B[43m,\u001B[49m\u001B[43m \u001B[49m\u001B[43mcomputation\u001B[49m\u001B[43m,\u001B[49m\u001B[43m \u001B[49m\u001B[43mdev\u001B[49m\u001B[43m,\u001B[49m\u001B[43m \u001B[49m\u001B[43mcompile_options\u001B[49m\u001B[43m,\u001B[49m\u001B[43m \u001B[49m\u001B[43mhost_callbacks\u001B[49m\u001B[43m)\u001B[49m\n\u001B[1;32m   2533\u001B[0m \u001B[38;5;28;01mreturn\u001B[39;00m xla_executable, compile_options\n",
      "File \u001B[0;32m~/miniconda3/lib/python3.10/site-packages/jax/_src/compiler.py:294\u001B[0m, in \u001B[0;36mcompile_or_get_cached\u001B[0;34m(backend, computation, devices, compile_options, host_callbacks)\u001B[0m\n\u001B[1;32m    290\u001B[0m use_compilation_cache \u001B[38;5;241m=\u001B[39m (compilation_cache\u001B[38;5;241m.\u001B[39mis_initialized() \u001B[38;5;129;01mand\u001B[39;00m\n\u001B[1;32m    291\u001B[0m                          backend\u001B[38;5;241m.\u001B[39mplatform \u001B[38;5;129;01min\u001B[39;00m supported_platforms)\n\u001B[1;32m    293\u001B[0m \u001B[38;5;28;01mif\u001B[39;00m \u001B[38;5;129;01mnot\u001B[39;00m use_compilation_cache:\n\u001B[0;32m--> 294\u001B[0m   \u001B[38;5;28;01mreturn\u001B[39;00m \u001B[43mbackend_compile\u001B[49m\u001B[43m(\u001B[49m\u001B[43mbackend\u001B[49m\u001B[43m,\u001B[49m\u001B[43m \u001B[49m\u001B[43mcomputation\u001B[49m\u001B[43m,\u001B[49m\u001B[43m \u001B[49m\u001B[43mcompile_options\u001B[49m\u001B[43m,\u001B[49m\n\u001B[1;32m    295\u001B[0m \u001B[43m                         \u001B[49m\u001B[43mhost_callbacks\u001B[49m\u001B[43m)\u001B[49m\n\u001B[1;32m    297\u001B[0m \u001B[38;5;66;03m# TODO(b/293308239) Instrument a metric to track the adoption of the new cache\u001B[39;00m\n\u001B[1;32m    298\u001B[0m \u001B[38;5;66;03m# key implementation after it is enabled.\u001B[39;00m\n\u001B[1;32m    299\u001B[0m \u001B[38;5;28;01mglobal\u001B[39;00m _cache_used\n",
      "File \u001B[0;32m~/miniconda3/lib/python3.10/site-packages/jax/_src/profiler.py:314\u001B[0m, in \u001B[0;36mannotate_function.<locals>.wrapper\u001B[0;34m(*args, **kwargs)\u001B[0m\n\u001B[1;32m    311\u001B[0m \u001B[38;5;129m@wraps\u001B[39m(func)\n\u001B[1;32m    312\u001B[0m \u001B[38;5;28;01mdef\u001B[39;00m \u001B[38;5;21mwrapper\u001B[39m(\u001B[38;5;241m*\u001B[39margs, \u001B[38;5;241m*\u001B[39m\u001B[38;5;241m*\u001B[39mkwargs):\n\u001B[1;32m    313\u001B[0m   \u001B[38;5;28;01mwith\u001B[39;00m TraceAnnotation(name, \u001B[38;5;241m*\u001B[39m\u001B[38;5;241m*\u001B[39mdecorator_kwargs):\n\u001B[0;32m--> 314\u001B[0m     \u001B[38;5;28;01mreturn\u001B[39;00m \u001B[43mfunc\u001B[49m\u001B[43m(\u001B[49m\u001B[38;5;241;43m*\u001B[39;49m\u001B[43margs\u001B[49m\u001B[43m,\u001B[49m\u001B[43m \u001B[49m\u001B[38;5;241;43m*\u001B[39;49m\u001B[38;5;241;43m*\u001B[39;49m\u001B[43mkwargs\u001B[49m\u001B[43m)\u001B[49m\n\u001B[1;32m    315\u001B[0m   \u001B[38;5;28;01mreturn\u001B[39;00m wrapper\n",
      "File \u001B[0;32m~/miniconda3/lib/python3.10/site-packages/jax/_src/compiler.py:256\u001B[0m, in \u001B[0;36mbackend_compile\u001B[0;34m(backend, module, options, host_callbacks)\u001B[0m\n\u001B[1;32m    251\u001B[0m   \u001B[38;5;28;01mreturn\u001B[39;00m backend\u001B[38;5;241m.\u001B[39mcompile(built_c, compile_options\u001B[38;5;241m=\u001B[39moptions,\n\u001B[1;32m    252\u001B[0m                          host_callbacks\u001B[38;5;241m=\u001B[39mhost_callbacks)\n\u001B[1;32m    253\u001B[0m \u001B[38;5;66;03m# Some backends don't have `host_callbacks` option yet\u001B[39;00m\n\u001B[1;32m    254\u001B[0m \u001B[38;5;66;03m# TODO(sharadmv): remove this fallback when all backends allow `compile`\u001B[39;00m\n\u001B[1;32m    255\u001B[0m \u001B[38;5;66;03m# to take in `host_callbacks`\u001B[39;00m\n\u001B[0;32m--> 256\u001B[0m \u001B[38;5;28;01mreturn\u001B[39;00m \u001B[43mbackend\u001B[49m\u001B[38;5;241;43m.\u001B[39;49m\u001B[43mcompile\u001B[49m\u001B[43m(\u001B[49m\u001B[43mbuilt_c\u001B[49m\u001B[43m,\u001B[49m\u001B[43m \u001B[49m\u001B[43mcompile_options\u001B[49m\u001B[38;5;241;43m=\u001B[39;49m\u001B[43moptions\u001B[49m\u001B[43m)\u001B[49m\n",
      "\u001B[0;31mKeyboardInterrupt\u001B[0m: "
     ]
    }
   ],
   "source": [
    "import jax\n",
    "from jax.random import split\n",
    "\n",
    "rng = jax.random.PRNGKey(0)\n",
    "rng, _rng = split(rng)\n",
    "\n",
    "obs, state = jax.vmap(env.reset, (0, None))(split(rng, 1024), params)\n",
    "a = []\n",
    "for i in tqdm(range(1000)):\n",
    "    rng, _rng = split(rng)\n",
    "    act = jax.random.randint(_rng, (1024, ), 0, env.action_space(params).n)\n",
    "    rng, _rng = split(rng)\n",
    "    obs, state, rew, done, info = jax.vmap(env.step, (0, 0, 0, None))(split(_rng, 1024), state, act, params)\n",
    "    a.append(rew)\n",
    "\n",
    "a = jnp.stack(a).flatten()\n",
    "\n"
   ],
   "metadata": {
    "collapsed": false,
    "ExecuteTime": {
     "end_time": "2024-01-10T23:57:16.480748Z",
     "start_time": "2024-01-10T23:57:13.182513Z"
    }
   },
   "id": "83931955372e378d",
   "execution_count": 201
  },
  {
   "cell_type": "code",
   "outputs": [],
   "source": [
    "plt.hist(np.asarray(a));\n",
    "plt.yscale('log')"
   ],
   "metadata": {
    "collapsed": false,
    "ExecuteTime": {
     "end_time": "2024-01-10T23:57:16.495765Z",
     "start_time": "2024-01-10T23:57:16.483038Z"
    }
   },
   "id": "d7734e221fad9e1b",
   "execution_count": null
  },
  {
   "cell_type": "code",
   "outputs": [],
   "source": [],
   "metadata": {
    "collapsed": false,
    "ExecuteTime": {
     "start_time": "2024-01-10T23:57:16.483951Z"
    }
   },
   "id": "50668454ff8e0d9d"
  },
  {
   "cell_type": "code",
   "outputs": [],
   "source": [],
   "metadata": {
    "collapsed": false,
    "ExecuteTime": {
     "start_time": "2024-01-10T23:57:16.485089Z"
    }
   },
   "id": "8371b3b2f0d4f002"
  },
  {
   "cell_type": "code",
   "outputs": [],
   "source": [],
   "metadata": {
    "collapsed": false,
    "ExecuteTime": {
     "start_time": "2024-01-10T23:57:16.486250Z"
    }
   },
   "id": "f87c57e9c7144622"
  },
  {
   "cell_type": "code",
   "outputs": [],
   "source": [
    "import os\n",
    "import glob\n",
    "import numpy as np\n",
    "import matplotlib.pyplot as plt\n",
    "import pickle\n",
    "import json\n",
    "\n"
   ],
   "metadata": {
    "collapsed": false,
    "ExecuteTime": {
     "start_time": "2024-01-10T23:57:16.487430Z"
    }
   },
   "id": "bb0ced7f726d2b02",
   "execution_count": null
  },
  {
   "cell_type": "code",
   "outputs": [],
   "source": [
    "import matplotlib.colors as mcolors\n",
    "mcolors.TABLEAU_COLORS\n"
   ],
   "metadata": {
    "collapsed": false,
    "ExecuteTime": {
     "start_time": "2024-01-10T23:57:16.488522Z"
    }
   },
   "id": "6321cd033bb97680",
   "execution_count": null
  },
  {
   "cell_type": "code",
   "outputs": [],
   "source": [
    "def viz_training(dir_exp):\n",
    "    with open(f'{dir_exp}/rets.pkl', 'rb') as f:\n",
    "        rets = pickle.load(f)\n",
    "        rets = np.asarray(rets)\n",
    "    plt.plot(rets[0])\n",
    "\n",
    "\n",
    "viz_training('../data/exp_main/train/name=csmdp;d_state=8;d_obs=8;n_acts=4;delta=F;trans=linear;rew=linear;mrl=4x64')\n",
    "viz_training('../data/exp_main/train/name=csmdp;d_state=8;d_obs=8;n_acts=4;delta=F;trans=linear;rew=goal;mrl=4x64')\n",
    "viz_training('../data/exp_main/train/name=csmdp;d_state=8;d_obs=8;n_acts=4;delta=F;trans=mlp;rew=linear;mrl=4x64')\n",
    "\n",
    "plt.ylabel('Return')\n",
    "plt.xlabel('Training Iteration')\n",
    "\n"
   ],
   "metadata": {
    "collapsed": false,
    "ExecuteTime": {
     "start_time": "2024-01-10T23:57:16.489641Z"
    }
   },
   "id": "b0fba4884be27e44",
   "execution_count": null
  },
  {
   "cell_type": "code",
   "outputs": [],
   "source": [
    "def viz_dir(dir_exp, bar_chart=True):\n",
    "    # for d in glob.glob(f'{dir_exp}/train/*'):\n",
    "    #     print(d)\n",
    "    #     with open(f'{d}/config.json', 'r') as f:\n",
    "    #         cfg = json.load(f)\n",
    "    #         print(cfg)\n",
    "    \n",
    "    plt.figure(figsize=(12, 8))\n",
    "    i_plt = 0\n",
    "    for test_dir in sorted(os.listdir(f'{dir_exp}/test/')):\n",
    "        i_plt += 1\n",
    "        plt.subplot(2, 3, i_plt)\n",
    "        for i, train_dir in enumerate(sorted(os.listdir(f'{dir_exp}/test/{test_dir}/'))):\n",
    "            with open(f'{dir_exp}/test/{test_dir}/{train_dir}/rets.pkl', 'rb') as f:\n",
    "                rets = pickle.load(f)\n",
    "                rets = np.asarray(rets)\n",
    "                if bar_chart:\n",
    "                    plt.bar(i, rets[0, -100:].mean(), label=train_dir)\n",
    "                else:\n",
    "                    plt.plot(rets[0], label=train_dir)\n",
    "        plt.title(test_dir)\n",
    "        \n",
    "        # print(test_dir)\n",
    "        # print(rets)\n",
    "    plt.gcf().supxlabel('Algorithm' if bar_chart else 'Training Iteration')\n",
    "    plt.gcf().supylabel('End Return' if bar_chart else 'Return')\n",
    "    plt.tight_layout()\n",
    "    handles, labels = plt.gca().get_legend_handles_labels()\n",
    "    plt.figlegend(handles, labels, bbox_to_anchor=(1, 0))\n",
    "    \n",
    "\n",
    "\n",
    "viz_dir('../data/exp_main/', bar_chart=True)\n"
   ],
   "metadata": {
    "collapsed": false,
    "ExecuteTime": {
     "start_time": "2024-01-10T23:57:16.490801Z"
    }
   },
   "id": "91470c1d08a3f2ae",
   "execution_count": null
  },
  {
   "cell_type": "code",
   "outputs": [],
   "source": [],
   "metadata": {
    "collapsed": false,
    "ExecuteTime": {
     "start_time": "2024-01-10T23:57:16.491899Z"
    }
   },
   "id": "3fa52f8f46172c4",
   "execution_count": null
  },
  {
   "cell_type": "code",
   "outputs": [],
   "source": [],
   "metadata": {
    "collapsed": false,
    "ExecuteTime": {
     "start_time": "2024-01-10T23:57:16.493043Z"
    }
   },
   "id": "6d96291718dd9aa5"
  },
  {
   "cell_type": "code",
   "outputs": [],
   "source": [],
   "metadata": {
    "collapsed": false,
    "ExecuteTime": {
     "start_time": "2024-01-10T23:57:16.494343Z"
    }
   },
   "id": "a2e728d41ce44dcb"
  },
  {
   "cell_type": "code",
   "outputs": [],
   "source": [],
   "metadata": {
    "collapsed": false,
    "ExecuteTime": {
     "start_time": "2024-01-10T23:57:16.495733Z"
    }
   },
   "id": "f507c49b93ba24a1"
  },
  {
   "cell_type": "code",
   "outputs": [],
   "source": [
    "from dataclasses import dataclass\n",
    "\n",
    "@dataclass\n",
    "class Dog():\n",
    "    legs: int\n",
    "    \n",
    "@dataclass\n",
    "class Cat():\n",
    "    MyDog: object\n",
    "    def doit(self):\n",
    "        self.my_dog = self.MyDog()\n",
    "        print(self.MyDog)\n",
    "        print(self.my_dog)\n",
    "\n",
    "from functools import partial\n",
    "cat = Cat(partial(Dog, legs=4))\n",
    "cat.doit()\n",
    "    \n",
    "    "
   ],
   "metadata": {
    "collapsed": false,
    "ExecuteTime": {
     "end_time": "2024-01-10T23:57:16.498618Z",
     "start_time": "2024-01-10T23:57:16.496728Z"
    }
   },
   "id": "ad544f0260060ef5",
   "execution_count": null
  },
  {
   "cell_type": "code",
   "outputs": [],
   "source": [],
   "metadata": {
    "collapsed": false,
    "ExecuteTime": {
     "start_time": "2024-01-10T23:57:16.497638Z"
    }
   },
   "id": "6739d50b7c946279"
  },
  {
   "cell_type": "code",
   "outputs": [],
   "source": [],
   "metadata": {
    "collapsed": false,
    "ExecuteTime": {
     "end_time": "2024-01-10T23:57:16.499043Z",
     "start_time": "2024-01-10T23:57:16.498654Z"
    }
   },
   "id": "599d13a6b0849426"
  },
  {
   "cell_type": "code",
   "outputs": [],
   "source": [],
   "metadata": {
    "collapsed": false,
    "ExecuteTime": {
     "start_time": "2024-01-10T23:57:16.499248Z"
    }
   },
   "id": "40795f621ebfe222"
  },
  {
   "cell_type": "code",
   "outputs": [],
   "source": [],
   "metadata": {
    "collapsed": false,
    "ExecuteTime": {
     "start_time": "2024-01-10T23:57:16.499857Z"
    }
   },
   "id": "86abc62655546959"
  },
  {
   "cell_type": "code",
   "execution_count": null,
   "outputs": [],
   "source": [
    "%load_ext autoreload\n",
    "%autoreload 2"
   ],
   "metadata": {
    "collapsed": false,
    "ExecuteTime": {
     "start_time": "2024-01-10T23:57:16.500415Z"
    }
   },
   "id": "32f122f8795be20"
  },
  {
   "cell_type": "code",
   "execution_count": null,
   "id": "initial_id",
   "metadata": {
    "collapsed": true,
    "ExecuteTime": {
     "start_time": "2024-01-10T23:57:16.500968Z"
    }
   },
   "outputs": [],
   "source": [
    "from ppo_metagrid import make_train"
   ]
  },
  {
   "cell_type": "code",
   "execution_count": null,
   "outputs": [],
   "source": [
    "import jax\n",
    "import jax.numpy as jnp\n",
    "import matplotlib.pyplot as plt"
   ],
   "metadata": {
    "collapsed": false,
    "ExecuteTime": {
     "start_time": "2024-01-10T23:57:16.506467Z"
    }
   },
   "id": "b65cdf295fd12dd7"
  },
  {
   "cell_type": "code",
   "execution_count": null,
   "outputs": [],
   "source": [
    "if __name__ == \"__main__\":\n",
    "    config = {\n",
    "        \"LR\": 2.5e-4,\n",
    "        \"NUM_ENVS\": 16*4,\n",
    "        \"NUM_STEPS\": 128,\n",
    "        \"TOTAL_TIMESTEPS\": 16*5e5,\n",
    "        \"UPDATE_EPOCHS\": 4,\n",
    "        \"NUM_MINIBATCHES\": 4,\n",
    "        \"GAMMA\": 0.99,\n",
    "        \"GAE_LAMBDA\": 0.95,\n",
    "        \"CLIP_EPS\": 0.2,\n",
    "        \"ENT_COEF\": 0.01,\n",
    "        \"VF_COEF\": 0.5,\n",
    "        \"MAX_GRAD_NORM\": 0.5,\n",
    "        \"ACTIVATION\": \"tanh\",\n",
    "        \"ENV_NAME\": \"CartPole-v1\",\n",
    "        \"ANNEAL_LR\": False,\n",
    "        \"DEBUG\": True,\n",
    "    }\n",
    "    rng = jax.random.PRNGKey(30)\n",
    "    train_fn = jax.jit(jax.vmap(make_train(config)))\n",
    "    rng, *_rng = jax.random.split(rng, 1 + 32)\n",
    "    out = train_fn(jnp.arange(len(_rng)), jnp.stack(_rng))\n",
    "    metrics = out[\"metrics\"]\n",
    "    print(jax.tree_map(lambda x: x.shape, metrics))\n",
    "    # rets = metrics[\"returned_episode_returns\"]  # n_seed, n_iters, n_steps, n_envs\n",
    "    # import matplotlib.pyplot as plt\n",
    "    # \n",
    "    # n_iters = rets.shape[1]\n",
    "    # steps = jnp.arange(n_iters) * config[\"NUM_STEPS\"] * config[\"NUM_ENVS\"]\n",
    "    # plt.plot(steps, jnp.mean(rets, axis=(0, 2, 3)), label='mean')\n",
    "    # plt.plot(steps, jnp.median(rets, axis=(0, 2, 3)), label='median')\n",
    "    # plt.plot(steps, jnp.mean(rets, axis=(2, 3)).T, c='gray', alpha=0.1)\n",
    "    # plt.legend()\n",
    "    # plt.ylabel('Return')\n",
    "    # plt.xlabel('Env Steps')\n",
    "    # plt.show()\n",
    "    # \n",
    "    # plt.plot(jnp.mean(rets[:, :10, :, :], axis=(0, 1, 3)), label='start of training')\n",
    "    # plt.plot(jnp.mean(rets[:, -10:, :, :], axis=(0, 1, 3)), label='end of training')\n",
    "    # plt.legend()\n",
    "    # plt.xlabel('in context steps')\n",
    "    # plt.show()\n",
    "    "
   ],
   "metadata": {
    "collapsed": false,
    "ExecuteTime": {
     "start_time": "2024-01-10T23:57:16.506717Z"
    }
   },
   "id": "7c3d376fe71673da"
  },
  {
   "cell_type": "code",
   "execution_count": null,
   "outputs": [],
   "source": [
    "rews = metrics  # seed, iter, step, env\n",
    "rets = rews.sum(axis=2)  # seed, iter, env\n",
    "rews.shape, rets.shape"
   ],
   "metadata": {
    "collapsed": false,
    "ExecuteTime": {
     "start_time": "2024-01-10T23:57:16.506806Z"
    }
   },
   "id": "5a3d859471447ec0"
  },
  {
   "cell_type": "code",
   "execution_count": null,
   "outputs": [],
   "source": [
    "n_iters = rews.shape[1]\n",
    "iters = jnp.arange(n_iters) * config[\"NUM_STEPS\"] * config[\"NUM_ENVS\"]\n",
    "\n",
    "plt.plot(iters, jnp.mean(rets.mean(axis=-1), axis=0), label='mean')\n",
    "plt.plot(iters, jnp.median(rets.mean(axis=-1), axis=0), label='median')\n",
    "plt.plot(iters, rets.mean(axis=-1).T, c='gray', alpha=0.1)\n",
    "plt.legend()\n",
    "plt.ylabel('Return')\n",
    "plt.xlabel('Env Steps')\n",
    "plt.title('MetaGridEnv 64x128, Agent: MetaRLLinearTransformer')\n",
    "plt.show()\n"
   ],
   "metadata": {
    "collapsed": false,
    "ExecuteTime": {
     "end_time": "2024-01-10T23:57:16.514019Z",
     "start_time": "2024-01-10T23:57:16.506863Z"
    }
   },
   "id": "34d1353edfa5626a"
  },
  {
   "cell_type": "code",
   "execution_count": null,
   "outputs": [],
   "source": [
    "plt.plot(jnp.mean(rews[:, :10].mean(axis=(1, 3)), axis=0), c=[.5, 0, 0, 1], label='mean start of training')\n",
    "plt.plot(jnp.mean(rews[:, -10:].mean(axis=(1, 3)), axis=0), c=[0, .5, 0, 1], label='mean end of training')\n",
    "\n",
    "plt.plot(rews[:, :10].mean(axis=(1, 3)).T, c=[.5, 0, 0, .1])\n",
    "plt.plot(rews[:, -10:].mean(axis=(1, 3)).T, c=[0, .5, 0, .1])\n",
    "\n",
    "plt.legend()\n",
    "plt.ylabel('Per-Step Reward')\n",
    "plt.xlabel('In-Context Steps')\n",
    "plt.title('MetaGridEnv 64x128, Agent: MetaRLLinearTransformer')\n",
    "plt.show()\n"
   ],
   "metadata": {
    "collapsed": false,
    "ExecuteTime": {
     "start_time": "2024-01-10T23:57:16.507634Z"
    }
   },
   "id": "a7d3a2aaf4923999"
  },
  {
   "cell_type": "code",
   "execution_count": null,
   "outputs": [],
   "source": [],
   "metadata": {
    "collapsed": false,
    "ExecuteTime": {
     "start_time": "2024-01-10T23:57:16.508354Z"
    }
   },
   "id": "cdb66027da3e7ead"
  },
  {
   "cell_type": "code",
   "execution_count": null,
   "outputs": [],
   "source": [],
   "metadata": {
    "collapsed": false,
    "ExecuteTime": {
     "start_time": "2024-01-10T23:57:16.508965Z"
    }
   },
   "id": "a1f1b9e4ab3aa583"
  },
  {
   "cell_type": "code",
   "execution_count": null,
   "outputs": [],
   "source": [],
   "metadata": {
    "collapsed": false,
    "ExecuteTime": {
     "start_time": "2024-01-10T23:57:16.509578Z"
    }
   },
   "id": "4fdd873b3e8e1dd8"
  },
  {
   "cell_type": "code",
   "execution_count": null,
   "outputs": [],
   "source": [],
   "metadata": {
    "collapsed": false,
    "ExecuteTime": {
     "start_time": "2024-01-10T23:57:16.510305Z"
    }
   },
   "id": "3dce75dfc442bdc7"
  }
 ],
 "metadata": {
  "kernelspec": {
   "display_name": "Python 3",
   "language": "python",
   "name": "python3"
  },
  "language_info": {
   "codemirror_mode": {
    "name": "ipython",
    "version": 2
   },
   "file_extension": ".py",
   "mimetype": "text/x-python",
   "name": "python",
   "nbconvert_exporter": "python",
   "pygments_lexer": "ipython2",
   "version": "2.7.6"
  }
 },
 "nbformat": 4,
 "nbformat_minor": 5
}
