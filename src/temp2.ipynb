{
 "cells": [
  {
   "cell_type": "code",
   "execution_count": null,
   "id": "initial_id",
   "metadata": {
    "collapsed": true
   },
   "outputs": [],
   "source": []
  },
  {
   "cell_type": "code",
   "outputs": [],
   "source": [
    "import numpy as np\n",
    "import jax.numpy as jnp\n",
    "import jax\n",
    "from jax.random import split\n"
   ],
   "metadata": {
    "collapsed": false,
    "ExecuteTime": {
     "end_time": "2024-03-31T23:34:43.712132Z",
     "start_time": "2024-03-31T23:34:43.708982Z"
    }
   },
   "id": "133d889717c93b2d",
   "execution_count": 4
  },
  {
   "cell_type": "code",
   "outputs": [
    {
     "name": "stdout",
     "output_type": "stream",
     "text": [
      "(512, 17)\n",
      "(512, 64)\n",
      "(512, 17)\n"
     ]
    }
   ],
   "source": [
    "rng = jax.random.PRNGKey(0)\n",
    "rng, _rng = split(rng)\n",
    "obs_mat = jax.random.orthogonal(_rng, 64)[:64, :17]\n",
    "\n",
    "rng, _rng = split(rng)\n",
    "obs = jax.random.normal(rng, (512, 17))\n",
    "\n",
    "\n",
    "obs_t = (obs@obs_mat.T)\n",
    "obs_tt = (obs_t@obs_mat.T.T)\n",
    "print(obs.shape)\n",
    "print(obs_t.shape)\n",
    "print(obs_tt.shape)\n",
    "\n"
   ],
   "metadata": {
    "collapsed": false,
    "ExecuteTime": {
     "end_time": "2024-03-31T23:37:25.864164Z",
     "start_time": "2024-03-31T23:37:25.851244Z"
    }
   },
   "id": "8b064fe7e27b279b",
   "execution_count": 18
  },
  {
   "cell_type": "code",
   "outputs": [
    {
     "data": {
      "text/plain": "Array(1.1920929e-06, dtype=float32)"
     },
     "execution_count": 20,
     "metadata": {},
     "output_type": "execute_result"
    }
   ],
   "source": [
    "(obs-obs_tt).max()"
   ],
   "metadata": {
    "collapsed": false,
    "ExecuteTime": {
     "end_time": "2024-03-31T23:37:32.471788Z",
     "start_time": "2024-03-31T23:37:32.467124Z"
    }
   },
   "id": "c53367bb4942ed5",
   "execution_count": 20
  },
  {
   "cell_type": "code",
   "outputs": [],
   "source": [],
   "metadata": {
    "collapsed": false
   },
   "id": "d385d2637757f037"
  },
  {
   "cell_type": "code",
   "outputs": [],
   "source": [],
   "metadata": {
    "collapsed": false
   },
   "id": "acad28890c237ded"
  }
 ],
 "metadata": {
  "kernelspec": {
   "display_name": "Python 3",
   "language": "python",
   "name": "python3"
  },
  "language_info": {
   "codemirror_mode": {
    "name": "ipython",
    "version": 2
   },
   "file_extension": ".py",
   "mimetype": "text/x-python",
   "name": "python",
   "nbconvert_exporter": "python",
   "pygments_lexer": "ipython2",
   "version": "2.7.6"
  }
 },
 "nbformat": 4,
 "nbformat_minor": 5
}
