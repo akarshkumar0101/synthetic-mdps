{
 "cells": [
  {
   "cell_type": "code",
   "outputs": [
    {
     "name": "stdout",
     "output_type": "stream",
     "text": [
      "oliva-titanrtx-1.csail.mit.edu\r\n",
      "/data/vision/phillipi/akumar01/synthetic-mdps/src\r\n",
      "/data/vision/phillipi/akumar01/.virtualenvs/synthetic-mdps/bin/python\n"
     ]
    }
   ],
   "source": [
    "%load_ext autoreload  \n",
    "%autoreload 2  \n",
    "!hostname\n",
    "!pwd\n",
    "import sys\n",
    "print(sys.executable)"
   ],
   "metadata": {
    "collapsed": false,
    "ExecuteTime": {
     "end_time": "2024-03-10T16:19:13.784150Z",
     "start_time": "2024-03-10T16:19:13.525156Z"
    }
   },
   "id": "d640c05656e0f2db",
   "execution_count": 1
  },
  {
   "cell_type": "code",
   "outputs": [],
   "source": [
    "import os, sys, glob, pickle\n",
    "os.environ['JAX_DEBUG_NANS'] = 'True'\n",
    "os.environ['XLA_PYTHON_CLIENT_PREALLOCATE'] = 'false'\n",
    "\n",
    "from tqdm.auto import tqdm\n",
    "import matplotlib.pyplot as plt\n",
    "import numpy as np\n",
    "import optax\n",
    "from flax import linen as nn\n",
    "import jax.numpy as jnp\n",
    "from flax.training.train_state import TrainState\n",
    "import jax\n",
    "from jax.random import split\n",
    "from mdps.random_net import RandomMLP, create_random_net\n",
    "\n",
    "from functools import partial\n",
    "\n",
    "from agents.regular_transformer import BCTransformer\n",
    "from tqdm.auto import tqdm\n",
    "\n",
    "from typing import Callable\n",
    "\n",
    "from einops import rearrange"
   ],
   "metadata": {
    "collapsed": false,
    "ExecuteTime": {
     "end_time": "2024-03-10T16:19:19.195687Z",
     "start_time": "2024-03-10T16:19:13.788285Z"
    }
   },
   "id": "62331d92ade03403",
   "execution_count": 2
  },
  {
   "cell_type": "code",
   "outputs": [
    {
     "name": "stderr",
     "output_type": "stream",
     "text": [
      "2024-03-10 12:19:19.876442: W external/xla/xla/service/gpu/nvptx_compiler.cc:698] The NVIDIA driver's CUDA version is 12.2 which is older than the ptxas CUDA version (12.3.107). Because the driver is older than the ptxas version, XLA is disabling parallel compilation, which may slow down compilation. You should update your NVIDIA driver or use the NVIDIA-provided CUDA forward compatibility packages.\n"
     ]
    }
   ],
   "source": [
    "rng = jax.random.PRNGKey(0)"
   ],
   "metadata": {
    "collapsed": false,
    "ExecuteTime": {
     "end_time": "2024-03-10T16:19:20.191176Z",
     "start_time": "2024-03-10T16:19:19.197598Z"
    }
   },
   "id": "12cd098c1beb5354",
   "execution_count": 3
  },
  {
   "cell_type": "code",
   "outputs": [],
   "source": [
    "from util import save_pkl, load_pkl\n",
    "from icl_bc_ed import construct_dataset, sample_batch_from_dataset, augment_batch"
   ],
   "metadata": {
    "collapsed": false,
    "ExecuteTime": {
     "end_time": "2024-03-10T16:19:20.332434Z",
     "start_time": "2024-03-10T16:19:20.193261Z"
    }
   },
   "id": "f9ef41db69db0d81",
   "execution_count": 4
  },
  {
   "cell_type": "code",
   "outputs": [
    {
     "name": "stdout",
     "output_type": "stream",
     "text": [
      "Found 1 datasets\n",
      "Loading dataset from /data/vision/phillipi/akumar01/synthetic-mdps/data/exp_icl/datasets/real/classic/name=CartPole-v1/dataset.pkl\n",
      "Dataset shape: {'act': (4, 262144), 'done': (4, 262144), 'logits': (4, 262144, 2), 'obs': (4, 262144, 4), 'rew': (4, 262144)}\n"
     ]
    }
   ],
   "source": [
    "dataset = construct_dataset([\"../data/exp_icl/datasets/real/classic/name=CartPole-v1/dataset.pkl\"], [], d_obs_uni=64, n_acts_uni=10)"
   ],
   "metadata": {
    "collapsed": false,
    "ExecuteTime": {
     "end_time": "2024-03-10T16:19:23.820341Z",
     "start_time": "2024-03-10T16:19:20.334461Z"
    }
   },
   "id": "a33374dc85710938",
   "execution_count": 5
  },
  {
   "cell_type": "code",
   "outputs": [],
   "source": [
    "rng = jax.random.PRNGKey(0)\n",
    "batch = sample_batch_from_dataset(rng, dataset, 8, 8)\n",
    "batch = augment_batch(rng, batch, 1000000, 0, 0, 0, 0, 0)"
   ],
   "metadata": {
    "collapsed": false,
    "ExecuteTime": {
     "end_time": "2024-03-10T16:19:43.818883Z",
     "start_time": "2024-03-10T16:19:41.934602Z"
    }
   },
   "id": "340cea660a7782ce",
   "execution_count": 6
  },
  {
   "cell_type": "code",
   "outputs": [],
   "source": [
    "agent = BCTransformer(n_acts=10, n_layers=4, n_heads=8, d_embd=256, n_steps=1024, mask_type='causal')"
   ],
   "metadata": {
    "collapsed": false,
    "ExecuteTime": {
     "end_time": "2024-03-10T16:19:49.734186Z",
     "start_time": "2024-03-10T16:19:49.685691Z"
    }
   },
   "id": "13764333a4a557c9",
   "execution_count": 7
  },
  {
   "cell_type": "code",
   "outputs": [],
   "source": [],
   "metadata": {
    "collapsed": false
   },
   "id": "b810e761a50112ee"
  },
  {
   "cell_type": "code",
   "outputs": [],
   "source": [
    "dataset = load_pkl(\"../data/exp_icl/datasets/real/classic/name=DiscretePendulum-v1/\", \"dataset\")"
   ],
   "metadata": {
    "collapsed": false,
    "ExecuteTime": {
     "end_time": "2024-03-08T18:32:47.396551Z",
     "start_time": "2024-03-08T18:32:47.324123Z"
    }
   },
   "id": "fb035405783fa894",
   "execution_count": 8
  },
  {
   "cell_type": "code",
   "outputs": [
    {
     "name": "stdout",
     "output_type": "stream",
     "text": [
      "{'act': (4, 262144), 'done': (4, 262144), 'logits': (4, 262144, 5), 'obs': (4, 262144, 3), 'rew': (4, 262144)}\n"
     ]
    }
   ],
   "source": [
    "print(jax.tree_map(lambda x: x.shape, dataset))"
   ],
   "metadata": {
    "collapsed": false,
    "ExecuteTime": {
     "end_time": "2024-03-08T18:32:48.066966Z",
     "start_time": "2024-03-08T18:32:48.035141Z"
    }
   },
   "id": "43648ac8a73e8b0d",
   "execution_count": 9
  },
  {
   "cell_type": "code",
   "outputs": [],
   "source": [
    "done = dataset['done']"
   ],
   "metadata": {
    "collapsed": false,
    "ExecuteTime": {
     "end_time": "2024-03-08T18:32:48.423901Z",
     "start_time": "2024-03-08T18:32:48.403709Z"
    }
   },
   "id": "4be96351cf3dbb65",
   "execution_count": 10
  },
  {
   "cell_type": "code",
   "outputs": [
    {
     "data": {
      "text/plain": "(4, 262144)"
     },
     "execution_count": 11,
     "metadata": {},
     "output_type": "execute_result"
    }
   ],
   "source": [
    "done.shape"
   ],
   "metadata": {
    "collapsed": false,
    "ExecuteTime": {
     "end_time": "2024-03-08T18:32:48.731192Z",
     "start_time": "2024-03-08T18:32:48.699202Z"
    }
   },
   "id": "3931896ab61f83aa",
   "execution_count": 11
  },
  {
   "cell_type": "code",
   "outputs": [
    {
     "data": {
      "text/plain": "Array(200., dtype=float32)"
     },
     "execution_count": 12,
     "metadata": {},
     "output_type": "execute_result"
    }
   ],
   "source": [
    "jnp.diff(jnp.where(done[0])[0]).mean()"
   ],
   "metadata": {
    "collapsed": false,
    "ExecuteTime": {
     "end_time": "2024-03-08T18:32:51.991736Z",
     "start_time": "2024-03-08T18:32:48.907737Z"
    }
   },
   "id": "ead290d24a6cca52",
   "execution_count": 12
  },
  {
   "cell_type": "code",
   "outputs": [],
   "source": [],
   "metadata": {
    "collapsed": false,
    "ExecuteTime": {
     "end_time": "2024-03-08T18:32:52.023493Z",
     "start_time": "2024-03-08T18:32:51.996837Z"
    }
   },
   "id": "4081b142cc914301",
   "execution_count": 12
  },
  {
   "cell_type": "code",
   "outputs": [],
   "source": [],
   "metadata": {
    "collapsed": false
   },
   "id": "8f07d02b51db71f6"
  },
  {
   "cell_type": "code",
   "outputs": [],
   "source": [
    "def plot_loss(loss, smooth_window=1, ylim=(0.99, 2.), logscale=True, text=True, **kwargs):\n",
    "    assert loss.ndim == 1\n",
    "    assert smooth_window % 2 == 1\n",
    "    iters = len(loss)\n",
    "    x = np.arange(iters)\n",
    "    loss_smooth = np.convolve(loss, np.ones(smooth_window)/smooth_window, mode='valid')\n",
    "    plt.plot(x, loss, alpha=0.3, c='gray')\n",
    "    plt.plot(x[smooth_window//2:-(smooth_window//2)], loss_smooth, **kwargs)\n",
    "    end_loss = loss_smooth[-1].item()\n",
    "    if text:\n",
    "        plt.text(iters, end_loss, f\"{end_loss:.3f}\", ha='right', va='center')\n",
    "    if ylim is not None:\n",
    "        plt.ylim(end_loss*ylim[0], end_loss*ylim[1])\n",
    "    if logscale:\n",
    "        plt.yscale('log')\n"
   ],
   "metadata": {
    "collapsed": false,
    "ExecuteTime": {
     "end_time": "2024-03-10T16:19:55.354838Z",
     "start_time": "2024-03-10T16:19:55.300376Z"
    }
   },
   "id": "e2ad93a97b64594c",
   "execution_count": 8
  },
  {
   "cell_type": "code",
   "outputs": [
    {
     "data": {
      "text/plain": "<Figure size 640x480 with 1 Axes>",
      "image/png": "[encoded data removed]"
     },
     "metadata": {},
     "output_type": "display_data"
    }
   ],
   "source": [
    "metrics = load_pkl(\"../data/exp_icl/temp/train/\", \"metrics_test\")\n",
    "plot_loss(np.e**metrics['ce'][:, -1], smooth_window=501, ylim=(0.999, 1.005), logscale=False)\n",
    "metrics = load_pkl(\"../data/exp_icl/temp/train_zipf/\", \"metrics_test\")\n",
    "plot_loss(np.e**metrics['ce'][:, -1], smooth_window=501, ylim=(0.999, 1.005), logscale=False)\n",
    "plot_loss(metrics['tar_ppl'][:, -1], smooth_window=501, ylim=(0.99, 1.1), logscale=False, c='black')\n",
    "# plt.ylim(0.9, 2)"
   ],
   "metadata": {
    "collapsed": false,
    "ExecuteTime": {
     "end_time": "2024-03-08T21:55:13.924942Z",
     "start_time": "2024-03-08T21:55:11.177967Z"
    }
   },
   "id": "9b447d8b420d7324",
   "execution_count": 70
  },
  {
   "cell_type": "code",
   "outputs": [],
   "source": [],
   "metadata": {
    "collapsed": false
   },
   "id": "23162c2088d9468f"
  },
  {
   "cell_type": "code",
   "outputs": [],
   "source": [],
   "metadata": {
    "collapsed": false
   },
   "id": "3c082e52577da694"
  },
  {
   "cell_type": "code",
   "outputs": [],
   "source": [
    "agent_params = load_pkl(\"../data/exp_icl/temp/train/\", \"ckpt_final\")['params']"
   ],
   "metadata": {
    "collapsed": false,
    "ExecuteTime": {
     "end_time": "2024-03-08T18:58:04.637694Z",
     "start_time": "2024-03-08T18:58:04.598136Z"
    }
   },
   "id": "9458495ad9f25b25",
   "execution_count": 12
  },
  {
   "cell_type": "code",
   "outputs": [],
   "source": [
    "logits = jax.vmap(agent.apply, in_axes=(None, 0, 0))(agent_params, batch['obs'], batch['act'])\n",
    "probs = jax.nn.softmax(logits, axis=-1)"
   ],
   "metadata": {
    "collapsed": false,
    "ExecuteTime": {
     "end_time": "2024-03-08T19:12:17.775127Z",
     "start_time": "2024-03-08T19:12:08.987464Z"
    }
   },
   "id": "b06f6cfbcd704d7e",
   "execution_count": 53
  },
  {
   "cell_type": "code",
   "outputs": [
    {
     "data": {
      "text/plain": "((8, 994), (8, 994), (8, 994), (8, 994))"
     },
     "execution_count": 57,
     "metadata": {},
     "output_type": "execute_result"
    }
   ],
   "source": [
    "act = batch['act'][:, 30:]\n",
    "act_p = batch['act'][:, 29:-1]\n",
    "\n",
    "hard = probs[:, 30:].argmax(axis=-1)\n",
    "rng = jax.random.PRNGKey(0)\n",
    "soft = jax.random.categorical(rng, logits[:, 30:], axis=-1)\n",
    "act_p.shape, act.shape, hard.shape, soft.shape"
   ],
   "metadata": {
    "collapsed": false,
    "ExecuteTime": {
     "end_time": "2024-03-08T19:12:52.481198Z",
     "start_time": "2024-03-08T19:12:52.404628Z"
    }
   },
   "id": "e5df20947d70eee8",
   "execution_count": 57
  },
  {
   "cell_type": "code",
   "outputs": [
    {
     "name": "stdout",
     "output_type": "stream",
     "text": [
      "0.78822935\n",
      "0.81338024\n",
      "0.6544265\n"
     ]
    }
   ],
   "source": [
    "print((act==1-act_p).mean())\n",
    "print((act==hard).mean())\n",
    "print((act==soft).mean())"
   ],
   "metadata": {
    "collapsed": false,
    "ExecuteTime": {
     "end_time": "2024-03-08T19:12:53.292146Z",
     "start_time": "2024-03-08T19:12:53.242020Z"
    }
   },
   "id": "a6af77f0ada41020",
   "execution_count": 58
  },
  {
   "cell_type": "code",
   "outputs": [
    {
     "name": "stdout",
     "output_type": "stream",
     "text": [
      "0.82004523\n"
     ]
    }
   ],
   "source": [
    "rng = jax.random.PRNGKey(2)\n",
    "soft = jax.random.categorical(rng, batch['logits'][:, 30:], axis=-1)\n",
    "print((act==soft).mean())\n"
   ],
   "metadata": {
    "collapsed": false,
    "ExecuteTime": {
     "end_time": "2024-03-08T19:12:54.004659Z",
     "start_time": "2024-03-08T19:12:53.964728Z"
    }
   },
   "id": "a103e45a7e8a923b",
   "execution_count": 59
  },
  {
   "cell_type": "code",
   "outputs": [],
   "source": [],
   "metadata": {
    "collapsed": false
   },
   "id": "7dbdc5e381119ec4"
  },
  {
   "cell_type": "code",
   "outputs": [],
   "source": [],
   "metadata": {
    "collapsed": false
   },
   "id": "bbdf02c80eebd474"
  },
  {
   "cell_type": "code",
   "outputs": [],
   "source": [],
   "metadata": {
    "collapsed": false
   },
   "id": "d3562c91e905177d"
  },
  {
   "cell_type": "code",
   "outputs": [
    {
     "data": {
      "text/plain": "Array(0.84911245, dtype=float32)"
     },
     "execution_count": 84,
     "metadata": {},
     "output_type": "execute_result"
    }
   ],
   "source": [
    "a = batch['logits'][0].argmax(axis=-1)[10:]\n",
    "b = probs[0].argmax(axis=-1)[10:]\n",
    "(a==b).sum()/len(a)"
   ],
   "metadata": {
    "collapsed": false,
    "ExecuteTime": {
     "end_time": "2024-03-08T18:46:16.953972Z",
     "start_time": "2024-03-08T18:46:16.903762Z"
    }
   },
   "id": "afafdafa66ab3c6",
   "execution_count": 84
  },
  {
   "cell_type": "code",
   "outputs": [],
   "source": [
    "a = batch['act'][0][10:]\n",
    "ap = a[:-1]\n",
    "an = a[1:]\n",
    "an_hat = np.array([2, 9])[(ap==2).astype(int)]"
   ],
   "metadata": {
    "collapsed": false,
    "ExecuteTime": {
     "end_time": "2024-03-08T18:45:45.250128Z",
     "start_time": "2024-03-08T18:45:44.817830Z"
    }
   },
   "id": "aa60688ed422369b",
   "execution_count": 79
  },
  {
   "cell_type": "code",
   "outputs": [
    {
     "data": {
      "text/plain": "Array(0.798618, dtype=float32)"
     },
     "execution_count": 80,
     "metadata": {},
     "output_type": "execute_result"
    }
   ],
   "source": [
    "(an== an_hat).sum()/len(an)"
   ],
   "metadata": {
    "collapsed": false,
    "ExecuteTime": {
     "end_time": "2024-03-08T18:45:45.292359Z",
     "start_time": "2024-03-08T18:45:45.252757Z"
    }
   },
   "id": "77333286d2987ebe",
   "execution_count": 80
  },
  {
   "cell_type": "code",
   "outputs": [],
   "source": [],
   "metadata": {
    "collapsed": false
   },
   "id": "6ba3a65d32d9fa7e"
  },
  {
   "cell_type": "code",
   "outputs": [],
   "source": [],
   "metadata": {
    "collapsed": false
   },
   "id": "d72482656615a986"
  },
  {
   "cell_type": "code",
   "outputs": [],
   "source": [
    "rng = jax.random.PRNGKey(0)\n",
    "batch = sample_batch_from_dataset(rng, dataset, 8, 1024)\n",
    "batch = augment_batch(rng, batch, 1000000, 0, 0, 0, 0, 0)"
   ],
   "metadata": {
    "collapsed": false,
    "ExecuteTime": {
     "end_time": "2024-03-10T16:22:45.955086Z",
     "start_time": "2024-03-10T16:22:44.967070Z"
    }
   },
   "id": "9ba3be44e07db898",
   "execution_count": 19
  },
  {
   "cell_type": "code",
   "outputs": [],
   "source": [],
   "metadata": {
    "collapsed": false,
    "ExecuteTime": {
     "end_time": "2024-03-10T16:22:47.958006Z",
     "start_time": "2024-03-10T16:22:47.868007Z"
    }
   },
   "id": "bdb9aeaec4907374",
   "execution_count": 20
  },
  {
   "cell_type": "code",
   "outputs": [],
   "source": [],
   "metadata": {
    "collapsed": false
   },
   "id": "25da321020f58060"
  },
  {
   "cell_type": "code",
   "outputs": [
    {
     "data": {
      "text/plain": "(0.0, 10.0)"
     },
     "execution_count": 68,
     "metadata": {},
     "output_type": "execute_result"
    },
    {
     "data": {
      "text/plain": "<Figure size 640x480 with 1 Axes>",
      "image/png": "[encoded data removed]"
     },
     "metadata": {},
     "output_type": "display_data"
    }
   ],
   "source": [
    "agent_params = load_pkl(\"../data/exp_icl/train_bc/name=CartPole-v1/\", \"ckpt_ 100000\")['params']\n",
    "logits = jax.vmap(agent.apply, in_axes=(None, 0, 0))(agent_params, batch['obs'], batch['act'])\n",
    "ce = optax.softmax_cross_entropy(jax.nn.log_softmax(logits[..., :2]), jax.nn.softmax(batch['logits'][..., :2])).mean(axis=0)\n",
    "plt.plot(np.e**ce)\n",
    "\n",
    "agent_params = load_pkl(\"../data/exp_icl/train_bc/all-name=CartPole-v1\", \"ckpt_ 100000\")['params']\n",
    "logits = jax.vmap(agent.apply, in_axes=(None, 0, 0))(agent_params, batch['obs'], batch['act'])\n",
    "ce = optax.softmax_cross_entropy(jax.nn.log_softmax(logits[..., :2]), jax.nn.softmax(batch['logits'][..., :2])).mean(axis=0)\n",
    "plt.plot(np.e**ce)\n",
    "\n",
    "# agent_params = load_pkl(\"../data/exp_icl/train_bc/name=csmdp;i_d=0;i_s=3;t_a=1;t_c=1;t_l=3;t_s=4;o_d=0;o_c=1;r_c=3;tl=64\", \"ckpt_ 100000\")['params']\n",
    "# logits = jax.vmap(agent.apply, in_axes=(None, 0, 0))(agent_params, batch['obs'], batch['act'])\n",
    "# ce = optax.softmax_cross_entropy(jax.nn.log_softmax(logits[..., :2]), jax.nn.softmax(batch['logits'][..., :2])).mean(axis=0)\n",
    "# plt.plot(np.e**ce)\n",
    "\n",
    "plt.ylim(0, 10)\n"
   ],
   "metadata": {
    "collapsed": false,
    "ExecuteTime": {
     "end_time": "2024-03-10T16:58:19.044301Z",
     "start_time": "2024-03-10T16:58:00.593985Z"
    }
   },
   "id": "48701c3d5d836509",
   "execution_count": 68
  },
  {
   "cell_type": "code",
   "outputs": [],
   "source": [],
   "metadata": {
    "collapsed": false
   },
   "id": "7e72a8728b68c20"
  },
  {
   "cell_type": "code",
   "outputs": [
    {
     "data": {
      "text/plain": "(900.0, 950.0)"
     },
     "execution_count": 69,
     "metadata": {},
     "output_type": "execute_result"
    },
    {
     "data": {
      "text/plain": "<Figure size 640x480 with 1 Axes>",
      "image/png": "[encoded data removed]"
     },
     "metadata": {},
     "output_type": "display_data"
    }
   ],
   "source": [
    "plt.plot(batch['act'][0])\n",
    "plt.plot(logits[0].argmax(axis=-1))\n",
    "plt.xlim(900, 950)"
   ],
   "metadata": {
    "collapsed": false,
    "ExecuteTime": {
     "end_time": "2024-03-10T16:58:35.279093Z",
     "start_time": "2024-03-10T16:58:35.041231Z"
    }
   },
   "id": "47a7f9c795aa805e",
   "execution_count": 69
  },
  {
   "cell_type": "code",
   "outputs": [],
   "source": [],
   "metadata": {
    "collapsed": false,
    "ExecuteTime": {
     "end_time": "2024-03-10T16:29:35.263Z",
     "start_time": "2024-03-10T16:29:35.258627Z"
    }
   },
   "id": "cf71ba955d830aba",
   "execution_count": 45
  },
  {
   "cell_type": "code",
   "outputs": [],
   "source": [],
   "metadata": {
    "collapsed": false
   },
   "id": "2119bc936386aaf9"
  },
  {
   "cell_type": "code",
   "outputs": [],
   "source": [],
   "metadata": {
    "collapsed": false
   },
   "id": "6aaf48ee7cd9d4a6"
  },
  {
   "cell_type": "code",
   "outputs": [],
   "source": [],
   "metadata": {
    "collapsed": false
   },
   "id": "1c8abcc3603df7a2"
  }
 ],
 "metadata": {
  "kernelspec": {
   "display_name": "Python 3",
   "language": "python",
   "name": "python3"
  },
  "language_info": {
   "codemirror_mode": {
    "name": "ipython",
    "version": 2
   },
   "file_extension": ".py",
   "mimetype": "text/x-python",
   "name": "python",
   "nbconvert_exporter": "python",
   "pygments_lexer": "ipython2",
   "version": "2.7.6"
  }
 },
 "nbformat": 4,
 "nbformat_minor": 5
}
