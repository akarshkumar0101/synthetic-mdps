{
 "cells": [
  {
   "cell_type": "code",
   "id": "initial_id",
   "metadata": {
    "collapsed": true,
    "ExecuteTime": {
     "end_time": "2024-04-08T23:13:35.626263Z",
     "start_time": "2024-04-08T23:13:35.302122Z"
    }
   },
   "source": [
    "%load_ext autoreload  \n",
    "%autoreload 2  \n",
    "!hostname  \n",
    "!pwd  \n",
    "import os\n",
    "import sys\n",
    "\n",
    "print(sys.executable)\n",
    "os.environ['CUDA_VISIBLE_DEVICES'] = \"4\""
   ],
   "outputs": [
    {
     "name": "stdout",
     "output_type": "stream",
     "text": [
      "isola-v100-2.csail.mit.edu\r\n",
      "/data/vision/phillipi/akumar01/synthetic-mdps/src\r\n",
      "/data/vision/phillipi/akumar01/.virtualenvs/synthetic-mdps/bin/python\n"
     ]
    }
   ],
   "execution_count": 1
  },
  {
   "metadata": {
    "ExecuteTime": {
     "end_time": "2024-04-08T23:13:39.826303Z",
     "start_time": "2024-04-08T23:13:38.583952Z"
    }
   },
   "cell_type": "code",
   "source": [
    "import os, sys, glob, pickle\n",
    "from functools import partial  \n",
    "\n",
    "import numpy as np\n",
    "import pandas as pd\n",
    "import matplotlib.pyplot as plt\n",
    "\n",
    "from tqdm.auto import tqdm\n",
    "from einops import rearrange, reduce, repeat"
   ],
   "id": "5eab86437e263103",
   "outputs": [],
   "execution_count": 2
  },
  {
   "metadata": {
    "ExecuteTime": {
     "end_time": "2024-04-08T23:13:41.698739Z",
     "start_time": "2024-04-08T23:13:39.828805Z"
    }
   },
   "cell_type": "code",
   "source": [
    "import jax\n",
    "import jax.numpy as jnp\n",
    "from jax.random import split\n",
    "\n",
    "import flax.linen as nn\n",
    "from flax.training.train_state import TrainState\n",
    "\n",
    "import optax"
   ],
   "id": "8fec1cdfddc5323",
   "outputs": [],
   "execution_count": 3
  },
  {
   "metadata": {
    "ExecuteTime": {
     "end_time": "2024-04-08T23:13:42.525162Z",
     "start_time": "2024-04-08T23:13:41.701024Z"
    }
   },
   "cell_type": "code",
   "source": [
    "import gymnasium as gym\n",
    "import util\n",
    "\n",
    "import data_utils\n",
    "\n",
    "data_dir = \"~/synthetic-mdps-data/\"\n",
    "data_dir = os.path.expanduser(data_dir)\n",
    "\n",
    "d_obs_uni, d_act_uni = 128, 16\n",
    "env_id = \"Reacher-v4\""
   ],
   "id": "2ccd2cdfa1952b6d",
   "outputs": [
    {
     "name": "stderr",
     "output_type": "stream",
     "text": [
      "/data/vision/phillipi/akumar01/.virtualenvs/synthetic-mdps/lib/python3.10/site-packages/gym/wrappers/monitoring/video_recorder.py:9: DeprecationWarning: The distutils package is deprecated and slated for removal in Python 3.12. Use setuptools or check PEP 632 for potential alternatives\n",
      "  import distutils.spawn\n"
     ]
    }
   ],
   "execution_count": 4
  },
  {
   "metadata": {
    "ExecuteTime": {
     "end_time": "2024-04-08T23:13:46.600604Z",
     "start_time": "2024-04-08T23:13:42.527942Z"
    }
   },
   "cell_type": "code",
   "source": [
    "dataset = data_utils.load_dataset(f\"{data_dir}/datasets/mujoco/Reacher/dataset.pkl\")\n",
    "dataset_train_ori, dataset_test_ori = data_utils.train_test_split(dataset, percent_train=0.8)\n",
    "del dataset\n",
    "transform_params = data_utils.get_dataset_transform_params(jax.random.PRNGKey(0), dataset_train_ori,\n",
    "                                                           d_obs_uni=d_obs_uni, d_act_uni=d_act_uni)\n",
    "\n",
    "dataset_train_ori = jax.tree_map(lambda x: jnp.array(x), dataset_train_ori)\n",
    "dataset_test_ori = jax.tree_map(lambda x: jnp.array(x), dataset_test_ori)\n",
    "transform_params = jax.tree_map(lambda x: jnp.array(x), transform_params)\n",
    "\n",
    "dataset_train_uni = data_utils.transform_dataset(dataset_train_ori, transform_params)\n",
    "dataset_test_uni = data_utils.transform_dataset(dataset_test_ori, transform_params)\n",
    "print(jax.tree_map(lambda x: (x.shape, x.dtype, type(x)), dataset_train_uni))"
   ],
   "id": "c820209c105b1142",
   "outputs": [
    {
     "name": "stderr",
     "output_type": "stream",
     "text": [
      "2024-04-08 19:13:43.906297: W external/xla/xla/service/gpu/nvptx_compiler.cc:742] The NVIDIA driver's CUDA version is 12.2 which is older than the ptxas CUDA version (12.3.107). Because the driver is older than the ptxas version, XLA is disabling parallel compilation, which may slow down compilation. You should update your NVIDIA driver or use the NVIDIA-provided CUDA forward compatibility packages.\n"
     ]
    },
    {
     "name": "stdout",
     "output_type": "stream",
     "text": [
      "{'act': ((51, 16384, 16), dtype('float32'), <class 'jaxlib.xla_extension.ArrayImpl'>), 'done': ((51, 16384), dtype('float32'), <class 'jaxlib.xla_extension.ArrayImpl'>), 'obs': ((51, 16384, 128), dtype('float32'), <class 'jaxlib.xla_extension.ArrayImpl'>), 'rew': ((51, 16384), dtype('float32'), <class 'jaxlib.xla_extension.ArrayImpl'>), 'time': ((51, 16384), dtype('int32'), <class 'jaxlib.xla_extension.ArrayImpl'>)}\n"
     ]
    }
   ],
   "execution_count": 5
  },
  {
   "metadata": {
    "ExecuteTime": {
     "end_time": "2024-04-08T23:13:48.167254Z",
     "start_time": "2024-04-08T23:13:48.133989Z"
    }
   },
   "cell_type": "code",
   "source": [
    "def sample_batch(rng, dataset, bs, ctx_len):\n",
    "    _rng1, _rng2 = split(rng)\n",
    "    B, T, _ = dataset['obs'].shape\n",
    "    i_b = jax.random.randint(_rng1, (bs, 1), 0, B)\n",
    "    i_t = jax.random.randint(_rng2, (bs, 1), 0, T - ctx_len)\n",
    "    i_t = i_t + jnp.arange(ctx_len)\n",
    "    return jax.tree_map(lambda x: x[i_b, i_t], dataset)"
   ],
   "id": "c38d9e99489863e3",
   "outputs": [],
   "execution_count": 6
  },
  {
   "metadata": {
    "ExecuteTime": {
     "end_time": "2024-04-08T23:16:48.574472Z",
     "start_time": "2024-04-08T23:16:47.820788Z"
    }
   },
   "cell_type": "code",
   "source": [
    "def make_env(env_id, idx, capture_video, run_name, gamma):\n",
    "    def thunk():\n",
    "        if capture_video and idx == 0:\n",
    "            env = gym.make(env_id, render_mode=\"rgb_array\")\n",
    "            env = gym.wrappers.RecordVideo(env, f\"videos/{run_name}\")\n",
    "        else:\n",
    "            env = gym.make(env_id)\n",
    "        env = gym.wrappers.FlattenObservation(env)  # deal with dm_control's Dict observation space\n",
    "        env = gym.wrappers.RecordEpisodeStatistics(env)\n",
    "        env = gym.wrappers.ClipAction(env)\n",
    "        return env\n",
    "\n",
    "    return thunk\n",
    "\n",
    "\n",
    "def get_agent_return(env_id, num_envs, n_steps, forward_fn):\n",
    "    envs = gym.vector.SyncVectorEnv(\n",
    "        [make_env(env_id, i, False, None, 0.99) for i in range(num_envs)]\n",
    "    )\n",
    "    obs, infos = envs.reset()\n",
    "    stats = dict(ret=[], len=[])\n",
    "    for _ in tqdm(range(n_steps), desc=\"Rollout\"):\n",
    "        obs_agent = data_utils.transform_obs(obs, transform_params)\n",
    "        act_agent = forward_fn(obs_agent)\n",
    "        act = data_utils.inverse_transform_act(act_agent, transform_params)\n",
    "        obs, rew, term, trunc, infos = envs.step(act)\n",
    "\n",
    "        if \"final_info\" in infos:\n",
    "            for info in infos[\"final_info\"]:\n",
    "                if info and \"episode\" in info:\n",
    "                    stats[\"ret\"].append(info[\"episode\"][\"r\"])\n",
    "                    stats[\"len\"].append(info[\"episode\"][\"l\"])\n",
    "    return dict(ret=np.array(stats[\"ret\"]), len=np.array(stats[\"len\"]))\n",
    "\n",
    "\n",
    "def get_agent_test_loss(rng, bs, n_iters, forward_fn):\n",
    "    mse_uni, mse_ori = [], []\n",
    "    for _ in tqdm(range(n_iters)):\n",
    "        rng, _rng = split(rng)\n",
    "        batch_ori = sample_batch(_rng, dataset_test_ori, bs, 1)\n",
    "        batch_ori = jax.tree_map(lambda x: x[:, 0], batch_ori)\n",
    "        batch_uni = sample_batch(_rng, dataset_test_uni, bs, 1)\n",
    "        batch_uni = jax.tree_map(lambda x: x[:, 0], batch_uni)\n",
    "        \n",
    "        act_uni_pred = forward_fn(batch_uni['obs'])\n",
    "        act_ori_pred = data_utils.inverse_transform_act(act_uni_pred, transform_params)\n",
    "        mse_uni_i = jnp.mean(jnp.square(act_uni_pred - batch_uni['act']))\n",
    "        mse_ori_i = jnp.mean(jnp.square(act_ori_pred - batch_ori['act']))\n",
    "        mse_uni.append(mse_uni_i)\n",
    "        mse_ori.append(mse_ori_i)\n",
    "    return jnp.stack(mse_uni).mean(), jnp.stack(mse_ori).mean()\n"
   ],
   "id": "4abae37616811d8",
   "outputs": [],
   "execution_count": 14
  },
  {
   "metadata": {
    "ExecuteTime": {
     "end_time": "2024-04-08T23:17:16.941603Z",
     "start_time": "2024-04-08T23:16:54.514654Z"
    }
   },
   "cell_type": "code",
   "source": [
    "a = get_agent_return(env_id, 16, 1000, lambda x: np.zeros((x.shape[0], d_act_uni)))\n",
    "b = get_agent_return(env_id, 16, 1000, lambda x: np.random.normal(size=(x.shape[0], d_act_uni)))"
   ],
   "id": "987dfb78c458f585",
   "outputs": [
    {
     "data": {
      "text/plain": [
       "Rollout:   0%|          | 0/1000 [00:00<?, ?it/s]"
      ],
      "application/vnd.jupyter.widget-view+json": {
       "version_major": 2,
       "version_minor": 0,
       "model_id": "fd9e2faa04ff47139ece17e502e93ca0"
      }
     },
     "metadata": {},
     "output_type": "display_data"
    },
    {
     "data": {
      "text/plain": [
       "Rollout:   0%|          | 0/1000 [00:00<?, ?it/s]"
      ],
      "application/vnd.jupyter.widget-view+json": {
       "version_major": 2,
       "version_minor": 0,
       "model_id": "4fc98b93022f413689c915d9e8d8095d"
      }
     },
     "metadata": {},
     "output_type": "display_data"
    }
   ],
   "execution_count": 16
  },
  {
   "metadata": {
    "ExecuteTime": {
     "end_time": "2024-04-08T23:17:16.981907Z",
     "start_time": "2024-04-08T23:17:16.944696Z"
    }
   },
   "cell_type": "code",
   "source": [
    "print(\"Zero Agent Return: \", a['ret'].mean())\n",
    "print(\"Randn Agent Return: \", b['ret'].mean())"
   ],
   "id": "3cb18972c97dd56e",
   "outputs": [
    {
     "name": "stdout",
     "output_type": "stream",
     "text": [
      "Zero Agent Return:  -11.819051\n",
      "Randn Agent Return:  -11.83877\n"
     ]
    }
   ],
   "execution_count": 17
  },
  {
   "metadata": {},
   "cell_type": "code",
   "outputs": [],
   "execution_count": null,
   "source": "",
   "id": "d8f77b2851485083"
  },
  {
   "metadata": {},
   "cell_type": "markdown",
   "source": "# MLP BC",
   "id": "82cf88feb1a6aa81"
  },
  {
   "metadata": {
    "ExecuteTime": {
     "end_time": "2024-04-08T23:17:17.014291Z",
     "start_time": "2024-04-08T23:17:16.983740Z"
    }
   },
   "cell_type": "code",
   "source": [
    "class Agent(nn.Module):\n",
    "    d_obs: int\n",
    "    d_act: int\n",
    "\n",
    "    @nn.compact\n",
    "    def __call__(self, x):\n",
    "        act = nn.Sequential([\n",
    "            nn.Dense(64),\n",
    "            nn.tanh,\n",
    "            nn.Dense(64),\n",
    "            nn.tanh,\n",
    "            nn.Dense(self.d_act, kernel_init=nn.initializers.normal(stddev=0.01)),\n",
    "        ])(x)\n",
    "        return act\n",
    "\n",
    "agent = Agent(d_obs=d_obs_uni, d_act=d_act_uni)"
   ],
   "id": "d8e2ac793127bc50",
   "outputs": [],
   "execution_count": 18
  },
  {
   "metadata": {
    "ExecuteTime": {
     "end_time": "2024-04-08T23:17:17.045136Z",
     "start_time": "2024-04-08T23:17:17.016537Z"
    }
   },
   "cell_type": "code",
   "source": [
    "def train_step(rng, train_state):\n",
    "    def loss_fn(params, batch):\n",
    "        act_pred = jax.vmap(agent.apply, in_axes=(None, 0))(params, batch['obs'])\n",
    "        loss = jnp.mean(jnp.square(act_pred - batch['act']))\n",
    "        return loss\n",
    "\n",
    "    batch = sample_batch(rng, dataset_train_uni, bs, 1)\n",
    "    batch = jax.tree_map(lambda x: x[:, 0], batch)\n",
    "\n",
    "    grad_fn = jax.value_and_grad(loss_fn)\n",
    "    loss, grad = grad_fn(train_state.params, batch)\n",
    "    train_state = train_state.apply_gradients(grads=grad)\n",
    "    return train_state, loss\n",
    "\n",
    "train_step = jax.jit(train_step)"
   ],
   "id": "41af215448da53b8",
   "outputs": [],
   "execution_count": 19
  },
  {
   "metadata": {
    "ExecuteTime": {
     "end_time": "2024-04-08T23:23:55.221942Z",
     "start_time": "2024-04-08T23:18:15.834791Z"
    }
   },
   "cell_type": "code",
   "source": [
    "bs = 64\n",
    "rng = jax.random.PRNGKey(0)\n",
    "rng, _rng = split(rng)\n",
    "batch = sample_batch(_rng, dataset_train_uni, bs, 1)\n",
    "batch = jax.tree_map(lambda x: x[:, 0], batch)\n",
    "agent_params = agent.init(_rng, batch['obs'][0])\n",
    "tx = optax.chain(optax.clip_by_global_norm(1.), optax.adamw(3e-4, weight_decay=0., eps=1e-8))\n",
    "train_state = TrainState.create(apply_fn=agent.apply, params=agent_params, tx=tx)\n",
    "\n",
    "data = []\n",
    "for i in tqdm(range(10000 + 1)):\n",
    "    if i % 1000 == 0:\n",
    "        rollout_data_i = get_agent_return(env_id, 16, 1000, lambda x: agent.apply(train_state.params, x))\n",
    "        test_loss_data_i = get_agent_test_loss(_rng, 512, 100, lambda x: agent.apply(train_state.params, x))\n",
    "        data.append([rollout_data_i['ret'].mean(), test_loss_data_i[0], test_loss_data_i[1]])\n",
    "    rng, _rng = split(rng)\n",
    "    train_state, loss = train_step(_rng, train_state)"
   ],
   "id": "80aa2a36e197c9cf",
   "outputs": [
    {
     "data": {
      "text/plain": [
       "  0%|          | 0/10001 [00:00<?, ?it/s]"
      ],
      "application/vnd.jupyter.widget-view+json": {
       "version_major": 2,
       "version_minor": 0,
       "model_id": "b223eac036b3403885fabc331a18dba3"
      }
     },
     "metadata": {},
     "output_type": "display_data"
    },
    {
     "data": {
      "text/plain": [
       "Rollout:   0%|          | 0/1000 [00:00<?, ?it/s]"
      ],
      "application/vnd.jupyter.widget-view+json": {
       "version_major": 2,
       "version_minor": 0,
       "model_id": "21c10d9c4a424edbadcf619d5278d86c"
      }
     },
     "metadata": {},
     "output_type": "display_data"
    },
    {
     "data": {
      "text/plain": [
       "  0%|          | 0/100 [00:00<?, ?it/s]"
      ],
      "application/vnd.jupyter.widget-view+json": {
       "version_major": 2,
       "version_minor": 0,
       "model_id": "11556eacba3745b494c3af7fcefc21e4"
      }
     },
     "metadata": {},
     "output_type": "display_data"
    },
    {
     "data": {
      "text/plain": [
       "Rollout:   0%|          | 0/1000 [00:00<?, ?it/s]"
      ],
      "application/vnd.jupyter.widget-view+json": {
       "version_major": 2,
       "version_minor": 0,
       "model_id": "8e7cf68661404737bc17ffc549c8f01f"
      }
     },
     "metadata": {},
     "output_type": "display_data"
    },
    {
     "data": {
      "text/plain": [
       "  0%|          | 0/100 [00:00<?, ?it/s]"
      ],
      "application/vnd.jupyter.widget-view+json": {
       "version_major": 2,
       "version_minor": 0,
       "model_id": "6863aabc2255443a8601e766f6b3c992"
      }
     },
     "metadata": {},
     "output_type": "display_data"
    },
    {
     "data": {
      "text/plain": [
       "Rollout:   0%|          | 0/1000 [00:00<?, ?it/s]"
      ],
      "application/vnd.jupyter.widget-view+json": {
       "version_major": 2,
       "version_minor": 0,
       "model_id": "9958a190080a4ff09e32fccd70f40448"
      }
     },
     "metadata": {},
     "output_type": "display_data"
    },
    {
     "data": {
      "text/plain": [
       "  0%|          | 0/100 [00:00<?, ?it/s]"
      ],
      "application/vnd.jupyter.widget-view+json": {
       "version_major": 2,
       "version_minor": 0,
       "model_id": "5a59a427721b4567898d5b22cc6ebdcd"
      }
     },
     "metadata": {},
     "output_type": "display_data"
    },
    {
     "data": {
      "text/plain": [
       "Rollout:   0%|          | 0/1000 [00:00<?, ?it/s]"
      ],
      "application/vnd.jupyter.widget-view+json": {
       "version_major": 2,
       "version_minor": 0,
       "model_id": "15b9d2be15914eb4afd8ee53cd0b21c4"
      }
     },
     "metadata": {},
     "output_type": "display_data"
    },
    {
     "data": {
      "text/plain": [
       "  0%|          | 0/100 [00:00<?, ?it/s]"
      ],
      "application/vnd.jupyter.widget-view+json": {
       "version_major": 2,
       "version_minor": 0,
       "model_id": "be3fcb7c1a70403c89ab7398c356f787"
      }
     },
     "metadata": {},
     "output_type": "display_data"
    },
    {
     "data": {
      "text/plain": [
       "Rollout:   0%|          | 0/1000 [00:00<?, ?it/s]"
      ],
      "application/vnd.jupyter.widget-view+json": {
       "version_major": 2,
       "version_minor": 0,
       "model_id": "773fb2f8dc954256ae62afb8133dc6c7"
      }
     },
     "metadata": {},
     "output_type": "display_data"
    },
    {
     "data": {
      "text/plain": [
       "  0%|          | 0/100 [00:00<?, ?it/s]"
      ],
      "application/vnd.jupyter.widget-view+json": {
       "version_major": 2,
       "version_minor": 0,
       "model_id": "425340a238474abc8e45d456fba9bd1f"
      }
     },
     "metadata": {},
     "output_type": "display_data"
    },
    {
     "data": {
      "text/plain": [
       "Rollout:   0%|          | 0/1000 [00:00<?, ?it/s]"
      ],
      "application/vnd.jupyter.widget-view+json": {
       "version_major": 2,
       "version_minor": 0,
       "model_id": "089d286a7e814398a5ff7cb4904adbfd"
      }
     },
     "metadata": {},
     "output_type": "display_data"
    },
    {
     "data": {
      "text/plain": [
       "  0%|          | 0/100 [00:00<?, ?it/s]"
      ],
      "application/vnd.jupyter.widget-view+json": {
       "version_major": 2,
       "version_minor": 0,
       "model_id": "f299960ee9cf4f468358bdeee8343e62"
      }
     },
     "metadata": {},
     "output_type": "display_data"
    },
    {
     "data": {
      "text/plain": [
       "Rollout:   0%|          | 0/1000 [00:00<?, ?it/s]"
      ],
      "application/vnd.jupyter.widget-view+json": {
       "version_major": 2,
       "version_minor": 0,
       "model_id": "02c8a35c1013438ab5d7ba4ebbb1492f"
      }
     },
     "metadata": {},
     "output_type": "display_data"
    },
    {
     "data": {
      "text/plain": [
       "  0%|          | 0/100 [00:00<?, ?it/s]"
      ],
      "application/vnd.jupyter.widget-view+json": {
       "version_major": 2,
       "version_minor": 0,
       "model_id": "ddbce8efff8b43dabaa4443a37cffbbc"
      }
     },
     "metadata": {},
     "output_type": "display_data"
    },
    {
     "data": {
      "text/plain": [
       "Rollout:   0%|          | 0/1000 [00:00<?, ?it/s]"
      ],
      "application/vnd.jupyter.widget-view+json": {
       "version_major": 2,
       "version_minor": 0,
       "model_id": "e3954f0f966a4500934d3d9b67231511"
      }
     },
     "metadata": {},
     "output_type": "display_data"
    },
    {
     "data": {
      "text/plain": [
       "  0%|          | 0/100 [00:00<?, ?it/s]"
      ],
      "application/vnd.jupyter.widget-view+json": {
       "version_major": 2,
       "version_minor": 0,
       "model_id": "a8ce9404dc0e442c910c2f5d670025d6"
      }
     },
     "metadata": {},
     "output_type": "display_data"
    },
    {
     "data": {
      "text/plain": [
       "Rollout:   0%|          | 0/1000 [00:00<?, ?it/s]"
      ],
      "application/vnd.jupyter.widget-view+json": {
       "version_major": 2,
       "version_minor": 0,
       "model_id": "6c720c3619754b8e8f5f9ad0ef6a9dc9"
      }
     },
     "metadata": {},
     "output_type": "display_data"
    },
    {
     "data": {
      "text/plain": [
       "  0%|          | 0/100 [00:00<?, ?it/s]"
      ],
      "application/vnd.jupyter.widget-view+json": {
       "version_major": 2,
       "version_minor": 0,
       "model_id": "a081002bd8574593a74e21c8441d3bdf"
      }
     },
     "metadata": {},
     "output_type": "display_data"
    },
    {
     "data": {
      "text/plain": [
       "Rollout:   0%|          | 0/1000 [00:00<?, ?it/s]"
      ],
      "application/vnd.jupyter.widget-view+json": {
       "version_major": 2,
       "version_minor": 0,
       "model_id": "a6bbf922b8bb4269a06096e2c2d88d03"
      }
     },
     "metadata": {},
     "output_type": "display_data"
    },
    {
     "data": {
      "text/plain": [
       "  0%|          | 0/100 [00:00<?, ?it/s]"
      ],
      "application/vnd.jupyter.widget-view+json": {
       "version_major": 2,
       "version_minor": 0,
       "model_id": "4073e31b865245428ddead5e892b598c"
      }
     },
     "metadata": {},
     "output_type": "display_data"
    },
    {
     "data": {
      "text/plain": [
       "Rollout:   0%|          | 0/1000 [00:00<?, ?it/s]"
      ],
      "application/vnd.jupyter.widget-view+json": {
       "version_major": 2,
       "version_minor": 0,
       "model_id": "55635d5ea2dc4bd8803b5e764aae1cc1"
      }
     },
     "metadata": {},
     "output_type": "display_data"
    },
    {
     "data": {
      "text/plain": [
       "  0%|          | 0/100 [00:00<?, ?it/s]"
      ],
      "application/vnd.jupyter.widget-view+json": {
       "version_major": 2,
       "version_minor": 0,
       "model_id": "2b9462f4d4c04ebab2701c496b5ba686"
      }
     },
     "metadata": {},
     "output_type": "display_data"
    }
   ],
   "execution_count": 22
  },
  {
   "metadata": {
    "ExecuteTime": {
     "end_time": "2024-04-08T23:24:26.178018Z",
     "start_time": "2024-04-08T23:24:26.134070Z"
    }
   },
   "cell_type": "code",
   "source": [
    "data_mlp = data\n",
    "data_mlp = np.array(data_mlp)"
   ],
   "id": "5de2ecbeecd4498",
   "outputs": [],
   "execution_count": 28
  },
  {
   "metadata": {
    "ExecuteTime": {
     "end_time": "2024-04-08T23:26:01.091060Z",
     "start_time": "2024-04-08T23:26:00.549200Z"
    }
   },
   "cell_type": "code",
   "source": [
    "plt.figure(figsize=(12, 8))\n",
    "plt.subplot(211)\n",
    "plt.plot(data_mlp[:, 0], label=\"Rollout Return\")\n",
    "plt.subplot(212)\n",
    "plt.plot(data_mlp[:, 1], label=\"Universal Space Loss\")\n",
    "plt.plot(data_mlp[:, 2], label=\"Original Space Loss\")\n",
    "plt.legend()\n",
    "plt.show()\n",
    "\n"
   ],
   "id": "571e8ddb993af7ee",
   "outputs": [
    {
     "data": {
      "text/plain": [
       "<Figure size 1200x800 with 2 Axes>"
      ],
      "image/png": "[encoded data removed]"
     },
     "metadata": {},
     "output_type": "display_data"
    }
   ],
   "execution_count": 37
  },
  {
   "metadata": {},
   "cell_type": "code",
   "outputs": [],
   "execution_count": null,
   "source": "",
   "id": "844955044c2e35cd"
  },
  {
   "metadata": {},
   "cell_type": "code",
   "outputs": [],
   "execution_count": null,
   "source": "",
   "id": "448ad4a13c8e5de5"
  },
  {
   "metadata": {},
   "cell_type": "code",
   "outputs": [],
   "execution_count": null,
   "source": "",
   "id": "ec31cee196c19b2d"
  },
  {
   "metadata": {},
   "cell_type": "markdown",
   "source": "# Transformer BC",
   "id": "20eeab92bb12d4f9"
  },
  {
   "metadata": {
    "ExecuteTime": {
     "end_time": "2024-04-08T23:26:23.468045Z",
     "start_time": "2024-04-08T23:26:22.799222Z"
    }
   },
   "cell_type": "code",
   "source": "from agents.regular_transformer import Block",
   "id": "daa64916c7145527",
   "outputs": [],
   "execution_count": 38
  },
  {
   "metadata": {
    "ExecuteTime": {
     "end_time": "2024-04-08T23:31:58.666022Z",
     "start_time": "2024-04-08T23:31:57.901375Z"
    }
   },
   "cell_type": "code",
   "source": [
    "class BCTransformer(nn.Module):\n",
    "    d_obs: int\n",
    "    d_act: int\n",
    "    n_layers: int\n",
    "    n_heads: int\n",
    "    d_embd: int\n",
    "    ctx_len: int\n",
    "\n",
    "    mask_type: str = \"causal\"\n",
    "\n",
    "    def setup(self):\n",
    "        self.embed_obs = nn.Dense(features=self.d_embd)\n",
    "        self.embed_act = nn.Dense(features=self.d_embd)\n",
    "        self.embed_pos = nn.Embed(num_embeddings=self.ctx_len, features=self.d_embd)\n",
    "\n",
    "        self.blocks = [Block(n_heads=self.n_heads, mask_type=self.mask_type) for _ in range(self.n_layers)]\n",
    "        self.ln = nn.LayerNorm()\n",
    "\n",
    "        self.actor = nn.Dense(features=self.d_act, kernel_init=nn.initializers.orthogonal(0.01))  # T, Da\n",
    "\n",
    "    def __call__(self, obs, act):  # obs: (T, Do), # act: (T, Da), # time: (T, )\n",
    "        assert obs.shape[0] == act.shape[0]\n",
    "        assert obs.shape[0] <= self.ctx_len\n",
    "        T, _ = obs.shape\n",
    "\n",
    "        x_obs = self.embed_obs(obs)  # (T, D)\n",
    "        x_act = self.embed_act(act)  # (T, D)\n",
    "        x_pos = self.embed_pos(jnp.arange(T))  # (T, D)\n",
    "        x_act_p = jnp.concatenate([jnp.zeros((1, self.d_embd)), x_act[:-1]], axis=0)\n",
    "\n",
    "        x = x_obs + x_act_p + x_pos\n",
    "        for block in self.blocks:\n",
    "            x = block(x)\n",
    "        x = self.ln(x)\n",
    "\n",
    "        act_now_pred = self.actor(x)\n",
    "        # obs_nxt_pred = self.wm(x)\n",
    "        return act_now_pred\n",
    "\n",
    "def augment_batch(rng, batch, n_augs, dist=\"uniform\", mat_type='gaussian'):\n",
    "    if n_augs == 0:\n",
    "        return batch\n",
    "    bs, _, d_obs = batch['obs'].shape\n",
    "    bs, _, d_act = batch['act'].shape\n",
    "\n",
    "    def augment_instance(instance, aug_id):\n",
    "        rng = jax.random.PRNGKey(aug_id)\n",
    "        _rng_obs, _rng_act = split(rng, 2)\n",
    "        if mat_type == 'gaussian':\n",
    "            obs_mat = jax.random.normal(_rng_obs, (d_obs, d_obs)) / jnp.sqrt(d_obs)\n",
    "            act_mat = jax.random.normal(_rng_act, (d_act, d_act)) / jnp.sqrt(d_act)\n",
    "        elif mat_type == 'orthogonal':\n",
    "            obs_mat = jax.random.orthogonal(_rng_obs, d_obs)\n",
    "            act_mat = jax.random.orthogonal(_rng_act, d_act)\n",
    "        else:\n",
    "            raise NotImplementedError\n",
    "        return dict(obs=instance['obs'] @ obs_mat.T, act=instance['act'] @ act_mat.T)\n",
    "\n",
    "    if dist == \"uniform\":\n",
    "        aug_ids = jax.random.randint(rng, (bs,), minval=0, maxval=n_augs)\n",
    "    elif dist == \"zipf\":\n",
    "        p = 1 / jnp.arange(1, n_augs + 1)\n",
    "        aug_ids = jax.random.choice(rng, jnp.arange(n_augs), (bs,), p=p / p.sum())\n",
    "    else:\n",
    "        raise NotImplementedError\n",
    "\n",
    "    return jax.vmap(augment_instance)(batch, aug_ids)\n"
   ],
   "id": "ba389f6731561313",
   "outputs": [],
   "execution_count": 48
  },
  {
   "metadata": {
    "ExecuteTime": {
     "end_time": "2024-04-08T23:31:59.037856Z",
     "start_time": "2024-04-08T23:31:59.032980Z"
    }
   },
   "cell_type": "code",
   "source": "",
   "id": "ccbcfb46977ef7fa",
   "outputs": [],
   "execution_count": 48
  },
  {
   "metadata": {
    "ExecuteTime": {
     "end_time": "2024-04-08T23:31:59.318759Z",
     "start_time": "2024-04-08T23:31:59.254886Z"
    }
   },
   "cell_type": "code",
   "source": [
    "def train_step(rng, train_state):\n",
    "    def loss_fn(params, batch):\n",
    "        out = jax.vmap(agent.apply, in_axes=(None, 0, 0))(params, batch['obs'], batch['act'])\n",
    "        mse = jnp.mean(jnp.square(out - batch['act']), axis=(0, -1)) # mean over batch, dim\n",
    "        loss = mse.mean() # mean over ctx\n",
    "        metrics = dict(loss=loss, mse=mse)\n",
    "        return loss, metrics\n",
    "    _rng1, _rng2 = split(rng)\n",
    "    batch = sample_batch(_rng1, dataset_train_uni, bs, ctx_len)\n",
    "    batch = augment_batch(_rng2, batch, n_augs=int(1e8), dist='uniform', mat_type='orthogonal')\n",
    "    grad_fn = jax.value_and_grad(loss_fn, has_aux=True)\n",
    "    (loss, metrics), grad = grad_fn(train_state.params, batch)\n",
    "    train_state = train_state.apply_gradients(grads=grad)\n",
    "    return train_state, metrics\n",
    "train_step = jax.jit(train_step)"
   ],
   "id": "ea04a4495cf027ad",
   "outputs": [],
   "execution_count": 49
  },
  {
   "metadata": {
    "ExecuteTime": {
     "end_time": "2024-04-08T23:32:36.615994Z",
     "start_time": "2024-04-08T23:32:19.200803Z"
    }
   },
   "cell_type": "code",
   "source": [
    "bs, ctx_len = 32, 128\n",
    "agent = BCTransformer(d_obs=d_obs_uni, d_act=d_act_uni, n_layers=2, n_heads=4, d_embd=64, ctx_len=ctx_len)\n",
    "\n",
    "rng = jax.random.PRNGKey(0)\n",
    "rng, _rng = split(rng)\n",
    "batch = sample_batch(_rng, dataset_train_uni, bs, ctx_len)\n",
    "agent_params = agent.init(_rng, batch['obs'][0], batch['act'][0])\n",
    "print(sum([p.size for p in jax.tree_util.tree_leaves(agent_params)]))\n",
    "\n",
    "tx = optax.chain(optax.clip_by_global_norm(1.), optax.adamw(3e-4, weight_decay=0., eps=1e-8))\n",
    "train_state = TrainState.create(apply_fn=agent.apply, params=agent_params, tx=tx)\n",
    "\n",
    "data = []\n",
    "for i in tqdm(range(10000 + 1)):\n",
    "    # if i % 1000 == 0:\n",
    "        # rollout_data_i = get_agent_return(env_id, 16, 1000, lambda x: agent.apply(train_state.params, x))\n",
    "        # test_loss_data_i = get_agent_test_loss(_rng, 512, 100, lambda x: agent.apply(train_state.params, x))\n",
    "        # data.append([rollout_data_i['ret'].mean(), test_loss_data_i[0], test_loss_data_i[1]])\n",
    "    rng, _rng = split(rng)\n",
    "    train_state, loss = train_step(_rng, train_state)"
   ],
   "id": "605effe4755f6b75",
   "outputs": [
    {
     "name": "stdout",
     "output_type": "stream",
     "text": [
      "118672\n"
     ]
    },
    {
     "data": {
      "text/plain": [
       "  0%|          | 0/10001 [00:00<?, ?it/s]"
      ],
      "application/vnd.jupyter.widget-view+json": {
       "version_major": 2,
       "version_minor": 0,
       "model_id": "7d0cd1c03a6a479e882b61f73e57c9be"
      }
     },
     "metadata": {},
     "output_type": "display_data"
    },
    {
     "ename": "KeyboardInterrupt",
     "evalue": "",
     "output_type": "error",
     "traceback": [
      "\u001B[0;31m---------------------------------------------------------------------------\u001B[0m",
      "\u001B[0;31mKeyboardInterrupt\u001B[0m                         Traceback (most recent call last)",
      "Cell \u001B[0;32mIn[51], line 20\u001B[0m\n\u001B[1;32m     14\u001B[0m \u001B[38;5;28;01mfor\u001B[39;00m i \u001B[38;5;129;01min\u001B[39;00m tqdm(\u001B[38;5;28mrange\u001B[39m(\u001B[38;5;241m10000\u001B[39m \u001B[38;5;241m+\u001B[39m \u001B[38;5;241m1\u001B[39m)):\n\u001B[1;32m     15\u001B[0m     \u001B[38;5;66;03m# if i % 1000 == 0:\u001B[39;00m\n\u001B[1;32m     16\u001B[0m         \u001B[38;5;66;03m# rollout_data_i = get_agent_return(env_id, 16, 1000, lambda x: agent.apply(train_state.params, x))\u001B[39;00m\n\u001B[1;32m     17\u001B[0m         \u001B[38;5;66;03m# test_loss_data_i = get_agent_test_loss(_rng, 512, 100, lambda x: agent.apply(train_state.params, x))\u001B[39;00m\n\u001B[1;32m     18\u001B[0m         \u001B[38;5;66;03m# data.append([rollout_data_i['ret'].mean(), test_loss_data_i[0], test_loss_data_i[1]])\u001B[39;00m\n\u001B[1;32m     19\u001B[0m     rng, _rng \u001B[38;5;241m=\u001B[39m split(rng)\n\u001B[0;32m---> 20\u001B[0m     train_state, loss \u001B[38;5;241m=\u001B[39m \u001B[43mtrain_step\u001B[49m\u001B[43m(\u001B[49m\u001B[43m_rng\u001B[49m\u001B[43m,\u001B[49m\u001B[43m \u001B[49m\u001B[43mtrain_state\u001B[49m\u001B[43m)\u001B[49m\n",
      "File \u001B[0;32m<string>:1\u001B[0m, in \u001B[0;36m<lambda>\u001B[0;34m(_cls)\u001B[0m\n",
      "\u001B[0;31mKeyboardInterrupt\u001B[0m: "
     ]
    }
   ],
   "execution_count": 51
  },
  {
   "metadata": {},
   "cell_type": "code",
   "outputs": [],
   "execution_count": null,
   "source": "",
   "id": "d7ac8c0b02246067"
  },
  {
   "metadata": {},
   "cell_type": "code",
   "outputs": [
    {
     "name": "stdout",
     "output_type": "stream",
     "text": [
      "(128, 128)\n"
     ]
    },
    {
     "ename": "AttributeError",
     "evalue": "'tuple' object has no attribute 'shape'",
     "output_type": "error",
     "traceback": [
      "\u001B[0;31m---------------------------------------------------------------------------\u001B[0m",
      "\u001B[0;31mAttributeError\u001B[0m                            Traceback (most recent call last)",
      "Cell \u001B[0;32mIn[194], line 5\u001B[0m\n\u001B[1;32m      2\u001B[0m rng, _rng \u001B[38;5;241m=\u001B[39m split(rng)\n\u001B[1;32m      3\u001B[0m batch \u001B[38;5;241m=\u001B[39m sample_batch_transformer(_rng, dataset_train_uni, bs, ctx_len)\n\u001B[0;32m----> 5\u001B[0m agent_params \u001B[38;5;241m=\u001B[39m \u001B[43magent\u001B[49m\u001B[38;5;241;43m.\u001B[39;49m\u001B[43minit\u001B[49m\u001B[43m(\u001B[49m\u001B[43m_rng\u001B[49m\u001B[43m,\u001B[49m\u001B[43m \u001B[49m\u001B[38;5;241;43m*\u001B[39;49m\u001B[38;5;241;43m*\u001B[39;49m\u001B[43mjax\u001B[49m\u001B[38;5;241;43m.\u001B[39;49m\u001B[43mtree_map\u001B[49m\u001B[43m(\u001B[49m\u001B[38;5;28;43;01mlambda\u001B[39;49;00m\u001B[43m \u001B[49m\u001B[43mx\u001B[49m\u001B[43m:\u001B[49m\u001B[43m \u001B[49m\u001B[43mx\u001B[49m\u001B[43m[\u001B[49m\u001B[38;5;241;43m0\u001B[39;49m\u001B[43m]\u001B[49m\u001B[43m,\u001B[49m\u001B[43m \u001B[49m\u001B[43mbatch\u001B[49m\u001B[43m)\u001B[49m\u001B[43m)\u001B[49m\n\u001B[1;32m      6\u001B[0m \u001B[38;5;28mprint\u001B[39m(\u001B[38;5;28msum\u001B[39m([p\u001B[38;5;241m.\u001B[39msize \u001B[38;5;28;01mfor\u001B[39;00m p \u001B[38;5;129;01min\u001B[39;00m jax\u001B[38;5;241m.\u001B[39mtree_util\u001B[38;5;241m.\u001B[39mtree_leaves(agent_params)]))\n\u001B[1;32m      8\u001B[0m tx \u001B[38;5;241m=\u001B[39m optax\u001B[38;5;241m.\u001B[39mchain(optax\u001B[38;5;241m.\u001B[39mclip_by_global_norm(\u001B[38;5;241m1.\u001B[39m), optax\u001B[38;5;241m.\u001B[39madamw(\u001B[38;5;241m3e-4\u001B[39m, weight_decay\u001B[38;5;241m=\u001B[39m\u001B[38;5;241m0.\u001B[39m, eps\u001B[38;5;241m=\u001B[39m\u001B[38;5;241m1e-8\u001B[39m))\n",
      "    \u001B[0;31m[... skipping hidden 9 frame]\u001B[0m\n",
      "Cell \u001B[0;32mIn[191], line 30\u001B[0m, in \u001B[0;36mTransformer.__call__\u001B[0;34m(self, obs, act, obs_n, act_n)\u001B[0m\n\u001B[1;32m     28\u001B[0m x \u001B[38;5;241m=\u001B[39m x_obs \u001B[38;5;241m+\u001B[39m x_act \u001B[38;5;241m+\u001B[39m x_obs_n\n\u001B[1;32m     29\u001B[0m \u001B[38;5;28;01mfor\u001B[39;00m block \u001B[38;5;129;01min\u001B[39;00m \u001B[38;5;28mself\u001B[39m\u001B[38;5;241m.\u001B[39mblocks:\n\u001B[0;32m---> 30\u001B[0m     x \u001B[38;5;241m=\u001B[39m \u001B[43mblock\u001B[49m\u001B[43m(\u001B[49m\u001B[43mx\u001B[49m\u001B[43m)\u001B[49m\n\u001B[1;32m     31\u001B[0m x \u001B[38;5;241m=\u001B[39m \u001B[38;5;28mself\u001B[39m\u001B[38;5;241m.\u001B[39mln(x)\n\u001B[1;32m     32\u001B[0m act_n_pred \u001B[38;5;241m=\u001B[39m \u001B[38;5;28mself\u001B[39m\u001B[38;5;241m.\u001B[39mactor(x)\n",
      "    \u001B[0;31m[... skipping hidden 2 frame]\u001B[0m\n",
      "File \u001B[0;32m~/synthetic-mdps/src/agents/regular_transformer.py:28\u001B[0m, in \u001B[0;36mBlock.__call__\u001B[0;34m(self, x)\u001B[0m\n\u001B[1;32m     26\u001B[0m \u001B[38;5;28;01mdef\u001B[39;00m \u001B[38;5;21m__call__\u001B[39m(\u001B[38;5;28mself\u001B[39m, x):\n\u001B[1;32m     27\u001B[0m     \u001B[38;5;28;01mif\u001B[39;00m \u001B[38;5;28mself\u001B[39m\u001B[38;5;241m.\u001B[39mmask_type \u001B[38;5;241m==\u001B[39m \u001B[38;5;124m\"\u001B[39m\u001B[38;5;124mcausal\u001B[39m\u001B[38;5;124m\"\u001B[39m:\n\u001B[0;32m---> 28\u001B[0m         mask \u001B[38;5;241m=\u001B[39m jnp\u001B[38;5;241m.\u001B[39mtril(jnp\u001B[38;5;241m.\u001B[39mones((\u001B[43mx\u001B[49m\u001B[38;5;241;43m.\u001B[39;49m\u001B[43mshape\u001B[49m[\u001B[38;5;241m0\u001B[39m], x\u001B[38;5;241m.\u001B[39mshape[\u001B[38;5;241m0\u001B[39m]), dtype\u001B[38;5;241m=\u001B[39m\u001B[38;5;28mbool\u001B[39m))\n\u001B[1;32m     29\u001B[0m     \u001B[38;5;28;01melif\u001B[39;00m \u001B[38;5;28mself\u001B[39m\u001B[38;5;241m.\u001B[39mmask_type \u001B[38;5;241m==\u001B[39m \u001B[38;5;124m\"\u001B[39m\u001B[38;5;124meye\u001B[39m\u001B[38;5;124m\"\u001B[39m:\n\u001B[1;32m     30\u001B[0m         mask \u001B[38;5;241m=\u001B[39m jnp\u001B[38;5;241m.\u001B[39meye(x\u001B[38;5;241m.\u001B[39mshape[\u001B[38;5;241m0\u001B[39m], dtype\u001B[38;5;241m=\u001B[39m\u001B[38;5;28mbool\u001B[39m)\n",
      "\u001B[0;31mAttributeError\u001B[0m: 'tuple' object has no attribute 'shape'"
     ]
    }
   ],
   "execution_count": 194,
   "source": [
    "rng = jax.random.PRNGKey(0)\n",
    "rng, _rng = split(rng)\n",
    "batch = sample_batch_transformer(_rng, dataset_train_uni, bs, ctx_len)\n",
    "\n",
    "agent_params = agent.init(_rng, **jax.tree_map(lambda x: x[0], batch))\n",
    "print(sum([p.size for p in jax.tree_util.tree_leaves(agent_params)]))\n",
    "\n",
    "tx = optax.chain(optax.clip_by_global_norm(1.), optax.adamw(3e-4, weight_decay=0., eps=1e-8))\n",
    "train_state = TrainState.create(apply_fn=agent.apply, params=agent_params, tx=tx)\n"
   ],
   "id": "614563e676aeaa39"
  },
  {
   "metadata": {},
   "cell_type": "code",
   "outputs": [
    {
     "data": {
      "text/plain": [
       "  0%|          | 0/1000 [00:00<?, ?it/s]"
      ],
      "application/vnd.jupyter.widget-view+json": {
       "version_major": 2,
       "version_minor": 0,
       "model_id": "cc4ba4c59f6a4ee7b5955c3111a299f9"
      }
     },
     "metadata": {},
     "output_type": "display_data"
    }
   ],
   "execution_count": 177,
   "source": [
    "metrics = []\n",
    "for i in tqdm(range(1000)):\n",
    "    rng, _rng = split(rng)\n",
    "    train_state, metrics_i = train_step(_rng, train_state)\n",
    "    metrics.append(metrics_i)\n",
    "metrics = util.tree_stack(metrics)"
   ],
   "id": "6181189954e725b"
  },
  {
   "metadata": {
    "ExecuteTime": {
     "end_time": "2024-04-06T20:06:47.559690Z",
     "start_time": "2024-04-06T20:06:47.524394Z"
    }
   },
   "cell_type": "code",
   "source": "df = pd.DataFrame(metrics['mse'])",
   "id": "8eda575857098800",
   "outputs": [],
   "execution_count": 178
  },
  {
   "metadata": {
    "ExecuteTime": {
     "end_time": "2024-04-06T20:06:58.122718Z",
     "start_time": "2024-04-06T20:06:57.218422Z"
    }
   },
   "cell_type": "code",
   "source": "df.shape",
   "id": "68501e06b4948faa",
   "outputs": [
    {
     "data": {
      "text/plain": [
       "(1000, 128)"
      ]
     },
     "execution_count": 179,
     "metadata": {},
     "output_type": "execute_result"
    }
   ],
   "execution_count": 179
  },
  {
   "metadata": {
    "ExecuteTime": {
     "end_time": "2024-04-06T20:09:28.292783Z",
     "start_time": "2024-04-06T20:09:28.176369Z"
    }
   },
   "cell_type": "code",
   "source": [
    "_rng1, _rng2 = split(rng)\n",
    "batch = sample_batch_transformer(_rng1, dataset_train_uni, bs, ctx_len)\n",
    "batch = augment_batch(_rng2, batch, n_augs=int(1e8), dist='uniform', mat_type='orthogonal')\n"
   ],
   "id": "ee7da4bd59e0245d",
   "outputs": [],
   "execution_count": 210
  },
  {
   "metadata": {
    "ExecuteTime": {
     "end_time": "2024-04-06T20:09:28.721360Z",
     "start_time": "2024-04-06T20:09:28.456393Z"
    }
   },
   "cell_type": "code",
   "source": "agent.apply(train_state.params, batch['obs'][0], batch['act'][0], batch['obs_n'][0], batch['act_n'][0]);",
   "id": "4e29a92fc9a7fc38",
   "outputs": [
    {
     "name": "stdout",
     "output_type": "stream",
     "text": [
      "(128, 128)\n",
      "[[ True False False False False False False False False False]\n",
      " [ True  True False False False False False False False False]\n",
      " [ True  True  True False False False False False False False]\n",
      " [ True  True  True  True False False False False False False]\n",
      " [ True  True  True  True  True False False False False False]\n",
      " [ True  True  True  True  True  True False False False False]\n",
      " [ True  True  True  True  True  True  True False False False]\n",
      " [ True  True  True  True  True  True  True  True False False]\n",
      " [ True  True  True  True  True  True  True  True  True False]\n",
      " [ True  True  True  True  True  True  True  True  True  True]]\n",
      "(128, 128)\n",
      "[[ True False False False False False False False False False]\n",
      " [ True  True False False False False False False False False]\n",
      " [ True  True  True False False False False False False False]\n",
      " [ True  True  True  True False False False False False False]\n",
      " [ True  True  True  True  True False False False False False]\n",
      " [ True  True  True  True  True  True False False False False]\n",
      " [ True  True  True  True  True  True  True False False False]\n",
      " [ True  True  True  True  True  True  True  True False False]\n",
      " [ True  True  True  True  True  True  True  True  True False]\n",
      " [ True  True  True  True  True  True  True  True  True  True]]\n"
     ]
    }
   ],
   "execution_count": 211
  },
  {
   "metadata": {},
   "cell_type": "code",
   "outputs": [],
   "execution_count": null,
   "source": "",
   "id": "5104d2d280f16741"
  },
  {
   "metadata": {},
   "cell_type": "code",
   "outputs": [],
   "execution_count": null,
   "source": "",
   "id": "792806c7ad81129d"
  },
  {
   "metadata": {},
   "cell_type": "code",
   "outputs": [],
   "execution_count": null,
   "source": "",
   "id": "c96c128cdd03b74a"
  },
  {
   "metadata": {
    "ExecuteTime": {
     "end_time": "2024-04-06T20:11:43.106612Z",
     "start_time": "2024-04-06T20:11:42.054572Z"
    }
   },
   "cell_type": "code",
   "source": "df.ewm(span=100).mean().mean(axis=1).plot()",
   "id": "ddbc013835394c5b",
   "outputs": [
    {
     "data": {
      "text/plain": [
       "<Axes: >"
      ]
     },
     "execution_count": 212,
     "metadata": {},
     "output_type": "execute_result"
    },
    {
     "data": {
      "text/plain": [
       "<Figure size 640x480 with 1 Axes>"
      ],
      "image/png": "[encoded data removed]"
     },
     "metadata": {},
     "output_type": "display_data"
    }
   ],
   "execution_count": 212
  },
  {
   "metadata": {},
   "cell_type": "code",
   "outputs": [],
   "execution_count": null,
   "source": "",
   "id": "fd77b9818eb0912e"
  },
  {
   "metadata": {},
   "cell_type": "code",
   "outputs": [],
   "execution_count": null,
   "source": "",
   "id": "abe0271eb3fe353f"
  },
  {
   "metadata": {},
   "cell_type": "code",
   "outputs": [],
   "execution_count": null,
   "source": "",
   "id": "7efe77b2c799ebed"
  },
  {
   "metadata": {},
   "cell_type": "code",
   "outputs": [],
   "execution_count": null,
   "source": "",
   "id": "c6188d211df30f9b"
  },
  {
   "metadata": {},
   "cell_type": "code",
   "outputs": [],
   "execution_count": null,
   "source": "",
   "id": "ca5478f4efdf5e39"
  },
  {
   "metadata": {},
   "cell_type": "code",
   "outputs": [],
   "execution_count": null,
   "source": "",
   "id": "33c6a7090ad5ee3c"
  },
  {
   "metadata": {},
   "cell_type": "code",
   "outputs": [],
   "execution_count": null,
   "source": "",
   "id": "1ab87b925e12b418"
  },
  {
   "metadata": {},
   "cell_type": "code",
   "outputs": [],
   "execution_count": null,
   "source": "",
   "id": "7c0e811db80905d"
  }
 ],
 "metadata": {
  "kernelspec": {
   "display_name": "Python 3",
   "language": "python",
   "name": "python3"
  },
  "language_info": {
   "codemirror_mode": {
    "name": "ipython",
    "version": 2
   },
   "file_extension": ".py",
   "mimetype": "text/x-python",
   "name": "python",
   "nbconvert_exporter": "python",
   "pygments_lexer": "ipython2",
   "version": "2.7.6"
  }
 },
 "nbformat": 4,
 "nbformat_minor": 5
}
